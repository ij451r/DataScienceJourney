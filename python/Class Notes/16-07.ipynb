{
 "cells": [
  {
   "cell_type": "markdown",
   "id": "c6b0d117",
   "metadata": {},
   "source": [
    "# \n"
   ]
  },
  {
   "cell_type": "raw",
   "id": "8369d4b5",
   "metadata": {},
   "source": [
    "print(a)"
   ]
  },
  {
   "cell_type": "code",
   "execution_count": 4,
   "id": "ada80ef4",
   "metadata": {
    "ExecuteTime": {
     "end_time": "2023-07-16T15:14:24.349855Z",
     "start_time": "2023-07-16T15:14:24.319498Z"
    }
   },
   "outputs": [
    {
     "name": "stdout",
     "output_type": "stream",
     "text": [
      "5\n"
     ]
    }
   ],
   "source": [
    "print(5)"
   ]
  },
  {
   "cell_type": "code",
   "execution_count": null,
   "id": "15c93c75",
   "metadata": {},
   "outputs": [],
   "source": [
    "if input(\"enter character\") in ['a','e','i','o''u']:\n",
    "    print()"
   ]
  },
  {
   "cell_type": "code",
   "execution_count": 13,
   "id": "6a9c121f",
   "metadata": {
    "ExecuteTime": {
     "end_time": "2023-07-16T15:28:59.616587Z",
     "start_time": "2023-07-16T15:28:57.002518Z"
    }
   },
   "outputs": [
    {
     "name": "stdout",
     "output_type": "stream",
     "text": [
      "Enter charactere\n",
      "e\n"
     ]
    }
   ],
   "source": [
    "n = input(\"Enter character\")\n",
    "\n",
    "if n in ['a','e','i','o''u']: print(n) "
   ]
  },
  {
   "cell_type": "code",
   "execution_count": 11,
   "id": "1d614fec",
   "metadata": {
    "ExecuteTime": {
     "end_time": "2023-07-16T15:26:13.028409Z",
     "start_time": "2023-07-16T15:26:11.273221Z"
    }
   },
   "outputs": [
    {
     "name": "stdout",
     "output_type": "stream",
     "text": [
      "56\n"
     ]
    }
   ],
   "source": [
    "a = n if input() in ['a','e','i','o''u'] else \"not vowel\""
   ]
  },
  {
   "cell_type": "code",
   "execution_count": 4,
   "id": "d8814aa4",
   "metadata": {
    "ExecuteTime": {
     "end_time": "2023-07-16T16:02:49.239088Z",
     "start_time": "2023-07-16T16:02:47.784366Z"
    }
   },
   "outputs": [
    {
     "name": "stdout",
     "output_type": "stream",
     "text": [
      "5\n",
      "\n",
      "*\n",
      "**\n",
      "***\n",
      "****\n",
      "*****\n"
     ]
    }
   ],
   "source": [
    "for i in range(int(input())+1):\n",
    "    print('*'*i)"
   ]
  },
  {
   "cell_type": "code",
   "execution_count": null,
   "id": "da26e468",
   "metadata": {},
   "outputs": [],
   "source": [
    "b."
   ]
  }
 ],
 "metadata": {
  "kernelspec": {
   "display_name": "Python 3 (ipykernel)",
   "language": "python",
   "name": "python3"
  },
  "language_info": {
   "codemirror_mode": {
    "name": "ipython",
    "version": 3
   },
   "file_extension": ".py",
   "mimetype": "text/x-python",
   "name": "python",
   "nbconvert_exporter": "python",
   "pygments_lexer": "ipython3",
   "version": "3.8.10"
  },
  "toc": {
   "base_numbering": 1,
   "nav_menu": {},
   "number_sections": true,
   "sideBar": true,
   "skip_h1_title": false,
   "title_cell": "Table of Contents",
   "title_sidebar": "Contents",
   "toc_cell": false,
   "toc_position": {},
   "toc_section_display": true,
   "toc_window_display": false
  },
  "varInspector": {
   "cols": {
    "lenName": 16,
    "lenType": 16,
    "lenVar": 40
   },
   "kernels_config": {
    "python": {
     "delete_cmd_postfix": "",
     "delete_cmd_prefix": "del ",
     "library": "var_list.py",
     "varRefreshCmd": "print(var_dic_list())"
    },
    "r": {
     "delete_cmd_postfix": ") ",
     "delete_cmd_prefix": "rm(",
     "library": "var_list.r",
     "varRefreshCmd": "cat(var_dic_list()) "
    }
   },
   "types_to_exclude": [
    "module",
    "function",
    "builtin_function_or_method",
    "instance",
    "_Feature"
   ],
   "window_display": false
  }
 },
 "nbformat": 4,
 "nbformat_minor": 5
}
