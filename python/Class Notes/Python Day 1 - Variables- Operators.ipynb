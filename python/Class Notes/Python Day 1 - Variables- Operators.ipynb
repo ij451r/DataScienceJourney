{
 "cells": [
  {
   "cell_type": "markdown",
   "id": "3772fa19",
   "metadata": {},
   "source": [
    "## Variables in Python"
   ]
  },
  {
   "cell_type": "markdown",
   "id": "a3220851",
   "metadata": {
    "ExecuteTime": {
     "end_time": "2023-08-19T15:55:13.104706Z",
     "start_time": "2023-08-19T15:55:13.095310Z"
    }
   },
   "source": [
    "### Declare Variable"
   ]
  },
  {
   "cell_type": "code",
   "execution_count": 8,
   "id": "80930d50",
   "metadata": {
    "ExecuteTime": {
     "end_time": "2023-08-19T15:42:07.911722Z",
     "start_time": "2023-08-19T15:42:07.901405Z"
    }
   },
   "outputs": [],
   "source": [
    "x = 10\n",
    "y = 10"
   ]
  },
  {
   "cell_type": "code",
   "execution_count": 7,
   "id": "85a5f8c8",
   "metadata": {
    "ExecuteTime": {
     "end_time": "2023-08-19T15:41:52.320863Z",
     "start_time": "2023-08-19T15:41:52.309501Z"
    }
   },
   "outputs": [],
   "source": [
    "z = 30"
   ]
  },
  {
   "cell_type": "code",
   "execution_count": 9,
   "id": "1a305c48",
   "metadata": {
    "ExecuteTime": {
     "end_time": "2023-08-19T15:47:37.421470Z",
     "start_time": "2023-08-19T15:47:37.387344Z"
    }
   },
   "outputs": [],
   "source": [
    "x = \"vipul\""
   ]
  },
  {
   "cell_type": "code",
   "execution_count": 19,
   "id": "95c7a14f",
   "metadata": {
    "ExecuteTime": {
     "end_time": "2023-08-19T15:56:29.546966Z",
     "start_time": "2023-08-19T15:56:29.537921Z"
    }
   },
   "outputs": [],
   "source": [
    "t = 'vipul'"
   ]
  },
  {
   "cell_type": "code",
   "execution_count": 22,
   "id": "84f8724e",
   "metadata": {
    "ExecuteTime": {
     "end_time": "2023-08-19T15:56:49.472059Z",
     "start_time": "2023-08-19T15:56:49.458381Z"
    }
   },
   "outputs": [
    {
     "name": "stdout",
     "output_type": "stream",
     "text": [
      "vipul\n"
     ]
    }
   ],
   "source": [
    "print(t)"
   ]
  },
  {
   "cell_type": "code",
   "execution_count": 21,
   "id": "a27fa643",
   "metadata": {
    "ExecuteTime": {
     "end_time": "2023-08-19T15:56:41.408983Z",
     "start_time": "2023-08-19T15:56:41.392443Z"
    }
   },
   "outputs": [
    {
     "name": "stdout",
     "output_type": "stream",
     "text": [
      "vipul\n"
     ]
    }
   ],
   "source": [
    "print(x)"
   ]
  },
  {
   "cell_type": "code",
   "execution_count": 15,
   "id": "38926c15",
   "metadata": {
    "ExecuteTime": {
     "end_time": "2023-08-19T15:53:20.715172Z",
     "start_time": "2023-08-19T15:53:20.710109Z"
    }
   },
   "outputs": [
    {
     "name": "stdout",
     "output_type": "stream",
     "text": [
      "vipul\n",
      "10\n"
     ]
    }
   ],
   "source": [
    "print(x)\n",
    "print(y)"
   ]
  },
  {
   "cell_type": "code",
   "execution_count": 17,
   "id": "29e12103",
   "metadata": {
    "ExecuteTime": {
     "end_time": "2023-08-19T15:56:00.304454Z",
     "start_time": "2023-08-19T15:56:00.279013Z"
    }
   },
   "outputs": [],
   "source": [
    "c = 10.5"
   ]
  },
  {
   "cell_type": "code",
   "execution_count": 18,
   "id": "a00b7cfa",
   "metadata": {
    "ExecuteTime": {
     "end_time": "2023-08-19T15:56:04.993465Z",
     "start_time": "2023-08-19T15:56:04.984386Z"
    }
   },
   "outputs": [
    {
     "name": "stdout",
     "output_type": "stream",
     "text": [
      "10.5\n"
     ]
    }
   ],
   "source": [
    "print(c)"
   ]
  },
  {
   "cell_type": "markdown",
   "id": "7fddc99c",
   "metadata": {},
   "source": [
    "### Declare multiple variables in single statement"
   ]
  },
  {
   "cell_type": "code",
   "execution_count": 23,
   "id": "d969f58c",
   "metadata": {
    "ExecuteTime": {
     "end_time": "2023-08-19T15:58:51.332807Z",
     "start_time": "2023-08-19T15:58:51.315294Z"
    }
   },
   "outputs": [],
   "source": [
    "a,b,c = 10 , \"Hello World\" , 10.5"
   ]
  },
  {
   "cell_type": "code",
   "execution_count": 24,
   "id": "e36bc158",
   "metadata": {
    "ExecuteTime": {
     "end_time": "2023-08-19T15:59:09.236658Z",
     "start_time": "2023-08-19T15:59:09.227226Z"
    }
   },
   "outputs": [
    {
     "name": "stdout",
     "output_type": "stream",
     "text": [
      "10 Hello World 10.5\n"
     ]
    }
   ],
   "source": [
    "print(a,b,c)"
   ]
  },
  {
   "cell_type": "markdown",
   "id": "62dac476",
   "metadata": {},
   "source": [
    "### Naming Conventions while declaring a variable\n",
    "- Variable on python are case sensitive\n",
    "- variable name cannot start with a number\n",
    "- Variable name can start with a character or an underscore\n",
    "- Variable name can contain alpha numeric characters"
   ]
  },
  {
   "cell_type": "code",
   "execution_count": 26,
   "id": "b5304ad2",
   "metadata": {
    "ExecuteTime": {
     "end_time": "2023-08-19T16:19:21.786823Z",
     "start_time": "2023-08-19T16:19:21.782324Z"
    }
   },
   "outputs": [],
   "source": [
    "a = 10\n",
    "A = 20"
   ]
  },
  {
   "cell_type": "code",
   "execution_count": 28,
   "id": "2cc7aa81",
   "metadata": {
    "ExecuteTime": {
     "end_time": "2023-08-19T16:20:19.276991Z",
     "start_time": "2023-08-19T16:20:19.268143Z"
    }
   },
   "outputs": [],
   "source": [
    "# 123abc = 25  comment"
   ]
  },
  {
   "cell_type": "code",
   "execution_count": 32,
   "id": "62a1cebf",
   "metadata": {
    "ExecuteTime": {
     "end_time": "2023-08-19T16:22:44.887924Z",
     "start_time": "2023-08-19T16:22:44.881433Z"
    }
   },
   "outputs": [],
   "source": [
    "# abc@sef = 30"
   ]
  },
  {
   "cell_type": "code",
   "execution_count": 31,
   "id": "453f2364",
   "metadata": {
    "ExecuteTime": {
     "end_time": "2023-08-19T16:21:52.777164Z",
     "start_time": "2023-08-19T16:21:52.753827Z"
    }
   },
   "outputs": [],
   "source": [
    "_123abc = 35"
   ]
  },
  {
   "cell_type": "markdown",
   "id": "4780b90e",
   "metadata": {},
   "source": [
    "## Operators in Python"
   ]
  },
  {
   "cell_type": "markdown",
   "id": "4e3097f2",
   "metadata": {},
   "source": [
    "### Assignment Operator"
   ]
  },
  {
   "cell_type": "code",
   "execution_count": 33,
   "id": "425ad8a0",
   "metadata": {
    "ExecuteTime": {
     "end_time": "2023-08-19T16:28:24.762794Z",
     "start_time": "2023-08-19T16:28:24.747157Z"
    }
   },
   "outputs": [],
   "source": [
    "a = 10"
   ]
  },
  {
   "cell_type": "code",
   "execution_count": 34,
   "id": "270b6a02",
   "metadata": {
    "ExecuteTime": {
     "end_time": "2023-08-19T16:29:23.821427Z",
     "start_time": "2023-08-19T16:29:23.794052Z"
    }
   },
   "outputs": [
    {
     "data": {
      "text/plain": [
       "15"
      ]
     },
     "execution_count": 34,
     "metadata": {},
     "output_type": "execute_result"
    }
   ],
   "source": [
    "a += 5   #por can be written as  a = a +5\n",
    "a"
   ]
  },
  {
   "cell_type": "code",
   "execution_count": 35,
   "id": "02f77b31",
   "metadata": {
    "ExecuteTime": {
     "end_time": "2023-08-19T16:29:48.381498Z",
     "start_time": "2023-08-19T16:29:48.363099Z"
    }
   },
   "outputs": [],
   "source": [
    "b = 12"
   ]
  },
  {
   "cell_type": "code",
   "execution_count": 36,
   "id": "01b0c57d",
   "metadata": {
    "ExecuteTime": {
     "end_time": "2023-08-19T16:30:15.562966Z",
     "start_time": "2023-08-19T16:30:15.554297Z"
    }
   },
   "outputs": [
    {
     "data": {
      "text/plain": [
       "10"
      ]
     },
     "execution_count": 36,
     "metadata": {},
     "output_type": "execute_result"
    }
   ],
   "source": [
    "b -= 2 # or b = b - 2\n",
    "b"
   ]
  },
  {
   "cell_type": "code",
   "execution_count": 37,
   "id": "30a48bc6",
   "metadata": {
    "ExecuteTime": {
     "end_time": "2023-08-19T16:30:36.890416Z",
     "start_time": "2023-08-19T16:30:36.874469Z"
    }
   },
   "outputs": [
    {
     "data": {
      "text/plain": [
       "12"
      ]
     },
     "execution_count": 37,
     "metadata": {},
     "output_type": "execute_result"
    }
   ],
   "source": [
    "c = 6\n",
    "c *= 2\n",
    "c"
   ]
  },
  {
   "cell_type": "code",
   "execution_count": 39,
   "id": "847bccdb",
   "metadata": {
    "ExecuteTime": {
     "end_time": "2023-08-19T16:31:26.464646Z",
     "start_time": "2023-08-19T16:31:26.444392Z"
    }
   },
   "outputs": [
    {
     "data": {
      "text/plain": [
       "216"
      ]
     },
     "execution_count": 39,
     "metadata": {},
     "output_type": "execute_result"
    }
   ],
   "source": [
    "d = 6 \n",
    "d **= 3 # or d = d ** 3 # 6 to the power 3\n",
    "d"
   ]
  },
  {
   "cell_type": "code",
   "execution_count": 41,
   "id": "8008d314",
   "metadata": {
    "ExecuteTime": {
     "end_time": "2023-08-19T16:32:13.079814Z",
     "start_time": "2023-08-19T16:32:13.059777Z"
    }
   },
   "outputs": [
    {
     "data": {
      "text/plain": [
       "1"
      ]
     },
     "execution_count": 41,
     "metadata": {},
     "output_type": "execute_result"
    }
   ],
   "source": [
    "s = 10\n",
    "s %= 3   # modulous operator to calulcate remainder\n",
    "s"
   ]
  },
  {
   "cell_type": "code",
   "execution_count": 43,
   "id": "62233777",
   "metadata": {
    "ExecuteTime": {
     "end_time": "2023-08-19T16:32:44.033820Z",
     "start_time": "2023-08-19T16:32:44.020741Z"
    }
   },
   "outputs": [
    {
     "data": {
      "text/plain": [
       "4.333333333333333"
      ]
     },
     "execution_count": 43,
     "metadata": {},
     "output_type": "execute_result"
    }
   ],
   "source": [
    "a = 13\n",
    "a = a / 3\n",
    "a"
   ]
  },
  {
   "cell_type": "code",
   "execution_count": 44,
   "id": "6c701932",
   "metadata": {
    "ExecuteTime": {
     "end_time": "2023-08-19T16:33:14.900096Z",
     "start_time": "2023-08-19T16:33:14.881041Z"
    }
   },
   "outputs": [
    {
     "data": {
      "text/plain": [
       "4"
      ]
     },
     "execution_count": 44,
     "metadata": {},
     "output_type": "execute_result"
    }
   ],
   "source": [
    "a = 13\n",
    "a = a // 3  # floor division\n",
    "a"
   ]
  },
  {
   "cell_type": "markdown",
   "id": "92cd5a1c",
   "metadata": {},
   "source": [
    "### Arithmentic operators"
   ]
  },
  {
   "cell_type": "code",
   "execution_count": 59,
   "id": "34b5861b",
   "metadata": {
    "ExecuteTime": {
     "end_time": "2023-08-19T16:41:38.424222Z",
     "start_time": "2023-08-19T16:41:38.404721Z"
    }
   },
   "outputs": [
    {
     "name": "stdout",
     "output_type": "stream",
     "text": [
      "20\n",
      "20\n"
     ]
    },
    {
     "data": {
      "text/plain": [
       "30"
      ]
     },
     "execution_count": 59,
     "metadata": {},
     "output_type": "execute_result"
    }
   ],
   "source": [
    "a = 10\n",
    "b = 20\n",
    "print(b)\n",
    "b - 20\n",
    "print(b)\n",
    "c = a+b\n",
    "c"
   ]
  },
  {
   "cell_type": "code",
   "execution_count": 60,
   "id": "243ee225",
   "metadata": {
    "ExecuteTime": {
     "end_time": "2023-08-19T16:42:31.297050Z",
     "start_time": "2023-08-19T16:42:31.290684Z"
    }
   },
   "outputs": [
    {
     "data": {
      "text/plain": [
       "0"
      ]
     },
     "execution_count": 60,
     "metadata": {},
     "output_type": "execute_result"
    }
   ],
   "source": [
    "b - 20"
   ]
  },
  {
   "cell_type": "code",
   "execution_count": 46,
   "id": "754213b1",
   "metadata": {
    "ExecuteTime": {
     "end_time": "2023-08-19T16:35:23.329047Z",
     "start_time": "2023-08-19T16:35:23.314340Z"
    }
   },
   "outputs": [
    {
     "data": {
      "text/plain": [
       "30"
      ]
     },
     "execution_count": 46,
     "metadata": {},
     "output_type": "execute_result"
    }
   ],
   "source": [
    "10 + 20"
   ]
  },
  {
   "cell_type": "code",
   "execution_count": 51,
   "id": "8747b2f3",
   "metadata": {
    "ExecuteTime": {
     "end_time": "2023-08-19T16:38:56.684272Z",
     "start_time": "2023-08-19T16:38:56.674772Z"
    }
   },
   "outputs": [
    {
     "data": {
      "text/plain": [
       "7.75"
      ]
     },
     "execution_count": 51,
     "metadata": {},
     "output_type": "execute_result"
    }
   ],
   "source": [
    "z = 31\n",
    "y = z /4\n",
    "y"
   ]
  },
  {
   "cell_type": "code",
   "execution_count": 68,
   "id": "bce39d0e",
   "metadata": {
    "ExecuteTime": {
     "end_time": "2023-08-19T16:49:24.206775Z",
     "start_time": "2023-08-19T16:49:24.192183Z"
    }
   },
   "outputs": [
    {
     "data": {
      "text/plain": [
       "3.0"
      ]
     },
     "execution_count": 68,
     "metadata": {},
     "output_type": "execute_result"
    }
   ],
   "source": [
    "y//2   #floor division"
   ]
  },
  {
   "cell_type": "markdown",
   "id": "a7cd0121",
   "metadata": {},
   "source": [
    "### Comparison Operator"
   ]
  },
  {
   "cell_type": "code",
   "execution_count": 61,
   "id": "82aa46e4",
   "metadata": {
    "ExecuteTime": {
     "end_time": "2023-08-19T16:47:04.243877Z",
     "start_time": "2023-08-19T16:47:04.232744Z"
    }
   },
   "outputs": [],
   "source": [
    "a = 10\n",
    "b = 20"
   ]
  },
  {
   "cell_type": "code",
   "execution_count": 62,
   "id": "edb140d4",
   "metadata": {
    "ExecuteTime": {
     "end_time": "2023-08-19T16:47:23.922655Z",
     "start_time": "2023-08-19T16:47:23.902250Z"
    }
   },
   "outputs": [
    {
     "data": {
      "text/plain": [
       "False"
      ]
     },
     "execution_count": 62,
     "metadata": {},
     "output_type": "execute_result"
    }
   ],
   "source": [
    "a == b"
   ]
  },
  {
   "cell_type": "code",
   "execution_count": 63,
   "id": "6f931e18",
   "metadata": {
    "ExecuteTime": {
     "end_time": "2023-08-19T16:47:45.948779Z",
     "start_time": "2023-08-19T16:47:45.932154Z"
    }
   },
   "outputs": [
    {
     "data": {
      "text/plain": [
       "True"
      ]
     },
     "execution_count": 63,
     "metadata": {},
     "output_type": "execute_result"
    }
   ],
   "source": [
    "a != b"
   ]
  },
  {
   "cell_type": "code",
   "execution_count": 64,
   "id": "d58a5512",
   "metadata": {
    "ExecuteTime": {
     "end_time": "2023-08-19T16:48:02.733426Z",
     "start_time": "2023-08-19T16:48:02.716104Z"
    }
   },
   "outputs": [
    {
     "data": {
      "text/plain": [
       "False"
      ]
     },
     "execution_count": 64,
     "metadata": {},
     "output_type": "execute_result"
    }
   ],
   "source": [
    "a > b"
   ]
  },
  {
   "cell_type": "code",
   "execution_count": 65,
   "id": "f32c868b",
   "metadata": {
    "ExecuteTime": {
     "end_time": "2023-08-19T16:48:14.790145Z",
     "start_time": "2023-08-19T16:48:14.773993Z"
    }
   },
   "outputs": [
    {
     "data": {
      "text/plain": [
       "True"
      ]
     },
     "execution_count": 65,
     "metadata": {},
     "output_type": "execute_result"
    }
   ],
   "source": [
    "a < b"
   ]
  },
  {
   "cell_type": "code",
   "execution_count": 66,
   "id": "445ecf0e",
   "metadata": {
    "ExecuteTime": {
     "end_time": "2023-08-19T16:48:41.322467Z",
     "start_time": "2023-08-19T16:48:41.312568Z"
    }
   },
   "outputs": [
    {
     "data": {
      "text/plain": [
       "True"
      ]
     },
     "execution_count": 66,
     "metadata": {},
     "output_type": "execute_result"
    }
   ],
   "source": [
    "a <= b"
   ]
  },
  {
   "cell_type": "code",
   "execution_count": 67,
   "id": "21b14a2c",
   "metadata": {
    "ExecuteTime": {
     "end_time": "2023-08-19T16:48:55.182298Z",
     "start_time": "2023-08-19T16:48:55.163192Z"
    }
   },
   "outputs": [
    {
     "data": {
      "text/plain": [
       "False"
      ]
     },
     "execution_count": 67,
     "metadata": {},
     "output_type": "execute_result"
    }
   ],
   "source": [
    "a >= b"
   ]
  },
  {
   "cell_type": "markdown",
   "id": "2214fd3f",
   "metadata": {},
   "source": [
    "### Logical Operators"
   ]
  },
  {
   "cell_type": "code",
   "execution_count": 69,
   "id": "5bb466e6",
   "metadata": {
    "ExecuteTime": {
     "end_time": "2023-08-19T16:51:58.788406Z",
     "start_time": "2023-08-19T16:51:58.780544Z"
    }
   },
   "outputs": [],
   "source": [
    "a = 10\n",
    "b = 23\n",
    "c = 32"
   ]
  },
  {
   "cell_type": "code",
   "execution_count": 70,
   "id": "c87e9578",
   "metadata": {
    "ExecuteTime": {
     "end_time": "2023-08-19T16:52:45.692284Z",
     "start_time": "2023-08-19T16:52:45.682744Z"
    }
   },
   "outputs": [
    {
     "data": {
      "text/plain": [
       "False"
      ]
     },
     "execution_count": 70,
     "metadata": {},
     "output_type": "execute_result"
    }
   ],
   "source": [
    "a > 10 and b > 0"
   ]
  },
  {
   "cell_type": "code",
   "execution_count": 71,
   "id": "35b1f64b",
   "metadata": {
    "ExecuteTime": {
     "end_time": "2023-08-19T16:52:58.832027Z",
     "start_time": "2023-08-19T16:52:58.818138Z"
    }
   },
   "outputs": [
    {
     "data": {
      "text/plain": [
       "True"
      ]
     },
     "execution_count": 71,
     "metadata": {},
     "output_type": "execute_result"
    }
   ],
   "source": [
    "a > 0 and b > 0"
   ]
  },
  {
   "cell_type": "code",
   "execution_count": 72,
   "id": "ee861900",
   "metadata": {
    "ExecuteTime": {
     "end_time": "2023-08-19T16:53:49.292440Z",
     "start_time": "2023-08-19T16:53:49.283548Z"
    }
   },
   "outputs": [
    {
     "data": {
      "text/plain": [
       "True"
      ]
     },
     "execution_count": 72,
     "metadata": {},
     "output_type": "execute_result"
    }
   ],
   "source": [
    "a > 0 and b > 0 and c> 0"
   ]
  },
  {
   "cell_type": "code",
   "execution_count": 73,
   "id": "ad904896",
   "metadata": {
    "ExecuteTime": {
     "end_time": "2023-08-19T16:54:16.679517Z",
     "start_time": "2023-08-19T16:54:16.659367Z"
    }
   },
   "outputs": [
    {
     "data": {
      "text/plain": [
       "True"
      ]
     },
     "execution_count": 73,
     "metadata": {},
     "output_type": "execute_result"
    }
   ],
   "source": [
    "a > 10 or b > 0"
   ]
  },
  {
   "cell_type": "code",
   "execution_count": 75,
   "id": "dd7c3f4f",
   "metadata": {
    "ExecuteTime": {
     "end_time": "2023-08-19T16:56:17.146951Z",
     "start_time": "2023-08-19T16:56:17.140800Z"
    }
   },
   "outputs": [
    {
     "data": {
      "text/plain": [
       "True"
      ]
     },
     "execution_count": 75,
     "metadata": {},
     "output_type": "execute_result"
    }
   ],
   "source": [
    "a > 10 or b > 0 or c < 0"
   ]
  },
  {
   "cell_type": "code",
   "execution_count": 77,
   "id": "e5f8c3bb",
   "metadata": {
    "ExecuteTime": {
     "end_time": "2023-08-19T16:57:00.561797Z",
     "start_time": "2023-08-19T16:57:00.549137Z"
    }
   },
   "outputs": [
    {
     "data": {
      "text/plain": [
       "True"
      ]
     },
     "execution_count": 77,
     "metadata": {},
     "output_type": "execute_result"
    }
   ],
   "source": [
    "not a > 10"
   ]
  },
  {
   "cell_type": "markdown",
   "id": "14e28251",
   "metadata": {},
   "source": [
    "### Identity Operator"
   ]
  },
  {
   "cell_type": "code",
   "execution_count": 78,
   "id": "e2e7eb0b",
   "metadata": {
    "ExecuteTime": {
     "end_time": "2023-08-19T16:59:42.309530Z",
     "start_time": "2023-08-19T16:59:42.282807Z"
    }
   },
   "outputs": [],
   "source": [
    "a = 10\n",
    "b = 10"
   ]
  },
  {
   "cell_type": "code",
   "execution_count": 79,
   "id": "c2208d5e",
   "metadata": {
    "ExecuteTime": {
     "end_time": "2023-08-19T16:59:51.491125Z",
     "start_time": "2023-08-19T16:59:51.458357Z"
    }
   },
   "outputs": [
    {
     "data": {
      "text/plain": [
       "True"
      ]
     },
     "execution_count": 79,
     "metadata": {},
     "output_type": "execute_result"
    }
   ],
   "source": [
    "a is b "
   ]
  },
  {
   "cell_type": "code",
   "execution_count": 80,
   "id": "1aa26df9",
   "metadata": {
    "ExecuteTime": {
     "end_time": "2023-08-19T17:00:26.728166Z",
     "start_time": "2023-08-19T17:00:26.721185Z"
    },
    "scrolled": true
   },
   "outputs": [
    {
     "data": {
      "text/plain": [
       "140712781621328"
      ]
     },
     "execution_count": 80,
     "metadata": {},
     "output_type": "execute_result"
    }
   ],
   "source": [
    "id(a)"
   ]
  },
  {
   "cell_type": "code",
   "execution_count": 81,
   "id": "1cd226a8",
   "metadata": {
    "ExecuteTime": {
     "end_time": "2023-08-19T17:00:36.953304Z",
     "start_time": "2023-08-19T17:00:36.935481Z"
    },
    "scrolled": true
   },
   "outputs": [
    {
     "data": {
      "text/plain": [
       "140712781621328"
      ]
     },
     "execution_count": 81,
     "metadata": {},
     "output_type": "execute_result"
    }
   ],
   "source": [
    "id(b)"
   ]
  },
  {
   "cell_type": "code",
   "execution_count": 82,
   "id": "5946879a",
   "metadata": {
    "ExecuteTime": {
     "end_time": "2023-08-19T17:00:55.366896Z",
     "start_time": "2023-08-19T17:00:55.355417Z"
    }
   },
   "outputs": [],
   "source": [
    "a = 10\n",
    "b = 12"
   ]
  },
  {
   "cell_type": "code",
   "execution_count": 83,
   "id": "af0cceba",
   "metadata": {
    "ExecuteTime": {
     "end_time": "2023-08-19T17:01:02.519481Z",
     "start_time": "2023-08-19T17:01:02.504981Z"
    }
   },
   "outputs": [
    {
     "data": {
      "text/plain": [
       "False"
      ]
     },
     "execution_count": 83,
     "metadata": {},
     "output_type": "execute_result"
    }
   ],
   "source": [
    "a is b"
   ]
  },
  {
   "cell_type": "code",
   "execution_count": 84,
   "id": "be3dbbff",
   "metadata": {
    "ExecuteTime": {
     "end_time": "2023-08-19T17:01:05.944608Z",
     "start_time": "2023-08-19T17:01:05.930191Z"
    }
   },
   "outputs": [
    {
     "data": {
      "text/plain": [
       "140712781621328"
      ]
     },
     "execution_count": 84,
     "metadata": {},
     "output_type": "execute_result"
    }
   ],
   "source": [
    "id(a)"
   ]
  },
  {
   "cell_type": "code",
   "execution_count": 85,
   "id": "189170ea",
   "metadata": {
    "ExecuteTime": {
     "end_time": "2023-08-19T17:01:12.835085Z",
     "start_time": "2023-08-19T17:01:12.813086Z"
    },
    "scrolled": true
   },
   "outputs": [
    {
     "data": {
      "text/plain": [
       "140712781621392"
      ]
     },
     "execution_count": 85,
     "metadata": {},
     "output_type": "execute_result"
    }
   ],
   "source": [
    "id(b)"
   ]
  },
  {
   "cell_type": "code",
   "execution_count": 86,
   "id": "4db4885a",
   "metadata": {
    "ExecuteTime": {
     "end_time": "2023-08-19T17:01:26.688153Z",
     "start_time": "2023-08-19T17:01:26.680125Z"
    }
   },
   "outputs": [
    {
     "data": {
      "text/plain": [
       "True"
      ]
     },
     "execution_count": 86,
     "metadata": {},
     "output_type": "execute_result"
    }
   ],
   "source": [
    "a is not b"
   ]
  },
  {
   "cell_type": "code",
   "execution_count": 87,
   "id": "3d6cb64d",
   "metadata": {
    "ExecuteTime": {
     "end_time": "2023-08-19T17:03:35.171247Z",
     "start_time": "2023-08-19T17:03:35.161082Z"
    }
   },
   "outputs": [
    {
     "data": {
      "text/plain": [
       "10"
      ]
     },
     "execution_count": 87,
     "metadata": {},
     "output_type": "execute_result"
    }
   ],
   "source": [
    "a"
   ]
  },
  {
   "cell_type": "markdown",
   "id": "60099efd",
   "metadata": {},
   "source": [
    "### Membership Operator"
   ]
  },
  {
   "cell_type": "code",
   "execution_count": 88,
   "id": "df34ac89",
   "metadata": {
    "ExecuteTime": {
     "end_time": "2023-08-19T17:06:00.624368Z",
     "start_time": "2023-08-19T17:06:00.616534Z"
    }
   },
   "outputs": [],
   "source": [
    "a = \"Intellipat Python Tutorial Day1\""
   ]
  },
  {
   "cell_type": "code",
   "execution_count": 89,
   "id": "15cb0f18",
   "metadata": {
    "ExecuteTime": {
     "end_time": "2023-08-19T17:06:19.306356Z",
     "start_time": "2023-08-19T17:06:19.294891Z"
    }
   },
   "outputs": [
    {
     "data": {
      "text/plain": [
       "True"
      ]
     },
     "execution_count": 89,
     "metadata": {},
     "output_type": "execute_result"
    }
   ],
   "source": [
    "\"Python\" in a"
   ]
  },
  {
   "cell_type": "code",
   "execution_count": 90,
   "id": "3b56439e",
   "metadata": {
    "ExecuteTime": {
     "end_time": "2023-08-19T17:06:29.768229Z",
     "start_time": "2023-08-19T17:06:29.750094Z"
    }
   },
   "outputs": [
    {
     "data": {
      "text/plain": [
       "False"
      ]
     },
     "execution_count": 90,
     "metadata": {},
     "output_type": "execute_result"
    }
   ],
   "source": [
    "\"Java\" in a"
   ]
  },
  {
   "cell_type": "code",
   "execution_count": 91,
   "id": "9d4f9b0d",
   "metadata": {
    "ExecuteTime": {
     "end_time": "2023-08-19T17:06:36.241219Z",
     "start_time": "2023-08-19T17:06:36.223485Z"
    }
   },
   "outputs": [
    {
     "data": {
      "text/plain": [
       "True"
      ]
     },
     "execution_count": 91,
     "metadata": {},
     "output_type": "execute_result"
    }
   ],
   "source": [
    "\"Java\" not in a"
   ]
  },
  {
   "cell_type": "markdown",
   "id": "6e91368b",
   "metadata": {},
   "source": [
    "### Bitwise Operator"
   ]
  },
  {
   "cell_type": "code",
   "execution_count": 96,
   "id": "34df235f",
   "metadata": {
    "ExecuteTime": {
     "end_time": "2023-08-19T17:18:28.303158Z",
     "start_time": "2023-08-19T17:18:28.284034Z"
    }
   },
   "outputs": [],
   "source": [
    "a = 5 # binary representation of 5 is 101  - >      2^0 + 2^1 + 2^2 -> 2^0 * 1 +2^1 * 0 + 2^2 * 1 -> 1 + 0 + 4 = 5\n",
    "b = 7 # binary represnetation of 7 is 111"
   ]
  },
  {
   "cell_type": "code",
   "execution_count": 97,
   "id": "93e31645",
   "metadata": {
    "ExecuteTime": {
     "end_time": "2023-08-19T17:18:29.829886Z",
     "start_time": "2023-08-19T17:18:29.811333Z"
    }
   },
   "outputs": [
    {
     "data": {
      "text/plain": [
       "5"
      ]
     },
     "execution_count": 97,
     "metadata": {},
     "output_type": "execute_result"
    }
   ],
   "source": [
    "a & b \n",
    "#-> 101 & 111\n",
    "#5       1  0  1\n",
    "#7       1  1  1\n",
    "# ====================\n",
    "#5&7     1  0  1  =>   5"
   ]
  },
  {
   "cell_type": "code",
   "execution_count": 100,
   "id": "2bb677fc",
   "metadata": {
    "ExecuteTime": {
     "end_time": "2023-08-19T17:22:27.697770Z",
     "start_time": "2023-08-19T17:22:27.692274Z"
    }
   },
   "outputs": [
    {
     "name": "stdout",
     "output_type": "stream",
     "text": [
      "2\n"
     ]
    }
   ],
   "source": [
    "a = 10 # 1010\n",
    "b = 7  #  111\n",
    "print(a & b)\n",
    "#10 -> 1  0  1  0\n",
    "#7  -> 0  1  1  1\n",
    "# ==========================\n",
    "#10*7  0  0  1  0\n",
    "#        2^3   2^2   2^1   2^0\n"
   ]
  },
  {
   "cell_type": "code",
   "execution_count": 101,
   "id": "92cc4da5",
   "metadata": {
    "ExecuteTime": {
     "end_time": "2023-08-19T17:23:41.848545Z",
     "start_time": "2023-08-19T17:23:41.833948Z"
    }
   },
   "outputs": [],
   "source": [
    "a = 5 # binary representation of 5 is 101  - >      2^0 + 2^1 + 2^2 -> 2^0 * 1 +2^1 * 0 + 2^2 * 1 -> 1 + 0 + 4 = 5\n",
    "b = 7 # binary represnetation of 7 is 111"
   ]
  },
  {
   "cell_type": "code",
   "execution_count": 102,
   "id": "2855d7a9",
   "metadata": {
    "ExecuteTime": {
     "end_time": "2023-08-19T17:23:56.298481Z",
     "start_time": "2023-08-19T17:23:56.281174Z"
    },
    "scrolled": true
   },
   "outputs": [
    {
     "data": {
      "text/plain": [
       "7"
      ]
     },
     "execution_count": 102,
     "metadata": {},
     "output_type": "execute_result"
    }
   ],
   "source": [
    "a | b \n",
    "#-> 101 & 111\n",
    "#5       1  0  1\n",
    "#7       1  1  1\n",
    "# ====================\n",
    "#5|7     1  1  1  =>   7"
   ]
  },
  {
   "cell_type": "code",
   "execution_count": 104,
   "id": "ca5a5f56",
   "metadata": {
    "ExecuteTime": {
     "end_time": "2023-08-19T17:25:32.186110Z",
     "start_time": "2023-08-19T17:25:32.169627Z"
    }
   },
   "outputs": [
    {
     "data": {
      "text/plain": [
       "3"
      ]
     },
     "execution_count": 104,
     "metadata": {},
     "output_type": "execute_result"
    }
   ],
   "source": [
    "b = 7 # 111 shift the bits to right by 1 ->011\n",
    "b >> 1"
   ]
  },
  {
   "cell_type": "code",
   "execution_count": 105,
   "id": "6df88ec3",
   "metadata": {
    "ExecuteTime": {
     "end_time": "2023-08-19T17:26:19.287080Z",
     "start_time": "2023-08-19T17:26:19.279955Z"
    }
   },
   "outputs": [
    {
     "data": {
      "text/plain": [
       "14"
      ]
     },
     "execution_count": 105,
     "metadata": {},
     "output_type": "execute_result"
    }
   ],
   "source": [
    "b = 7\n",
    "b << 1      # 111 -> 1110 -> 2^\n",
    "#                     2^3 2^2  2^1 2^0"
   ]
  },
  {
   "cell_type": "code",
   "execution_count": null,
   "id": "06c3957f",
   "metadata": {},
   "outputs": [],
   "source": []
  }
 ],
 "metadata": {
  "kernelspec": {
   "display_name": "Python 3",
   "language": "python",
   "name": "python3"
  },
  "language_info": {
   "codemirror_mode": {
    "name": "ipython",
    "version": 3
   },
   "file_extension": ".py",
   "mimetype": "text/x-python",
   "name": "python",
   "nbconvert_exporter": "python",
   "pygments_lexer": "ipython3",
   "version": "3.8.8"
  },
  "toc": {
   "base_numbering": 1,
   "nav_menu": {},
   "number_sections": true,
   "sideBar": true,
   "skip_h1_title": false,
   "title_cell": "Table of Contents",
   "title_sidebar": "Contents",
   "toc_cell": false,
   "toc_position": {},
   "toc_section_display": true,
   "toc_window_display": true
  }
 },
 "nbformat": 4,
 "nbformat_minor": 5
}
