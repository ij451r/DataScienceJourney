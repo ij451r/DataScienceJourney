{
  "nbformat": 4,
  "nbformat_minor": 0,
  "metadata": {
    "colab": {
      "provenance": []
    },
    "kernelspec": {
      "name": "python3",
      "display_name": "Python 3"
    },
    "language_info": {
      "name": "python"
    }
  },
  "cells": [
    {
      "cell_type": "markdown",
      "source": [
        "1. Create a numpy array with numpy.array module and with a data type integer and float.\n"
      ],
      "metadata": {
        "id": "65IWOkIzO9GY"
      }
    },
    {
      "cell_type": "code",
      "source": [
        "import numpy"
      ],
      "metadata": {
        "id": "rwnVWEA-NuNr"
      },
      "execution_count": 107,
      "outputs": []
    },
    {
      "cell_type": "code",
      "source": [
        "a=numpy.array([1,2,3],dtype=int)"
      ],
      "metadata": {
        "id": "4bnGozBeO91o"
      },
      "execution_count": 108,
      "outputs": []
    },
    {
      "cell_type": "code",
      "source": [
        "a.dtype"
      ],
      "metadata": {
        "colab": {
          "base_uri": "https://localhost:8080/"
        },
        "id": "0b_bfFMWPQLy",
        "outputId": "7a51ac70-5bf2-4b95-d844-1bcc16e00dbe"
      },
      "execution_count": 109,
      "outputs": [
        {
          "output_type": "execute_result",
          "data": {
            "text/plain": [
              "dtype('int64')"
            ]
          },
          "metadata": {},
          "execution_count": 109
        }
      ]
    },
    {
      "cell_type": "code",
      "source": [
        "a=numpy.array([1,2,3],dtype=float)\n",
        "a.dtype"
      ],
      "metadata": {
        "colab": {
          "base_uri": "https://localhost:8080/"
        },
        "id": "vwFHbI9APRtC",
        "outputId": "2b060fc7-b26e-41fe-9d54-a6df90d22a4c"
      },
      "execution_count": 110,
      "outputs": [
        {
          "output_type": "execute_result",
          "data": {
            "text/plain": [
              "dtype('float64')"
            ]
          },
          "metadata": {},
          "execution_count": 110
        }
      ]
    },
    {
      "cell_type": "markdown",
      "source": [
        "Create numpy arrays that have zero, one, two, three, Four dimensions respectively.\n",
        "Also, print the shape and dimensions of the numpy arrays created above.\n"
      ],
      "metadata": {
        "id": "LYL4Y_TFQGrW"
      }
    },
    {
      "cell_type": "code",
      "source": [
        "import numpy as np\n",
        "a=np.array(10)"
      ],
      "metadata": {
        "id": "nVux0LlKPb6_"
      },
      "execution_count": 111,
      "outputs": []
    },
    {
      "cell_type": "code",
      "source": [
        "# ndim --> check the dimension of array\n",
        "a.ndim"
      ],
      "metadata": {
        "colab": {
          "base_uri": "https://localhost:8080/"
        },
        "id": "oUdH10q7QToi",
        "outputId": "8e9f2943-129a-4bd5-aee3-c50d607fbc65"
      },
      "execution_count": 112,
      "outputs": [
        {
          "output_type": "execute_result",
          "data": {
            "text/plain": [
              "0"
            ]
          },
          "metadata": {},
          "execution_count": 112
        }
      ]
    },
    {
      "cell_type": "code",
      "source": [
        "a.shape"
      ],
      "metadata": {
        "colab": {
          "base_uri": "https://localhost:8080/"
        },
        "id": "Mx7jVot6QapQ",
        "outputId": "3e15ad48-47b7-49b4-e637-5ac282e8d0f2"
      },
      "execution_count": 113,
      "outputs": [
        {
          "output_type": "execute_result",
          "data": {
            "text/plain": [
              "()"
            ]
          },
          "metadata": {},
          "execution_count": 113
        }
      ]
    },
    {
      "cell_type": "code",
      "source": [
        "a=np.array([10])\n",
        "print(a.ndim)\n",
        "print(a.shape)"
      ],
      "metadata": {
        "colab": {
          "base_uri": "https://localhost:8080/"
        },
        "id": "CY68xgkNQijo",
        "outputId": "e3319d18-991d-4e06-9883-7ce54592a94e"
      },
      "execution_count": 114,
      "outputs": [
        {
          "output_type": "stream",
          "name": "stdout",
          "text": [
            "1\n",
            "(1,)\n"
          ]
        }
      ]
    },
    {
      "cell_type": "code",
      "source": [
        "a=np.array([10],ndmin=2)\n",
        "print(a)\n",
        "print(a.ndim)\n",
        "print(a.shape)"
      ],
      "metadata": {
        "colab": {
          "base_uri": "https://localhost:8080/"
        },
        "id": "Sj0o4kwwQsZY",
        "outputId": "7a835f26-d218-48d9-d4a9-77e96585111b"
      },
      "execution_count": 115,
      "outputs": [
        {
          "output_type": "stream",
          "name": "stdout",
          "text": [
            "[[10]]\n",
            "2\n",
            "(1, 1)\n"
          ]
        }
      ]
    },
    {
      "cell_type": "code",
      "source": [
        "a=np.array([10],ndmin=3)\n",
        "print(a)\n",
        "print(a.ndim)\n",
        "print(a.shape)"
      ],
      "metadata": {
        "colab": {
          "base_uri": "https://localhost:8080/"
        },
        "id": "klxwOp7cQ39k",
        "outputId": "3aaf6aec-8294-46ed-b959-9234128eeba3"
      },
      "execution_count": 116,
      "outputs": [
        {
          "output_type": "stream",
          "name": "stdout",
          "text": [
            "[[[10]]]\n",
            "3\n",
            "(1, 1, 1)\n"
          ]
        }
      ]
    },
    {
      "cell_type": "code",
      "source": [
        "a=np.array([10],ndmin=4)\n",
        "print(a)\n",
        "print(a.ndim)\n",
        "print(a.shape)"
      ],
      "metadata": {
        "colab": {
          "base_uri": "https://localhost:8080/"
        },
        "id": "ju4EB0tORBMO",
        "outputId": "53540885-1947-427a-faff-cbe908b55d4f"
      },
      "execution_count": 117,
      "outputs": [
        {
          "output_type": "stream",
          "name": "stdout",
          "text": [
            "[[[[10]]]]\n",
            "4\n",
            "(1, 1, 1, 1)\n"
          ]
        }
      ]
    },
    {
      "cell_type": "code",
      "source": [
        "a=np.array([[10]])\n",
        "print(a)\n",
        "print(a.ndim)\n",
        "print(a.shape)"
      ],
      "metadata": {
        "colab": {
          "base_uri": "https://localhost:8080/"
        },
        "id": "5PtMmkliRDQc",
        "outputId": "61250267-3f43-4b29-cd4e-a459372f0edc"
      },
      "execution_count": 118,
      "outputs": [
        {
          "output_type": "stream",
          "name": "stdout",
          "text": [
            "[[10]]\n",
            "2\n",
            "(1, 1)\n"
          ]
        }
      ]
    },
    {
      "cell_type": "markdown",
      "source": [
        "3. Create a 2x2, 3x3, and 4x4 identity matrix using numpy.\n"
      ],
      "metadata": {
        "id": "knLlYOoOUBVm"
      }
    },
    {
      "cell_type": "code",
      "source": [
        "np.identity(2,dtype=int)"
      ],
      "metadata": {
        "colab": {
          "base_uri": "https://localhost:8080/"
        },
        "id": "0sUkkXHRRflm",
        "outputId": "658b97af-6642-4285-82fb-be6384da734b"
      },
      "execution_count": 119,
      "outputs": [
        {
          "output_type": "execute_result",
          "data": {
            "text/plain": [
              "array([[1, 0],\n",
              "       [0, 1]])"
            ]
          },
          "metadata": {},
          "execution_count": 119
        }
      ]
    },
    {
      "cell_type": "code",
      "source": [
        "np.identity(3,dtype=int)"
      ],
      "metadata": {
        "colab": {
          "base_uri": "https://localhost:8080/"
        },
        "id": "hE5iZBa1U4v7",
        "outputId": "bb830024-281b-4424-9eb2-b5cbbc618982"
      },
      "execution_count": 120,
      "outputs": [
        {
          "output_type": "execute_result",
          "data": {
            "text/plain": [
              "array([[1, 0, 0],\n",
              "       [0, 1, 0],\n",
              "       [0, 0, 1]])"
            ]
          },
          "metadata": {},
          "execution_count": 120
        }
      ]
    },
    {
      "cell_type": "code",
      "source": [
        "np.identity(4,dtype=int)"
      ],
      "metadata": {
        "colab": {
          "base_uri": "https://localhost:8080/"
        },
        "id": "P7_8XTdvU7gd",
        "outputId": "119e3f3b-0967-40bd-b534-4c3d9e6bdaf1"
      },
      "execution_count": 121,
      "outputs": [
        {
          "output_type": "execute_result",
          "data": {
            "text/plain": [
              "array([[1, 0, 0, 0],\n",
              "       [0, 1, 0, 0],\n",
              "       [0, 0, 1, 0],\n",
              "       [0, 0, 0, 1]])"
            ]
          },
          "metadata": {},
          "execution_count": 121
        }
      ]
    },
    {
      "cell_type": "code",
      "source": [
        "np.eye(2,3,dtype=int)"
      ],
      "metadata": {
        "colab": {
          "base_uri": "https://localhost:8080/"
        },
        "id": "pA8zXjEtU-EY",
        "outputId": "438f3847-f75b-457a-ff39-4bac949c7ce8"
      },
      "execution_count": 122,
      "outputs": [
        {
          "output_type": "execute_result",
          "data": {
            "text/plain": [
              "array([[1, 0, 0],\n",
              "       [0, 1, 0]])"
            ]
          },
          "metadata": {},
          "execution_count": 122
        }
      ]
    },
    {
      "cell_type": "markdown",
      "source": [
        "4. Create a numpy array with shape 2x5 that has all the elements as zero.\n"
      ],
      "metadata": {
        "id": "D6HNpxqJVfOy"
      }
    },
    {
      "cell_type": "code",
      "source": [
        "np.zeros((2,5),dtype=int)"
      ],
      "metadata": {
        "colab": {
          "base_uri": "https://localhost:8080/"
        },
        "id": "GZY9bBD1VXKg",
        "outputId": "92ae4702-11d6-4ad0-e683-cdbcc196667d"
      },
      "execution_count": 123,
      "outputs": [
        {
          "output_type": "execute_result",
          "data": {
            "text/plain": [
              "array([[0, 0, 0, 0, 0],\n",
              "       [0, 0, 0, 0, 0]])"
            ]
          },
          "metadata": {},
          "execution_count": 123
        }
      ]
    },
    {
      "cell_type": "markdown",
      "source": [
        "5. Create a numpy array that has the shape 3x5 and all the elements are 5.\n"
      ],
      "metadata": {
        "id": "QBaC-c6RVyoV"
      }
    },
    {
      "cell_type": "code",
      "source": [
        "np.ones((3,5))*5"
      ],
      "metadata": {
        "colab": {
          "base_uri": "https://localhost:8080/"
        },
        "id": "_sLnflftVp4E",
        "outputId": "ae7239e5-16f2-4d1d-e77e-75a933b0dd06"
      },
      "execution_count": 124,
      "outputs": [
        {
          "output_type": "execute_result",
          "data": {
            "text/plain": [
              "array([[5., 5., 5., 5., 5.],\n",
              "       [5., 5., 5., 5., 5.],\n",
              "       [5., 5., 5., 5., 5.]])"
            ]
          },
          "metadata": {},
          "execution_count": 124
        }
      ]
    },
    {
      "cell_type": "code",
      "source": [
        "np.full((3, 5), 5, dtype=int)"
      ],
      "metadata": {
        "colab": {
          "base_uri": "https://localhost:8080/"
        },
        "id": "m5vfBG7HWFrW",
        "outputId": "8035f922-6d02-4f9d-c57a-f19ce594cd86"
      },
      "execution_count": 125,
      "outputs": [
        {
          "output_type": "execute_result",
          "data": {
            "text/plain": [
              "array([[5, 5, 5, 5, 5],\n",
              "       [5, 5, 5, 5, 5],\n",
              "       [5, 5, 5, 5, 5]])"
            ]
          },
          "metadata": {},
          "execution_count": 125
        }
      ]
    },
    {
      "cell_type": "markdown",
      "source": [
        "6. Create a numpy array with random integers in the range 0-100, and the sample size\n",
        "should be 25.\n"
      ],
      "metadata": {
        "id": "w2vbyQYiWVa_"
      }
    },
    {
      "cell_type": "code",
      "source": [
        "np.random.randint(0,100,25)"
      ],
      "metadata": {
        "colab": {
          "base_uri": "https://localhost:8080/"
        },
        "id": "gDKQkSiHWMeQ",
        "outputId": "7fab360a-d8b5-496f-b7e7-2abd7d2b5b7a"
      },
      "execution_count": 126,
      "outputs": [
        {
          "output_type": "execute_result",
          "data": {
            "text/plain": [
              "array([43, 76, 22, 96, 20, 63, 59, 42, 78, 90, 84, 37, 84, 68, 60, 82, 69,\n",
              "       44, 35, 83, 19, 28,  7, 45, 99])"
            ]
          },
          "metadata": {},
          "execution_count": 126
        }
      ]
    },
    {
      "cell_type": "code",
      "source": [
        "print(np.random.randint(low=0, high=100, size=25))"
      ],
      "metadata": {
        "colab": {
          "base_uri": "https://localhost:8080/"
        },
        "id": "w1biqVKvWg-y",
        "outputId": "fb08af18-b089-4d27-fefe-4476ec2caca5"
      },
      "execution_count": 127,
      "outputs": [
        {
          "output_type": "stream",
          "name": "stdout",
          "text": [
            "[16  7 31 74 58 24 71 62 35 99 83 25 52 51 82 74 58 10 93 62 56 98 89 70\n",
            "  9]\n"
          ]
        }
      ]
    },
    {
      "cell_type": "code",
      "source": [
        "np.random.randint(100,size=25)"
      ],
      "metadata": {
        "colab": {
          "base_uri": "https://localhost:8080/"
        },
        "id": "wf0rEPccWkwW",
        "outputId": "d3a24063-5be3-4f81-c543-65a48f9cd55e"
      },
      "execution_count": 128,
      "outputs": [
        {
          "output_type": "execute_result",
          "data": {
            "text/plain": [
              "array([17, 51,  3, 89, 42, 35, 38, 64, 10, 99, 65, 57, 59, 60, 96, 79,  2,\n",
              "       22, 94, 70, 99, 60, 75, 40, 32])"
            ]
          },
          "metadata": {},
          "execution_count": 128
        }
      ]
    },
    {
      "cell_type": "markdown",
      "source": [
        "7. Create a numpy array with a shape 3x3 that has all elements as 1.\n"
      ],
      "metadata": {
        "id": "QOAxzrY-W2t4"
      }
    },
    {
      "cell_type": "code",
      "source": [
        "print(np.ones((3, 3), dtype=int))"
      ],
      "metadata": {
        "colab": {
          "base_uri": "https://localhost:8080/"
        },
        "id": "eCFiwJOrWtOW",
        "outputId": "bea3c30b-c7a1-4c2c-cf55-374636c417f0"
      },
      "execution_count": 129,
      "outputs": [
        {
          "output_type": "stream",
          "name": "stdout",
          "text": [
            "[[1 1 1]\n",
            " [1 1 1]\n",
            " [1 1 1]]\n"
          ]
        }
      ]
    },
    {
      "cell_type": "code",
      "source": [
        "np.full((3,3),1)"
      ],
      "metadata": {
        "colab": {
          "base_uri": "https://localhost:8080/"
        },
        "id": "j02eztdFXAjF",
        "outputId": "a1a43597-938e-40f5-9e55-8d27952e40b2"
      },
      "execution_count": 130,
      "outputs": [
        {
          "output_type": "execute_result",
          "data": {
            "text/plain": [
              "array([[1, 1, 1],\n",
              "       [1, 1, 1],\n",
              "       [1, 1, 1]])"
            ]
          },
          "metadata": {},
          "execution_count": 130
        }
      ]
    },
    {
      "cell_type": "markdown",
      "source": [
        "8. Create a numpy array in the shape 2x3 with random integers in the range 0-100.\n",
        "Reshape the array in the shape 3x2 and print the updated shape of the resultant array.\n"
      ],
      "metadata": {
        "id": "9UnbJPwKXemZ"
      }
    },
    {
      "cell_type": "code",
      "source": [
        "a=np.random.randint(100,size=(2,3))\n",
        "a\n"
      ],
      "metadata": {
        "colab": {
          "base_uri": "https://localhost:8080/"
        },
        "id": "7FZczFErXGOf",
        "outputId": "b946b180-4ca9-466e-e6d3-ed0f4c0d49d3"
      },
      "execution_count": 131,
      "outputs": [
        {
          "output_type": "execute_result",
          "data": {
            "text/plain": [
              "array([[91, 80,  2],\n",
              "       [77, 37, 22]])"
            ]
          },
          "metadata": {},
          "execution_count": 131
        }
      ]
    },
    {
      "cell_type": "code",
      "source": [
        "a.reshape(3,2)"
      ],
      "metadata": {
        "colab": {
          "base_uri": "https://localhost:8080/"
        },
        "id": "BI6mNU2bX-SO",
        "outputId": "7797dad1-c744-4a67-9906-b00109c91386"
      },
      "execution_count": 132,
      "outputs": [
        {
          "output_type": "execute_result",
          "data": {
            "text/plain": [
              "array([[91, 80],\n",
              "       [ 2, 77],\n",
              "       [37, 22]])"
            ]
          },
          "metadata": {},
          "execution_count": 132
        }
      ]
    },
    {
      "cell_type": "markdown",
      "source": [
        "9. Create a random array, with the range 0-1000, with a size 50 and step 2. Perform the\n",
        "following operations on the same.\n",
        "- Print the first ten elements of the array.\n",
        "- Print the last ten elements of the array\n",
        "- Print the elements from the indexes 10-25\n",
        "- Print the element at the index 22\n",
        "- Print the array using negative indexing.\n",
        "- Print the last ten elements of the array, using negative indexing.\n"
      ],
      "metadata": {
        "id": "CmbPZfg-YLwP"
      }
    },
    {
      "cell_type": "code",
      "source": [
        "x=np.random.randint(1000,size=50)"
      ],
      "metadata": {
        "id": "EnnTHjukYB6T"
      },
      "execution_count": 133,
      "outputs": []
    },
    {
      "cell_type": "code",
      "source": [
        "x"
      ],
      "metadata": {
        "colab": {
          "base_uri": "https://localhost:8080/"
        },
        "id": "mWtiX6xGYit4",
        "outputId": "efedbb46-98f9-4783-c650-da1bb1b3b1e4"
      },
      "execution_count": 134,
      "outputs": [
        {
          "output_type": "execute_result",
          "data": {
            "text/plain": [
              "array([550, 762, 612, 789, 408, 632, 610, 653, 466, 939,  56, 864, 531,\n",
              "       125, 255, 428, 808, 219,  27, 114, 681, 620, 886, 473,  57, 621,\n",
              "       672, 590, 603, 512, 200, 460,  59, 231, 436, 190, 452,   4, 532,\n",
              "       209, 482, 391, 598, 546, 542, 596, 262, 992, 117, 754])"
            ]
          },
          "metadata": {},
          "execution_count": 134
        }
      ]
    },
    {
      "cell_type": "code",
      "source": [
        "x[:5]"
      ],
      "metadata": {
        "colab": {
          "base_uri": "https://localhost:8080/"
        },
        "id": "ROAIs06GYjfG",
        "outputId": "3b85376b-92c6-4edb-b147-e83e8c44a7a8"
      },
      "execution_count": 135,
      "outputs": [
        {
          "output_type": "execute_result",
          "data": {
            "text/plain": [
              "array([550, 762, 612, 789, 408])"
            ]
          },
          "metadata": {},
          "execution_count": 135
        }
      ]
    },
    {
      "cell_type": "code",
      "source": [
        "x[45:51]"
      ],
      "metadata": {
        "colab": {
          "base_uri": "https://localhost:8080/"
        },
        "id": "DLDONMMbYnSt",
        "outputId": "094031fa-f6ba-44d7-9c82-934c47220e7e"
      },
      "execution_count": 136,
      "outputs": [
        {
          "output_type": "execute_result",
          "data": {
            "text/plain": [
              "array([596, 262, 992, 117, 754])"
            ]
          },
          "metadata": {},
          "execution_count": 136
        }
      ]
    },
    {
      "cell_type": "code",
      "source": [
        "x[10:26]"
      ],
      "metadata": {
        "colab": {
          "base_uri": "https://localhost:8080/"
        },
        "id": "ad_V0VPtYv00",
        "outputId": "b82d96f8-6fb3-49bf-810f-39c5c5a736d6"
      },
      "execution_count": 137,
      "outputs": [
        {
          "output_type": "execute_result",
          "data": {
            "text/plain": [
              "array([ 56, 864, 531, 125, 255, 428, 808, 219,  27, 114, 681, 620, 886,\n",
              "       473,  57, 621])"
            ]
          },
          "metadata": {},
          "execution_count": 137
        }
      ]
    },
    {
      "cell_type": "code",
      "source": [
        "x[22]"
      ],
      "metadata": {
        "colab": {
          "base_uri": "https://localhost:8080/"
        },
        "id": "Vj1cO_9mYzqG",
        "outputId": "b0cc20e3-e7c6-4453-d11e-0070a42c02c0"
      },
      "execution_count": 138,
      "outputs": [
        {
          "output_type": "execute_result",
          "data": {
            "text/plain": [
              "886"
            ]
          },
          "metadata": {},
          "execution_count": 138
        }
      ]
    },
    {
      "cell_type": "code",
      "source": [
        "x[-50:]"
      ],
      "metadata": {
        "colab": {
          "base_uri": "https://localhost:8080/"
        },
        "id": "LVLv9AwHY3gN",
        "outputId": "ebd65783-9577-4e6a-9796-610a18f82a3d"
      },
      "execution_count": 139,
      "outputs": [
        {
          "output_type": "execute_result",
          "data": {
            "text/plain": [
              "array([550, 762, 612, 789, 408, 632, 610, 653, 466, 939,  56, 864, 531,\n",
              "       125, 255, 428, 808, 219,  27, 114, 681, 620, 886, 473,  57, 621,\n",
              "       672, 590, 603, 512, 200, 460,  59, 231, 436, 190, 452,   4, 532,\n",
              "       209, 482, 391, 598, 546, 542, 596, 262, 992, 117, 754])"
            ]
          },
          "metadata": {},
          "execution_count": 139
        }
      ]
    },
    {
      "cell_type": "code",
      "source": [
        "x[40:51]"
      ],
      "metadata": {
        "colab": {
          "base_uri": "https://localhost:8080/"
        },
        "id": "K9OLJtxfafUD",
        "outputId": "32c9b6d5-e385-47ff-c92e-df138a701f0a"
      },
      "execution_count": 140,
      "outputs": [
        {
          "output_type": "execute_result",
          "data": {
            "text/plain": [
              "array([482, 391, 598, 546, 542, 596, 262, 992, 117, 754])"
            ]
          },
          "metadata": {},
          "execution_count": 140
        }
      ]
    },
    {
      "cell_type": "code",
      "source": [
        "x[-10:]"
      ],
      "metadata": {
        "colab": {
          "base_uri": "https://localhost:8080/"
        },
        "id": "pt6y8gUDY-DO",
        "outputId": "1a6fe26a-65b2-4c51-ded2-fea4e94bde4e"
      },
      "execution_count": 141,
      "outputs": [
        {
          "output_type": "execute_result",
          "data": {
            "text/plain": [
              "array([482, 391, 598, 546, 542, 596, 262, 992, 117, 754])"
            ]
          },
          "metadata": {},
          "execution_count": 141
        }
      ]
    },
    {
      "cell_type": "markdown",
      "source": [
        "10. Given a numpy array that has values = [1,2,3,4,5]. Perform the following operations.\n",
        "-  Insert the element 6 at the end of the array.\n",
        "-  Insert the element 10 at the beginning of the array.\n",
        "-  Insert the element 30, before 4.\n",
        "-  Update the element 5 as 50.\n",
        "-  Delete the element 50 in the updated array.\n",
        "-  Create a function to search for the element 30.\n",
        "-  Sort the array in ascending order"
      ],
      "metadata": {
        "id": "e_aycVDcaMAL"
      }
    },
    {
      "cell_type": "code",
      "source": [
        "a=np.array([1,2,3,4,5])"
      ],
      "metadata": {
        "id": "UvHbx5j_ZHtl"
      },
      "execution_count": 159,
      "outputs": []
    },
    {
      "cell_type": "code",
      "source": [
        "a=np.append(a,6)\n",
        "a"
      ],
      "metadata": {
        "colab": {
          "base_uri": "https://localhost:8080/"
        },
        "id": "r7fZFtI1azH4",
        "outputId": "95ef09eb-0502-465e-954d-b152fffb0928"
      },
      "execution_count": 160,
      "outputs": [
        {
          "output_type": "execute_result",
          "data": {
            "text/plain": [
              "array([1, 2, 3, 4, 5, 6])"
            ]
          },
          "metadata": {},
          "execution_count": 160
        }
      ]
    },
    {
      "cell_type": "markdown",
      "source": [
        "Insert the element 10 at the beginning of the array."
      ],
      "metadata": {
        "id": "8PDjDpfba9Ev"
      }
    },
    {
      "cell_type": "code",
      "source": [
        "a=np.insert(a,0,10)\n",
        "a"
      ],
      "metadata": {
        "colab": {
          "base_uri": "https://localhost:8080/"
        },
        "id": "t4TBRYgyazYD",
        "outputId": "3b50c43c-9372-4ae1-8a57-7fa41d9d2756"
      },
      "execution_count": 161,
      "outputs": [
        {
          "output_type": "execute_result",
          "data": {
            "text/plain": [
              "array([10,  1,  2,  3,  4,  5,  6])"
            ]
          },
          "metadata": {},
          "execution_count": 161
        }
      ]
    },
    {
      "cell_type": "code",
      "source": [
        "#a[0] = 10\n",
        "#a"
      ],
      "metadata": {
        "id": "ndNDTEUMbKUT"
      },
      "execution_count": 162,
      "outputs": []
    },
    {
      "cell_type": "markdown",
      "source": [
        "Insert the element 30, before 4."
      ],
      "metadata": {
        "id": "luDhxuc_b6CC"
      }
    },
    {
      "cell_type": "code",
      "source": [
        "np.insert(a,np.where(a==4)[0],30)\n"
      ],
      "metadata": {
        "colab": {
          "base_uri": "https://localhost:8080/"
        },
        "id": "mMOBfBbmbQxx",
        "outputId": "89856d8a-1342-4781-bd1c-817961477fdc"
      },
      "execution_count": 163,
      "outputs": [
        {
          "output_type": "execute_result",
          "data": {
            "text/plain": [
              "array([10,  1,  2,  3, 30,  4,  5,  6])"
            ]
          },
          "metadata": {},
          "execution_count": 163
        }
      ]
    },
    {
      "cell_type": "code",
      "source": [
        "a=np.insert(a,4,30)\n",
        "a"
      ],
      "metadata": {
        "colab": {
          "base_uri": "https://localhost:8080/"
        },
        "id": "FM7d5EKib_vn",
        "outputId": "74e7e1a4-b330-422c-ea68-173d86ff21e6"
      },
      "execution_count": 164,
      "outputs": [
        {
          "output_type": "execute_result",
          "data": {
            "text/plain": [
              "array([10,  1,  2,  3, 30,  4,  5,  6])"
            ]
          },
          "metadata": {},
          "execution_count": 164
        }
      ]
    },
    {
      "cell_type": "markdown",
      "source": [
        "Update the element 5 as 50."
      ],
      "metadata": {
        "id": "SuSWBDD4cr2N"
      }
    },
    {
      "cell_type": "code",
      "source": [
        "a[6]=50\n",
        "a"
      ],
      "metadata": {
        "colab": {
          "base_uri": "https://localhost:8080/"
        },
        "id": "QYFq-p36cOFI",
        "outputId": "98f60eff-f2b4-4601-bf10-0bf2473ea494"
      },
      "execution_count": 165,
      "outputs": [
        {
          "output_type": "execute_result",
          "data": {
            "text/plain": [
              "array([10,  1,  2,  3, 30,  4, 50,  6])"
            ]
          },
          "metadata": {},
          "execution_count": 165
        }
      ]
    },
    {
      "cell_type": "markdown",
      "source": [
        "- Delete the element 50 in the updated array.\n",
        "- Create a function to search for the element 30."
      ],
      "metadata": {
        "id": "p-_IU64edKJE"
      }
    },
    {
      "cell_type": "code",
      "source": [
        "a=np.delete(a,6)\n",
        "a"
      ],
      "metadata": {
        "colab": {
          "base_uri": "https://localhost:8080/"
        },
        "id": "SFob-ueDdC_7",
        "outputId": "e8d01527-15b3-40d2-deb0-fdde250c5239"
      },
      "execution_count": 166,
      "outputs": [
        {
          "output_type": "execute_result",
          "data": {
            "text/plain": [
              "array([10,  1,  2,  3, 30,  4,  6])"
            ]
          },
          "metadata": {},
          "execution_count": 166
        }
      ]
    },
    {
      "cell_type": "code",
      "source": [
        "def abc(x,i):\n",
        "    if i in x:\n",
        "        print('30 found')\n",
        "    else:\n",
        "        print('30 not found')\n",
        "abc(a,30)"
      ],
      "metadata": {
        "colab": {
          "base_uri": "https://localhost:8080/"
        },
        "id": "NHBP4n4ZdUh-",
        "outputId": "caadd03b-b50b-454c-8806-dd63964c3aff"
      },
      "execution_count": 169,
      "outputs": [
        {
          "output_type": "stream",
          "name": "stdout",
          "text": [
            "30 found\n"
          ]
        }
      ]
    },
    {
      "cell_type": "markdown",
      "source": [
        "Sort the array in ascending order"
      ],
      "metadata": {
        "id": "RcDNkXpxeFvR"
      }
    },
    {
      "cell_type": "code",
      "source": [
        "a.sort()"
      ],
      "metadata": {
        "id": "HS6O8Y1ydav4"
      },
      "execution_count": 170,
      "outputs": []
    },
    {
      "cell_type": "code",
      "source": [
        "a"
      ],
      "metadata": {
        "colab": {
          "base_uri": "https://localhost:8080/"
        },
        "id": "FZd8F3KYeJQV",
        "outputId": "48df0335-fa0c-46d0-da42-8013320e9478"
      },
      "execution_count": 171,
      "outputs": [
        {
          "output_type": "execute_result",
          "data": {
            "text/plain": [
              "array([ 1,  2,  3,  4,  6, 10, 30])"
            ]
          },
          "metadata": {},
          "execution_count": 171
        }
      ]
    },
    {
      "cell_type": "markdown",
      "source": [
        "## Hands on -2"
      ],
      "metadata": {
        "id": "BdfEiputi3nN"
      }
    },
    {
      "cell_type": "markdown",
      "source": [
        "Given two numpy arrays A and B that have values [1,2,3,4] and [5,6,7,8] respectively.\n",
        "Perform the following operations.\n",
        "-  Add the two arrays\n",
        "-  Subtract the two arrays\n",
        "-  Multiply the two arrays:\n",
        "  -  With 5\n",
        "  -  With each other.\n",
        "-  Divide the two arrays:\n",
        "  -  By 2\n",
        "  -  Divide A with B\n",
        "  -  Divide B with A"
      ],
      "metadata": {
        "id": "ByKG6VjOi6QP"
      }
    },
    {
      "cell_type": "code",
      "source": [
        "a=np.array([1,2,3,4])\n",
        "b=np.array([5,6,7,8])"
      ],
      "metadata": {
        "id": "e0DFtSCzeKIF"
      },
      "execution_count": 172,
      "outputs": []
    },
    {
      "cell_type": "code",
      "source": [
        "np.sum((a,b),axis=0)"
      ],
      "metadata": {
        "colab": {
          "base_uri": "https://localhost:8080/"
        },
        "id": "5JDQeyL3jKPs",
        "outputId": "a1bf5eae-f704-4997-91d6-f413cc38420c"
      },
      "execution_count": 175,
      "outputs": [
        {
          "output_type": "execute_result",
          "data": {
            "text/plain": [
              "array([ 6,  8, 10, 12])"
            ]
          },
          "metadata": {},
          "execution_count": 175
        }
      ]
    },
    {
      "cell_type": "code",
      "source": [
        "np.sum((a,b))"
      ],
      "metadata": {
        "colab": {
          "base_uri": "https://localhost:8080/"
        },
        "id": "KHebUZHgjOuW",
        "outputId": "9642b67d-b247-4b2c-cce4-50d2b766863f"
      },
      "execution_count": 176,
      "outputs": [
        {
          "output_type": "execute_result",
          "data": {
            "text/plain": [
              "36"
            ]
          },
          "metadata": {},
          "execution_count": 176
        }
      ]
    },
    {
      "cell_type": "code",
      "source": [
        "np.subtract(a,b)"
      ],
      "metadata": {
        "colab": {
          "base_uri": "https://localhost:8080/"
        },
        "id": "m6KaXl_ejW1n",
        "outputId": "971caadb-1b7f-4d8a-8a98-87c310a0c001"
      },
      "execution_count": 177,
      "outputs": [
        {
          "output_type": "execute_result",
          "data": {
            "text/plain": [
              "array([-4, -4, -4, -4])"
            ]
          },
          "metadata": {},
          "execution_count": 177
        }
      ]
    },
    {
      "cell_type": "markdown",
      "source": [
        "Multiply the two arrays:\n",
        "\n",
        "\n",
        "With 5,\n",
        "With each other."
      ],
      "metadata": {
        "id": "dIjIZZxIjx8l"
      }
    },
    {
      "cell_type": "code",
      "source": [
        "np.multiply(a,b*5)"
      ],
      "metadata": {
        "colab": {
          "base_uri": "https://localhost:8080/"
        },
        "id": "GZziWJTOjvMd",
        "outputId": "c33dfbc9-a9fb-435b-a373-e01a845e981f"
      },
      "execution_count": 178,
      "outputs": [
        {
          "output_type": "execute_result",
          "data": {
            "text/plain": [
              "array([ 25,  60, 105, 160])"
            ]
          },
          "metadata": {},
          "execution_count": 178
        }
      ]
    },
    {
      "cell_type": "code",
      "source": [
        "np.multiply(a,b)"
      ],
      "metadata": {
        "colab": {
          "base_uri": "https://localhost:8080/"
        },
        "id": "3m4jJeZDj4T3",
        "outputId": "d4bc76e7-2870-40ce-87d3-3c5545d578d6"
      },
      "execution_count": 179,
      "outputs": [
        {
          "output_type": "execute_result",
          "data": {
            "text/plain": [
              "array([ 5, 12, 21, 32])"
            ]
          },
          "metadata": {},
          "execution_count": 179
        }
      ]
    },
    {
      "cell_type": "markdown",
      "source": [
        "Divide the two arrays:\n",
        "- By 2\n",
        "- Divide A with B\n",
        "- Divide B with A"
      ],
      "metadata": {
        "id": "6GmmQSI0kBGv"
      }
    },
    {
      "cell_type": "code",
      "source": [
        "np.divide(a,b/2)"
      ],
      "metadata": {
        "colab": {
          "base_uri": "https://localhost:8080/"
        },
        "id": "yccK8Oiaj8Zl",
        "outputId": "e6d93b1c-68da-4a85-85a1-c96d4aa413ab"
      },
      "execution_count": 180,
      "outputs": [
        {
          "output_type": "execute_result",
          "data": {
            "text/plain": [
              "array([0.4       , 0.66666667, 0.85714286, 1.        ])"
            ]
          },
          "metadata": {},
          "execution_count": 180
        }
      ]
    },
    {
      "cell_type": "code",
      "source": [
        "np.divide(a,b)"
      ],
      "metadata": {
        "colab": {
          "base_uri": "https://localhost:8080/"
        },
        "id": "W3sT9hAIkHin",
        "outputId": "94accbbb-78b4-4ffc-ea2c-93ffcb4c6839"
      },
      "execution_count": 181,
      "outputs": [
        {
          "output_type": "execute_result",
          "data": {
            "text/plain": [
              "array([0.2       , 0.33333333, 0.42857143, 0.5       ])"
            ]
          },
          "metadata": {},
          "execution_count": 181
        }
      ]
    },
    {
      "cell_type": "code",
      "source": [
        "np.divide(b,a)"
      ],
      "metadata": {
        "colab": {
          "base_uri": "https://localhost:8080/"
        },
        "id": "w6s0oEQHkK5u",
        "outputId": "fcb1c61f-55a6-4e32-b20b-aa197dac409e"
      },
      "execution_count": 182,
      "outputs": [
        {
          "output_type": "execute_result",
          "data": {
            "text/plain": [
              "array([5.        , 3.        , 2.33333333, 2.        ])"
            ]
          },
          "metadata": {},
          "execution_count": 182
        }
      ]
    },
    {
      "cell_type": "markdown",
      "source": [
        "For the given two arrays A and B.\n",
        "- a = np.array([[2,9],[6,13]])\n",
        "- b = np.array([[1,4],[3,11]])\n",
        "\n",
        "\n",
        "Perform the following operations,\n",
        "- Cross product of A and B.\n",
        "-  Dot product of A and B.\n",
        "-  Matrix multiplication of A and B.\n",
        "- Square root of A and B"
      ],
      "metadata": {
        "id": "R3OMVTLxkVCH"
      }
    },
    {
      "cell_type": "code",
      "source": [
        "a = np.array([[2,9],[6,13]])\n",
        "b = np.array([[1,4],[3,11]])\n",
        "np.cross(a,b)"
      ],
      "metadata": {
        "colab": {
          "base_uri": "https://localhost:8080/"
        },
        "id": "OsvLd6OZkMnh",
        "outputId": "ce9617d4-56cd-4059-8479-dada9c5c4cb1"
      },
      "execution_count": 184,
      "outputs": [
        {
          "output_type": "execute_result",
          "data": {
            "text/plain": [
              "array([-1, 27])"
            ]
          },
          "metadata": {},
          "execution_count": 184
        }
      ]
    },
    {
      "cell_type": "code",
      "source": [
        "np.dot(a,b)\n"
      ],
      "metadata": {
        "colab": {
          "base_uri": "https://localhost:8080/"
        },
        "id": "1ZxbzlKjlpjl",
        "outputId": "8495367f-14a9-4435-d644-998bdaa69ca4"
      },
      "execution_count": 185,
      "outputs": [
        {
          "output_type": "execute_result",
          "data": {
            "text/plain": [
              "array([[ 29, 107],\n",
              "       [ 45, 167]])"
            ]
          },
          "metadata": {},
          "execution_count": 185
        }
      ]
    },
    {
      "cell_type": "code",
      "source": [
        "np.multiply(a,b)\n"
      ],
      "metadata": {
        "colab": {
          "base_uri": "https://localhost:8080/"
        },
        "id": "9LW-tcBclxhn",
        "outputId": "1f046bcd-69b2-44f0-de18-36ac25ca49f4"
      },
      "execution_count": 186,
      "outputs": [
        {
          "output_type": "execute_result",
          "data": {
            "text/plain": [
              "array([[  2,  36],\n",
              "       [ 18, 143]])"
            ]
          },
          "metadata": {},
          "execution_count": 186
        }
      ]
    },
    {
      "cell_type": "code",
      "source": [
        "\n",
        "np.sqrt(b)\n"
      ],
      "metadata": {
        "colab": {
          "base_uri": "https://localhost:8080/"
        },
        "id": "3EXV9koql42F",
        "outputId": "2ef5549a-a0e7-4273-da1a-22ba0d54e1f8"
      },
      "execution_count": 188,
      "outputs": [
        {
          "output_type": "execute_result",
          "data": {
            "text/plain": [
              "array([[1.        , 2.        ],\n",
              "       [1.73205081, 3.31662479]])"
            ]
          },
          "metadata": {},
          "execution_count": 188
        }
      ]
    },
    {
      "cell_type": "code",
      "source": [
        "np.sqrt(a)"
      ],
      "metadata": {
        "colab": {
          "base_uri": "https://localhost:8080/"
        },
        "id": "rKNN8p6-l9Q6",
        "outputId": "04fef697-c482-4003-fff4-5479cc84e84d"
      },
      "execution_count": 189,
      "outputs": [
        {
          "output_type": "execute_result",
          "data": {
            "text/plain": [
              "array([[1.41421356, 3.        ],\n",
              "       [2.44948974, 3.60555128]])"
            ]
          },
          "metadata": {},
          "execution_count": 189
        }
      ]
    },
    {
      "cell_type": "code",
      "source": [
        "np.sqrt(a*b)"
      ],
      "metadata": {
        "colab": {
          "base_uri": "https://localhost:8080/"
        },
        "id": "_7TM_5dAmANz",
        "outputId": "6964e4a3-500a-485e-cb67-134b8cef15d5"
      },
      "execution_count": 190,
      "outputs": [
        {
          "output_type": "execute_result",
          "data": {
            "text/plain": [
              "array([[ 1.41421356,  6.        ],\n",
              "       [ 4.24264069, 11.95826074]])"
            ]
          },
          "metadata": {},
          "execution_count": 190
        }
      ]
    },
    {
      "cell_type": "markdown",
      "source": [
        " Create a 3x3 matrix with random values, flatten the array with the reshape() method and\n",
        "print the shape of the flattened array and the resultant array.\n"
      ],
      "metadata": {
        "id": "XIx4EE2dmRNq"
      }
    },
    {
      "cell_type": "code",
      "source": [
        "arr = np.random.random((3,3))\n",
        "print(arr.shape)\n",
        "arr = arr.reshape(-1)\n",
        "print(arr.shape)"
      ],
      "metadata": {
        "colab": {
          "base_uri": "https://localhost:8080/"
        },
        "id": "J_jmjV8smGI_",
        "outputId": "c3780f02-f69c-4e48-c3bf-37f616ace7a6"
      },
      "execution_count": 191,
      "outputs": [
        {
          "output_type": "stream",
          "name": "stdout",
          "text": [
            "(3, 3)\n",
            "(9,)\n"
          ]
        }
      ]
    },
    {
      "cell_type": "code",
      "source": [
        "\n",
        "arr"
      ],
      "metadata": {
        "colab": {
          "base_uri": "https://localhost:8080/"
        },
        "id": "3A9J-qcHnLg0",
        "outputId": "5cafa423-5915-42ae-af63-dd8fb5a477cf"
      },
      "execution_count": 192,
      "outputs": [
        {
          "output_type": "execute_result",
          "data": {
            "text/plain": [
              "array([0.57863778, 0.77220699, 0.49822984, 0.61768707, 0.98507367,\n",
              "       0.28216138, 0.74558035, 0.58420275, 0.63297385])"
            ]
          },
          "metadata": {},
          "execution_count": 192
        }
      ]
    },
    {
      "cell_type": "code",
      "source": [
        "a = np.arange(1,10,1).reshape(3,3)\n",
        "b = a.reshape(1,9)\n",
        "b.shape"
      ],
      "metadata": {
        "colab": {
          "base_uri": "https://localhost:8080/"
        },
        "id": "eu3ZSTQ7nN4k",
        "outputId": "30c5f489-baca-48a1-88ae-b5fa88beb6e7"
      },
      "execution_count": 193,
      "outputs": [
        {
          "output_type": "execute_result",
          "data": {
            "text/plain": [
              "(1, 9)"
            ]
          },
          "metadata": {},
          "execution_count": 193
        }
      ]
    },
    {
      "cell_type": "code",
      "source": [
        "a"
      ],
      "metadata": {
        "colab": {
          "base_uri": "https://localhost:8080/"
        },
        "id": "tCq6n93PnUiA",
        "outputId": "6372c7f5-4eeb-46ad-d481-e37ce9c147c0"
      },
      "execution_count": 194,
      "outputs": [
        {
          "output_type": "execute_result",
          "data": {
            "text/plain": [
              "array([[1, 2, 3],\n",
              "       [4, 5, 6],\n",
              "       [7, 8, 9]])"
            ]
          },
          "metadata": {},
          "execution_count": 194
        }
      ]
    },
    {
      "cell_type": "code",
      "source": [
        "b"
      ],
      "metadata": {
        "colab": {
          "base_uri": "https://localhost:8080/"
        },
        "id": "lePeTcrUnV_0",
        "outputId": "04fa6a55-af45-4b86-9c12-4761d72ee667"
      },
      "execution_count": 195,
      "outputs": [
        {
          "output_type": "execute_result",
          "data": {
            "text/plain": [
              "array([[1, 2, 3, 4, 5, 6, 7, 8, 9]])"
            ]
          },
          "metadata": {},
          "execution_count": 195
        }
      ]
    },
    {
      "cell_type": "markdown",
      "source": [
        "4. Create an array that will have days from an entire year in the datetime format using the\n",
        "datetime64 numpy method.\n"
      ],
      "metadata": {
        "id": "H5WK2de1nb3e"
      }
    },
    {
      "cell_type": "code",
      "source": [
        "a = np.datetime64('2023-01-01')\n",
        "a\n",
        "b = np.arange(a, a + np.timedelta64(365), np.timedelta64(1, 'D'))\n",
        "b"
      ],
      "metadata": {
        "colab": {
          "base_uri": "https://localhost:8080/"
        },
        "id": "dbPSUkGhnWXM",
        "outputId": "735df31f-d89b-4ea5-bff2-fb90fee136e3"
      },
      "execution_count": 196,
      "outputs": [
        {
          "output_type": "execute_result",
          "data": {
            "text/plain": [
              "array(['2023-01-01', '2023-01-02', '2023-01-03', '2023-01-04',\n",
              "       '2023-01-05', '2023-01-06', '2023-01-07', '2023-01-08',\n",
              "       '2023-01-09', '2023-01-10', '2023-01-11', '2023-01-12',\n",
              "       '2023-01-13', '2023-01-14', '2023-01-15', '2023-01-16',\n",
              "       '2023-01-17', '2023-01-18', '2023-01-19', '2023-01-20',\n",
              "       '2023-01-21', '2023-01-22', '2023-01-23', '2023-01-24',\n",
              "       '2023-01-25', '2023-01-26', '2023-01-27', '2023-01-28',\n",
              "       '2023-01-29', '2023-01-30', '2023-01-31', '2023-02-01',\n",
              "       '2023-02-02', '2023-02-03', '2023-02-04', '2023-02-05',\n",
              "       '2023-02-06', '2023-02-07', '2023-02-08', '2023-02-09',\n",
              "       '2023-02-10', '2023-02-11', '2023-02-12', '2023-02-13',\n",
              "       '2023-02-14', '2023-02-15', '2023-02-16', '2023-02-17',\n",
              "       '2023-02-18', '2023-02-19', '2023-02-20', '2023-02-21',\n",
              "       '2023-02-22', '2023-02-23', '2023-02-24', '2023-02-25',\n",
              "       '2023-02-26', '2023-02-27', '2023-02-28', '2023-03-01',\n",
              "       '2023-03-02', '2023-03-03', '2023-03-04', '2023-03-05',\n",
              "       '2023-03-06', '2023-03-07', '2023-03-08', '2023-03-09',\n",
              "       '2023-03-10', '2023-03-11', '2023-03-12', '2023-03-13',\n",
              "       '2023-03-14', '2023-03-15', '2023-03-16', '2023-03-17',\n",
              "       '2023-03-18', '2023-03-19', '2023-03-20', '2023-03-21',\n",
              "       '2023-03-22', '2023-03-23', '2023-03-24', '2023-03-25',\n",
              "       '2023-03-26', '2023-03-27', '2023-03-28', '2023-03-29',\n",
              "       '2023-03-30', '2023-03-31', '2023-04-01', '2023-04-02',\n",
              "       '2023-04-03', '2023-04-04', '2023-04-05', '2023-04-06',\n",
              "       '2023-04-07', '2023-04-08', '2023-04-09', '2023-04-10',\n",
              "       '2023-04-11', '2023-04-12', '2023-04-13', '2023-04-14',\n",
              "       '2023-04-15', '2023-04-16', '2023-04-17', '2023-04-18',\n",
              "       '2023-04-19', '2023-04-20', '2023-04-21', '2023-04-22',\n",
              "       '2023-04-23', '2023-04-24', '2023-04-25', '2023-04-26',\n",
              "       '2023-04-27', '2023-04-28', '2023-04-29', '2023-04-30',\n",
              "       '2023-05-01', '2023-05-02', '2023-05-03', '2023-05-04',\n",
              "       '2023-05-05', '2023-05-06', '2023-05-07', '2023-05-08',\n",
              "       '2023-05-09', '2023-05-10', '2023-05-11', '2023-05-12',\n",
              "       '2023-05-13', '2023-05-14', '2023-05-15', '2023-05-16',\n",
              "       '2023-05-17', '2023-05-18', '2023-05-19', '2023-05-20',\n",
              "       '2023-05-21', '2023-05-22', '2023-05-23', '2023-05-24',\n",
              "       '2023-05-25', '2023-05-26', '2023-05-27', '2023-05-28',\n",
              "       '2023-05-29', '2023-05-30', '2023-05-31', '2023-06-01',\n",
              "       '2023-06-02', '2023-06-03', '2023-06-04', '2023-06-05',\n",
              "       '2023-06-06', '2023-06-07', '2023-06-08', '2023-06-09',\n",
              "       '2023-06-10', '2023-06-11', '2023-06-12', '2023-06-13',\n",
              "       '2023-06-14', '2023-06-15', '2023-06-16', '2023-06-17',\n",
              "       '2023-06-18', '2023-06-19', '2023-06-20', '2023-06-21',\n",
              "       '2023-06-22', '2023-06-23', '2023-06-24', '2023-06-25',\n",
              "       '2023-06-26', '2023-06-27', '2023-06-28', '2023-06-29',\n",
              "       '2023-06-30', '2023-07-01', '2023-07-02', '2023-07-03',\n",
              "       '2023-07-04', '2023-07-05', '2023-07-06', '2023-07-07',\n",
              "       '2023-07-08', '2023-07-09', '2023-07-10', '2023-07-11',\n",
              "       '2023-07-12', '2023-07-13', '2023-07-14', '2023-07-15',\n",
              "       '2023-07-16', '2023-07-17', '2023-07-18', '2023-07-19',\n",
              "       '2023-07-20', '2023-07-21', '2023-07-22', '2023-07-23',\n",
              "       '2023-07-24', '2023-07-25', '2023-07-26', '2023-07-27',\n",
              "       '2023-07-28', '2023-07-29', '2023-07-30', '2023-07-31',\n",
              "       '2023-08-01', '2023-08-02', '2023-08-03', '2023-08-04',\n",
              "       '2023-08-05', '2023-08-06', '2023-08-07', '2023-08-08',\n",
              "       '2023-08-09', '2023-08-10', '2023-08-11', '2023-08-12',\n",
              "       '2023-08-13', '2023-08-14', '2023-08-15', '2023-08-16',\n",
              "       '2023-08-17', '2023-08-18', '2023-08-19', '2023-08-20',\n",
              "       '2023-08-21', '2023-08-22', '2023-08-23', '2023-08-24',\n",
              "       '2023-08-25', '2023-08-26', '2023-08-27', '2023-08-28',\n",
              "       '2023-08-29', '2023-08-30', '2023-08-31', '2023-09-01',\n",
              "       '2023-09-02', '2023-09-03', '2023-09-04', '2023-09-05',\n",
              "       '2023-09-06', '2023-09-07', '2023-09-08', '2023-09-09',\n",
              "       '2023-09-10', '2023-09-11', '2023-09-12', '2023-09-13',\n",
              "       '2023-09-14', '2023-09-15', '2023-09-16', '2023-09-17',\n",
              "       '2023-09-18', '2023-09-19', '2023-09-20', '2023-09-21',\n",
              "       '2023-09-22', '2023-09-23', '2023-09-24', '2023-09-25',\n",
              "       '2023-09-26', '2023-09-27', '2023-09-28', '2023-09-29',\n",
              "       '2023-09-30', '2023-10-01', '2023-10-02', '2023-10-03',\n",
              "       '2023-10-04', '2023-10-05', '2023-10-06', '2023-10-07',\n",
              "       '2023-10-08', '2023-10-09', '2023-10-10', '2023-10-11',\n",
              "       '2023-10-12', '2023-10-13', '2023-10-14', '2023-10-15',\n",
              "       '2023-10-16', '2023-10-17', '2023-10-18', '2023-10-19',\n",
              "       '2023-10-20', '2023-10-21', '2023-10-22', '2023-10-23',\n",
              "       '2023-10-24', '2023-10-25', '2023-10-26', '2023-10-27',\n",
              "       '2023-10-28', '2023-10-29', '2023-10-30', '2023-10-31',\n",
              "       '2023-11-01', '2023-11-02', '2023-11-03', '2023-11-04',\n",
              "       '2023-11-05', '2023-11-06', '2023-11-07', '2023-11-08',\n",
              "       '2023-11-09', '2023-11-10', '2023-11-11', '2023-11-12',\n",
              "       '2023-11-13', '2023-11-14', '2023-11-15', '2023-11-16',\n",
              "       '2023-11-17', '2023-11-18', '2023-11-19', '2023-11-20',\n",
              "       '2023-11-21', '2023-11-22', '2023-11-23', '2023-11-24',\n",
              "       '2023-11-25', '2023-11-26', '2023-11-27', '2023-11-28',\n",
              "       '2023-11-29', '2023-11-30', '2023-12-01', '2023-12-02',\n",
              "       '2023-12-03', '2023-12-04', '2023-12-05', '2023-12-06',\n",
              "       '2023-12-07', '2023-12-08', '2023-12-09', '2023-12-10',\n",
              "       '2023-12-11', '2023-12-12', '2023-12-13', '2023-12-14',\n",
              "       '2023-12-15', '2023-12-16', '2023-12-17', '2023-12-18',\n",
              "       '2023-12-19', '2023-12-20', '2023-12-21', '2023-12-22',\n",
              "       '2023-12-23', '2023-12-24', '2023-12-25', '2023-12-26',\n",
              "       '2023-12-27', '2023-12-28', '2023-12-29', '2023-12-30',\n",
              "       '2023-12-31'], dtype='datetime64[D]')"
            ]
          },
          "metadata": {},
          "execution_count": 196
        }
      ]
    },
    {
      "cell_type": "code",
      "source": [
        "dates = np.arange('2023-01','2024-01',dtype='datetime64[D]')"
      ],
      "metadata": {
        "id": "1Q_cdUPPodB7"
      },
      "execution_count": 197,
      "outputs": []
    },
    {
      "cell_type": "code",
      "source": [
        "dates"
      ],
      "metadata": {
        "colab": {
          "base_uri": "https://localhost:8080/"
        },
        "id": "aSC4aPg8ogi2",
        "outputId": "a93ddf0b-d56b-4cf1-9f39-0b673e83a5ff"
      },
      "execution_count": 198,
      "outputs": [
        {
          "output_type": "execute_result",
          "data": {
            "text/plain": [
              "array(['2023-01-01', '2023-01-02', '2023-01-03', '2023-01-04',\n",
              "       '2023-01-05', '2023-01-06', '2023-01-07', '2023-01-08',\n",
              "       '2023-01-09', '2023-01-10', '2023-01-11', '2023-01-12',\n",
              "       '2023-01-13', '2023-01-14', '2023-01-15', '2023-01-16',\n",
              "       '2023-01-17', '2023-01-18', '2023-01-19', '2023-01-20',\n",
              "       '2023-01-21', '2023-01-22', '2023-01-23', '2023-01-24',\n",
              "       '2023-01-25', '2023-01-26', '2023-01-27', '2023-01-28',\n",
              "       '2023-01-29', '2023-01-30', '2023-01-31', '2023-02-01',\n",
              "       '2023-02-02', '2023-02-03', '2023-02-04', '2023-02-05',\n",
              "       '2023-02-06', '2023-02-07', '2023-02-08', '2023-02-09',\n",
              "       '2023-02-10', '2023-02-11', '2023-02-12', '2023-02-13',\n",
              "       '2023-02-14', '2023-02-15', '2023-02-16', '2023-02-17',\n",
              "       '2023-02-18', '2023-02-19', '2023-02-20', '2023-02-21',\n",
              "       '2023-02-22', '2023-02-23', '2023-02-24', '2023-02-25',\n",
              "       '2023-02-26', '2023-02-27', '2023-02-28', '2023-03-01',\n",
              "       '2023-03-02', '2023-03-03', '2023-03-04', '2023-03-05',\n",
              "       '2023-03-06', '2023-03-07', '2023-03-08', '2023-03-09',\n",
              "       '2023-03-10', '2023-03-11', '2023-03-12', '2023-03-13',\n",
              "       '2023-03-14', '2023-03-15', '2023-03-16', '2023-03-17',\n",
              "       '2023-03-18', '2023-03-19', '2023-03-20', '2023-03-21',\n",
              "       '2023-03-22', '2023-03-23', '2023-03-24', '2023-03-25',\n",
              "       '2023-03-26', '2023-03-27', '2023-03-28', '2023-03-29',\n",
              "       '2023-03-30', '2023-03-31', '2023-04-01', '2023-04-02',\n",
              "       '2023-04-03', '2023-04-04', '2023-04-05', '2023-04-06',\n",
              "       '2023-04-07', '2023-04-08', '2023-04-09', '2023-04-10',\n",
              "       '2023-04-11', '2023-04-12', '2023-04-13', '2023-04-14',\n",
              "       '2023-04-15', '2023-04-16', '2023-04-17', '2023-04-18',\n",
              "       '2023-04-19', '2023-04-20', '2023-04-21', '2023-04-22',\n",
              "       '2023-04-23', '2023-04-24', '2023-04-25', '2023-04-26',\n",
              "       '2023-04-27', '2023-04-28', '2023-04-29', '2023-04-30',\n",
              "       '2023-05-01', '2023-05-02', '2023-05-03', '2023-05-04',\n",
              "       '2023-05-05', '2023-05-06', '2023-05-07', '2023-05-08',\n",
              "       '2023-05-09', '2023-05-10', '2023-05-11', '2023-05-12',\n",
              "       '2023-05-13', '2023-05-14', '2023-05-15', '2023-05-16',\n",
              "       '2023-05-17', '2023-05-18', '2023-05-19', '2023-05-20',\n",
              "       '2023-05-21', '2023-05-22', '2023-05-23', '2023-05-24',\n",
              "       '2023-05-25', '2023-05-26', '2023-05-27', '2023-05-28',\n",
              "       '2023-05-29', '2023-05-30', '2023-05-31', '2023-06-01',\n",
              "       '2023-06-02', '2023-06-03', '2023-06-04', '2023-06-05',\n",
              "       '2023-06-06', '2023-06-07', '2023-06-08', '2023-06-09',\n",
              "       '2023-06-10', '2023-06-11', '2023-06-12', '2023-06-13',\n",
              "       '2023-06-14', '2023-06-15', '2023-06-16', '2023-06-17',\n",
              "       '2023-06-18', '2023-06-19', '2023-06-20', '2023-06-21',\n",
              "       '2023-06-22', '2023-06-23', '2023-06-24', '2023-06-25',\n",
              "       '2023-06-26', '2023-06-27', '2023-06-28', '2023-06-29',\n",
              "       '2023-06-30', '2023-07-01', '2023-07-02', '2023-07-03',\n",
              "       '2023-07-04', '2023-07-05', '2023-07-06', '2023-07-07',\n",
              "       '2023-07-08', '2023-07-09', '2023-07-10', '2023-07-11',\n",
              "       '2023-07-12', '2023-07-13', '2023-07-14', '2023-07-15',\n",
              "       '2023-07-16', '2023-07-17', '2023-07-18', '2023-07-19',\n",
              "       '2023-07-20', '2023-07-21', '2023-07-22', '2023-07-23',\n",
              "       '2023-07-24', '2023-07-25', '2023-07-26', '2023-07-27',\n",
              "       '2023-07-28', '2023-07-29', '2023-07-30', '2023-07-31',\n",
              "       '2023-08-01', '2023-08-02', '2023-08-03', '2023-08-04',\n",
              "       '2023-08-05', '2023-08-06', '2023-08-07', '2023-08-08',\n",
              "       '2023-08-09', '2023-08-10', '2023-08-11', '2023-08-12',\n",
              "       '2023-08-13', '2023-08-14', '2023-08-15', '2023-08-16',\n",
              "       '2023-08-17', '2023-08-18', '2023-08-19', '2023-08-20',\n",
              "       '2023-08-21', '2023-08-22', '2023-08-23', '2023-08-24',\n",
              "       '2023-08-25', '2023-08-26', '2023-08-27', '2023-08-28',\n",
              "       '2023-08-29', '2023-08-30', '2023-08-31', '2023-09-01',\n",
              "       '2023-09-02', '2023-09-03', '2023-09-04', '2023-09-05',\n",
              "       '2023-09-06', '2023-09-07', '2023-09-08', '2023-09-09',\n",
              "       '2023-09-10', '2023-09-11', '2023-09-12', '2023-09-13',\n",
              "       '2023-09-14', '2023-09-15', '2023-09-16', '2023-09-17',\n",
              "       '2023-09-18', '2023-09-19', '2023-09-20', '2023-09-21',\n",
              "       '2023-09-22', '2023-09-23', '2023-09-24', '2023-09-25',\n",
              "       '2023-09-26', '2023-09-27', '2023-09-28', '2023-09-29',\n",
              "       '2023-09-30', '2023-10-01', '2023-10-02', '2023-10-03',\n",
              "       '2023-10-04', '2023-10-05', '2023-10-06', '2023-10-07',\n",
              "       '2023-10-08', '2023-10-09', '2023-10-10', '2023-10-11',\n",
              "       '2023-10-12', '2023-10-13', '2023-10-14', '2023-10-15',\n",
              "       '2023-10-16', '2023-10-17', '2023-10-18', '2023-10-19',\n",
              "       '2023-10-20', '2023-10-21', '2023-10-22', '2023-10-23',\n",
              "       '2023-10-24', '2023-10-25', '2023-10-26', '2023-10-27',\n",
              "       '2023-10-28', '2023-10-29', '2023-10-30', '2023-10-31',\n",
              "       '2023-11-01', '2023-11-02', '2023-11-03', '2023-11-04',\n",
              "       '2023-11-05', '2023-11-06', '2023-11-07', '2023-11-08',\n",
              "       '2023-11-09', '2023-11-10', '2023-11-11', '2023-11-12',\n",
              "       '2023-11-13', '2023-11-14', '2023-11-15', '2023-11-16',\n",
              "       '2023-11-17', '2023-11-18', '2023-11-19', '2023-11-20',\n",
              "       '2023-11-21', '2023-11-22', '2023-11-23', '2023-11-24',\n",
              "       '2023-11-25', '2023-11-26', '2023-11-27', '2023-11-28',\n",
              "       '2023-11-29', '2023-11-30', '2023-12-01', '2023-12-02',\n",
              "       '2023-12-03', '2023-12-04', '2023-12-05', '2023-12-06',\n",
              "       '2023-12-07', '2023-12-08', '2023-12-09', '2023-12-10',\n",
              "       '2023-12-11', '2023-12-12', '2023-12-13', '2023-12-14',\n",
              "       '2023-12-15', '2023-12-16', '2023-12-17', '2023-12-18',\n",
              "       '2023-12-19', '2023-12-20', '2023-12-21', '2023-12-22',\n",
              "       '2023-12-23', '2023-12-24', '2023-12-25', '2023-12-26',\n",
              "       '2023-12-27', '2023-12-28', '2023-12-29', '2023-12-30',\n",
              "       '2023-12-31'], dtype='datetime64[D]')"
            ]
          },
          "metadata": {},
          "execution_count": 198
        }
      ]
    },
    {
      "cell_type": "code",
      "source": [
        "arr = np.arange(np.datetime64(\"2000-01-01\"), np.datetime64(\"2001-01-01\"), np.timedelta64(1, \"D\"))\n",
        "arr.shape\n"
      ],
      "metadata": {
        "colab": {
          "base_uri": "https://localhost:8080/"
        },
        "id": "30n5n4aXohYu",
        "outputId": "38bf3691-fecc-4fdb-d516-b5c6c2d539a8"
      },
      "execution_count": 199,
      "outputs": [
        {
          "output_type": "execute_result",
          "data": {
            "text/plain": [
              "(366,)"
            ]
          },
          "metadata": {},
          "execution_count": 199
        }
      ]
    },
    {
      "cell_type": "markdown",
      "source": [
        "5. Given two arrays A and B, perform the following operations\n",
        "A = np.array([[2,3],[6,4]])\n",
        "B = np.array([[3,6],[4,9]])\n",
        "-  Horizontal stacking\n",
        "-  Vertical Stacking\n",
        "- Row Stacking\n",
        "- Column Stacking\n",
        "- Depth Stacking\n",
        "- Append A to B\n",
        "- Concatenate A and B\n"
      ],
      "metadata": {
        "id": "9GM6pnIMo8Fu"
      }
    },
    {
      "cell_type": "code",
      "source": [
        "A = np.array([[2,3],[6,4]])\n",
        "B = np.array([[3,6],[4,9]])"
      ],
      "metadata": {
        "id": "PCe9dv2SomJN"
      },
      "execution_count": 200,
      "outputs": []
    },
    {
      "cell_type": "code",
      "source": [
        "np.hstack([A,B])\n",
        "\n"
      ],
      "metadata": {
        "colab": {
          "base_uri": "https://localhost:8080/"
        },
        "id": "ZDj2dTRAp9Y1",
        "outputId": "97a5b95a-a870-44fe-b925-5fad856e6ff2"
      },
      "execution_count": 202,
      "outputs": [
        {
          "output_type": "execute_result",
          "data": {
            "text/plain": [
              "array([[2, 3, 3, 6],\n",
              "       [6, 4, 4, 9]])"
            ]
          },
          "metadata": {},
          "execution_count": 202
        }
      ]
    },
    {
      "cell_type": "code",
      "source": [
        "np.vstack([A,B])\n"
      ],
      "metadata": {
        "colab": {
          "base_uri": "https://localhost:8080/"
        },
        "id": "l6mPbsBDqAd3",
        "outputId": "48a020ad-1582-4027-ae9d-2b6c90de10ad"
      },
      "execution_count": 203,
      "outputs": [
        {
          "output_type": "execute_result",
          "data": {
            "text/plain": [
              "array([[2, 3],\n",
              "       [6, 4],\n",
              "       [3, 6],\n",
              "       [4, 9]])"
            ]
          },
          "metadata": {},
          "execution_count": 203
        }
      ]
    },
    {
      "cell_type": "code",
      "source": [
        "np.row_stack([A,B])\n"
      ],
      "metadata": {
        "colab": {
          "base_uri": "https://localhost:8080/"
        },
        "id": "0numaCO7qGbI",
        "outputId": "e4eac8bc-38ff-47d0-f207-8945ef068473"
      },
      "execution_count": 204,
      "outputs": [
        {
          "output_type": "execute_result",
          "data": {
            "text/plain": [
              "array([[2, 3],\n",
              "       [6, 4],\n",
              "       [3, 6],\n",
              "       [4, 9]])"
            ]
          },
          "metadata": {},
          "execution_count": 204
        }
      ]
    },
    {
      "cell_type": "code",
      "source": [
        "np.column_stack([A,B])"
      ],
      "metadata": {
        "colab": {
          "base_uri": "https://localhost:8080/"
        },
        "id": "RudX6pb2qKUD",
        "outputId": "c3ac8786-057b-40d1-f404-96f3984a2b85"
      },
      "execution_count": 205,
      "outputs": [
        {
          "output_type": "execute_result",
          "data": {
            "text/plain": [
              "array([[2, 3, 3, 6],\n",
              "       [6, 4, 4, 9]])"
            ]
          },
          "metadata": {},
          "execution_count": 205
        }
      ]
    },
    {
      "cell_type": "code",
      "source": [
        "np.dstack((A,B))\n"
      ],
      "metadata": {
        "colab": {
          "base_uri": "https://localhost:8080/"
        },
        "id": "7ppuxtXIqL1O",
        "outputId": "0e414ac2-d0dd-44fe-8e4b-3c9cb468ea88"
      },
      "execution_count": 206,
      "outputs": [
        {
          "output_type": "execute_result",
          "data": {
            "text/plain": [
              "array([[[2, 3],\n",
              "        [3, 6]],\n",
              "\n",
              "       [[6, 4],\n",
              "        [4, 9]]])"
            ]
          },
          "metadata": {},
          "execution_count": 206
        }
      ]
    },
    {
      "cell_type": "code",
      "source": [
        "np.concatenate((A,B))\n"
      ],
      "metadata": {
        "colab": {
          "base_uri": "https://localhost:8080/"
        },
        "id": "fa6z0z14qP8p",
        "outputId": "acdedfdc-d1d7-454a-bec5-024431fa15ea"
      },
      "execution_count": 207,
      "outputs": [
        {
          "output_type": "execute_result",
          "data": {
            "text/plain": [
              "array([[2, 3],\n",
              "       [6, 4],\n",
              "       [3, 6],\n",
              "       [4, 9]])"
            ]
          },
          "metadata": {},
          "execution_count": 207
        }
      ]
    },
    {
      "cell_type": "code",
      "source": [
        "np.append(A,B)\n"
      ],
      "metadata": {
        "colab": {
          "base_uri": "https://localhost:8080/"
        },
        "id": "_Lbgp_uWqR6_",
        "outputId": "17336a20-eb7a-4790-acb8-0346246b90a6"
      },
      "execution_count": 208,
      "outputs": [
        {
          "output_type": "execute_result",
          "data": {
            "text/plain": [
              "array([2, 3, 6, 4, 3, 6, 4, 9])"
            ]
          },
          "metadata": {},
          "execution_count": 208
        }
      ]
    },
    {
      "cell_type": "code",
      "source": [
        "print(numpy.hstack((A,B)))\n"
      ],
      "metadata": {
        "colab": {
          "base_uri": "https://localhost:8080/"
        },
        "id": "2g0Y9-CmqVtt",
        "outputId": "d9f3b838-25e1-41c3-e75b-65d42e52cf49"
      },
      "execution_count": 211,
      "outputs": [
        {
          "output_type": "stream",
          "name": "stdout",
          "text": [
            "[[2 3 3 6]\n",
            " [6 4 4 9]]\n"
          ]
        }
      ]
    },
    {
      "cell_type": "markdown",
      "source": [
        "6. Given an array A, perform the following operations\n",
        "A = np.array([[1,2,3],[4,5,6],[7,8,9],[10,11,12],[13,14,15], [16,17,18]])\n",
        "-  Horizontal split\n",
        "-  Vertical Split\n",
        "-  Row Split\n",
        "-  Column Split"
      ],
      "metadata": {
        "id": "-wtBifJUq0Tg"
      }
    },
    {
      "cell_type": "code",
      "source": [
        "A"
      ],
      "metadata": {
        "colab": {
          "base_uri": "https://localhost:8080/"
        },
        "id": "osVfMH-ltnjY",
        "outputId": "fa90fb5d-fe05-48c9-b398-2d12308296ee"
      },
      "execution_count": 221,
      "outputs": [
        {
          "output_type": "execute_result",
          "data": {
            "text/plain": [
              "array([[ 1,  2,  3],\n",
              "       [ 4,  5,  6],\n",
              "       [ 7,  8,  9],\n",
              "       [10, 11, 12],\n",
              "       [13, 14, 15],\n",
              "       [16, 17, 18]])"
            ]
          },
          "metadata": {},
          "execution_count": 221
        }
      ]
    },
    {
      "cell_type": "code",
      "source": [
        "A = np.array([[1,2,3],[4,5,6],[7,8,9],[10,11,12],[13,14,15], [16,17,18]])\n",
        "np.hsplit(A,3)\n",
        "\n"
      ],
      "metadata": {
        "colab": {
          "base_uri": "https://localhost:8080/"
        },
        "id": "bIXDt65zqmkt",
        "outputId": "ed06868c-9eb1-4f02-a7bc-c13f37376040"
      },
      "execution_count": 220,
      "outputs": [
        {
          "output_type": "execute_result",
          "data": {
            "text/plain": [
              "[array([[ 1],\n",
              "        [ 4],\n",
              "        [ 7],\n",
              "        [10],\n",
              "        [13],\n",
              "        [16]]),\n",
              " array([[ 2],\n",
              "        [ 5],\n",
              "        [ 8],\n",
              "        [11],\n",
              "        [14],\n",
              "        [17]]),\n",
              " array([[ 3],\n",
              "        [ 6],\n",
              "        [ 9],\n",
              "        [12],\n",
              "        [15],\n",
              "        [18]])]"
            ]
          },
          "metadata": {},
          "execution_count": 220
        }
      ]
    },
    {
      "cell_type": "code",
      "source": [
        "np.vsplit(A,3)\n"
      ],
      "metadata": {
        "colab": {
          "base_uri": "https://localhost:8080/"
        },
        "id": "1MdHKfb4r7xZ",
        "outputId": "ff63af47-3475-4947-db37-fa68c8283356"
      },
      "execution_count": 214,
      "outputs": [
        {
          "output_type": "execute_result",
          "data": {
            "text/plain": [
              "[array([[1, 2, 3],\n",
              "        [4, 5, 6]]),\n",
              " array([[ 7,  8,  9],\n",
              "        [10, 11, 12]]),\n",
              " array([[13, 14, 15],\n",
              "        [16, 17, 18]])]"
            ]
          },
          "metadata": {},
          "execution_count": 214
        }
      ]
    },
    {
      "cell_type": "code",
      "source": [
        "np.split(A,3,axis=0)\n"
      ],
      "metadata": {
        "colab": {
          "base_uri": "https://localhost:8080/"
        },
        "id": "DpjRNMgJsApz",
        "outputId": "2be4ba11-72ad-4c38-ae8a-4ef4f9a5b407"
      },
      "execution_count": 223,
      "outputs": [
        {
          "output_type": "execute_result",
          "data": {
            "text/plain": [
              "[array([[1, 2, 3],\n",
              "        [4, 5, 6]]),\n",
              " array([[ 7,  8,  9],\n",
              "        [10, 11, 12]]),\n",
              " array([[13, 14, 15],\n",
              "        [16, 17, 18]])]"
            ]
          },
          "metadata": {},
          "execution_count": 223
        }
      ]
    },
    {
      "cell_type": "code",
      "source": [
        "np.split(A,3,axis=1)"
      ],
      "metadata": {
        "colab": {
          "base_uri": "https://localhost:8080/"
        },
        "id": "2qV6xYY0sCXD",
        "outputId": "74e8b6b5-2c57-4032-f08a-e540e73e3fea"
      },
      "execution_count": 216,
      "outputs": [
        {
          "output_type": "execute_result",
          "data": {
            "text/plain": [
              "[array([[ 1],\n",
              "        [ 4],\n",
              "        [ 7],\n",
              "        [10],\n",
              "        [13],\n",
              "        [16]]),\n",
              " array([[ 2],\n",
              "        [ 5],\n",
              "        [ 8],\n",
              "        [11],\n",
              "        [14],\n",
              "        [17]]),\n",
              " array([[ 3],\n",
              "        [ 6],\n",
              "        [ 9],\n",
              "        [12],\n",
              "        [15],\n",
              "        [18]])]"
            ]
          },
          "metadata": {},
          "execution_count": 216
        }
      ]
    },
    {
      "cell_type": "markdown",
      "source": [
        "For a given 3x3 matrix, perform the following operations.\n",
        "A = np.array([[1,4,7],[3,1,9],[2,8,11]])\n",
        "-  Find the rank of the matrix\n",
        "-  Find the trace of the matrix\n",
        "-  Find the inverse of the matrix\n",
        "-  Find the transpose of the matrix\n",
        "-  Find the determinant of the matrix\n",
        "-  Find the eigenvalues and eigenvectors the matrix\n"
      ],
      "metadata": {
        "id": "zRsm7ViMsU19"
      }
    },
    {
      "cell_type": "code",
      "source": [
        "A = np.array([[1,4,7],[3,1,9],[2,8,11]])"
      ],
      "metadata": {
        "id": "LYp3Pql6sEYi"
      },
      "execution_count": 224,
      "outputs": []
    },
    {
      "cell_type": "code",
      "source": [
        "np.linalg.matrix_rank(A)\n"
      ],
      "metadata": {
        "colab": {
          "base_uri": "https://localhost:8080/"
        },
        "id": "dOQPI1-OuUQ-",
        "outputId": "14417840-a34e-4f07-9574-9f6fe519bb9b"
      },
      "execution_count": 225,
      "outputs": [
        {
          "output_type": "execute_result",
          "data": {
            "text/plain": [
              "3"
            ]
          },
          "metadata": {},
          "execution_count": 225
        }
      ]
    },
    {
      "cell_type": "code",
      "source": [
        "A.trace()"
      ],
      "metadata": {
        "colab": {
          "base_uri": "https://localhost:8080/"
        },
        "id": "C-GSeHmxuZ9-",
        "outputId": "88388ed8-9bd3-4eaf-8ce9-da1f801c6c23"
      },
      "execution_count": 226,
      "outputs": [
        {
          "output_type": "execute_result",
          "data": {
            "text/plain": [
              "13"
            ]
          },
          "metadata": {},
          "execution_count": 226
        }
      ]
    },
    {
      "cell_type": "code",
      "source": [
        "np.linalg.inv(A)"
      ],
      "metadata": {
        "colab": {
          "base_uri": "https://localhost:8080/"
        },
        "id": "9hjFMcgoudb6",
        "outputId": "493e9026-bbe6-4319-9041-1127a80777f4"
      },
      "execution_count": 227,
      "outputs": [
        {
          "output_type": "execute_result",
          "data": {
            "text/plain": [
              "array([[-1.84848485,  0.36363636,  0.87878788],\n",
              "       [-0.45454545, -0.09090909,  0.36363636],\n",
              "       [ 0.66666667,  0.        , -0.33333333]])"
            ]
          },
          "metadata": {},
          "execution_count": 227
        }
      ]
    },
    {
      "cell_type": "code",
      "source": [
        "A.transpose()"
      ],
      "metadata": {
        "colab": {
          "base_uri": "https://localhost:8080/"
        },
        "id": "W5aHko-3uiGb",
        "outputId": "0a9776e1-1312-4327-cf5c-40393d3deeae"
      },
      "execution_count": 228,
      "outputs": [
        {
          "output_type": "execute_result",
          "data": {
            "text/plain": [
              "array([[ 1,  3,  2],\n",
              "       [ 4,  1,  8],\n",
              "       [ 7,  9, 11]])"
            ]
          },
          "metadata": {},
          "execution_count": 228
        }
      ]
    },
    {
      "cell_type": "code",
      "source": [
        "np.linalg.det(A)"
      ],
      "metadata": {
        "colab": {
          "base_uri": "https://localhost:8080/"
        },
        "id": "FtwPMQDnul5d",
        "outputId": "4187994a-3f0f-4060-9653-8206f456d891"
      },
      "execution_count": 229,
      "outputs": [
        {
          "output_type": "execute_result",
          "data": {
            "text/plain": [
              "33.000000000000014"
            ]
          },
          "metadata": {},
          "execution_count": 229
        }
      ]
    },
    {
      "cell_type": "code",
      "source": [
        "np.linalg.eig(A)"
      ],
      "metadata": {
        "colab": {
          "base_uri": "https://localhost:8080/"
        },
        "id": "ulYb6EuWurWp",
        "outputId": "6d3d09aa-9f20-4677-ccd2-a349b567497f"
      },
      "execution_count": 230,
      "outputs": [
        {
          "output_type": "execute_result",
          "data": {
            "text/plain": [
              "(array([17.41535066, -0.48171173, -3.93363893]),\n",
              " array([[-0.44018011, -0.89954986,  0.05526996],\n",
              "        [-0.49219026, -0.26902919, -0.88319891],\n",
              "        [-0.75099282,  0.34414147,  0.46573052]]))"
            ]
          },
          "metadata": {},
          "execution_count": 230
        }
      ]
    },
    {
      "cell_type": "markdown",
      "source": [
        "For the given two arrays A and B, find the correlation coefficients.\n",
        "- A = np.array([[11,17,42],[21,19,27]])\n",
        "- B = np.array([[12,44,39],[62,81,10]])"
      ],
      "metadata": {
        "id": "49xseJw8vLBP"
      }
    },
    {
      "cell_type": "code",
      "source": [
        "A = np.array([[11,17,42],[21,19,27]])\n",
        "B = np.array([[12,44,39],[62,81,10]])"
      ],
      "metadata": {
        "id": "2GkZ71iTuw8R"
      },
      "execution_count": 231,
      "outputs": []
    },
    {
      "cell_type": "code",
      "source": [
        "np.corrcoef(A,B)\n"
      ],
      "metadata": {
        "colab": {
          "base_uri": "https://localhost:8080/"
        },
        "id": "Xmy6KynYvvp0",
        "outputId": "3c3f627e-7224-44bc-9a0a-051602d22b5a"
      },
      "execution_count": 232,
      "outputs": [
        {
          "output_type": "execute_result",
          "data": {
            "text/plain": [
              "array([[ 1.        ,  0.9106039 ,  0.53232532, -0.90264562],\n",
              "       [ 0.9106039 ,  1.        ,  0.13487934, -0.99982205],\n",
              "       [ 0.53232532,  0.13487934,  1.        , -0.11616343],\n",
              "       [-0.90264562, -0.99982205, -0.11616343,  1.        ]])"
            ]
          },
          "metadata": {},
          "execution_count": 232
        }
      ]
    },
    {
      "cell_type": "code",
      "source": [],
      "metadata": {
        "id": "HF58l_V4vx0p"
      },
      "execution_count": null,
      "outputs": []
    }
  ]
}