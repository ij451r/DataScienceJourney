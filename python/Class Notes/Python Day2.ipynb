{
 "cells": [
  {
   "cell_type": "markdown",
   "id": "fc54cf44",
   "metadata": {},
   "source": [
    "# Data Types"
   ]
  },
  {
   "cell_type": "markdown",
   "id": "8f52de66",
   "metadata": {
    "ExecuteTime": {
     "end_time": "2023-07-15T14:59:01.102359Z",
     "start_time": "2023-07-15T14:59:01.079770Z"
    }
   },
   "source": [
    "## Numeric Data TYpes\n",
    "- Integer\n",
    "- FLoat\n",
    "- Complex"
   ]
  },
  {
   "cell_type": "code",
   "execution_count": 2,
   "id": "f887e424",
   "metadata": {
    "ExecuteTime": {
     "end_time": "2023-07-15T15:01:01.849930Z",
     "start_time": "2023-07-15T15:01:01.821999Z"
    }
   },
   "outputs": [
    {
     "data": {
      "text/plain": [
       "int"
      ]
     },
     "execution_count": 2,
     "metadata": {},
     "output_type": "execute_result"
    }
   ],
   "source": [
    "a = 10\n",
    "type(a)"
   ]
  },
  {
   "cell_type": "code",
   "execution_count": 3,
   "id": "53f0384a",
   "metadata": {
    "ExecuteTime": {
     "end_time": "2023-07-15T15:01:18.662113Z",
     "start_time": "2023-07-15T15:01:18.641807Z"
    }
   },
   "outputs": [
    {
     "data": {
      "text/plain": [
       "float"
      ]
     },
     "execution_count": 3,
     "metadata": {},
     "output_type": "execute_result"
    }
   ],
   "source": [
    "b = 10.5\n",
    "type(b)"
   ]
  },
  {
   "cell_type": "code",
   "execution_count": 4,
   "id": "36a7f588",
   "metadata": {
    "ExecuteTime": {
     "end_time": "2023-07-15T15:01:41.302793Z",
     "start_time": "2023-07-15T15:01:41.283098Z"
    }
   },
   "outputs": [
    {
     "data": {
      "text/plain": [
       "complex"
      ]
     },
     "execution_count": 4,
     "metadata": {},
     "output_type": "execute_result"
    }
   ],
   "source": [
    "c = 2 + 3j\n",
    "type(c)"
   ]
  },
  {
   "cell_type": "markdown",
   "id": "b3cc5eea",
   "metadata": {},
   "source": [
    "## Sequence Data Types\n",
    "- String\n",
    "- list\n",
    "- Tuple\n",
    "- Set\n",
    "- Dictionary"
   ]
  },
  {
   "cell_type": "markdown",
   "id": "6cd817ba",
   "metadata": {},
   "source": [
    "### Strings"
   ]
  },
  {
   "cell_type": "code",
   "execution_count": 7,
   "id": "ef408939",
   "metadata": {
    "ExecuteTime": {
     "end_time": "2023-07-15T15:07:41.952703Z",
     "start_time": "2023-07-15T15:07:41.928722Z"
    }
   },
   "outputs": [],
   "source": [
    "a = \"Intellipat\"\n",
    "b = 'INtellipat'"
   ]
  },
  {
   "cell_type": "code",
   "execution_count": 6,
   "id": "bde9598a",
   "metadata": {
    "ExecuteTime": {
     "end_time": "2023-07-15T15:07:15.020126Z",
     "start_time": "2023-07-15T15:07:15.006545Z"
    }
   },
   "outputs": [
    {
     "data": {
      "text/plain": [
       "str"
      ]
     },
     "execution_count": 6,
     "metadata": {},
     "output_type": "execute_result"
    }
   ],
   "source": [
    "type(a)"
   ]
  },
  {
   "cell_type": "code",
   "execution_count": 9,
   "id": "fd84d21f",
   "metadata": {
    "ExecuteTime": {
     "end_time": "2023-07-15T15:09:12.953894Z",
     "start_time": "2023-07-15T15:09:12.940919Z"
    }
   },
   "outputs": [],
   "source": [
    "c = '''Python basic trainng course \n",
    "by intellipat'''"
   ]
  },
  {
   "cell_type": "code",
   "execution_count": 10,
   "id": "6abb193f",
   "metadata": {
    "ExecuteTime": {
     "end_time": "2023-07-15T15:10:15.820052Z",
     "start_time": "2023-07-15T15:10:15.799573Z"
    }
   },
   "outputs": [
    {
     "data": {
      "text/plain": [
       "'Python basic trainng course \\nby intellipat'"
      ]
     },
     "execution_count": 10,
     "metadata": {},
     "output_type": "execute_result"
    }
   ],
   "source": [
    "c"
   ]
  },
  {
   "cell_type": "code",
   "execution_count": 11,
   "id": "3e0ab12f",
   "metadata": {
    "ExecuteTime": {
     "end_time": "2023-07-15T15:10:40.727748Z",
     "start_time": "2023-07-15T15:10:40.723287Z"
    }
   },
   "outputs": [],
   "source": [
    "string = 'Intellipat Python Training'\n",
    "#           1234567891011\n",
    "#           01234567891011"
   ]
  },
  {
   "cell_type": "code",
   "execution_count": 13,
   "id": "51bb3dde",
   "metadata": {
    "ExecuteTime": {
     "end_time": "2023-07-15T15:13:31.144575Z",
     "start_time": "2023-07-15T15:13:31.133527Z"
    }
   },
   "outputs": [
    {
     "data": {
      "text/plain": [
       "1"
      ]
     },
     "execution_count": 13,
     "metadata": {},
     "output_type": "execute_result"
    }
   ],
   "source": [
    "string.count(\"Python\")"
   ]
  },
  {
   "cell_type": "code",
   "execution_count": 15,
   "id": "bb00ee36",
   "metadata": {
    "ExecuteTime": {
     "end_time": "2023-07-15T15:15:53.618968Z",
     "start_time": "2023-07-15T15:15:53.607451Z"
    }
   },
   "outputs": [],
   "source": [
    "x = string.split(\" \")"
   ]
  },
  {
   "cell_type": "code",
   "execution_count": 16,
   "id": "ee0fdc7d",
   "metadata": {
    "ExecuteTime": {
     "end_time": "2023-07-15T15:15:56.905954Z",
     "start_time": "2023-07-15T15:15:56.894262Z"
    }
   },
   "outputs": [
    {
     "data": {
      "text/plain": [
       "['Intellipat', 'Python', 'Training']"
      ]
     },
     "execution_count": 16,
     "metadata": {},
     "output_type": "execute_result"
    }
   ],
   "source": [
    "x"
   ]
  },
  {
   "cell_type": "code",
   "execution_count": 17,
   "id": "f06a536e",
   "metadata": {
    "ExecuteTime": {
     "end_time": "2023-07-15T15:16:04.217888Z",
     "start_time": "2023-07-15T15:16:04.211102Z"
    }
   },
   "outputs": [
    {
     "data": {
      "text/plain": [
       "list"
      ]
     },
     "execution_count": 17,
     "metadata": {},
     "output_type": "execute_result"
    }
   ],
   "source": [
    "type(x)"
   ]
  },
  {
   "cell_type": "code",
   "execution_count": 18,
   "id": "e065eef6",
   "metadata": {
    "ExecuteTime": {
     "end_time": "2023-07-15T15:22:11.626559Z",
     "start_time": "2023-07-15T15:22:11.595525Z"
    }
   },
   "outputs": [
    {
     "data": {
      "text/plain": [
       "11"
      ]
     },
     "execution_count": 18,
     "metadata": {},
     "output_type": "execute_result"
    }
   ],
   "source": [
    "string.find(\"Python\")"
   ]
  },
  {
   "cell_type": "code",
   "execution_count": 22,
   "id": "7239c05c",
   "metadata": {
    "ExecuteTime": {
     "end_time": "2023-07-15T15:27:56.105335Z",
     "start_time": "2023-07-15T15:27:56.083292Z"
    }
   },
   "outputs": [
    {
     "data": {
      "text/plain": [
       "'Intellipat Python Course'"
      ]
     },
     "execution_count": 22,
     "metadata": {},
     "output_type": "execute_result"
    }
   ],
   "source": [
    "string.replace(\"Training\",\"Course\")"
   ]
  },
  {
   "cell_type": "code",
   "execution_count": 26,
   "id": "aaabb0c7",
   "metadata": {
    "ExecuteTime": {
     "end_time": "2023-07-15T15:29:51.906032Z",
     "start_time": "2023-07-15T15:29:51.891490Z"
    }
   },
   "outputs": [
    {
     "data": {
      "text/plain": [
       "'Intellipat Trainng'"
      ]
     },
     "execution_count": 26,
     "metadata": {},
     "output_type": "execute_result"
    }
   ],
   "source": [
    "a = \"Intellipat\"\n",
    "b = \"Trainng\"\n",
    "c = a+\" \"+b\n",
    "c"
   ]
  },
  {
   "cell_type": "code",
   "execution_count": 31,
   "id": "1013afda",
   "metadata": {
    "ExecuteTime": {
     "end_time": "2023-07-15T15:31:50.896151Z",
     "start_time": "2023-07-15T15:31:50.889073Z"
    }
   },
   "outputs": [
    {
     "data": {
      "text/plain": [
       "'IntellipatIntellipatIntellipat'"
      ]
     },
     "execution_count": 31,
     "metadata": {},
     "output_type": "execute_result"
    }
   ],
   "source": [
    "d = a*3\n",
    "d"
   ]
  },
  {
   "cell_type": "code",
   "execution_count": 34,
   "id": "3864813a",
   "metadata": {
    "ExecuteTime": {
     "end_time": "2023-07-15T15:33:03.458482Z",
     "start_time": "2023-07-15T15:33:03.435785Z"
    }
   },
   "outputs": [],
   "source": [
    "s = \"intellipat\""
   ]
  },
  {
   "cell_type": "code",
   "execution_count": 35,
   "id": "143b186d",
   "metadata": {
    "ExecuteTime": {
     "end_time": "2023-07-15T15:33:03.645684Z",
     "start_time": "2023-07-15T15:33:03.626780Z"
    }
   },
   "outputs": [
    {
     "data": {
      "text/plain": [
       "'Intellipat'"
      ]
     },
     "execution_count": 35,
     "metadata": {},
     "output_type": "execute_result"
    }
   ],
   "source": [
    "s.capitalize()"
   ]
  },
  {
   "cell_type": "markdown",
   "id": "38ab6d33",
   "metadata": {},
   "source": [
    "### Doubts"
   ]
  },
  {
   "cell_type": "code",
   "execution_count": null,
   "id": "a53b9517",
   "metadata": {},
   "outputs": [],
   "source": [
    "AttributeError                            Traceback (most recent call last)\n",
    "Cell In[16], line 1\n",
    "----> 1 string.count(\"asc\")\n",
    "\n",
    "AttributeError: module 'string' has no attribute 'count'\n"
   ]
  },
  {
   "cell_type": "code",
   "execution_count": 39,
   "id": "93f81433",
   "metadata": {
    "ExecuteTime": {
     "end_time": "2023-07-15T15:44:18.402076Z",
     "start_time": "2023-07-15T15:44:18.371569Z"
    }
   },
   "outputs": [
    {
     "name": "stdout",
     "output_type": "stream",
     "text": [
      "apple is my\n",
      "favorite fruit\n"
     ]
    },
    {
     "data": {
      "text/plain": [
       "0"
      ]
     },
     "execution_count": 39,
     "metadata": {},
     "output_type": "execute_result"
    }
   ],
   "source": [
    "a='''apple is my\n",
    "favorite fruit'''\n",
    "print(a)\n",
    "a.count(\"asc\")\n"
   ]
  },
  {
   "cell_type": "code",
   "execution_count": null,
   "id": "55e69ca5",
   "metadata": {},
   "outputs": [],
   "source": [
    "how intellisense can be enabled"
   ]
  },
  {
   "cell_type": "markdown",
   "id": "c8b3ba4d",
   "metadata": {},
   "source": [
    "### Asignment`\n",
    "- Reverse words in a given String in Python, for eg: \"Intellipat Python Course\" -> \"tapilletnI nohtyp esruoC\""
   ]
  },
  {
   "cell_type": "code",
   "execution_count": null,
   "id": "318ffa42",
   "metadata": {},
   "outputs": [],
   "source": []
  },
  {
   "cell_type": "markdown",
   "id": "7c337b5d",
   "metadata": {},
   "source": [
    "### Lists"
   ]
  },
  {
   "cell_type": "code",
   "execution_count": 40,
   "id": "12109945",
   "metadata": {
    "ExecuteTime": {
     "end_time": "2023-07-15T15:47:40.859904Z",
     "start_time": "2023-07-15T15:47:40.851099Z"
    }
   },
   "outputs": [],
   "source": [
    "l = [10, 12, 13, 14, 15 , 16]"
   ]
  },
  {
   "cell_type": "code",
   "execution_count": 41,
   "id": "d38955e4",
   "metadata": {
    "ExecuteTime": {
     "end_time": "2023-07-15T15:47:55.559527Z",
     "start_time": "2023-07-15T15:47:55.537531Z"
    }
   },
   "outputs": [
    {
     "data": {
      "text/plain": [
       "list"
      ]
     },
     "execution_count": 41,
     "metadata": {},
     "output_type": "execute_result"
    }
   ],
   "source": [
    "type(l)"
   ]
  },
  {
   "cell_type": "code",
   "execution_count": 43,
   "id": "ec33dc43",
   "metadata": {
    "ExecuteTime": {
     "end_time": "2023-07-15T15:49:19.148850Z",
     "start_time": "2023-07-15T15:49:19.144286Z"
    }
   },
   "outputs": [],
   "source": [
    "l = [1,2,\"Intellipat\",\"Trainng\", 11.5 , 2+3j , [1,2,3,4,5]]"
   ]
  },
  {
   "cell_type": "code",
   "execution_count": 44,
   "id": "797a13b8",
   "metadata": {
    "ExecuteTime": {
     "end_time": "2023-07-15T15:49:22.314705Z",
     "start_time": "2023-07-15T15:49:22.292534Z"
    }
   },
   "outputs": [
    {
     "data": {
      "text/plain": [
       "[1, 2, 'Intellipat', 'Trainng', 11.5, (2+3j), [1, 2, 3, 4, 5]]"
      ]
     },
     "execution_count": 44,
     "metadata": {},
     "output_type": "execute_result"
    }
   ],
   "source": [
    "l"
   ]
  },
  {
   "cell_type": "code",
   "execution_count": 45,
   "id": "18c92647",
   "metadata": {
    "ExecuteTime": {
     "end_time": "2023-07-15T15:51:09.447355Z",
     "start_time": "2023-07-15T15:51:09.432225Z"
    }
   },
   "outputs": [],
   "source": [
    "l.insert(3,\"Python\")"
   ]
  },
  {
   "cell_type": "code",
   "execution_count": 46,
   "id": "b509df21",
   "metadata": {
    "ExecuteTime": {
     "end_time": "2023-07-15T15:51:15.051546Z",
     "start_time": "2023-07-15T15:51:15.040091Z"
    }
   },
   "outputs": [
    {
     "data": {
      "text/plain": [
       "[1, 2, 'Intellipat', 'Python', 'Trainng', 11.5, (2+3j), [1, 2, 3, 4, 5]]"
      ]
     },
     "execution_count": 46,
     "metadata": {},
     "output_type": "execute_result"
    }
   ],
   "source": [
    "l"
   ]
  },
  {
   "cell_type": "code",
   "execution_count": 47,
   "id": "5e63d736",
   "metadata": {
    "ExecuteTime": {
     "end_time": "2023-07-15T15:53:30.710179Z",
     "start_time": "2023-07-15T15:53:30.692162Z"
    }
   },
   "outputs": [],
   "source": [
    "lst1 = [10,20,30,40,50,60]\n",
    "lst2 = [1,2,3,4,5,6,7]\n",
    "lst1.extend(lst2)"
   ]
  },
  {
   "cell_type": "code",
   "execution_count": 48,
   "id": "8f69de7b",
   "metadata": {
    "ExecuteTime": {
     "end_time": "2023-07-15T15:53:35.411448Z",
     "start_time": "2023-07-15T15:53:35.392194Z"
    }
   },
   "outputs": [
    {
     "data": {
      "text/plain": [
       "[10, 20, 30, 40, 50, 60, 1, 2, 3, 4, 5, 6, 7]"
      ]
     },
     "execution_count": 48,
     "metadata": {},
     "output_type": "execute_result"
    }
   ],
   "source": [
    "lst1"
   ]
  },
  {
   "cell_type": "code",
   "execution_count": 49,
   "id": "25a6f7e1",
   "metadata": {
    "ExecuteTime": {
     "end_time": "2023-07-15T15:54:08.582515Z",
     "start_time": "2023-07-15T15:54:08.565785Z"
    }
   },
   "outputs": [],
   "source": [
    "lst1.remove(60)"
   ]
  },
  {
   "cell_type": "code",
   "execution_count": 50,
   "id": "3d71409d",
   "metadata": {
    "ExecuteTime": {
     "end_time": "2023-07-15T15:54:14.697863Z",
     "start_time": "2023-07-15T15:54:14.683053Z"
    }
   },
   "outputs": [
    {
     "name": "stdout",
     "output_type": "stream",
     "text": [
      "[10, 20, 30, 40, 50, 1, 2, 3, 4, 5, 6, 7]\n"
     ]
    }
   ],
   "source": [
    "print(lst1)"
   ]
  },
  {
   "cell_type": "code",
   "execution_count": 53,
   "id": "075197a3",
   "metadata": {
    "ExecuteTime": {
     "end_time": "2023-07-15T15:55:11.856550Z",
     "start_time": "2023-07-15T15:55:11.848549Z"
    }
   },
   "outputs": [],
   "source": [
    "lst1.append(lst2)"
   ]
  },
  {
   "cell_type": "code",
   "execution_count": 52,
   "id": "04239b6a",
   "metadata": {
    "ExecuteTime": {
     "end_time": "2023-07-15T15:54:50.026866Z",
     "start_time": "2023-07-15T15:54:50.014959Z"
    }
   },
   "outputs": [
    {
     "data": {
      "text/plain": [
       "[10, 20, 30, 40, 50, 1, 2, 3, 4, 5, 6, 7, [1, 2, 3, 4, 5, 6, 7]]"
      ]
     },
     "execution_count": 52,
     "metadata": {},
     "output_type": "execute_result"
    }
   ],
   "source": [
    "lst1"
   ]
  },
  {
   "cell_type": "code",
   "execution_count": 55,
   "id": "9a38e747",
   "metadata": {
    "ExecuteTime": {
     "end_time": "2023-07-15T15:56:47.511650Z",
     "start_time": "2023-07-15T15:56:47.500511Z"
    }
   },
   "outputs": [
    {
     "name": "stdout",
     "output_type": "stream",
     "text": [
      "[10, 20, 30, 40, 50, 60, 1, 2, 3, 4, 5, 6]\n"
     ]
    }
   ],
   "source": [
    "lst1 = [10,20,30,40,50,60]\n",
    "lst1.append(1)\n",
    "lst1.append(2)\n",
    "lst1.append(3)\n",
    "lst1.append(4)\n",
    "lst1.append(5)\n",
    "lst1.append(6)\n",
    "print(lst1)"
   ]
  },
  {
   "cell_type": "code",
   "execution_count": 57,
   "id": "52f99bd1",
   "metadata": {
    "ExecuteTime": {
     "end_time": "2023-07-15T15:58:25.388235Z",
     "start_time": "2023-07-15T15:58:25.370081Z"
    }
   },
   "outputs": [],
   "source": [
    "# lst1.append(1,2,3)"
   ]
  },
  {
   "cell_type": "code",
   "execution_count": 62,
   "id": "af87bd1e",
   "metadata": {
    "ExecuteTime": {
     "end_time": "2023-07-15T16:00:43.640583Z",
     "start_time": "2023-07-15T16:00:43.631608Z"
    }
   },
   "outputs": [],
   "source": [
    "list3 = [\"Alex\", \"Ravi\", \"Mark\",\"John\"]\n",
    "#            0       1        2     3\n",
    "#           -4      -3       -2    -1"
   ]
  },
  {
   "cell_type": "code",
   "execution_count": 60,
   "id": "eed95799",
   "metadata": {
    "ExecuteTime": {
     "end_time": "2023-07-15T15:59:27.560221Z",
     "start_time": "2023-07-15T15:59:27.547435Z"
    }
   },
   "outputs": [
    {
     "data": {
      "text/plain": [
       "3"
      ]
     },
     "execution_count": 60,
     "metadata": {},
     "output_type": "execute_result"
    }
   ],
   "source": [
    "list3.index(\"John\")"
   ]
  },
  {
   "cell_type": "code",
   "execution_count": 61,
   "id": "04fc6d19",
   "metadata": {
    "ExecuteTime": {
     "end_time": "2023-07-15T16:00:06.128306Z",
     "start_time": "2023-07-15T16:00:06.096491Z"
    }
   },
   "outputs": [
    {
     "data": {
      "text/plain": [
       "'Mark'"
      ]
     },
     "execution_count": 61,
     "metadata": {},
     "output_type": "execute_result"
    }
   ],
   "source": [
    "list3[-2]"
   ]
  },
  {
   "cell_type": "code",
   "execution_count": 63,
   "id": "1ed582b9",
   "metadata": {
    "ExecuteTime": {
     "end_time": "2023-07-15T16:00:55.103521Z",
     "start_time": "2023-07-15T16:00:55.098299Z"
    }
   },
   "outputs": [
    {
     "data": {
      "text/plain": [
       "'Ravi'"
      ]
     },
     "execution_count": 63,
     "metadata": {},
     "output_type": "execute_result"
    }
   ],
   "source": [
    "list3[1]"
   ]
  },
  {
   "cell_type": "code",
   "execution_count": 65,
   "id": "e5b75ac9",
   "metadata": {
    "ExecuteTime": {
     "end_time": "2023-07-15T16:01:12.319418Z",
     "start_time": "2023-07-15T16:01:12.299762Z"
    }
   },
   "outputs": [
    {
     "data": {
      "text/plain": [
       "'Ravi'"
      ]
     },
     "execution_count": 65,
     "metadata": {},
     "output_type": "execute_result"
    }
   ],
   "source": [
    "list3[-3]"
   ]
  },
  {
   "cell_type": "markdown",
   "id": "c3fea62e",
   "metadata": {
    "ExecuteTime": {
     "end_time": "2023-07-15T16:11:10.062523Z",
     "start_time": "2023-07-15T16:11:10.043543Z"
    }
   },
   "source": [
    "### Doubts"
   ]
  },
  {
   "cell_type": "code",
   "execution_count": 72,
   "id": "d035d3ad",
   "metadata": {
    "ExecuteTime": {
     "end_time": "2023-07-15T16:15:29.825779Z",
     "start_time": "2023-07-15T16:15:29.803257Z"
    }
   },
   "outputs": [],
   "source": [
    "# datetime.datetime(2023, 5, 17, 0, 0) is out put how can we get out put as 14th july 2023"
   ]
  },
  {
   "cell_type": "code",
   "execution_count": 73,
   "id": "4a28611b",
   "metadata": {
    "ExecuteTime": {
     "end_time": "2023-07-15T16:17:20.603271Z",
     "start_time": "2023-07-15T16:17:20.587226Z"
    }
   },
   "outputs": [
    {
     "name": "stdout",
     "output_type": "stream",
     "text": [
      "Python \n",
      "Training\n"
     ]
    }
   ],
   "source": [
    "# how to print  \"Training\"  in next line\n",
    "st = '''Python \n",
    "Training'''\n",
    "print(st)"
   ]
  },
  {
   "cell_type": "code",
   "execution_count": 74,
   "id": "e8f2f79b",
   "metadata": {
    "ExecuteTime": {
     "end_time": "2023-07-15T16:19:03.325110Z",
     "start_time": "2023-07-15T16:19:03.306934Z"
    }
   },
   "outputs": [],
   "source": [
    "# i mean int will be int and string is string or all values are string?\n",
    "lst = [1,'python']"
   ]
  },
  {
   "cell_type": "markdown",
   "id": "203a1d74",
   "metadata": {
    "ExecuteTime": {
     "end_time": "2023-07-15T16:19:21.564458Z",
     "start_time": "2023-07-15T16:19:21.561369Z"
    }
   },
   "source": [
    "### Tuple"
   ]
  },
  {
   "cell_type": "code",
   "execution_count": 77,
   "id": "d6c30450",
   "metadata": {
    "ExecuteTime": {
     "end_time": "2023-07-15T16:21:18.114203Z",
     "start_time": "2023-07-15T16:21:18.097312Z"
    }
   },
   "outputs": [],
   "source": [
    "tup = (1,2,3,4,5,\"Intellipat\",1,2,3,4,1,3,5)"
   ]
  },
  {
   "cell_type": "code",
   "execution_count": 89,
   "id": "4ca40904",
   "metadata": {
    "ExecuteTime": {
     "end_time": "2023-07-15T16:29:24.971497Z",
     "start_time": "2023-07-15T16:29:24.961553Z"
    }
   },
   "outputs": [
    {
     "name": "stdout",
     "output_type": "stream",
     "text": [
      "(1, 2, 3, 4, 5, 'Intellipat', 1, 2, 3, 4, 1, 3, 5)\n"
     ]
    }
   ],
   "source": [
    "print(tup)"
   ]
  },
  {
   "cell_type": "code",
   "execution_count": 79,
   "id": "c7db6a23",
   "metadata": {
    "ExecuteTime": {
     "end_time": "2023-07-15T16:21:29.311719Z",
     "start_time": "2023-07-15T16:21:29.288747Z"
    }
   },
   "outputs": [
    {
     "data": {
      "text/plain": [
       "tuple"
      ]
     },
     "execution_count": 79,
     "metadata": {},
     "output_type": "execute_result"
    }
   ],
   "source": [
    "type(tup)"
   ]
  },
  {
   "cell_type": "code",
   "execution_count": 81,
   "id": "b8dcd5fc",
   "metadata": {
    "ExecuteTime": {
     "end_time": "2023-07-15T16:22:44.143752Z",
     "start_time": "2023-07-15T16:22:44.123662Z"
    }
   },
   "outputs": [
    {
     "data": {
      "text/plain": [
       "3"
      ]
     },
     "execution_count": 81,
     "metadata": {},
     "output_type": "execute_result"
    }
   ],
   "source": [
    "tup.count(1)"
   ]
  },
  {
   "cell_type": "code",
   "execution_count": 83,
   "id": "726178d0",
   "metadata": {
    "ExecuteTime": {
     "end_time": "2023-07-15T16:25:34.121649Z",
     "start_time": "2023-07-15T16:25:34.110086Z"
    }
   },
   "outputs": [
    {
     "data": {
      "text/plain": [
       "5"
      ]
     },
     "execution_count": 83,
     "metadata": {},
     "output_type": "execute_result"
    }
   ],
   "source": [
    "tup.index(\"Intellipat\")"
   ]
  },
  {
   "cell_type": "markdown",
   "id": "43811b04",
   "metadata": {},
   "source": [
    "### Sets"
   ]
  },
  {
   "cell_type": "code",
   "execution_count": 84,
   "id": "596053f1",
   "metadata": {
    "ExecuteTime": {
     "end_time": "2023-07-15T16:28:44.660714Z",
     "start_time": "2023-07-15T16:28:44.629503Z"
    }
   },
   "outputs": [],
   "source": [
    "set1 = set([\"Intellipat\",1,2,3,4,5,6,7,0,1,2])"
   ]
  },
  {
   "cell_type": "code",
   "execution_count": 85,
   "id": "3a148ed7",
   "metadata": {
    "ExecuteTime": {
     "end_time": "2023-07-15T16:28:51.031511Z",
     "start_time": "2023-07-15T16:28:51.011491Z"
    }
   },
   "outputs": [
    {
     "data": {
      "text/plain": [
       "set"
      ]
     },
     "execution_count": 85,
     "metadata": {},
     "output_type": "execute_result"
    }
   ],
   "source": [
    "type(set1)"
   ]
  },
  {
   "cell_type": "code",
   "execution_count": 87,
   "id": "d74011e8",
   "metadata": {
    "ExecuteTime": {
     "end_time": "2023-07-15T16:29:04.321215Z",
     "start_time": "2023-07-15T16:29:04.301710Z"
    }
   },
   "outputs": [
    {
     "name": "stdout",
     "output_type": "stream",
     "text": [
      "{0, 1, 2, 3, 4, 5, 6, 7, 'Intellipat'}\n"
     ]
    }
   ],
   "source": [
    "print(set1)"
   ]
  },
  {
   "cell_type": "code",
   "execution_count": 90,
   "id": "596d8b9e",
   "metadata": {
    "ExecuteTime": {
     "end_time": "2023-07-15T16:32:07.968385Z",
     "start_time": "2023-07-15T16:32:07.961786Z"
    }
   },
   "outputs": [],
   "source": [
    "set2 = set([\"Intellipat\"])"
   ]
  },
  {
   "cell_type": "code",
   "execution_count": 91,
   "id": "3c6fd921",
   "metadata": {
    "ExecuteTime": {
     "end_time": "2023-07-15T16:32:41.874031Z",
     "start_time": "2023-07-15T16:32:41.870902Z"
    }
   },
   "outputs": [],
   "source": [
    "set1.add(1)"
   ]
  },
  {
   "cell_type": "code",
   "execution_count": 92,
   "id": "24c31e96",
   "metadata": {
    "ExecuteTime": {
     "end_time": "2023-07-15T16:32:47.699017Z",
     "start_time": "2023-07-15T16:32:47.683802Z"
    }
   },
   "outputs": [
    {
     "name": "stdout",
     "output_type": "stream",
     "text": [
      "{0, 1, 2, 3, 4, 5, 6, 7, 'Intellipat'}\n"
     ]
    }
   ],
   "source": [
    "print(set1)"
   ]
  },
  {
   "cell_type": "code",
   "execution_count": 93,
   "id": "4c6478d5",
   "metadata": {
    "ExecuteTime": {
     "end_time": "2023-07-15T16:33:54.769397Z",
     "start_time": "2023-07-15T16:33:54.755076Z"
    }
   },
   "outputs": [],
   "source": [
    "set1.remove(\"Intellipat\")"
   ]
  },
  {
   "cell_type": "code",
   "execution_count": 94,
   "id": "026b3d9d",
   "metadata": {
    "ExecuteTime": {
     "end_time": "2023-07-15T16:34:00.163441Z",
     "start_time": "2023-07-15T16:34:00.151836Z"
    }
   },
   "outputs": [
    {
     "data": {
      "text/plain": [
       "{0, 1, 2, 3, 4, 5, 6, 7}"
      ]
     },
     "execution_count": 94,
     "metadata": {},
     "output_type": "execute_result"
    }
   ],
   "source": [
    "set1"
   ]
  },
  {
   "cell_type": "code",
   "execution_count": 95,
   "id": "9d56c5da",
   "metadata": {
    "ExecuteTime": {
     "end_time": "2023-07-15T16:35:07.859247Z",
     "start_time": "2023-07-15T16:35:07.809269Z"
    }
   },
   "outputs": [],
   "source": [
    "a = {'i','n','t','e','l'}\n",
    "b = {'p','y','t','h','o','n'}`"
   ]
  },
  {
   "cell_type": "code",
   "execution_count": 97,
   "id": "e5145f52",
   "metadata": {
    "ExecuteTime": {
     "end_time": "2023-07-15T16:35:35.218492Z",
     "start_time": "2023-07-15T16:35:35.209575Z"
    }
   },
   "outputs": [
    {
     "data": {
      "text/plain": [
       "set"
      ]
     },
     "execution_count": 97,
     "metadata": {},
     "output_type": "execute_result"
    }
   ],
   "source": [
    "type(a)"
   ]
  },
  {
   "cell_type": "code",
   "execution_count": 96,
   "id": "bcd27b42",
   "metadata": {
    "ExecuteTime": {
     "end_time": "2023-07-15T16:35:19.413987Z",
     "start_time": "2023-07-15T16:35:19.396518Z"
    }
   },
   "outputs": [
    {
     "data": {
      "text/plain": [
       "{'n', 't'}"
      ]
     },
     "execution_count": 96,
     "metadata": {},
     "output_type": "execute_result"
    }
   ],
   "source": [
    "a.intersection(b)"
   ]
  },
  {
   "cell_type": "code",
   "execution_count": 98,
   "id": "0c349dd0",
   "metadata": {
    "ExecuteTime": {
     "end_time": "2023-07-15T16:35:54.023793Z",
     "start_time": "2023-07-15T16:35:54.017156Z"
    }
   },
   "outputs": [
    {
     "data": {
      "text/plain": [
       "{'e', 'i', 'l'}"
      ]
     },
     "execution_count": 98,
     "metadata": {},
     "output_type": "execute_result"
    }
   ],
   "source": [
    "a.difference(b)"
   ]
  },
  {
   "cell_type": "markdown",
   "id": "e52a7960",
   "metadata": {
    "ExecuteTime": {
     "end_time": "2023-07-15T16:38:12.759715Z",
     "start_time": "2023-07-15T16:38:12.750195Z"
    }
   },
   "source": [
    "### Dictionaries"
   ]
  },
  {
   "cell_type": "code",
   "execution_count": 102,
   "id": "314f2244",
   "metadata": {
    "ExecuteTime": {
     "end_time": "2023-07-15T16:42:52.564669Z",
     "start_time": "2023-07-15T16:42:52.553254Z"
    }
   },
   "outputs": [],
   "source": [
    "dict1 = {1 : \"Intellipat\" , 2 : \"Python\" , 3 : \"Training\"}\n",
    "#         {key : value , key : value, ..........}"
   ]
  },
  {
   "cell_type": "code",
   "execution_count": 101,
   "id": "72e2d8cb",
   "metadata": {
    "ExecuteTime": {
     "end_time": "2023-07-15T16:42:27.254003Z",
     "start_time": "2023-07-15T16:42:27.234495Z"
    }
   },
   "outputs": [
    {
     "data": {
      "text/plain": [
       "dict"
      ]
     },
     "execution_count": 101,
     "metadata": {},
     "output_type": "execute_result"
    }
   ],
   "source": [
    "type(dict1)"
   ]
  },
  {
   "cell_type": "code",
   "execution_count": 146,
   "id": "20f7e46d",
   "metadata": {
    "ExecuteTime": {
     "end_time": "2023-07-15T16:59:18.826299Z",
     "start_time": "2023-07-15T16:59:18.812450Z"
    }
   },
   "outputs": [],
   "source": [
    "dict2 = {'Name' : \"INtellipat\" , 1 : [1,2,3,4,5]}"
   ]
  },
  {
   "cell_type": "code",
   "execution_count": 104,
   "id": "c81bbdc4",
   "metadata": {
    "ExecuteTime": {
     "end_time": "2023-07-15T16:49:36.140093Z",
     "start_time": "2023-07-15T16:49:36.125007Z"
    }
   },
   "outputs": [
    {
     "data": {
      "text/plain": [
       "'INtellipat'"
      ]
     },
     "execution_count": 104,
     "metadata": {},
     "output_type": "execute_result"
    }
   ],
   "source": [
    "dict2.get('Name')"
   ]
  },
  {
   "cell_type": "code",
   "execution_count": 140,
   "id": "4f816765",
   "metadata": {
    "ExecuteTime": {
     "end_time": "2023-07-15T16:52:42.206582Z",
     "start_time": "2023-07-15T16:52:42.199241Z"
    }
   },
   "outputs": [],
   "source": [
    "dict3 = {'Name' : \"Intellipat\" , 'Name' : [1,2,3,4,5] , 'Name' : \"Python\"}"
   ]
  },
  {
   "cell_type": "code",
   "execution_count": 141,
   "id": "96abf8be",
   "metadata": {
    "ExecuteTime": {
     "end_time": "2023-07-15T16:52:42.469901Z",
     "start_time": "2023-07-15T16:52:42.455698Z"
    }
   },
   "outputs": [
    {
     "data": {
      "text/plain": [
       "'Python'"
      ]
     },
     "execution_count": 141,
     "metadata": {},
     "output_type": "execute_result"
    }
   ],
   "source": [
    "dict3.get('Name')"
   ]
  },
  {
   "cell_type": "code",
   "execution_count": null,
   "id": "8cb8e0f1",
   "metadata": {},
   "outputs": [],
   "source": [
    "#As of Python version 3.7, dictionaries are ordered. In Python 3.6 and earlier, dictionaries are unordered"
   ]
  },
  {
   "cell_type": "code",
   "execution_count": 142,
   "id": "57076b37",
   "metadata": {
    "ExecuteTime": {
     "end_time": "2023-07-15T16:58:06.601935Z",
     "start_time": "2023-07-15T16:58:06.572061Z"
    }
   },
   "outputs": [
    {
     "data": {
      "text/plain": [
       "dict_keys(['Name', 1])"
      ]
     },
     "execution_count": 142,
     "metadata": {},
     "output_type": "execute_result"
    }
   ],
   "source": [
    "dict2.keys()"
   ]
  },
  {
   "cell_type": "code",
   "execution_count": 147,
   "id": "5bf9404f",
   "metadata": {
    "ExecuteTime": {
     "end_time": "2023-07-15T16:59:29.036799Z",
     "start_time": "2023-07-15T16:59:29.020931Z"
    }
   },
   "outputs": [
    {
     "data": {
      "text/plain": [
       "{'Name': 'INtellipat', 1: [1, 2, 3, 4, 5]}"
      ]
     },
     "execution_count": 147,
     "metadata": {},
     "output_type": "execute_result"
    }
   ],
   "source": [
    "dict2"
   ]
  },
  {
   "cell_type": "code",
   "execution_count": 148,
   "id": "0b4b8eeb",
   "metadata": {
    "ExecuteTime": {
     "end_time": "2023-07-15T16:59:31.839177Z",
     "start_time": "2023-07-15T16:59:31.830571Z"
    }
   },
   "outputs": [
    {
     "data": {
      "text/plain": [
       "[1, 2, 3, 4, 5]"
      ]
     },
     "execution_count": 148,
     "metadata": {},
     "output_type": "execute_result"
    }
   ],
   "source": [
    "dict2.pop(1)"
   ]
  },
  {
   "cell_type": "code",
   "execution_count": 149,
   "id": "39507bde",
   "metadata": {
    "ExecuteTime": {
     "end_time": "2023-07-15T16:59:32.071968Z",
     "start_time": "2023-07-15T16:59:32.060222Z"
    }
   },
   "outputs": [
    {
     "data": {
      "text/plain": [
       "{'Name': 'INtellipat'}"
      ]
     },
     "execution_count": 149,
     "metadata": {},
     "output_type": "execute_result"
    }
   ],
   "source": [
    "dict2"
   ]
  },
  {
   "cell_type": "code",
   "execution_count": 150,
   "id": "ddeb7225",
   "metadata": {
    "ExecuteTime": {
     "end_time": "2023-07-15T16:59:52.837805Z",
     "start_time": "2023-07-15T16:59:52.816820Z"
    }
   },
   "outputs": [
    {
     "data": {
      "text/plain": [
       "dict_items([('Name', 'INtellipat')])"
      ]
     },
     "execution_count": 150,
     "metadata": {},
     "output_type": "execute_result"
    }
   ],
   "source": [
    "dict2.items()"
   ]
  },
  {
   "cell_type": "code",
   "execution_count": 160,
   "id": "1eb6281c",
   "metadata": {
    "ExecuteTime": {
     "end_time": "2023-07-15T17:03:13.795652Z",
     "start_time": "2023-07-15T17:03:13.786171Z"
    }
   },
   "outputs": [
    {
     "data": {
      "text/plain": [
       "{1: 'Intellipat', 2: 'Python', 3: 'Training'}"
      ]
     },
     "execution_count": 160,
     "metadata": {},
     "output_type": "execute_result"
    }
   ],
   "source": [
    "dict1"
   ]
  },
  {
   "cell_type": "code",
   "execution_count": 159,
   "id": "04cf7978",
   "metadata": {
    "ExecuteTime": {
     "end_time": "2023-07-15T17:02:57.313734Z",
     "start_time": "2023-07-15T17:02:57.299027Z"
    }
   },
   "outputs": [
    {
     "data": {
      "text/plain": [
       "'Intellipat'"
      ]
     },
     "execution_count": 159,
     "metadata": {},
     "output_type": "execute_result"
    }
   ],
   "source": [
    "dict1.get(1)"
   ]
  },
  {
   "cell_type": "code",
   "execution_count": 158,
   "id": "ebb0dff6",
   "metadata": {
    "ExecuteTime": {
     "end_time": "2023-07-15T17:02:50.509612Z",
     "start_time": "2023-07-15T17:02:50.489722Z"
    }
   },
   "outputs": [
    {
     "data": {
      "text/plain": [
       "dict_items([(1, 'Intellipat'), (2, 'Python'), (3, 'Training')])"
      ]
     },
     "execution_count": 158,
     "metadata": {},
     "output_type": "execute_result"
    }
   ],
   "source": [
    "dict1.items()"
   ]
  },
  {
   "cell_type": "markdown",
   "id": "18e6f2f8",
   "metadata": {},
   "source": [
    "## Boolean Data Type"
   ]
  },
  {
   "cell_type": "code",
   "execution_count": 161,
   "id": "6f0f9dae",
   "metadata": {
    "ExecuteTime": {
     "end_time": "2023-07-15T17:05:36.149951Z",
     "start_time": "2023-07-15T17:05:36.135372Z"
    }
   },
   "outputs": [],
   "source": [
    "a = True"
   ]
  },
  {
   "cell_type": "code",
   "execution_count": 162,
   "id": "66655398",
   "metadata": {
    "ExecuteTime": {
     "end_time": "2023-07-15T17:05:41.408571Z",
     "start_time": "2023-07-15T17:05:41.402216Z"
    }
   },
   "outputs": [],
   "source": [
    "b = False"
   ]
  },
  {
   "cell_type": "code",
   "execution_count": 163,
   "id": "d59da2ba",
   "metadata": {
    "ExecuteTime": {
     "end_time": "2023-07-15T17:06:12.704950Z",
     "start_time": "2023-07-15T17:06:12.698574Z"
    }
   },
   "outputs": [
    {
     "data": {
      "text/plain": [
       "bool"
      ]
     },
     "execution_count": 163,
     "metadata": {},
     "output_type": "execute_result"
    }
   ],
   "source": [
    "type(a)"
   ]
  },
  {
   "cell_type": "code",
   "execution_count": 164,
   "id": "56e3c2f4",
   "metadata": {
    "ExecuteTime": {
     "end_time": "2023-07-15T17:07:21.084086Z",
     "start_time": "2023-07-15T17:07:21.062494Z"
    }
   },
   "outputs": [
    {
     "name": "stdout",
     "output_type": "stream",
     "text": [
      "False\n"
     ]
    }
   ],
   "source": [
    "a = 10\n",
    "b = 20\n",
    "c = a > b \n",
    "print(c)"
   ]
  },
  {
   "cell_type": "code",
   "execution_count": 165,
   "id": "12f5e6d1",
   "metadata": {
    "ExecuteTime": {
     "end_time": "2023-07-15T17:07:26.886752Z",
     "start_time": "2023-07-15T17:07:26.865889Z"
    }
   },
   "outputs": [
    {
     "data": {
      "text/plain": [
       "bool"
      ]
     },
     "execution_count": 165,
     "metadata": {},
     "output_type": "execute_result"
    }
   ],
   "source": [
    "type(c)"
   ]
  },
  {
   "cell_type": "markdown",
   "id": "c2ab0acc",
   "metadata": {},
   "source": [
    "### Mutable vs Immutable Data Types\n",
    "- Mutable Data Types - List, Dictionary and Set\n",
    "- Immutable Data Types - int, float, boolean, tuple and string"
   ]
  },
  {
   "cell_type": "code",
   "execution_count": 166,
   "id": "0390ff6d",
   "metadata": {
    "ExecuteTime": {
     "end_time": "2023-07-15T17:10:54.503068Z",
     "start_time": "2023-07-15T17:10:54.479917Z"
    }
   },
   "outputs": [],
   "source": [
    "tup_imm = (1,2,3)"
   ]
  },
  {
   "cell_type": "code",
   "execution_count": 167,
   "id": "aa69deeb",
   "metadata": {
    "ExecuteTime": {
     "end_time": "2023-07-15T17:11:02.177513Z",
     "start_time": "2023-07-15T17:11:02.161335Z"
    }
   },
   "outputs": [
    {
     "data": {
      "text/plain": [
       "2"
      ]
     },
     "execution_count": 167,
     "metadata": {},
     "output_type": "execute_result"
    }
   ],
   "source": [
    "tup_imm[1]"
   ]
  },
  {
   "cell_type": "code",
   "execution_count": 168,
   "id": "2649c88a",
   "metadata": {
    "ExecuteTime": {
     "end_time": "2023-07-15T17:11:20.982291Z",
     "start_time": "2023-07-15T17:11:20.958332Z"
    }
   },
   "outputs": [
    {
     "ename": "TypeError",
     "evalue": "'tuple' object does not support item assignment",
     "output_type": "error",
     "traceback": [
      "\u001b[1;31m---------------------------------------------------------------------------\u001b[0m",
      "\u001b[1;31mTypeError\u001b[0m                                 Traceback (most recent call last)",
      "\u001b[1;32m<ipython-input-168-e0781ccb4257>\u001b[0m in \u001b[0;36m<module>\u001b[1;34m\u001b[0m\n\u001b[1;32m----> 1\u001b[1;33m \u001b[0mtup_imm\u001b[0m\u001b[1;33m[\u001b[0m\u001b[1;36m1\u001b[0m\u001b[1;33m]\u001b[0m\u001b[1;33m=\u001b[0m \u001b[1;36m3\u001b[0m\u001b[1;33m\u001b[0m\u001b[1;33m\u001b[0m\u001b[0m\n\u001b[0m",
      "\u001b[1;31mTypeError\u001b[0m: 'tuple' object does not support item assignment"
     ]
    }
   ],
   "source": [
    "tup_imm[1]= 3"
   ]
  },
  {
   "cell_type": "code",
   "execution_count": 174,
   "id": "a9f7abc7",
   "metadata": {
    "ExecuteTime": {
     "end_time": "2023-07-15T17:13:42.315676Z",
     "start_time": "2023-07-15T17:13:42.297602Z"
    }
   },
   "outputs": [],
   "source": [
    "lst = [1,2,3]"
   ]
  },
  {
   "cell_type": "code",
   "execution_count": 175,
   "id": "f9794ae0",
   "metadata": {
    "ExecuteTime": {
     "end_time": "2023-07-15T17:13:48.762417Z",
     "start_time": "2023-07-15T17:13:48.749421Z"
    }
   },
   "outputs": [
    {
     "data": {
      "text/plain": [
       "2"
      ]
     },
     "execution_count": 175,
     "metadata": {},
     "output_type": "execute_result"
    }
   ],
   "source": [
    "lst[1]"
   ]
  },
  {
   "cell_type": "code",
   "execution_count": 176,
   "id": "7d6394df",
   "metadata": {
    "ExecuteTime": {
     "end_time": "2023-07-15T17:14:04.119884Z",
     "start_time": "2023-07-15T17:14:04.116316Z"
    }
   },
   "outputs": [],
   "source": [
    "lst[1]= 5"
   ]
  },
  {
   "cell_type": "code",
   "execution_count": 177,
   "id": "e73f1517",
   "metadata": {
    "ExecuteTime": {
     "end_time": "2023-07-15T17:14:07.606293Z",
     "start_time": "2023-07-15T17:14:07.588601Z"
    }
   },
   "outputs": [
    {
     "data": {
      "text/plain": [
       "[1, 5, 3]"
      ]
     },
     "execution_count": 177,
     "metadata": {},
     "output_type": "execute_result"
    }
   ],
   "source": [
    "lst"
   ]
  },
  {
   "cell_type": "code",
   "execution_count": null,
   "id": "9ec3dcdd",
   "metadata": {},
   "outputs": [],
   "source": []
  },
  {
   "cell_type": "code",
   "execution_count": 169,
   "id": "fd43bfcf",
   "metadata": {
    "ExecuteTime": {
     "end_time": "2023-07-15T17:12:01.259088Z",
     "start_time": "2023-07-15T17:12:01.230269Z"
    }
   },
   "outputs": [],
   "source": [
    "string = \"Intellipat training course\""
   ]
  },
  {
   "cell_type": "code",
   "execution_count": null,
   "id": "2b0d9d21",
   "metadata": {},
   "outputs": [],
   "source": []
  },
  {
   "cell_type": "code",
   "execution_count": null,
   "id": "f51e1a36",
   "metadata": {},
   "outputs": [],
   "source": []
  },
  {
   "cell_type": "code",
   "execution_count": null,
   "id": "b744f0ac",
   "metadata": {},
   "outputs": [],
   "source": []
  },
  {
   "cell_type": "code",
   "execution_count": 172,
   "id": "b3cd19e5",
   "metadata": {
    "ExecuteTime": {
     "end_time": "2023-07-15T17:12:45.016449Z",
     "start_time": "2023-07-15T17:12:44.998861Z"
    }
   },
   "outputs": [],
   "source": [
    "x = string.replace(\"training\",\"Python\")"
   ]
  },
  {
   "cell_type": "code",
   "execution_count": 171,
   "id": "9671a5c5",
   "metadata": {
    "ExecuteTime": {
     "end_time": "2023-07-15T17:12:29.604208Z",
     "start_time": "2023-07-15T17:12:29.587101Z"
    }
   },
   "outputs": [
    {
     "data": {
      "text/plain": [
       "'Intellipat training course'"
      ]
     },
     "execution_count": 171,
     "metadata": {},
     "output_type": "execute_result"
    }
   ],
   "source": [
    "string"
   ]
  },
  {
   "cell_type": "code",
   "execution_count": 173,
   "id": "f46f0716",
   "metadata": {
    "ExecuteTime": {
     "end_time": "2023-07-15T17:12:50.481681Z",
     "start_time": "2023-07-15T17:12:50.476693Z"
    }
   },
   "outputs": [
    {
     "data": {
      "text/plain": [
       "'Intellipat Python course'"
      ]
     },
     "execution_count": 173,
     "metadata": {},
     "output_type": "execute_result"
    }
   ],
   "source": [
    "x"
   ]
  },
  {
   "cell_type": "markdown",
   "id": "6187eccc",
   "metadata": {
    "ExecuteTime": {
     "end_time": "2023-07-15T17:14:48.407210Z",
     "start_time": "2023-07-15T17:14:48.396838Z"
    }
   },
   "source": [
    "### Slicing"
   ]
  },
  {
   "cell_type": "code",
   "execution_count": 179,
   "id": "54b7f574",
   "metadata": {
    "ExecuteTime": {
     "end_time": "2023-07-15T17:15:14.133467Z",
     "start_time": "2023-07-15T17:15:14.119321Z"
    }
   },
   "outputs": [],
   "source": [
    "string = \"Intellipat Python Training\"\n",
    "#           012345678"
   ]
  },
  {
   "cell_type": "code",
   "execution_count": 181,
   "id": "6bc2e072",
   "metadata": {
    "ExecuteTime": {
     "end_time": "2023-07-15T17:16:54.139067Z",
     "start_time": "2023-07-15T17:16:54.118756Z"
    }
   },
   "outputs": [
    {
     "data": {
      "text/plain": [
       "'nte'"
      ]
     },
     "execution_count": 181,
     "metadata": {},
     "output_type": "execute_result"
    }
   ],
   "source": [
    "string[1:4]\n",
    "# stringng[n1:n2] , here n2 => n2-1\n"
   ]
  },
  {
   "cell_type": "code",
   "execution_count": 183,
   "id": "ac2b25f4",
   "metadata": {
    "ExecuteTime": {
     "end_time": "2023-07-15T17:18:22.310241Z",
     "start_time": "2023-07-15T17:18:22.290394Z"
    }
   },
   "outputs": [
    {
     "data": {
      "text/plain": [
       "'nelp'"
      ]
     },
     "execution_count": 183,
     "metadata": {},
     "output_type": "execute_result"
    }
   ],
   "source": [
    "string[1:9:2] \n",
    "# string[start:stop:step]"
   ]
  },
  {
   "cell_type": "code",
   "execution_count": 184,
   "id": "383d4b0e",
   "metadata": {
    "ExecuteTime": {
     "end_time": "2023-07-15T17:19:52.825043Z",
     "start_time": "2023-07-15T17:19:52.806454Z"
    }
   },
   "outputs": [
    {
     "data": {
      "text/plain": [
       "'gniniarT nohtyP tapilletnI'"
      ]
     },
     "execution_count": 184,
     "metadata": {},
     "output_type": "execute_result"
    }
   ],
   "source": [
    "string[ ::-1]"
   ]
  },
  {
   "cell_type": "code",
   "execution_count": 185,
   "id": "446743f0",
   "metadata": {
    "ExecuteTime": {
     "end_time": "2023-07-15T17:20:49.960512Z",
     "start_time": "2023-07-15T17:20:49.947742Z"
    }
   },
   "outputs": [],
   "source": [
    "string = \"Intellipat Python Training\""
   ]
  },
  {
   "cell_type": "code",
   "execution_count": 186,
   "id": "4543bbaa",
   "metadata": {
    "ExecuteTime": {
     "end_time": "2023-07-15T17:22:14.518975Z",
     "start_time": "2023-07-15T17:22:14.509913Z"
    }
   },
   "outputs": [
    {
     "data": {
      "text/plain": [
       "'Intellipat'"
      ]
     },
     "execution_count": 186,
     "metadata": {},
     "output_type": "execute_result"
    }
   ],
   "source": [
    "string[:10]\n",
    "# string[start:stop:step]"
   ]
  },
  {
   "cell_type": "code",
   "execution_count": 187,
   "id": "eb83e3ed",
   "metadata": {
    "ExecuteTime": {
     "end_time": "2023-07-15T17:22:45.213802Z",
     "start_time": "2023-07-15T17:22:45.193746Z"
    }
   },
   "outputs": [
    {
     "data": {
      "text/plain": [
       "'Python Training'"
      ]
     },
     "execution_count": 187,
     "metadata": {},
     "output_type": "execute_result"
    }
   ],
   "source": [
    "string[11:]"
   ]
  },
  {
   "cell_type": "code",
   "execution_count": 188,
   "id": "a77b3585",
   "metadata": {
    "ExecuteTime": {
     "end_time": "2023-07-15T17:23:05.877588Z",
     "start_time": "2023-07-15T17:23:05.859992Z"
    }
   },
   "outputs": [],
   "source": [
    "lst = [1,2,3,4,5,6,7]\n",
    "       0 1 2 3 4 5 6\n",
    "         end   start\n",
    "        \n",
    "        "
   ]
  },
  {
   "cell_type": "code",
   "execution_count": 192,
   "id": "74112989",
   "metadata": {
    "ExecuteTime": {
     "end_time": "2023-07-15T17:25:38.696455Z",
     "start_time": "2023-07-15T17:25:38.685886Z"
    }
   },
   "outputs": [
    {
     "data": {
      "text/plain": [
       "[7, 6, 5, 4, 3, 2, 1]"
      ]
     },
     "execution_count": 192,
     "metadata": {},
     "output_type": "execute_result"
    }
   ],
   "source": [
    "lst[::-1]"
   ]
  },
  {
   "cell_type": "code",
   "execution_count": 190,
   "id": "b358c833",
   "metadata": {
    "ExecuteTime": {
     "end_time": "2023-07-15T17:24:33.174787Z",
     "start_time": "2023-07-15T17:24:33.158409Z"
    }
   },
   "outputs": [
    {
     "data": {
      "text/plain": [
       "[1, 2, 3, 4, 5, 6, 7]"
      ]
     },
     "execution_count": 190,
     "metadata": {},
     "output_type": "execute_result"
    }
   ],
   "source": [
    "lst"
   ]
  },
  {
   "cell_type": "code",
   "execution_count": 193,
   "id": "4bc74436",
   "metadata": {
    "ExecuteTime": {
     "end_time": "2023-07-15T17:25:41.055350Z",
     "start_time": "2023-07-15T17:25:41.043092Z"
    }
   },
   "outputs": [
    {
     "data": {
      "text/plain": [
       "[5, 4, 3]"
      ]
     },
     "execution_count": 193,
     "metadata": {},
     "output_type": "execute_result"
    }
   ],
   "source": [
    "lst[4:1:-1]"
   ]
  },
  {
   "cell_type": "code",
   "execution_count": 194,
   "id": "3e5a0d9d",
   "metadata": {
    "ExecuteTime": {
     "end_time": "2023-07-15T17:29:48.951385Z",
     "start_time": "2023-07-15T17:29:48.940651Z"
    }
   },
   "outputs": [
    {
     "data": {
      "text/plain": [
       "[7, 4, 1]"
      ]
     },
     "execution_count": 194,
     "metadata": {},
     "output_type": "execute_result"
    }
   ],
   "source": [
    "lst[::-3]"
   ]
  },
  {
   "cell_type": "code",
   "execution_count": null,
   "id": "f646489f",
   "metadata": {},
   "outputs": [],
   "source": [
    "lst = [1,2,3,4,5,6,7]\n",
    "       7 6 5 4 3 2 1\n",
    "                    "
   ]
  },
  {
   "cell_type": "code",
   "execution_count": 195,
   "id": "5121d092",
   "metadata": {
    "ExecuteTime": {
     "end_time": "2023-07-15T17:33:09.797086Z",
     "start_time": "2023-07-15T17:33:09.775932Z"
    }
   },
   "outputs": [
    {
     "data": {
      "text/plain": [
       "dict"
      ]
     },
     "execution_count": 195,
     "metadata": {},
     "output_type": "execute_result"
    }
   ],
   "source": [
    "b={}\n",
    "type(b)\n",
    "b."
   ]
  },
  {
   "cell_type": "code",
   "execution_count": 196,
   "id": "68e55a22",
   "metadata": {
    "ExecuteTime": {
     "end_time": "2023-07-15T17:33:55.605382Z",
     "start_time": "2023-07-15T17:33:55.598353Z"
    }
   },
   "outputs": [
    {
     "data": {
      "text/plain": [
       "list"
      ]
     },
     "execution_count": 196,
     "metadata": {},
     "output_type": "execute_result"
    }
   ],
   "source": [
    "c = []\n",
    "type(c)"
   ]
  },
  {
   "cell_type": "code",
   "execution_count": null,
   "id": "dae02038",
   "metadata": {},
   "outputs": [],
   "source": []
  }
 ],
 "metadata": {
  "kernelspec": {
   "display_name": "Python 3",
   "language": "python",
   "name": "python3"
  },
  "language_info": {
   "codemirror_mode": {
    "name": "ipython",
    "version": 3
   },
   "file_extension": ".py",
   "mimetype": "text/x-python",
   "name": "python",
   "nbconvert_exporter": "python",
   "pygments_lexer": "ipython3",
   "version": "3.8.8"
  },
  "toc": {
   "base_numbering": 1,
   "nav_menu": {},
   "number_sections": true,
   "sideBar": true,
   "skip_h1_title": false,
   "title_cell": "Table of Contents",
   "title_sidebar": "Contents",
   "toc_cell": false,
   "toc_position": {},
   "toc_section_display": true,
   "toc_window_display": true
  }
 },
 "nbformat": 4,
 "nbformat_minor": 5
}
