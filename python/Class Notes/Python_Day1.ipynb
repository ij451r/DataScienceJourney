{
 "cells": [
  {
   "cell_type": "markdown",
   "metadata": {
    "toc": true
   },
   "source": [
    "<h1>Table of Contents<span class=\"tocSkip\"></span></h1>\n",
    "<div class=\"toc\"><ul class=\"toc-item\"><li><span><a href=\"#Variables-in-Python\" data-toc-modified-id=\"Variables-in-Python-1\"><span class=\"toc-item-num\">1&nbsp;&nbsp;</span>Variables in Python</a></span><ul class=\"toc-item\"><li><span><a href=\"#Declare-variable\" data-toc-modified-id=\"Declare-variable-1.1\"><span class=\"toc-item-num\">1.1&nbsp;&nbsp;</span>Declare variable</a></span></li><li><span><a href=\"#Declare-multiple-variables-in-single-line\" data-toc-modified-id=\"Declare-multiple-variables-in-single-line-1.2\"><span class=\"toc-item-num\">1.2&nbsp;&nbsp;</span>Declare multiple variables in single line</a></span></li><li><span><a href=\"#Naming-Convention-while-declaring-variable\" data-toc-modified-id=\"Naming-Convention-while-declaring-variable-1.3\"><span class=\"toc-item-num\">1.3&nbsp;&nbsp;</span>Naming Convention while declaring variable</a></span></li></ul></li><li><span><a href=\"#Python-Operators\" data-toc-modified-id=\"Python-Operators-2\"><span class=\"toc-item-num\">2&nbsp;&nbsp;</span>Python Operators</a></span><ul class=\"toc-item\"><li><span><a href=\"#Arithmetic-Operator-with-Assignment\" data-toc-modified-id=\"Arithmetic-Operator-with-Assignment-2.1\"><span class=\"toc-item-num\">2.1&nbsp;&nbsp;</span>Arithmetic Operator with Assignment</a></span></li><li><span><a href=\"#Comparison-Operator\" data-toc-modified-id=\"Comparison-Operator-2.2\"><span class=\"toc-item-num\">2.2&nbsp;&nbsp;</span>Comparison Operator</a></span></li><li><span><a href=\"#Logical-Operator\" data-toc-modified-id=\"Logical-Operator-2.3\"><span class=\"toc-item-num\">2.3&nbsp;&nbsp;</span>Logical Operator</a></span></li><li><span><a href=\"#Bitwise-Operator-with-assignment\" data-toc-modified-id=\"Bitwise-Operator-with-assignment-2.4\"><span class=\"toc-item-num\">2.4&nbsp;&nbsp;</span>Bitwise Operator with assignment</a></span></li></ul></li></ul></div>"
   ]
  },
  {
   "cell_type": "markdown",
   "metadata": {},
   "source": [
    "## Variables in Python"
   ]
  },
  {
   "cell_type": "markdown",
   "metadata": {
    "ExecuteTime": {
     "end_time": "2023-01-02T08:26:18.206416Z",
     "start_time": "2023-01-02T08:26:18.143988Z"
    }
   },
   "source": [
    "### Declare variable"
   ]
  },
  {
   "cell_type": "code",
   "execution_count": 10,
   "metadata": {
    "ExecuteTime": {
     "end_time": "2023-01-02T08:27:58.208401Z",
     "start_time": "2023-01-02T08:27:58.168316Z"
    },
    "id": "3irpxLIEt4ES"
   },
   "outputs": [],
   "source": [
    "a = 10"
   ]
  },
  {
   "cell_type": "code",
   "execution_count": 11,
   "metadata": {
    "ExecuteTime": {
     "end_time": "2023-01-02T08:27:58.741057Z",
     "start_time": "2023-01-02T08:27:58.703380Z"
    },
    "colab": {
     "base_uri": "https://localhost:8080/"
    },
    "id": "gLKXp25VviTK",
    "outputId": "68243e3e-a245-448a-907a-0aed30dd788a"
   },
   "outputs": [
    {
     "name": "stdout",
     "output_type": "stream",
     "text": [
      "10\n"
     ]
    }
   ],
   "source": [
    "print(a)"
   ]
  },
  {
   "cell_type": "code",
   "execution_count": 12,
   "metadata": {
    "ExecuteTime": {
     "end_time": "2023-01-02T08:27:59.416432Z",
     "start_time": "2023-01-02T08:27:59.379321Z"
    },
    "id": "5_24f344u2jM"
   },
   "outputs": [],
   "source": [
    "b = \"hello world\""
   ]
  },
  {
   "cell_type": "code",
   "execution_count": 13,
   "metadata": {
    "ExecuteTime": {
     "end_time": "2023-01-02T08:27:59.912248Z",
     "start_time": "2023-01-02T08:27:59.896569Z"
    },
    "colab": {
     "base_uri": "https://localhost:8080/"
    },
    "id": "SuasIYzz0SRZ",
    "outputId": "7659a97f-2363-4d59-a7a1-01b1d568748e"
   },
   "outputs": [
    {
     "name": "stdout",
     "output_type": "stream",
     "text": [
      "hello world\n"
     ]
    }
   ],
   "source": [
    "print(b)"
   ]
  },
  {
   "cell_type": "code",
   "execution_count": 14,
   "metadata": {
    "ExecuteTime": {
     "end_time": "2023-01-02T08:28:00.423513Z",
     "start_time": "2023-01-02T08:28:00.400608Z"
    },
    "id": "MSjmCJdV0iaJ"
   },
   "outputs": [],
   "source": [
    "c = 10.5"
   ]
  },
  {
   "cell_type": "code",
   "execution_count": 15,
   "metadata": {
    "ExecuteTime": {
     "end_time": "2023-01-02T08:28:00.966348Z",
     "start_time": "2023-01-02T08:28:00.929563Z"
    },
    "colab": {
     "base_uri": "https://localhost:8080/"
    },
    "id": "V3VnK9er0pQl",
    "outputId": "05abd104-73c3-4fe1-ff1a-aac0a5c8fa33"
   },
   "outputs": [
    {
     "name": "stdout",
     "output_type": "stream",
     "text": [
      "10.5\n"
     ]
    }
   ],
   "source": [
    "print(c)"
   ]
  },
  {
   "cell_type": "markdown",
   "metadata": {},
   "source": [
    "### Declare multiple variables in single line"
   ]
  },
  {
   "cell_type": "code",
   "execution_count": 21,
   "metadata": {
    "ExecuteTime": {
     "end_time": "2023-01-02T08:30:53.397183Z",
     "start_time": "2023-01-02T08:30:53.371572Z"
    },
    "id": "hTAElEiE0qxs"
   },
   "outputs": [],
   "source": [
    "a,b,c = 10,20,\"Intellipat\""
   ]
  },
  {
   "cell_type": "code",
   "execution_count": 22,
   "metadata": {
    "ExecuteTime": {
     "end_time": "2023-01-02T08:30:53.760199Z",
     "start_time": "2023-01-02T08:30:53.720831Z"
    },
    "colab": {
     "base_uri": "https://localhost:8080/"
    },
    "id": "xXpK6DFr1nM6",
    "outputId": "eb060b67-0e24-4d10-a6af-ca27c0a8a8bb"
   },
   "outputs": [
    {
     "name": "stdout",
     "output_type": "stream",
     "text": [
      "10 20 Intellipat\n"
     ]
    }
   ],
   "source": [
    "print(a,b,c)"
   ]
  },
  {
   "cell_type": "code",
   "execution_count": 23,
   "metadata": {
    "ExecuteTime": {
     "end_time": "2023-01-02T08:30:54.174169Z",
     "start_time": "2023-01-02T08:30:54.149332Z"
    },
    "colab": {
     "base_uri": "https://localhost:8080/"
    },
    "id": "q6ye8CVD10Or",
    "outputId": "426e2774-f43f-4c12-da25-28848707c3d3"
   },
   "outputs": [
    {
     "data": {
      "text/plain": [
       "(10, 20, 'Intellipat')"
      ]
     },
     "execution_count": 23,
     "metadata": {},
     "output_type": "execute_result"
    }
   ],
   "source": [
    "a,b,c"
   ]
  },
  {
   "cell_type": "code",
   "execution_count": 24,
   "metadata": {
    "ExecuteTime": {
     "end_time": "2023-01-02T08:30:54.573978Z",
     "start_time": "2023-01-02T08:30:54.554554Z"
    },
    "colab": {
     "base_uri": "https://localhost:8080/"
    },
    "id": "1hXnoaF011g3",
    "outputId": "46e28ef2-fe08-4072-bb7f-046d62845a33"
   },
   "outputs": [
    {
     "data": {
      "text/plain": [
       "(10, 20, 'Intellipat', 10)"
      ]
     },
     "execution_count": 24,
     "metadata": {},
     "output_type": "execute_result"
    }
   ],
   "source": [
    "d = 10\n",
    "a,b,c,d"
   ]
  },
  {
   "cell_type": "markdown",
   "metadata": {},
   "source": [
    "### Naming Convention while declaring variable\n",
    "- Variables in Python are case sensitive\n",
    "- A variable name cannot start with a number\n",
    "- A variable name can consist of alphanumeric characters\n",
    "- A variable name can start with a character or an underscore"
   ]
  },
  {
   "cell_type": "code",
   "execution_count": 25,
   "metadata": {
    "ExecuteTime": {
     "end_time": "2023-01-02T08:34:02.602096Z",
     "start_time": "2023-01-02T08:34:02.487602Z"
    },
    "colab": {
     "base_uri": "https://localhost:8080/"
    },
    "id": "qdwSikv52NjR",
    "outputId": "1a6cd61e-7c45-41ba-bca5-7151c8b2dcbd"
   },
   "outputs": [
    {
     "name": "stdout",
     "output_type": "stream",
     "text": [
      "20\n"
     ]
    }
   ],
   "source": [
    "a =10\n",
    "A = 20\n",
    "print(A)"
   ]
  },
  {
   "cell_type": "code",
   "execution_count": 29,
   "metadata": {
    "ExecuteTime": {
     "end_time": "2023-01-02T08:36:05.590774Z",
     "start_time": "2023-01-02T08:36:05.570158Z"
    }
   },
   "outputs": [],
   "source": [
    "# 123abc = 10 # this will not work as variable name cannot start with a number"
   ]
  },
  {
   "cell_type": "code",
   "execution_count": 26,
   "metadata": {
    "ExecuteTime": {
     "end_time": "2023-01-02T08:34:43.657976Z",
     "start_time": "2023-01-02T08:34:43.638661Z"
    }
   },
   "outputs": [
    {
     "name": "stdout",
     "output_type": "stream",
     "text": [
      "10\n"
     ]
    }
   ],
   "source": [
    "abc123 = 10\n",
    "print(abc123)"
   ]
  },
  {
   "cell_type": "code",
   "execution_count": 27,
   "metadata": {
    "ExecuteTime": {
     "end_time": "2023-01-02T08:35:01.682540Z",
     "start_time": "2023-01-02T08:35:01.656978Z"
    },
    "id": "48ZpBH02v7R8"
   },
   "outputs": [
    {
     "name": "stdout",
     "output_type": "stream",
     "text": [
      "10\n"
     ]
    }
   ],
   "source": [
    "_student_name = 10\n",
    "print(_student_name)"
   ]
  },
  {
   "cell_type": "code",
   "execution_count": 28,
   "metadata": {
    "ExecuteTime": {
     "end_time": "2023-01-02T08:35:05.840781Z",
     "start_time": "2023-01-02T08:35:05.805272Z"
    },
    "colab": {
     "base_uri": "https://localhost:8080/"
    },
    "id": "Ej2SUnL04WGy",
    "outputId": "dd057592-ab1d-4db5-f0a4-d7e0b13b6f00"
   },
   "outputs": [
    {
     "name": "stdout",
     "output_type": "stream",
     "text": [
      "10\n"
     ]
    }
   ],
   "source": [
    "_a1231321 = 10\n",
    "print(_a1231321)"
   ]
  },
  {
   "cell_type": "markdown",
   "metadata": {},
   "source": [
    "## Python Operators"
   ]
  },
  {
   "cell_type": "markdown",
   "metadata": {
    "ExecuteTime": {
     "end_time": "2023-01-02T08:43:21.921805Z",
     "start_time": "2023-01-02T08:43:21.910473Z"
    }
   },
   "source": [
    "### Arithmetic Operator with Assignment"
   ]
  },
  {
   "cell_type": "code",
   "execution_count": 31,
   "metadata": {
    "ExecuteTime": {
     "end_time": "2023-01-02T08:42:01.143578Z",
     "start_time": "2023-01-02T08:42:01.110687Z"
    },
    "colab": {
     "base_uri": "https://localhost:8080/"
    },
    "id": "qyz6wXm76Nhi",
    "outputId": "ff49fec8-d0c3-47e8-b5ed-f5a63927c44d"
   },
   "outputs": [
    {
     "name": "stdout",
     "output_type": "stream",
     "text": [
      "16\n"
     ]
    }
   ],
   "source": [
    "a = 10\n",
    "a += 6 #is same as a = a+ 5\n",
    "print(a)"
   ]
  },
  {
   "cell_type": "code",
   "execution_count": 32,
   "metadata": {
    "ExecuteTime": {
     "end_time": "2023-01-02T08:42:34.355212Z",
     "start_time": "2023-01-02T08:42:34.326279Z"
    },
    "id": "7wSCYSrI_5ub"
   },
   "outputs": [
    {
     "name": "stdout",
     "output_type": "stream",
     "text": [
      "5\n"
     ]
    }
   ],
   "source": [
    "b = 10\n",
    "b = b - 5\n",
    "print(b)"
   ]
  },
  {
   "cell_type": "code",
   "execution_count": 34,
   "metadata": {
    "ExecuteTime": {
     "end_time": "2023-01-02T08:44:07.836021Z",
     "start_time": "2023-01-02T08:44:07.813412Z"
    }
   },
   "outputs": [
    {
     "name": "stdout",
     "output_type": "stream",
     "text": [
      "50\n"
     ]
    }
   ],
   "source": [
    "c = 5\n",
    "c *= 10\n",
    "print(c)"
   ]
  },
  {
   "cell_type": "code",
   "execution_count": 43,
   "metadata": {
    "ExecuteTime": {
     "end_time": "2023-01-02T08:49:59.734462Z",
     "start_time": "2023-01-02T08:49:59.691299Z"
    }
   },
   "outputs": [
    {
     "name": "stdout",
     "output_type": "stream",
     "text": [
      "1\n"
     ]
    }
   ],
   "source": [
    "a %= b \n",
    "print(a)"
   ]
  },
  {
   "cell_type": "code",
   "execution_count": 44,
   "metadata": {
    "ExecuteTime": {
     "end_time": "2023-01-02T08:51:39.300638Z",
     "start_time": "2023-01-02T08:51:39.251235Z"
    }
   },
   "outputs": [
    {
     "name": "stdout",
     "output_type": "stream",
     "text": [
      "64\n"
     ]
    }
   ],
   "source": [
    "a = 4 \n",
    "b = 3  \n",
    "a **= b   # a = a ** b or a **= b  \n",
    "print(a)"
   ]
  },
  {
   "cell_type": "markdown",
   "metadata": {
    "ExecuteTime": {
     "end_time": "2023-01-02T09:11:34.283800Z",
     "start_time": "2023-01-02T09:11:34.222180Z"
    }
   },
   "source": [
    "### Comparison Operator"
   ]
  },
  {
   "cell_type": "code",
   "execution_count": 58,
   "metadata": {
    "ExecuteTime": {
     "end_time": "2023-01-02T09:15:07.047854Z",
     "start_time": "2023-01-02T09:15:07.015249Z"
    }
   },
   "outputs": [],
   "source": [
    "a = 21\n",
    "b = 10"
   ]
  },
  {
   "cell_type": "code",
   "execution_count": 59,
   "metadata": {
    "ExecuteTime": {
     "end_time": "2023-01-02T09:15:07.377419Z",
     "start_time": "2023-01-02T09:15:07.341017Z"
    }
   },
   "outputs": [
    {
     "data": {
      "text/plain": [
       "False"
      ]
     },
     "execution_count": 59,
     "metadata": {},
     "output_type": "execute_result"
    }
   ],
   "source": [
    "a == b # a is not equal to b"
   ]
  },
  {
   "cell_type": "code",
   "execution_count": 60,
   "metadata": {
    "ExecuteTime": {
     "end_time": "2023-01-02T09:15:07.829910Z",
     "start_time": "2023-01-02T09:15:07.810130Z"
    }
   },
   "outputs": [
    {
     "data": {
      "text/plain": [
       "True"
      ]
     },
     "execution_count": 60,
     "metadata": {},
     "output_type": "execute_result"
    }
   ],
   "source": [
    "a != b # a is not equal to b , its true"
   ]
  },
  {
   "cell_type": "code",
   "execution_count": 61,
   "metadata": {
    "ExecuteTime": {
     "end_time": "2023-01-02T09:15:08.267461Z",
     "start_time": "2023-01-02T09:15:08.253044Z"
    }
   },
   "outputs": [
    {
     "data": {
      "text/plain": [
       "True"
      ]
     },
     "execution_count": 61,
     "metadata": {},
     "output_type": "execute_result"
    }
   ],
   "source": [
    "a > b # a is greater than b"
   ]
  },
  {
   "cell_type": "code",
   "execution_count": 62,
   "metadata": {
    "ExecuteTime": {
     "end_time": "2023-01-02T09:15:08.856891Z",
     "start_time": "2023-01-02T09:15:08.824901Z"
    }
   },
   "outputs": [
    {
     "data": {
      "text/plain": [
       "False"
      ]
     },
     "execution_count": 62,
     "metadata": {},
     "output_type": "execute_result"
    }
   ],
   "source": [
    "a < b # a is not less than b so its false"
   ]
  },
  {
   "cell_type": "markdown",
   "metadata": {
    "ExecuteTime": {
     "end_time": "2023-01-02T09:15:28.520962Z",
     "start_time": "2023-01-02T09:15:28.505230Z"
    }
   },
   "source": [
    "### Logical Operator"
   ]
  },
  {
   "cell_type": "code",
   "execution_count": 70,
   "metadata": {
    "ExecuteTime": {
     "end_time": "2023-01-02T09:45:54.114690Z",
     "start_time": "2023-01-02T09:45:54.084711Z"
    }
   },
   "outputs": [],
   "source": [
    "a = 10\n",
    "b = 10\n",
    "c = -10  "
   ]
  },
  {
   "cell_type": "code",
   "execution_count": 71,
   "metadata": {
    "ExecuteTime": {
     "end_time": "2023-01-02T09:45:54.471007Z",
     "start_time": "2023-01-02T09:45:54.436375Z"
    }
   },
   "outputs": [
    {
     "data": {
      "text/plain": [
       "True"
      ]
     },
     "execution_count": 71,
     "metadata": {},
     "output_type": "execute_result"
    }
   ],
   "source": [
    "a > 0 and b > 0"
   ]
  },
  {
   "cell_type": "code",
   "execution_count": 72,
   "metadata": {
    "ExecuteTime": {
     "end_time": "2023-01-02T09:45:55.201666Z",
     "start_time": "2023-01-02T09:45:55.169447Z"
    }
   },
   "outputs": [
    {
     "data": {
      "text/plain": [
       "False"
      ]
     },
     "execution_count": 72,
     "metadata": {},
     "output_type": "execute_result"
    }
   ],
   "source": [
    "a > 0 and b > 0 and c > 0"
   ]
  },
  {
   "cell_type": "code",
   "execution_count": 74,
   "metadata": {
    "ExecuteTime": {
     "end_time": "2023-01-02T09:46:02.195113Z",
     "start_time": "2023-01-02T09:46:02.183655Z"
    }
   },
   "outputs": [
    {
     "data": {
      "text/plain": [
       "10"
      ]
     },
     "execution_count": 74,
     "metadata": {},
     "output_type": "execute_result"
    }
   ],
   "source": [
    "a and b"
   ]
  },
  {
   "cell_type": "code",
   "execution_count": 76,
   "metadata": {
    "ExecuteTime": {
     "end_time": "2023-01-02T09:47:30.807198Z",
     "start_time": "2023-01-02T09:47:30.768372Z"
    }
   },
   "outputs": [],
   "source": [
    "a = 10\n",
    "b = -10\n",
    "c = 0"
   ]
  },
  {
   "cell_type": "code",
   "execution_count": 77,
   "metadata": {
    "ExecuteTime": {
     "end_time": "2023-01-02T09:47:31.299200Z",
     "start_time": "2023-01-02T09:47:31.267392Z"
    }
   },
   "outputs": [
    {
     "data": {
      "text/plain": [
       "True"
      ]
     },
     "execution_count": 77,
     "metadata": {},
     "output_type": "execute_result"
    }
   ],
   "source": [
    "a > 0 or b > 0"
   ]
  },
  {
   "cell_type": "code",
   "execution_count": 79,
   "metadata": {
    "ExecuteTime": {
     "end_time": "2023-01-02T09:47:36.468634Z",
     "start_time": "2023-01-02T09:47:36.377174Z"
    }
   },
   "outputs": [
    {
     "data": {
      "text/plain": [
       "False"
      ]
     },
     "execution_count": 79,
     "metadata": {},
     "output_type": "execute_result"
    }
   ],
   "source": [
    "b > 0 or c > 0"
   ]
  },
  {
   "cell_type": "markdown",
   "metadata": {},
   "source": [
    "### Bitwise Operator with assignment"
   ]
  },
  {
   "cell_type": "code",
   "execution_count": null,
   "metadata": {},
   "outputs": [],
   "source": []
  },
  {
   "cell_type": "code",
   "execution_count": 46,
   "metadata": {
    "ExecuteTime": {
     "end_time": "2023-01-02T09:00:50.200617Z",
     "start_time": "2023-01-02T09:00:50.092191Z"
    }
   },
   "outputs": [
    {
     "name": "stdout",
     "output_type": "stream",
     "text": [
      "4\n"
     ]
    }
   ],
   "source": [
    "a = 6  #0110 (6 in binary)\n",
    "b = 13 #1101  (13 in binary)  \n",
    "  \n",
    "a &= b #0110(6) & 1101(13)  will result in 0100(4)\n",
    "\n",
    "print(a) #0100 = 4"
   ]
  },
  {
   "cell_type": "code",
   "execution_count": 47,
   "metadata": {
    "ExecuteTime": {
     "end_time": "2023-01-02T09:02:42.717298Z",
     "start_time": "2023-01-02T09:02:42.693924Z"
    }
   },
   "outputs": [
    {
     "name": "stdout",
     "output_type": "stream",
     "text": [
      "15\n"
     ]
    }
   ],
   "source": [
    "a = 6  #0110 (6 in binary)\n",
    "b = 13 #1101  (13 in binary) \n",
    "  \n",
    "a |= b #0110(6) & 1101(13)  will result in 1111(4)\n",
    "  \n",
    "print(a) #1111 = 15"
   ]
  },
  {
   "cell_type": "code",
   "execution_count": 49,
   "metadata": {
    "ExecuteTime": {
     "end_time": "2023-01-02T09:05:48.495240Z",
     "start_time": "2023-01-02T09:05:48.474897Z"
    }
   },
   "outputs": [
    {
     "name": "stdout",
     "output_type": "stream",
     "text": [
      "1\n"
     ]
    }
   ],
   "source": [
    "# Bitwise Right shift operator and assignment\n",
    "a = 6   \n",
    "b = 2   \n",
    "\n",
    "a >>= b     \n",
    "\n",
    "print(a)  "
   ]
  }
 ],
 "metadata": {
  "colab": {
   "provenance": []
  },
  "kernelspec": {
   "display_name": "Python 3",
   "language": "python",
   "name": "python3"
  },
  "language_info": {
   "codemirror_mode": {
    "name": "ipython",
    "version": 3
   },
   "file_extension": ".py",
   "mimetype": "text/x-python",
   "name": "python",
   "nbconvert_exporter": "python",
   "pygments_lexer": "ipython3",
   "version": "3.8.8"
  },
  "toc": {
   "base_numbering": 1,
   "nav_menu": {},
   "number_sections": true,
   "sideBar": true,
   "skip_h1_title": false,
   "title_cell": "Table of Contents",
   "title_sidebar": "Contents",
   "toc_cell": true,
   "toc_position": {},
   "toc_section_display": true,
   "toc_window_display": true
  }
 },
 "nbformat": 4,
 "nbformat_minor": 1
}
