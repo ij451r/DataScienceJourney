{
 "cells": [
  {
   "cell_type": "markdown",
   "id": "8ab17a5e",
   "metadata": {},
   "source": [
    "## Doubts"
   ]
  },
  {
   "cell_type": "code",
   "execution_count": 3,
   "id": "4a24cfb7",
   "metadata": {
    "ExecuteTime": {
     "end_time": "2023-08-05T14:42:31.062184Z",
     "start_time": "2023-08-05T14:42:31.053387Z"
    }
   },
   "outputs": [],
   "source": [
    "# In java there is concept of singleton class. Is similar thing there in Python class?"
   ]
  },
  {
   "cell_type": "code",
   "execution_count": 2,
   "id": "54cc3d5d",
   "metadata": {
    "ExecuteTime": {
     "end_time": "2023-08-05T14:42:28.330111Z",
     "start_time": "2023-08-05T14:42:28.315274Z"
    }
   },
   "outputs": [],
   "source": [
    "# Can you please explain the Lambda function and in what scenerio will we use it\n",
    "# lambda arguments : expression"
   ]
  },
  {
   "cell_type": "code",
   "execution_count": 1,
   "id": "1015987f",
   "metadata": {
    "ExecuteTime": {
     "end_time": "2023-08-05T14:40:45.885096Z",
     "start_time": "2023-08-05T14:40:45.857990Z"
    }
   },
   "outputs": [
    {
     "data": {
      "text/plain": [
       "7"
      ]
     },
     "execution_count": 1,
     "metadata": {},
     "output_type": "execute_result"
    }
   ],
   "source": [
    "add = lambda x,y : x+y\n",
    "add(3,4)"
   ]
  },
  {
   "cell_type": "code",
   "execution_count": 5,
   "id": "f3f80a44",
   "metadata": {
    "ExecuteTime": {
     "end_time": "2023-08-05T14:45:16.845225Z",
     "start_time": "2023-08-05T14:45:10.092001Z"
    }
   },
   "outputs": [
    {
     "name": "stdout",
     "output_type": "stream",
     "text": [
      "enter five number1 2 3 4 5\n",
      "elements : ['1', '2', '3', '4', '5']\n"
     ]
    }
   ],
   "source": [
    "user_input = input(\"enter five number\")\n",
    "elements  = user_input.split()\n",
    "print(\"elements :\",elements)"
   ]
  },
  {
   "cell_type": "code",
   "execution_count": 6,
   "id": "b34c992d",
   "metadata": {
    "ExecuteTime": {
     "end_time": "2023-08-05T14:45:49.726855Z",
     "start_time": "2023-08-05T14:45:46.171008Z"
    }
   },
   "outputs": [
    {
     "name": "stdout",
     "output_type": "stream",
     "text": [
      "enter five number1,2,3,4,5\n",
      "elements : ['1', '2', '3', '4', '5']\n"
     ]
    }
   ],
   "source": [
    "user_input = input(\"enter five number\")\n",
    "elements  = user_input.split(',')\n",
    "print(\"elements :\",elements)"
   ]
  },
  {
   "cell_type": "code",
   "execution_count": 7,
   "id": "35a40543",
   "metadata": {
    "ExecuteTime": {
     "end_time": "2023-08-05T14:46:14.724335Z",
     "start_time": "2023-08-05T14:46:04.448792Z"
    }
   },
   "outputs": [
    {
     "name": "stdout",
     "output_type": "stream",
     "text": [
      "enter five number1:2:3:4:5\n",
      "elements : ['1', '2', '3', '4', '5']\n"
     ]
    }
   ],
   "source": [
    "user_input = input(\"enter five number\")\n",
    "elements  = user_input.split(':')\n",
    "print(\"elements :\",elements)"
   ]
  },
  {
   "cell_type": "markdown",
   "id": "e87e163c",
   "metadata": {},
   "source": [
    "## Installing and Importing Numpy"
   ]
  },
  {
   "cell_type": "code",
   "execution_count": 8,
   "id": "2e80c368",
   "metadata": {
    "ExecuteTime": {
     "end_time": "2023-08-05T15:17:49.006987Z",
     "start_time": "2023-08-05T15:17:43.665525Z"
    }
   },
   "outputs": [
    {
     "name": "stdout",
     "output_type": "stream",
     "text": [
      "Requirement already satisfied: numpy in c:\\users\\shant\\anaconda3\\lib\\site-packages (1.22.4)Note: you may need to restart the kernel to use updated packages.\n",
      "\n"
     ]
    }
   ],
   "source": [
    "pip install numpy"
   ]
  },
  {
   "cell_type": "code",
   "execution_count": 9,
   "id": "42facc2a",
   "metadata": {
    "ExecuteTime": {
     "end_time": "2023-08-05T15:30:38.766477Z",
     "start_time": "2023-08-05T15:30:38.401787Z"
    }
   },
   "outputs": [],
   "source": [
    "import numpy as np"
   ]
  },
  {
   "cell_type": "markdown",
   "id": "585b0575",
   "metadata": {},
   "source": [
    "## Create a Numpy Array (Ndarray)"
   ]
  },
  {
   "cell_type": "code",
   "execution_count": 10,
   "id": "2e102790",
   "metadata": {
    "ExecuteTime": {
     "end_time": "2023-08-05T15:31:15.930436Z",
     "start_time": "2023-08-05T15:31:15.899251Z"
    }
   },
   "outputs": [
    {
     "data": {
      "text/plain": [
       "array(11)"
      ]
     },
     "execution_count": 10,
     "metadata": {},
     "output_type": "execute_result"
    }
   ],
   "source": [
    "np.array(11)  # 0 dimensional array"
   ]
  },
  {
   "cell_type": "code",
   "execution_count": 12,
   "id": "544a73cd",
   "metadata": {
    "ExecuteTime": {
     "end_time": "2023-08-05T15:32:06.792199Z",
     "start_time": "2023-08-05T15:32:06.757609Z"
    }
   },
   "outputs": [
    {
     "data": {
      "text/plain": [
       "array([1, 2, 3, 4, 5])"
      ]
     },
     "execution_count": 12,
     "metadata": {},
     "output_type": "execute_result"
    }
   ],
   "source": [
    "np.array([1,2,3,4,5]) # 1 dimensional array"
   ]
  },
  {
   "cell_type": "code",
   "execution_count": 14,
   "id": "5547bfcb",
   "metadata": {
    "ExecuteTime": {
     "end_time": "2023-08-05T15:33:49.838955Z",
     "start_time": "2023-08-05T15:33:49.827659Z"
    }
   },
   "outputs": [
    {
     "data": {
      "text/plain": [
       "array([[ 1,  2,  3,  4,  5],\n",
       "       [ 6,  7,  8,  9, 10]])"
      ]
     },
     "execution_count": 14,
     "metadata": {},
     "output_type": "execute_result"
    }
   ],
   "source": [
    "np.array([[1,2,3,4,5],[6,7,8,9,10]]) # 2 dimensional arrays"
   ]
  },
  {
   "cell_type": "code",
   "execution_count": 13,
   "id": "e2f07f8e",
   "metadata": {
    "ExecuteTime": {
     "end_time": "2023-08-05T15:32:57.665607Z",
     "start_time": "2023-08-05T15:32:57.658108Z"
    }
   },
   "outputs": [
    {
     "data": {
      "text/plain": [
       "array([[1, 2],\n",
       "       [3, 4]])"
      ]
     },
     "execution_count": 13,
     "metadata": {},
     "output_type": "execute_result"
    }
   ],
   "source": [
    "np.array([(1,2),(3,4)])"
   ]
  },
  {
   "cell_type": "markdown",
   "id": "5d911dc2",
   "metadata": {},
   "source": [
    "## Array Initialization"
   ]
  },
  {
   "cell_type": "markdown",
   "id": "97257cba",
   "metadata": {},
   "source": [
    "### initialize all the elements of X * Y array to 0"
   ]
  },
  {
   "cell_type": "code",
   "execution_count": 15,
   "id": "387ab277",
   "metadata": {
    "ExecuteTime": {
     "end_time": "2023-08-05T15:35:40.637260Z",
     "start_time": "2023-08-05T15:35:40.615269Z"
    }
   },
   "outputs": [
    {
     "data": {
      "text/plain": [
       "array([[0., 0., 0., 0.],\n",
       "       [0., 0., 0., 0.],\n",
       "       [0., 0., 0., 0.]])"
      ]
     },
     "execution_count": 15,
     "metadata": {},
     "output_type": "execute_result"
    }
   ],
   "source": [
    "np.zeros((3,4))"
   ]
  },
  {
   "cell_type": "code",
   "execution_count": 16,
   "id": "b75ee61d",
   "metadata": {
    "ExecuteTime": {
     "end_time": "2023-08-05T15:36:42.056735Z",
     "start_time": "2023-08-05T15:36:42.045738Z"
    }
   },
   "outputs": [
    {
     "data": {
      "text/plain": [
       "array([[0, 0, 0, 0],\n",
       "       [0, 0, 0, 0],\n",
       "       [0, 0, 0, 0]])"
      ]
     },
     "execution_count": 16,
     "metadata": {},
     "output_type": "execute_result"
    }
   ],
   "source": [
    "np.zeros((3,4) , dtype = int)"
   ]
  },
  {
   "cell_type": "markdown",
   "id": "85e83f54",
   "metadata": {},
   "source": [
    "### initialize all the elements to Ones"
   ]
  },
  {
   "cell_type": "code",
   "execution_count": 17,
   "id": "b7955f40",
   "metadata": {
    "ExecuteTime": {
     "end_time": "2023-08-05T15:37:50.736322Z",
     "start_time": "2023-08-05T15:37:50.715360Z"
    }
   },
   "outputs": [
    {
     "data": {
      "text/plain": [
       "array([1., 1., 1., 1., 1.])"
      ]
     },
     "execution_count": 17,
     "metadata": {},
     "output_type": "execute_result"
    }
   ],
   "source": [
    "np.ones(5)"
   ]
  },
  {
   "cell_type": "code",
   "execution_count": 18,
   "id": "fe7cc22a",
   "metadata": {
    "ExecuteTime": {
     "end_time": "2023-08-05T15:38:16.711207Z",
     "start_time": "2023-08-05T15:38:16.705544Z"
    }
   },
   "outputs": [
    {
     "data": {
      "text/plain": [
       "array([1, 1, 1, 1, 1])"
      ]
     },
     "execution_count": 18,
     "metadata": {},
     "output_type": "execute_result"
    }
   ],
   "source": [
    "np.ones(5 , int)"
   ]
  },
  {
   "cell_type": "markdown",
   "id": "5d8df04e",
   "metadata": {},
   "source": [
    "### Initialize all the elements using full"
   ]
  },
  {
   "cell_type": "code",
   "execution_count": 19,
   "id": "d31e9ac4",
   "metadata": {
    "ExecuteTime": {
     "end_time": "2023-08-05T15:39:17.838880Z",
     "start_time": "2023-08-05T15:39:17.829985Z"
    }
   },
   "outputs": [
    {
     "data": {
      "text/plain": [
       "array([[6, 6, 6, 6, 6],\n",
       "       [6, 6, 6, 6, 6]])"
      ]
     },
     "execution_count": 19,
     "metadata": {},
     "output_type": "execute_result"
    }
   ],
   "source": [
    "np.full((2,5) , 6 , dtype=int)"
   ]
  },
  {
   "cell_type": "markdown",
   "id": "ce23996b",
   "metadata": {
    "ExecuteTime": {
     "end_time": "2023-08-05T15:39:30.889992Z",
     "start_time": "2023-08-05T15:39:30.886000Z"
    }
   },
   "source": [
    "### Identity matrix"
   ]
  },
  {
   "cell_type": "code",
   "execution_count": 21,
   "id": "a4c4678c",
   "metadata": {
    "ExecuteTime": {
     "end_time": "2023-08-05T15:39:47.991112Z",
     "start_time": "2023-08-05T15:39:47.953573Z"
    }
   },
   "outputs": [
    {
     "data": {
      "text/plain": [
       "array([[1., 0., 0.],\n",
       "       [0., 1., 0.],\n",
       "       [0., 0., 1.]])"
      ]
     },
     "execution_count": 21,
     "metadata": {},
     "output_type": "execute_result"
    }
   ],
   "source": [
    "np.eye(3)"
   ]
  },
  {
   "cell_type": "markdown",
   "id": "60868135",
   "metadata": {},
   "source": [
    "### Arange function()"
   ]
  },
  {
   "cell_type": "code",
   "execution_count": 22,
   "id": "adc417e7",
   "metadata": {
    "ExecuteTime": {
     "end_time": "2023-08-05T15:41:48.005193Z",
     "start_time": "2023-08-05T15:41:47.982171Z"
    }
   },
   "outputs": [
    {
     "data": {
      "text/plain": [
       "array([1, 3, 5, 7, 9])"
      ]
     },
     "execution_count": 22,
     "metadata": {},
     "output_type": "execute_result"
    }
   ],
   "source": [
    "np.arange(1,10,2)"
   ]
  },
  {
   "cell_type": "code",
   "execution_count": 23,
   "id": "df4b10e2",
   "metadata": {
    "ExecuteTime": {
     "end_time": "2023-08-05T15:43:14.871868Z",
     "start_time": "2023-08-05T15:43:14.863813Z"
    }
   },
   "outputs": [
    {
     "data": {
      "text/plain": [
       "array([10, 12, 14, 16, 18])"
      ]
     },
     "execution_count": 23,
     "metadata": {},
     "output_type": "execute_result"
    }
   ],
   "source": [
    "# even numbers between 10 and 20\n",
    "np.arange(10,20,2)"
   ]
  },
  {
   "cell_type": "code",
   "execution_count": 24,
   "id": "f70998b3",
   "metadata": {
    "ExecuteTime": {
     "end_time": "2023-08-05T15:45:42.058682Z",
     "start_time": "2023-08-05T15:45:42.026522Z"
    }
   },
   "outputs": [
    {
     "data": {
      "text/plain": [
       "array([0.        , 0.11111111, 0.22222222, 0.33333333, 0.44444444,\n",
       "       0.55555556, 0.66666667, 0.77777778, 0.88888889, 1.        ])"
      ]
     },
     "execution_count": 24,
     "metadata": {},
     "output_type": "execute_result"
    }
   ],
   "source": [
    "np.linspace(0,1,10)"
   ]
  },
  {
   "cell_type": "markdown",
   "id": "f2a0791b",
   "metadata": {},
   "source": [
    "### random function"
   ]
  },
  {
   "cell_type": "code",
   "execution_count": 26,
   "id": "7b2dfdb2",
   "metadata": {
    "ExecuteTime": {
     "end_time": "2023-08-05T15:49:38.120945Z",
     "start_time": "2023-08-05T15:49:38.095313Z"
    }
   },
   "outputs": [],
   "source": [
    "arr = np.random.random((2,3))"
   ]
  },
  {
   "cell_type": "code",
   "execution_count": 27,
   "id": "8f2f2ea7",
   "metadata": {
    "ExecuteTime": {
     "end_time": "2023-08-05T15:49:43.261876Z",
     "start_time": "2023-08-05T15:49:43.253100Z"
    }
   },
   "outputs": [
    {
     "data": {
      "text/plain": [
       "array([[0.7079548 , 0.20188531, 0.4903584 ],\n",
       "       [0.99535721, 0.7742605 , 0.19842787]])"
      ]
     },
     "execution_count": 27,
     "metadata": {},
     "output_type": "execute_result"
    }
   ],
   "source": [
    "arr"
   ]
  },
  {
   "cell_type": "code",
   "execution_count": 28,
   "id": "2afeabc9",
   "metadata": {
    "ExecuteTime": {
     "end_time": "2023-08-05T15:49:46.567732Z",
     "start_time": "2023-08-05T15:49:46.551878Z"
    }
   },
   "outputs": [
    {
     "data": {
      "text/plain": [
       "numpy.ndarray"
      ]
     },
     "execution_count": 28,
     "metadata": {},
     "output_type": "execute_result"
    }
   ],
   "source": [
    "type(arr)"
   ]
  },
  {
   "cell_type": "markdown",
   "id": "ce740b1d",
   "metadata": {},
   "source": [
    "## Array Inspection"
   ]
  },
  {
   "cell_type": "code",
   "execution_count": 29,
   "id": "2eb1bff4",
   "metadata": {
    "ExecuteTime": {
     "end_time": "2023-08-05T15:56:10.486231Z",
     "start_time": "2023-08-05T15:56:10.473309Z"
    }
   },
   "outputs": [],
   "source": [
    "arr = np.array([[1,2,3,4],[5,6,7,8]])"
   ]
  },
  {
   "cell_type": "code",
   "execution_count": 31,
   "id": "79cc0356",
   "metadata": {
    "ExecuteTime": {
     "end_time": "2023-08-05T15:56:24.749018Z",
     "start_time": "2023-08-05T15:56:24.731030Z"
    }
   },
   "outputs": [
    {
     "data": {
      "text/plain": [
       "array([[1, 2, 3, 4],\n",
       "       [5, 6, 7, 8]])"
      ]
     },
     "execution_count": 31,
     "metadata": {},
     "output_type": "execute_result"
    }
   ],
   "source": [
    "arr"
   ]
  },
  {
   "cell_type": "code",
   "execution_count": 30,
   "id": "2c63c104",
   "metadata": {
    "ExecuteTime": {
     "end_time": "2023-08-05T15:56:17.398100Z",
     "start_time": "2023-08-05T15:56:17.380500Z"
    }
   },
   "outputs": [
    {
     "data": {
      "text/plain": [
       "(2, 4)"
      ]
     },
     "execution_count": 30,
     "metadata": {},
     "output_type": "execute_result"
    }
   ],
   "source": [
    "arr.shape"
   ]
  },
  {
   "cell_type": "code",
   "execution_count": 33,
   "id": "cd2084a5",
   "metadata": {
    "ExecuteTime": {
     "end_time": "2023-08-05T15:57:46.831597Z",
     "start_time": "2023-08-05T15:57:46.812632Z"
    }
   },
   "outputs": [
    {
     "data": {
      "text/plain": [
       "(2, 3)"
      ]
     },
     "execution_count": 33,
     "metadata": {},
     "output_type": "execute_result"
    }
   ],
   "source": [
    "arr = np.array([[2,3,4],[4,4,6]])\n",
    "arr.shape"
   ]
  },
  {
   "cell_type": "code",
   "execution_count": 34,
   "id": "a1a70e25",
   "metadata": {
    "ExecuteTime": {
     "end_time": "2023-08-05T15:57:55.201909Z",
     "start_time": "2023-08-05T15:57:55.185950Z"
    }
   },
   "outputs": [
    {
     "data": {
      "text/plain": [
       "array([[2, 3],\n",
       "       [4, 4],\n",
       "       [4, 6]])"
      ]
     },
     "execution_count": 34,
     "metadata": {},
     "output_type": "execute_result"
    }
   ],
   "source": [
    "arr.shape = (3,2)\n",
    "arr"
   ]
  },
  {
   "cell_type": "code",
   "execution_count": 35,
   "id": "a462289a",
   "metadata": {
    "ExecuteTime": {
     "end_time": "2023-08-05T15:58:49.298598Z",
     "start_time": "2023-08-05T15:58:49.288247Z"
    }
   },
   "outputs": [
    {
     "data": {
      "text/plain": [
       "array([[2],\n",
       "       [3],\n",
       "       [4],\n",
       "       [4],\n",
       "       [2],\n",
       "       [4],\n",
       "       [4],\n",
       "       [6]])"
      ]
     },
     "execution_count": 35,
     "metadata": {},
     "output_type": "execute_result"
    }
   ],
   "source": [
    "arr = np.array([[2,3,4,4],[2,4,4,6]])\n",
    "arr.shape = (8,1)\n",
    "arr"
   ]
  },
  {
   "cell_type": "code",
   "execution_count": 39,
   "id": "190bcb1f",
   "metadata": {
    "ExecuteTime": {
     "end_time": "2023-08-05T16:00:33.067229Z",
     "start_time": "2023-08-05T16:00:33.046355Z"
    }
   },
   "outputs": [
    {
     "data": {
      "text/plain": [
       "array([ 0,  1,  2,  3,  4,  5,  6,  7,  8,  9, 10, 11, 12, 13, 14, 15, 16,\n",
       "       17, 18, 19, 20, 21, 22, 23])"
      ]
     },
     "execution_count": 39,
     "metadata": {},
     "output_type": "execute_result"
    }
   ],
   "source": [
    "ar = np.arange(24)\n",
    "ar"
   ]
  },
  {
   "cell_type": "code",
   "execution_count": 40,
   "id": "af6a7572",
   "metadata": {
    "ExecuteTime": {
     "end_time": "2023-08-05T16:00:33.531547Z",
     "start_time": "2023-08-05T16:00:33.520220Z"
    }
   },
   "outputs": [
    {
     "data": {
      "text/plain": [
       "1"
      ]
     },
     "execution_count": 40,
     "metadata": {},
     "output_type": "execute_result"
    }
   ],
   "source": [
    "ar.ndim"
   ]
  },
  {
   "cell_type": "code",
   "execution_count": 48,
   "id": "040a5800",
   "metadata": {
    "ExecuteTime": {
     "end_time": "2023-08-05T16:03:18.564008Z",
     "start_time": "2023-08-05T16:03:18.553569Z"
    }
   },
   "outputs": [],
   "source": [
    "ar = ar.reshape(12,2)"
   ]
  },
  {
   "cell_type": "code",
   "execution_count": 49,
   "id": "94ac0f43",
   "metadata": {
    "ExecuteTime": {
     "end_time": "2023-08-05T16:03:19.203839Z",
     "start_time": "2023-08-05T16:03:19.196900Z"
    }
   },
   "outputs": [
    {
     "data": {
      "text/plain": [
       "2"
      ]
     },
     "execution_count": 49,
     "metadata": {},
     "output_type": "execute_result"
    }
   ],
   "source": [
    "ar.ndim"
   ]
  },
  {
   "cell_type": "code",
   "execution_count": 43,
   "id": "f89e4a90",
   "metadata": {
    "ExecuteTime": {
     "end_time": "2023-08-05T16:01:17.445482Z",
     "start_time": "2023-08-05T16:01:17.434556Z"
    }
   },
   "outputs": [],
   "source": [
    "arr = np.array([[2,3,4],[4,4,6]])"
   ]
  },
  {
   "cell_type": "code",
   "execution_count": 45,
   "id": "48a8ce95",
   "metadata": {
    "ExecuteTime": {
     "end_time": "2023-08-05T16:01:26.107771Z",
     "start_time": "2023-08-05T16:01:26.089260Z"
    }
   },
   "outputs": [
    {
     "data": {
      "text/plain": [
       "2"
      ]
     },
     "execution_count": 45,
     "metadata": {},
     "output_type": "execute_result"
    }
   ],
   "source": [
    "arr.ndim"
   ]
  },
  {
   "cell_type": "code",
   "execution_count": 55,
   "id": "65fa47e0",
   "metadata": {
    "ExecuteTime": {
     "end_time": "2023-08-05T16:26:39.017340Z",
     "start_time": "2023-08-05T16:26:38.998547Z"
    }
   },
   "outputs": [
    {
     "data": {
      "text/plain": [
       "6"
      ]
     },
     "execution_count": 55,
     "metadata": {},
     "output_type": "execute_result"
    }
   ],
   "source": [
    "arr.size"
   ]
  },
  {
   "cell_type": "code",
   "execution_count": 50,
   "id": "26124653",
   "metadata": {
    "ExecuteTime": {
     "end_time": "2023-08-05T16:24:51.820952Z",
     "start_time": "2023-08-05T16:24:51.793114Z"
    }
   },
   "outputs": [
    {
     "data": {
      "text/plain": [
       "dtype('int32')"
      ]
     },
     "execution_count": 50,
     "metadata": {},
     "output_type": "execute_result"
    }
   ],
   "source": [
    "arr.dtype"
   ]
  },
  {
   "cell_type": "code",
   "execution_count": 51,
   "id": "c5621cc8",
   "metadata": {
    "ExecuteTime": {
     "end_time": "2023-08-05T16:25:28.875256Z",
     "start_time": "2023-08-05T16:25:28.867905Z"
    }
   },
   "outputs": [],
   "source": [
    "a = np.zeros((3,4))"
   ]
  },
  {
   "cell_type": "code",
   "execution_count": 52,
   "id": "3ee276c2",
   "metadata": {
    "ExecuteTime": {
     "end_time": "2023-08-05T16:25:33.305293Z",
     "start_time": "2023-08-05T16:25:33.279451Z"
    }
   },
   "outputs": [
    {
     "data": {
      "text/plain": [
       "array([[0., 0., 0., 0.],\n",
       "       [0., 0., 0., 0.],\n",
       "       [0., 0., 0., 0.]])"
      ]
     },
     "execution_count": 52,
     "metadata": {},
     "output_type": "execute_result"
    }
   ],
   "source": [
    "a"
   ]
  },
  {
   "cell_type": "code",
   "execution_count": 53,
   "id": "24227d63",
   "metadata": {
    "ExecuteTime": {
     "end_time": "2023-08-05T16:25:50.589276Z",
     "start_time": "2023-08-05T16:25:50.579161Z"
    }
   },
   "outputs": [
    {
     "data": {
      "text/plain": [
       "dtype('float64')"
      ]
     },
     "execution_count": 53,
     "metadata": {},
     "output_type": "execute_result"
    }
   ],
   "source": [
    "a.dtype"
   ]
  },
  {
   "cell_type": "code",
   "execution_count": 54,
   "id": "a93e39d5",
   "metadata": {
    "ExecuteTime": {
     "end_time": "2023-08-05T16:26:26.154521Z",
     "start_time": "2023-08-05T16:26:26.142052Z"
    }
   },
   "outputs": [
    {
     "data": {
      "text/plain": [
       "12"
      ]
     },
     "execution_count": 54,
     "metadata": {},
     "output_type": "execute_result"
    }
   ],
   "source": [
    "a.size"
   ]
  },
  {
   "cell_type": "markdown",
   "id": "56959187",
   "metadata": {},
   "source": [
    "## Array mathematics"
   ]
  },
  {
   "cell_type": "code",
   "execution_count": 56,
   "id": "b040a6f2",
   "metadata": {
    "ExecuteTime": {
     "end_time": "2023-08-05T16:30:13.111588Z",
     "start_time": "2023-08-05T16:30:13.087693Z"
    }
   },
   "outputs": [
    {
     "data": {
      "text/plain": [
       "30"
      ]
     },
     "execution_count": 56,
     "metadata": {},
     "output_type": "execute_result"
    }
   ],
   "source": [
    "np.sum([10,20])"
   ]
  },
  {
   "cell_type": "code",
   "execution_count": 57,
   "id": "fc1a2f57",
   "metadata": {
    "ExecuteTime": {
     "end_time": "2023-08-05T16:30:22.548617Z",
     "start_time": "2023-08-05T16:30:22.538456Z"
    }
   },
   "outputs": [],
   "source": [
    "a,b = 10,20"
   ]
  },
  {
   "cell_type": "code",
   "execution_count": 58,
   "id": "7c8d89a1",
   "metadata": {
    "ExecuteTime": {
     "end_time": "2023-08-05T16:30:32.915914Z",
     "start_time": "2023-08-05T16:30:32.900073Z"
    }
   },
   "outputs": [
    {
     "data": {
      "text/plain": [
       "30"
      ]
     },
     "execution_count": 58,
     "metadata": {},
     "output_type": "execute_result"
    }
   ],
   "source": [
    "np.sum([a,b])"
   ]
  },
  {
   "cell_type": "code",
   "execution_count": 60,
   "id": "a06512f9",
   "metadata": {
    "ExecuteTime": {
     "end_time": "2023-08-05T16:32:39.529916Z",
     "start_time": "2023-08-05T16:32:39.513368Z"
    }
   },
   "outputs": [
    {
     "data": {
      "text/plain": [
       "array([6, 8])"
      ]
     },
     "execution_count": 60,
     "metadata": {},
     "output_type": "execute_result"
    }
   ],
   "source": [
    "np.sum([[1,2],[5,6]] , axis = 0)  # 5+1 , 2+6"
   ]
  },
  {
   "cell_type": "markdown",
   "id": "922dec96",
   "metadata": {},
   "source": [
    "axis = 0\n",
    "6 8\n",
    "- -\n",
    "1 2  -> 3     axis = 1\n",
    "5 6  -> 11"
   ]
  },
  {
   "cell_type": "code",
   "execution_count": 61,
   "id": "0c02bdf7",
   "metadata": {
    "ExecuteTime": {
     "end_time": "2023-08-05T16:33:00.181684Z",
     "start_time": "2023-08-05T16:33:00.161930Z"
    }
   },
   "outputs": [
    {
     "data": {
      "text/plain": [
       "array([ 3, 11])"
      ]
     },
     "execution_count": 61,
     "metadata": {},
     "output_type": "execute_result"
    }
   ],
   "source": [
    "np.sum([[1,2],[5,6]] , axis = 1)"
   ]
  },
  {
   "cell_type": "code",
   "execution_count": 62,
   "id": "dc312f68",
   "metadata": {
    "ExecuteTime": {
     "end_time": "2023-08-05T16:33:16.267741Z",
     "start_time": "2023-08-05T16:33:16.248533Z"
    }
   },
   "outputs": [
    {
     "data": {
      "text/plain": [
       "14"
      ]
     },
     "execution_count": 62,
     "metadata": {},
     "output_type": "execute_result"
    }
   ],
   "source": [
    "np.sum([[1,2],[5,6]])"
   ]
  },
  {
   "cell_type": "code",
   "execution_count": 63,
   "id": "4fd8e141",
   "metadata": {
    "ExecuteTime": {
     "end_time": "2023-08-05T16:36:51.084882Z",
     "start_time": "2023-08-05T16:36:51.065180Z"
    }
   },
   "outputs": [
    {
     "data": {
      "text/plain": [
       "-10"
      ]
     },
     "execution_count": 63,
     "metadata": {},
     "output_type": "execute_result"
    }
   ],
   "source": [
    "np.subtract(10,20)"
   ]
  },
  {
   "cell_type": "code",
   "execution_count": 64,
   "id": "9a012c83",
   "metadata": {
    "ExecuteTime": {
     "end_time": "2023-08-05T16:37:19.147175Z",
     "start_time": "2023-08-05T16:37:19.127044Z"
    }
   },
   "outputs": [
    {
     "data": {
      "text/plain": [
       "6"
      ]
     },
     "execution_count": 64,
     "metadata": {},
     "output_type": "execute_result"
    }
   ],
   "source": [
    "np.multiply(2,3)"
   ]
  },
  {
   "cell_type": "code",
   "execution_count": 65,
   "id": "849020ae",
   "metadata": {
    "ExecuteTime": {
     "end_time": "2023-08-05T16:37:28.014707Z",
     "start_time": "2023-08-05T16:37:27.985780Z"
    }
   },
   "outputs": [
    {
     "data": {
      "text/plain": [
       "2.0"
      ]
     },
     "execution_count": 65,
     "metadata": {},
     "output_type": "execute_result"
    }
   ],
   "source": [
    "np.divide(10,5)"
   ]
  },
  {
   "cell_type": "code",
   "execution_count": 67,
   "id": "5013b6b2",
   "metadata": {
    "ExecuteTime": {
     "end_time": "2023-08-05T16:39:01.780398Z",
     "start_time": "2023-08-05T16:39:01.775292Z"
    }
   },
   "outputs": [],
   "source": [
    "a = np.array([2,3,4])\n",
    "b = np.array([1,2,3])\n",
    "c = np.multiply(a,b)"
   ]
  },
  {
   "cell_type": "code",
   "execution_count": 70,
   "id": "9d4a958d",
   "metadata": {
    "ExecuteTime": {
     "end_time": "2023-08-05T16:39:19.847594Z",
     "start_time": "2023-08-05T16:39:19.828562Z"
    }
   },
   "outputs": [
    {
     "data": {
      "text/plain": [
       "1"
      ]
     },
     "execution_count": 70,
     "metadata": {},
     "output_type": "execute_result"
    }
   ],
   "source": [
    "a.ndim"
   ]
  },
  {
   "cell_type": "code",
   "execution_count": 68,
   "id": "8eaa9b2b",
   "metadata": {
    "ExecuteTime": {
     "end_time": "2023-08-05T16:39:04.635889Z",
     "start_time": "2023-08-05T16:39:04.625248Z"
    }
   },
   "outputs": [
    {
     "data": {
      "text/plain": [
       "array([ 2,  6, 12])"
      ]
     },
     "execution_count": 68,
     "metadata": {},
     "output_type": "execute_result"
    }
   ],
   "source": [
    "c"
   ]
  },
  {
   "cell_type": "code",
   "execution_count": 69,
   "id": "29943c2a",
   "metadata": {
    "ExecuteTime": {
     "end_time": "2023-08-05T16:39:12.501211Z",
     "start_time": "2023-08-05T16:39:12.490422Z"
    }
   },
   "outputs": [
    {
     "data": {
      "text/plain": [
       "1"
      ]
     },
     "execution_count": 69,
     "metadata": {},
     "output_type": "execute_result"
    }
   ],
   "source": [
    "c.ndim"
   ]
  },
  {
   "cell_type": "code",
   "execution_count": 71,
   "id": "31d5ae7c",
   "metadata": {
    "ExecuteTime": {
     "end_time": "2023-08-05T16:39:42.778557Z",
     "start_time": "2023-08-05T16:39:42.749598Z"
    }
   },
   "outputs": [
    {
     "data": {
      "text/plain": [
       "array([1.41421356, 1.73205081, 2.        ])"
      ]
     },
     "execution_count": 71,
     "metadata": {},
     "output_type": "execute_result"
    }
   ],
   "source": [
    "np.sqrt(a)"
   ]
  },
  {
   "cell_type": "code",
   "execution_count": 72,
   "id": "f0cca261",
   "metadata": {
    "ExecuteTime": {
     "end_time": "2023-08-05T16:40:55.500168Z",
     "start_time": "2023-08-05T16:40:55.481548Z"
    }
   },
   "outputs": [
    {
     "name": "stdout",
     "output_type": "stream",
     "text": [
      "SIn :  [ 0.90929743  0.14112001 -0.7568025 ]\n",
      "Cos :  [-0.41614684 -0.9899925  -0.65364362]\n",
      "Log :  [0.69314718 1.09861229 1.38629436]\n"
     ]
    }
   ],
   "source": [
    "print(\"SIn : \",np.sin(a))\n",
    "print(\"Cos : \",np.cos(a))\n",
    "print(\"Log : \",np.log(a))"
   ]
  },
  {
   "cell_type": "markdown",
   "id": "b7e766d9",
   "metadata": {
    "ExecuteTime": {
     "end_time": "2023-08-05T16:41:09.091835Z",
     "start_time": "2023-08-05T16:41:09.087121Z"
    }
   },
   "source": [
    "### Array Comparison"
   ]
  },
  {
   "cell_type": "code",
   "execution_count": 75,
   "id": "5a2d0552",
   "metadata": {
    "ExecuteTime": {
     "end_time": "2023-08-05T16:41:55.543616Z",
     "start_time": "2023-08-05T16:41:55.526614Z"
    }
   },
   "outputs": [
    {
     "data": {
      "text/plain": [
       "array([False, False,  True])"
      ]
     },
     "execution_count": 75,
     "metadata": {},
     "output_type": "execute_result"
    }
   ],
   "source": [
    "a = [1,2,3]\n",
    "b = [2,3,3]\n",
    "c = [1,2,4]\n",
    "np.equal(a,b)"
   ]
  },
  {
   "cell_type": "code",
   "execution_count": 77,
   "id": "0f3cae46",
   "metadata": {
    "ExecuteTime": {
     "end_time": "2023-08-05T16:42:23.385051Z",
     "start_time": "2023-08-05T16:42:23.365750Z"
    }
   },
   "outputs": [
    {
     "data": {
      "text/plain": [
       "array([ True,  True, False])"
      ]
     },
     "execution_count": 77,
     "metadata": {},
     "output_type": "execute_result"
    }
   ],
   "source": [
    "np.equal(a,c)"
   ]
  },
  {
   "cell_type": "markdown",
   "id": "071e9587",
   "metadata": {},
   "source": [
    "### Aggregate Function"
   ]
  },
  {
   "cell_type": "code",
   "execution_count": 88,
   "id": "9c5f0fd6",
   "metadata": {
    "ExecuteTime": {
     "end_time": "2023-08-05T16:49:31.636817Z",
     "start_time": "2023-08-05T16:49:31.616202Z"
    }
   },
   "outputs": [
    {
     "name": "stdout",
     "output_type": "stream",
     "text": [
      "Sum :  6\n",
      "Minimum :  2\n",
      "Minimum :  [1 2 3]\n",
      "Maximum :  3\n",
      "Mean :  2.0\n",
      "median :  3.0\n",
      "Standard Deviation :  1.247219128924647\n",
      "variance :  0.6666666666666666\n"
     ]
    }
   ],
   "source": [
    "a = [1,2,3]\n",
    "b = [2,3,3]\n",
    "c = [1,2,4]\n",
    "\n",
    "print(\"Sum : \", np.sum(a))\n",
    "print(\"Minimum : \",np.min(b))\n",
    "print(\"Minimum : \",np.minimum(b , c))   # Compare two arrays and returns a new array containing the element-wise minima\n",
    "print(\"Maximum : \",np.max(b))\n",
    "print(\"Mean : \",np.mean(a))\n",
    "print(\"median : \",np.median(b))\n",
    "print(\"Standard Deviation : \",np.std(c))\n",
    "print(\"variance : \",np.var(a))"
   ]
  },
  {
   "cell_type": "markdown",
   "id": "7bb69ccb",
   "metadata": {},
   "source": [
    "## Indexing and Slicing in Python"
   ]
  },
  {
   "cell_type": "code",
   "execution_count": 89,
   "id": "ae875028",
   "metadata": {
    "ExecuteTime": {
     "end_time": "2023-08-05T16:55:46.982395Z",
     "start_time": "2023-08-05T16:55:46.950800Z"
    }
   },
   "outputs": [],
   "source": [
    "a = np.array([[1,2,3],[4,5,6],[7,8,9]])"
   ]
  },
  {
   "cell_type": "code",
   "execution_count": 91,
   "id": "e7809e76",
   "metadata": {
    "ExecuteTime": {
     "end_time": "2023-08-05T16:56:24.147810Z",
     "start_time": "2023-08-05T16:56:24.136106Z"
    }
   },
   "outputs": [
    {
     "data": {
      "text/plain": [
       "array([[1, 2, 3],\n",
       "       [4, 5, 6],\n",
       "       [7, 8, 9]])"
      ]
     },
     "execution_count": 91,
     "metadata": {},
     "output_type": "execute_result"
    }
   ],
   "source": [
    "a"
   ]
  },
  {
   "cell_type": "code",
   "execution_count": 90,
   "id": "085899c9",
   "metadata": {
    "ExecuteTime": {
     "end_time": "2023-08-05T16:56:17.201153Z",
     "start_time": "2023-08-05T16:56:17.186911Z"
    }
   },
   "outputs": [
    {
     "data": {
      "text/plain": [
       "array([1, 2, 3])"
      ]
     },
     "execution_count": 90,
     "metadata": {},
     "output_type": "execute_result"
    }
   ],
   "source": [
    "a[0]"
   ]
  },
  {
   "cell_type": "code",
   "execution_count": 92,
   "id": "684ec7ef",
   "metadata": {
    "ExecuteTime": {
     "end_time": "2023-08-05T16:56:44.678933Z",
     "start_time": "2023-08-05T16:56:44.671461Z"
    }
   },
   "outputs": [
    {
     "data": {
      "text/plain": [
       "array([4, 5, 6])"
      ]
     },
     "execution_count": 92,
     "metadata": {},
     "output_type": "execute_result"
    }
   ],
   "source": [
    "a[1]"
   ]
  },
  {
   "cell_type": "code",
   "execution_count": 93,
   "id": "e30f83e4",
   "metadata": {
    "ExecuteTime": {
     "end_time": "2023-08-05T16:57:36.837273Z",
     "start_time": "2023-08-05T16:57:36.817044Z"
    }
   },
   "outputs": [
    {
     "data": {
      "text/plain": [
       "array([[1, 2, 3]])"
      ]
     },
     "execution_count": 93,
     "metadata": {},
     "output_type": "execute_result"
    }
   ],
   "source": [
    "a[:1]"
   ]
  },
  {
   "cell_type": "code",
   "execution_count": 94,
   "id": "4e413800",
   "metadata": {
    "ExecuteTime": {
     "end_time": "2023-08-05T16:58:47.359287Z",
     "start_time": "2023-08-05T16:58:47.347733Z"
    }
   },
   "outputs": [
    {
     "data": {
      "text/plain": [
       "array([[1, 2, 3],\n",
       "       [4, 5, 6],\n",
       "       [7, 8, 9]])"
      ]
     },
     "execution_count": 94,
     "metadata": {},
     "output_type": "execute_result"
    }
   ],
   "source": [
    "a"
   ]
  },
  {
   "cell_type": "markdown",
   "id": "385663ef",
   "metadata": {},
   "source": [
    "         0  1  2\n",
    "      0 [1, 2, 3],\n",
    "      1 [4, 5, 6],\n",
    "      2 [7, 8, 9]"
   ]
  },
  {
   "cell_type": "code",
   "execution_count": 95,
   "id": "2ad0d7ba",
   "metadata": {
    "ExecuteTime": {
     "end_time": "2023-08-05T16:58:58.985915Z",
     "start_time": "2023-08-05T16:58:58.976952Z"
    }
   },
   "outputs": [
    {
     "data": {
      "text/plain": [
       "array([[2, 3]])"
      ]
     },
     "execution_count": 95,
     "metadata": {},
     "output_type": "execute_result"
    }
   ],
   "source": [
    "# array[rows , cols]\n",
    "a[:1 , 1:]   #a[0:0 , 1:2]   a[row 0 ,col 1 to 2 ]"
   ]
  },
  {
   "cell_type": "code",
   "execution_count": 97,
   "id": "804888be",
   "metadata": {
    "ExecuteTime": {
     "end_time": "2023-08-05T17:00:33.805353Z",
     "start_time": "2023-08-05T17:00:33.799691Z"
    }
   },
   "outputs": [
    {
     "data": {
      "text/plain": [
       "array([[1, 2, 3],\n",
       "       [4, 5, 6]])"
      ]
     },
     "execution_count": 97,
     "metadata": {},
     "output_type": "execute_result"
    }
   ],
   "source": [
    "a[0:2] # a[start , stop-1]"
   ]
  },
  {
   "cell_type": "code",
   "execution_count": 98,
   "id": "281863cc",
   "metadata": {
    "ExecuteTime": {
     "end_time": "2023-08-05T17:04:50.834417Z",
     "start_time": "2023-08-05T17:04:50.794890Z"
    }
   },
   "outputs": [
    {
     "data": {
      "text/plain": [
       "array([[2, 3],\n",
       "       [5, 6]])"
      ]
     },
     "execution_count": 98,
     "metadata": {},
     "output_type": "execute_result"
    }
   ],
   "source": [
    "a[:2 , 1:]   # a[rows , cols]  a[0:1 , 1:2]"
   ]
  },
  {
   "cell_type": "markdown",
   "id": "24b476a9",
   "metadata": {},
   "source": [
    "         0  1  2\n",
    "      0 [1, 2, 3],\n",
    "      1 [4, 5, 6],\n",
    "      2 [7, 8, 9]"
   ]
  },
  {
   "cell_type": "code",
   "execution_count": 100,
   "id": "a584d5a0",
   "metadata": {
    "ExecuteTime": {
     "end_time": "2023-08-05T17:07:29.194925Z",
     "start_time": "2023-08-05T17:07:29.189144Z"
    }
   },
   "outputs": [
    {
     "data": {
      "text/plain": [
       "array([[5, 6],\n",
       "       [8, 9]])"
      ]
     },
     "execution_count": 100,
     "metadata": {},
     "output_type": "execute_result"
    }
   ],
   "source": [
    "a[1: , 1:]   # a[1:2 , 1:2]"
   ]
  },
  {
   "cell_type": "code",
   "execution_count": 101,
   "id": "b85e7214",
   "metadata": {
    "ExecuteTime": {
     "end_time": "2023-08-05T17:09:48.278001Z",
     "start_time": "2023-08-05T17:09:48.259419Z"
    }
   },
   "outputs": [
    {
     "data": {
      "text/plain": [
       "array([[86, 66, 52, 47],\n",
       "       [ 8, 80, 28, 59],\n",
       "       [21, 23, 60, 63]])"
      ]
     },
     "execution_count": 101,
     "metadata": {},
     "output_type": "execute_result"
    }
   ],
   "source": [
    "np.random.randint(1 , 100 , size = (3,4))"
   ]
  },
  {
   "cell_type": "markdown",
   "id": "da08ade4",
   "metadata": {},
   "source": [
    "## Array manipulation"
   ]
  },
  {
   "cell_type": "code",
   "execution_count": 104,
   "id": "01f30283",
   "metadata": {
    "ExecuteTime": {
     "end_time": "2023-08-05T17:14:28.663668Z",
     "start_time": "2023-08-05T17:14:28.641380Z"
    }
   },
   "outputs": [
    {
     "data": {
      "text/plain": [
       "array([1, 2, 3, 4, 5, 6])"
      ]
     },
     "execution_count": 104,
     "metadata": {},
     "output_type": "execute_result"
    }
   ],
   "source": [
    "a = np.array([1,2,3])\n",
    "b = np.array([4,5,6])\n",
    "np.concatenate((a,b))"
   ]
  },
  {
   "cell_type": "code",
   "execution_count": 105,
   "id": "f5a727b5",
   "metadata": {
    "ExecuteTime": {
     "end_time": "2023-08-05T17:15:58.909164Z",
     "start_time": "2023-08-05T17:15:58.899945Z"
    }
   },
   "outputs": [
    {
     "data": {
      "text/plain": [
       "array([1, 2, 3, 4, 5, 6])"
      ]
     },
     "execution_count": 105,
     "metadata": {},
     "output_type": "execute_result"
    }
   ],
   "source": [
    "# stack arrays row-wise - horizontal\n",
    "np.hstack((a,b))"
   ]
  },
  {
   "cell_type": "code",
   "execution_count": 106,
   "id": "04522ee0",
   "metadata": {
    "ExecuteTime": {
     "end_time": "2023-08-05T17:17:06.555138Z",
     "start_time": "2023-08-05T17:17:06.524291Z"
    }
   },
   "outputs": [
    {
     "data": {
      "text/plain": [
       "array([[1, 2, 3],\n",
       "       [4, 5, 6]])"
      ]
     },
     "execution_count": 106,
     "metadata": {},
     "output_type": "execute_result"
    }
   ],
   "source": [
    "# stack arrays row-wise - vertically\n",
    "np.vstack((a,b))"
   ]
  },
  {
   "cell_type": "code",
   "execution_count": 107,
   "id": "797af448",
   "metadata": {
    "ExecuteTime": {
     "end_time": "2023-08-05T17:17:30.612138Z",
     "start_time": "2023-08-05T17:17:30.598140Z"
    }
   },
   "outputs": [
    {
     "data": {
      "text/plain": [
       "array([[1, 4],\n",
       "       [2, 5],\n",
       "       [3, 6]])"
      ]
     },
     "execution_count": 107,
     "metadata": {},
     "output_type": "execute_result"
    }
   ],
   "source": [
    "# combining column wise\n",
    "np.column_stack((a,b))"
   ]
  },
  {
   "cell_type": "code",
   "execution_count": 118,
   "id": "21611906",
   "metadata": {
    "ExecuteTime": {
     "end_time": "2023-08-05T17:26:57.864895Z",
     "start_time": "2023-08-05T17:26:57.846290Z"
    }
   },
   "outputs": [
    {
     "name": "stdout",
     "output_type": "stream",
     "text": [
      "[[ 0  1  2  3]\n",
      " [ 4  5  6  7]\n",
      " [ 8  9 10 11]\n",
      " [12 13 14 15]] \n",
      "\n",
      "[array([[ 0,  1],\n",
      "       [ 4,  5],\n",
      "       [ 8,  9],\n",
      "       [12, 13]]), array([[ 2,  3],\n",
      "       [ 6,  7],\n",
      "       [10, 11],\n",
      "       [14, 15]])]\n",
      "\n",
      "\n",
      "\n",
      "[array([[ 0,  1],\n",
      "       [ 4,  5],\n",
      "       [ 8,  9],\n",
      "       [12, 13]]), array([[ 2],\n",
      "       [ 6],\n",
      "       [10],\n",
      "       [14]]), array([[ 3],\n",
      "       [ 7],\n",
      "       [11],\n",
      "       [15]])]\n"
     ]
    }
   ],
   "source": [
    "arr = np.arange(16).reshape(4,4)\n",
    "print(arr , \"\\n\")\n",
    "print(np.hsplit(arr , 2))\n",
    "\n",
    "print(\"\\n\\n\")\n",
    "print(np.hsplit(arr , np.array([2,3]))) \n",
    "#     0  1  2  3     \n",
    "#  0[ 0  1  2  3]\n",
    "#  1[ 4  5  6  7]\n",
    "#  2[ 8  9 10 11]\n",
    "#  3[12 13 14 15]\n",
    "\n"
   ]
  },
  {
   "cell_type": "markdown",
   "id": "31adf9a3",
   "metadata": {},
   "source": [
    "## Advantage of Numpy Array over list"
   ]
  },
  {
   "cell_type": "code",
   "execution_count": 144,
   "id": "68cb83dc",
   "metadata": {
    "ExecuteTime": {
     "end_time": "2023-08-05T17:43:33.764554Z",
     "start_time": "2023-08-05T17:43:33.745151Z"
    }
   },
   "outputs": [
    {
     "name": "stdout",
     "output_type": "stream",
     "text": [
      "[1, 4, 9, 16, 25]\n"
     ]
    }
   ],
   "source": [
    "my_list  = [1,2,3,4,5]\n",
    "squared_list = [x**2 for x in my_list]\n",
    "print(squared_list)"
   ]
  },
  {
   "cell_type": "code",
   "execution_count": 143,
   "id": "8517c194",
   "metadata": {
    "ExecuteTime": {
     "end_time": "2023-08-05T17:43:29.032349Z",
     "start_time": "2023-08-05T17:43:29.014563Z"
    }
   },
   "outputs": [
    {
     "name": "stdout",
     "output_type": "stream",
     "text": [
      "[ 1  4  9 16 25]\n"
     ]
    }
   ],
   "source": [
    "my_array = np.array([1,2,3,4,5])\n",
    "# squared_array = my_array**2\n",
    "squared_array = np.square(my_array)\n",
    "\n",
    "# squared_array = np.sqrt()\n",
    "\n",
    "print(squared_array)"
   ]
  },
  {
   "cell_type": "code",
   "execution_count": 138,
   "id": "e4bb1647",
   "metadata": {
    "ExecuteTime": {
     "end_time": "2023-08-05T17:41:13.883569Z",
     "start_time": "2023-08-05T17:41:13.859191Z"
    }
   },
   "outputs": [
    {
     "name": "stdout",
     "output_type": "stream",
     "text": [
      "0.0034961700439453125 0.00099945068359375\n",
      "Numpy is : 3.4980916030534353 times faster than list \n"
     ]
    }
   ],
   "source": [
    "import time\n",
    "def using_list():\n",
    "    t1 = time.time()\n",
    "    X = range(10000)\n",
    "    Y = range(10000)\n",
    "    Z = [X[i] + Y[i] for i in range(len(X))]\n",
    "    return time.time() - t1\n",
    "\n",
    "def using_Numpy():\n",
    "    t2 = time.time()\n",
    "    A = np.arange(10000)\n",
    "    B = np.arange(10000)\n",
    "    C = a+b\n",
    "    return time.time() - t2\n",
    "\n",
    "list_time = using_list()\n",
    "array_time = using_Numpy()\n",
    "\n",
    "print(list_time,array_time)\n",
    "\n",
    "print(\"Numpy is : \"+str(list_time/array_time)+\" times faster than list \")"
   ]
  }
 ],
 "metadata": {
  "kernelspec": {
   "display_name": "Python 3",
   "language": "python",
   "name": "python3"
  },
  "language_info": {
   "codemirror_mode": {
    "name": "ipython",
    "version": 3
   },
   "file_extension": ".py",
   "mimetype": "text/x-python",
   "name": "python",
   "nbconvert_exporter": "python",
   "pygments_lexer": "ipython3",
   "version": "3.8.8"
  },
  "toc": {
   "base_numbering": 1,
   "nav_menu": {},
   "number_sections": true,
   "sideBar": true,
   "skip_h1_title": false,
   "title_cell": "Table of Contents",
   "title_sidebar": "Contents",
   "toc_cell": false,
   "toc_position": {},
   "toc_section_display": true,
   "toc_window_display": false
  }
 },
 "nbformat": 4,
 "nbformat_minor": 5
}
