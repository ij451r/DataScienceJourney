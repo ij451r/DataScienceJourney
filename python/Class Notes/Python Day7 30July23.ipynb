{
 "cells": [
  {
   "cell_type": "markdown",
   "id": "72a51ae7",
   "metadata": {},
   "source": [
    "## Doubts"
   ]
  },
  {
   "cell_type": "code",
   "execution_count": 1,
   "id": "72d3b577",
   "metadata": {
    "ExecuteTime": {
     "end_time": "2023-07-30T14:50:19.885429Z",
     "start_time": "2023-07-30T14:50:15.388417Z"
    }
   },
   "outputs": [
    {
     "name": "stdout",
     "output_type": "stream",
     "text": [
      "enter value 1:23\n",
      "enter value 2:34\n",
      "sum of a+b is  2334\n"
     ]
    }
   ],
   "source": [
    "a = input(\"enter value 1:\")\n",
    "b = input(\"enter value 2:\")\n",
    "sum = a+b\n",
    "print(\"sum of a+b is \",sum)"
   ]
  },
  {
   "cell_type": "code",
   "execution_count": 3,
   "id": "09a9af35",
   "metadata": {
    "ExecuteTime": {
     "end_time": "2023-07-30T14:52:13.595176Z",
     "start_time": "2023-07-30T14:52:11.161596Z"
    }
   },
   "outputs": [
    {
     "name": "stdout",
     "output_type": "stream",
     "text": [
      "enter value 1:12\n",
      "enter value 2:12\n",
      "sum of a+b is  24\n"
     ]
    }
   ],
   "source": [
    "#solution\n",
    "a = int(input(\"enter value 1:\"))\n",
    "b = int(input(\"enter value 2:\"))\n",
    "sum = a+b\n",
    "print(\"sum of a+b is \",sum)"
   ]
  },
  {
   "cell_type": "markdown",
   "id": "34b0a671",
   "metadata": {},
   "source": [
    "## Create a function named ‘factor’ that can only accept 1 argument. The function should return the factorial of that number.\n",
    "\n",
    "3! = 3*2*1 = 6\n",
    "5! = 5*4*3*2*1 = 120"
   ]
  },
  {
   "cell_type": "code",
   "execution_count": 4,
   "id": "87cc3ccc",
   "metadata": {
    "ExecuteTime": {
     "end_time": "2023-07-30T15:03:54.450798Z",
     "start_time": "2023-07-30T15:03:54.417999Z"
    }
   },
   "outputs": [
    {
     "name": "stdout",
     "output_type": "stream",
     "text": [
      "2\n",
      "6\n",
      "24\n",
      "120\n",
      "120\n"
     ]
    }
   ],
   "source": [
    "def factor(n):\n",
    "    result = 1\n",
    "    for i in range(1,n):    #1,2,3,4....n\n",
    "        result = result + result*i\n",
    "        print(result)\n",
    "    return result\n",
    "\n",
    "print(factor(5))"
   ]
  },
  {
   "cell_type": "code",
   "execution_count": 20,
   "id": "97bd1637",
   "metadata": {
    "ExecuteTime": {
     "end_time": "2023-07-30T15:22:51.315351Z",
     "start_time": "2023-07-30T15:22:51.307358Z"
    }
   },
   "outputs": [],
   "source": [
    "def factor(n):\n",
    "    result = 1\n",
    "    for i in range(1,n):\n",
    "#         pass\n",
    "        result = result + result*i\n",
    "    return result\n",
    "    print(i)\n",
    "\n",
    "# print(result)\n",
    "\n",
    "# print(factor(5))"
   ]
  },
  {
   "cell_type": "code",
   "execution_count": 19,
   "id": "6ea837c5",
   "metadata": {
    "ExecuteTime": {
     "end_time": "2023-07-30T15:20:27.313705Z",
     "start_time": "2023-07-30T15:20:27.306293Z"
    }
   },
   "outputs": [
    {
     "name": "stdout",
     "output_type": "stream",
     "text": [
      "120\n"
     ]
    }
   ],
   "source": [
    "def factor (n):\n",
    "    result=1\n",
    "    for i in range(1,n):\n",
    "        result = result + result*i\n",
    "    return result\n",
    "print(factor(5))"
   ]
  },
  {
   "cell_type": "code",
   "execution_count": 5,
   "id": "316e1796",
   "metadata": {
    "ExecuteTime": {
     "end_time": "2023-07-30T15:04:39.304275Z",
     "start_time": "2023-07-30T15:04:39.256370Z"
    }
   },
   "outputs": [
    {
     "name": "stdout",
     "output_type": "stream",
     "text": [
      "2\n",
      "6\n",
      "24\n",
      "120\n"
     ]
    },
    {
     "data": {
      "text/plain": [
       "120"
      ]
     },
     "execution_count": 5,
     "metadata": {},
     "output_type": "execute_result"
    }
   ],
   "source": [
    "def Factor(num):\n",
    "    fact=1\n",
    "    for i in range(1, num+1):\n",
    "        print(i)\n",
    "        fact = fact * i\n",
    "    return fact\n",
    "factor(5)"
   ]
  },
  {
   "cell_type": "code",
   "execution_count": 9,
   "id": "a0ce7325",
   "metadata": {
    "ExecuteTime": {
     "end_time": "2023-07-30T15:06:04.706725Z",
     "start_time": "2023-07-30T15:06:04.676634Z"
    }
   },
   "outputs": [
    {
     "name": "stdout",
     "output_type": "stream",
     "text": [
      "1\n",
      "2\n",
      "6\n",
      "24\n",
      "120\n",
      "120\n"
     ]
    }
   ],
   "source": [
    "def factor(num):\n",
    "    fact=1\n",
    "    if(num==0):\n",
    "        return 1\n",
    "    else:\n",
    "        \n",
    "        for i  in range(1,num+1):\n",
    "            fact=fact*i\n",
    "            print(fact)\n",
    "        \n",
    "    return fact\n",
    "print(factor(5))"
   ]
  },
  {
   "cell_type": "markdown",
   "id": "ed10d471",
   "metadata": {},
   "source": [
    "## Create a function named ‘check_string’, the function should accept a string data from the user and the function should check if the user input contains the letter ‘s’ in it. If it contains the letter ‘s’ then print- ‘The string is containing the letter ‘s’’, if not then print- ‘The string doesn’t contain the letter ‘s’’."
   ]
  },
  {
   "cell_type": "code",
   "execution_count": 22,
   "id": "2dc0dfa6",
   "metadata": {
    "ExecuteTime": {
     "end_time": "2023-07-30T15:32:29.717409Z",
     "start_time": "2023-07-30T15:32:24.911683Z"
    }
   },
   "outputs": [
    {
     "name": "stdout",
     "output_type": "stream",
     "text": [
      "Enter string : My name is Shantam\n",
      "The string is containing the letter 's'\n"
     ]
    }
   ],
   "source": [
    "def check_string(user_string):\n",
    "    if 's' in user_string:\n",
    "        print(\"The string is containing the letter 's'\")\n",
    "    else:\n",
    "        print(\"The string doesn't contain letter 's'\")\n",
    "        \n",
    "user_string = input(\"Enter string : \")\n",
    "check_string(user_string)"
   ]
  },
  {
   "cell_type": "code",
   "execution_count": 23,
   "id": "053644ec",
   "metadata": {
    "ExecuteTime": {
     "end_time": "2023-07-30T15:33:46.547995Z",
     "start_time": "2023-07-30T15:33:42.412761Z"
    }
   },
   "outputs": [
    {
     "name": "stdout",
     "output_type": "stream",
     "text": [
      "Enter string : My name is Shantam\n",
      "The string is containing the letter 's'\n"
     ]
    }
   ],
   "source": [
    "def check_string():\n",
    "    user_string = input(\"Enter string : \")\n",
    "    if 's' in user_string:\n",
    "        print(\"The string is containing the letter 's'\")\n",
    "    else:\n",
    "        print(\"The string doesn't contain letter 's'\")\n",
    "        \n",
    "\n",
    "check_string()"
   ]
  },
  {
   "cell_type": "code",
   "execution_count": 24,
   "id": "72f5ffdf",
   "metadata": {
    "ExecuteTime": {
     "end_time": "2023-07-30T15:34:29.612484Z",
     "start_time": "2023-07-30T15:34:25.498744Z"
    }
   },
   "outputs": [
    {
     "name": "stdout",
     "output_type": "stream",
     "text": [
      "enter a string:My name is Shantam\n",
      "The string is containing the letter ‘s’\n"
     ]
    }
   ],
   "source": [
    "def check_string():\n",
    "    str= input(\"enter a string:\")\n",
    "    flag=0    # you can use True or False as well\n",
    "    for i in str:\n",
    "        if i =='s':\n",
    "            flag=1\n",
    "    if flag == 1:\n",
    "        print(\"The string is containing the letter ‘s’\")\n",
    "    else:\n",
    "        print(\"The string doesn’t contain the letter ‘s’\")\n",
    "        \n",
    "check_string();\n"
   ]
  },
  {
   "cell_type": "code",
   "execution_count": 25,
   "id": "54b22eb7",
   "metadata": {
    "ExecuteTime": {
     "end_time": "2023-07-30T15:36:06.388943Z",
     "start_time": "2023-07-30T15:35:57.032587Z"
    }
   },
   "outputs": [
    {
     "name": "stdout",
     "output_type": "stream",
     "text": [
      "Enter String : Sudha\n",
      "The string doesn't contain the letter s\n"
     ]
    }
   ],
   "source": [
    "def check_string(strInput):\n",
    "    if 's' in strInput:\n",
    "        print(\"The string contain the letter s\")\n",
    "    else:\n",
    "        print(\"The string doesn't contain the letter s\")\n",
    "        \n",
    "user_string = input (\"Enter String : \")        \n",
    "check_string(user_string)"
   ]
  },
  {
   "cell_type": "code",
   "execution_count": 28,
   "id": "9bba5461",
   "metadata": {
    "ExecuteTime": {
     "end_time": "2023-07-30T15:39:17.100703Z",
     "start_time": "2023-07-30T15:39:13.982434Z"
    }
   },
   "outputs": [
    {
     "name": "stdout",
     "output_type": "stream",
     "text": [
      "Enter String : name\n",
      "The string does not contain S\n"
     ]
    }
   ],
   "source": [
    "def check_string(string):\n",
    "    if 's' in string or 'S' in string:\n",
    "        print('The string contains S')\n",
    "    else:  \n",
    "        print('The string does not contain S')\n",
    "\n",
    "string = input (\"Enter String : \")        \n",
    "check_string(string)"
   ]
  },
  {
   "cell_type": "code",
   "execution_count": 31,
   "id": "39e404ad",
   "metadata": {
    "ExecuteTime": {
     "end_time": "2023-07-30T15:41:23.912398Z",
     "start_time": "2023-07-30T15:41:20.748617Z"
    }
   },
   "outputs": [
    {
     "name": "stdout",
     "output_type": "stream",
     "text": [
      "Input a stringRuplai\n",
      "not contained 's'\n"
     ]
    }
   ],
   "source": [
    "def check_string(n):\n",
    "    if 's' in n:\n",
    "        print(\"string contain 's'\")\n",
    "    else:\n",
    "        print(\"not contained 's'\")\n",
    "n=input(\"Input a string\")\n",
    "check_string(n)\n"
   ]
  },
  {
   "cell_type": "markdown",
   "id": "d21a934b",
   "metadata": {},
   "source": [
    "## Create a class named ‘student’ and inside the class, create a function named ‘fun1’- this method should accept the user defined input and return that value."
   ]
  },
  {
   "cell_type": "code",
   "execution_count": 32,
   "id": "5efb401b",
   "metadata": {
    "ExecuteTime": {
     "end_time": "2023-07-30T15:50:19.192890Z",
     "start_time": "2023-07-30T15:50:14.255547Z"
    }
   },
   "outputs": [
    {
     "name": "stdout",
     "output_type": "stream",
     "text": [
      "Value : 12345\n",
      "12345\n"
     ]
    }
   ],
   "source": [
    "class student:\n",
    "    def fun1(self):\n",
    "        input_from_user = input(\"Value : \")\n",
    "        return input_from_user\n",
    "    \n",
    "obj = student()\n",
    "print(obj.fun1())"
   ]
  },
  {
   "cell_type": "markdown",
   "id": "0a7af93f",
   "metadata": {
    "ExecuteTime": {
     "end_time": "2023-07-30T15:50:57.247096Z",
     "start_time": "2023-07-30T15:50:57.236397Z"
    }
   },
   "source": [
    "### Create another method named- message() and that method should print the user defined input that we have defined in ‘fun1’."
   ]
  },
  {
   "cell_type": "code",
   "execution_count": 35,
   "id": "3f549b2f",
   "metadata": {
    "ExecuteTime": {
     "end_time": "2023-07-30T15:56:54.762047Z",
     "start_time": "2023-07-30T15:56:51.009347Z"
    }
   },
   "outputs": [
    {
     "name": "stdout",
     "output_type": "stream",
     "text": [
      "Value : 123\n",
      "123\n",
      "Value : 123\n",
      "123\n"
     ]
    }
   ],
   "source": [
    "class student:\n",
    "    def fun1(self):\n",
    "        input_from_user = input(\"Value : \")\n",
    "        return input_from_user\n",
    "    \n",
    "    def message(self):\n",
    "        print(self.fun1())\n",
    "    \n",
    "obj = student()\n",
    "print(obj.fun1())\n",
    "obj.message()"
   ]
  },
  {
   "cell_type": "code",
   "execution_count": 37,
   "id": "448dfabc",
   "metadata": {
    "ExecuteTime": {
     "end_time": "2023-07-30T15:58:00.837975Z",
     "start_time": "2023-07-30T15:57:59.193885Z"
    }
   },
   "outputs": [
    {
     "name": "stdout",
     "output_type": "stream",
     "text": [
      "Enter String: 12\n",
      "From message:  12\n"
     ]
    }
   ],
   "source": [
    "class student:\n",
    "    \n",
    "    def fun1(self):\n",
    "        inpstr = input(\"Enter String: \")\n",
    "        self.name = inpstr\n",
    "    \n",
    "    def message(self):\n",
    "        print(\"From message: \",self.name)\n",
    "\n",
    "st = student()\n",
    "st.fun1()\n",
    "st.message()\n"
   ]
  },
  {
   "cell_type": "code",
   "execution_count": 38,
   "id": "320edd12",
   "metadata": {
    "ExecuteTime": {
     "end_time": "2023-07-30T15:58:49.500436Z",
     "start_time": "2023-07-30T15:58:47.348360Z"
    }
   },
   "outputs": [
    {
     "name": "stdout",
     "output_type": "stream",
     "text": [
      "Enter a value: 14\n",
      "User defined input from func1: 14\n"
     ]
    }
   ],
   "source": [
    "class Student:\n",
    "    def func1(self):\n",
    "        user_input = input(\"Enter a value: \")\n",
    "        return user_input\n",
    "\n",
    "    def message(self):\n",
    "        user_input = self.func1()\n",
    "        print(\"User defined input from func1:\", user_input)\n",
    "\n",
    "student_instance = Student()\n",
    "student_instance.message()"
   ]
  },
  {
   "cell_type": "code",
   "execution_count": 39,
   "id": "50d1cb0e",
   "metadata": {
    "ExecuteTime": {
     "end_time": "2023-07-30T15:59:28.342833Z",
     "start_time": "2023-07-30T15:59:26.064375Z"
    }
   },
   "outputs": [
    {
     "name": "stdout",
     "output_type": "stream",
     "text": [
      "Enter Message11\n",
      "11\n"
     ]
    }
   ],
   "source": [
    "class student:\n",
    "    def fun1(self):\n",
    "        self.msg = input(\"Enter Message\")\n",
    "    def message(self):\n",
    "        return self.msg\n",
    "\n",
    "stud1 = student()\n",
    "stud1.fun1()\n",
    "print(stud1.message())\n"
   ]
  },
  {
   "cell_type": "markdown",
   "id": "683b7a85",
   "metadata": {},
   "source": [
    "## Create a lambda function that should double or multiply the number (that we will be passing in the lambda function) by 2. Store the lambda function in a variable named ‘double_num’."
   ]
  },
  {
   "cell_type": "code",
   "execution_count": 42,
   "id": "a8eb2a5a",
   "metadata": {
    "ExecuteTime": {
     "end_time": "2023-07-30T16:22:00.740676Z",
     "start_time": "2023-07-30T16:22:00.731597Z"
    }
   },
   "outputs": [],
   "source": [
    "# lambda arguments : expression"
   ]
  },
  {
   "cell_type": "code",
   "execution_count": 40,
   "id": "ec7a663d",
   "metadata": {
    "ExecuteTime": {
     "end_time": "2023-07-30T16:20:42.702153Z",
     "start_time": "2023-07-30T16:20:42.656950Z"
    }
   },
   "outputs": [
    {
     "data": {
      "text/plain": [
       "4"
      ]
     },
     "execution_count": 40,
     "metadata": {},
     "output_type": "execute_result"
    }
   ],
   "source": [
    "double_num = lambda x : x*2\n",
    "double_num(2)"
   ]
  },
  {
   "cell_type": "code",
   "execution_count": 41,
   "id": "1482d4f1",
   "metadata": {
    "ExecuteTime": {
     "end_time": "2023-07-30T16:20:52.854115Z",
     "start_time": "2023-07-30T16:20:52.816478Z"
    }
   },
   "outputs": [
    {
     "data": {
      "text/plain": [
       "8"
      ]
     },
     "execution_count": 41,
     "metadata": {},
     "output_type": "execute_result"
    }
   ],
   "source": [
    "# not correct\n",
    "def lambda_function(x):\n",
    "    a = lambda x: x*2\n",
    "    return a(x)\n",
    "\n",
    "lambda_function(4)\n"
   ]
  },
  {
   "cell_type": "markdown",
   "id": "aa0e16a7",
   "metadata": {},
   "source": [
    "## Take the user input string and check whether that string is palindrome or not.\n",
    "examples : civic : reverse of civic is civic , level, madam , refer"
   ]
  },
  {
   "cell_type": "code",
   "execution_count": 44,
   "id": "a3c71436",
   "metadata": {
    "ExecuteTime": {
     "end_time": "2023-07-30T16:29:49.668435Z",
     "start_time": "2023-07-30T16:29:48.167122Z"
    }
   },
   "outputs": [
    {
     "name": "stdout",
     "output_type": "stream",
     "text": [
      "Enter String: dad\n",
      "String is Palindrome\n"
     ]
    }
   ],
   "source": [
    "s = input(\"Enter String: \")\n",
    "\n",
    "rev_s = s[::-1]\n",
    "if (s == rev_s):\n",
    "    print(\"String is Palindrome\")\n",
    "else:\n",
    "    print(\"String is not Palindrome\")\n"
   ]
  },
  {
   "cell_type": "code",
   "execution_count": 46,
   "id": "cd521d36",
   "metadata": {
    "ExecuteTime": {
     "end_time": "2023-07-30T16:31:05.432289Z",
     "start_time": "2023-07-30T16:31:02.112907Z"
    }
   },
   "outputs": [
    {
     "name": "stdout",
     "output_type": "stream",
     "text": [
      "enter a string: shantam\n",
      "matnahs\n",
      " the string is not a palindrome\n"
     ]
    }
   ],
   "source": [
    "str= input(\"enter a string: \")\n",
    "rev_str=\"\"\n",
    "\n",
    "for i in str:\n",
    "    rev_str=i+rev_str\n",
    "print(rev_str)\n",
    "\n",
    "if str == rev_str:\n",
    "    print(\" the string is a palindrome\")\n",
    "else:\n",
    "    print(\" the string is not a palindrome\")"
   ]
  },
  {
   "cell_type": "code",
   "execution_count": null,
   "id": "012541d0",
   "metadata": {},
   "outputs": [],
   "source": []
  },
  {
   "cell_type": "code",
   "execution_count": 88,
   "id": "989214c3",
   "metadata": {
    "ExecuteTime": {
     "end_time": "2023-07-30T17:00:25.652641Z",
     "start_time": "2023-07-30T17:00:21.580607Z"
    }
   },
   "outputs": [
    {
     "name": "stdout",
     "output_type": "stream",
     "text": [
      "enter the stringmaam\n",
      "ma\n",
      "ma\n",
      "palidrome\n"
     ]
    }
   ],
   "source": [
    "# doubt\n",
    "\n",
    "str=input('enter the string')\n",
    "str1=''\n",
    "str2=''\n",
    "for i in range(0,int(len(str)/2)):\n",
    "    str1=str1+str[i]\n",
    "print(str1)\n",
    "     \n",
    "# stop_index = \n",
    "for i in range(len(str)-1,int(len(s)/2) -1,-1):\n",
    "    str2=str2+str[i]\n",
    "print(str2)\n",
    "\n",
    "\n",
    "# def check_even_odd()\n",
    "\n",
    "if(str1==str2):\n",
    "    print('palidrome')\n",
    "else:\n",
    "    print('not palindrome')\n",
    "#for palindrome just got caught up while I tried to do it without in built functions\n"
   ]
  },
  {
   "cell_type": "code",
   "execution_count": 89,
   "id": "27d25f83",
   "metadata": {
    "ExecuteTime": {
     "end_time": "2023-07-30T17:00:31.900694Z",
     "start_time": "2023-07-30T17:00:31.881396Z"
    }
   },
   "outputs": [
    {
     "name": "stdout",
     "output_type": "stream",
     "text": [
      "5\n",
      "hello\n"
     ]
    }
   ],
   "source": [
    "# doubt\n",
    "s = \"hello\"\n",
    "#      01234\n",
    "print(len(s))\n",
    "y = s[::]\n",
    "print(y)    "
   ]
  },
  {
   "cell_type": "code",
   "execution_count": 72,
   "id": "65d620ed",
   "metadata": {
    "ExecuteTime": {
     "end_time": "2023-07-30T16:54:14.271918Z",
     "start_time": "2023-07-30T16:54:14.260042Z"
    }
   },
   "outputs": [
    {
     "name": "stdout",
     "output_type": "stream",
     "text": [
      "4\n",
      "3\n",
      "2\n"
     ]
    }
   ],
   "source": [
    "s = 'maam'\n",
    "# print(int(len(s)/2) +1)\n",
    "for i in range(len(s) , int(len(s)/2) -1, -1):\n",
    "    print(i)"
   ]
  },
  {
   "cell_type": "code",
   "execution_count": 53,
   "id": "cc0a9868",
   "metadata": {
    "ExecuteTime": {
     "end_time": "2023-07-30T16:46:43.016984Z",
     "start_time": "2023-07-30T16:46:43.010971Z"
    }
   },
   "outputs": [
    {
     "name": "stdout",
     "output_type": "stream",
     "text": [
      "10\n",
      "9\n",
      "8\n",
      "7\n",
      "6\n"
     ]
    }
   ],
   "source": [
    "for i in range(10,5,-1):\n",
    "    print(i)"
   ]
  },
  {
   "cell_type": "markdown",
   "id": "2ea74424",
   "metadata": {},
   "source": [
    "## Create a class named ‘Super’ and inside that class define a user-defined function named fun1. Inside the ‘fun1’ function, pass the message “This is function 1 in the Super class.” in the print statement."
   ]
  },
  {
   "cell_type": "code",
   "execution_count": 47,
   "id": "62839993",
   "metadata": {
    "ExecuteTime": {
     "end_time": "2023-07-30T16:36:30.252117Z",
     "start_time": "2023-07-30T16:36:30.236856Z"
    }
   },
   "outputs": [],
   "source": [
    "class Super:\n",
    "    def fun1(self):\n",
    "        print(\"This is function 1 in the Super class\")"
   ]
  },
  {
   "cell_type": "markdown",
   "id": "40ad813e",
   "metadata": {},
   "source": [
    "## Create another class named ‘Modified_Super’ and inherit this class from the Super class. \n",
    "- Inside the Modified_Super class, create a function named ‘fun1’ and pass the following message inside the print statement: ‘This is function 1 in the Modified Super class.’\n",
    "- Create another user-defined function named ‘fun2’ and pass the message: ‘This isthe 2nd function from the Modified Super class’ in the print statement.\n",
    "- After that, now create an object for the Modified_Super class and call the fun1()."
   ]
  },
  {
   "cell_type": "code",
   "execution_count": 92,
   "id": "9540b92f",
   "metadata": {
    "ExecuteTime": {
     "end_time": "2023-07-30T17:03:07.468511Z",
     "start_time": "2023-07-30T17:03:07.458761Z"
    }
   },
   "outputs": [
    {
     "name": "stdout",
     "output_type": "stream",
     "text": [
      "This is function 1 in the Modified Super class\n"
     ]
    }
   ],
   "source": [
    "class Modified_Super(Super):\n",
    "    def fun1(self):\n",
    "        print(\"This is function 1 in the Modified Super class\")\n",
    "    def fun2(self):\n",
    "        print(\"This is the 2nd function from the Modified Super class\")\n",
    "            \n",
    "obj = Modified_Super()\n",
    "obj.fun1()"
   ]
  },
  {
   "cell_type": "markdown",
   "id": "5b1b6143",
   "metadata": {
    "ExecuteTime": {
     "end_time": "2023-07-30T17:03:49.585222Z",
     "start_time": "2023-07-30T17:03:49.578701Z"
    }
   },
   "source": [
    "## Create 2 methods named ‘Hello’. In the 1st Hello method, pass only one argument and pass this message: ‘This function only has 1 argument’. And in the 2nd Hello method, pass two arguments and pass this message: ‘This function has 2 arguments’.\n",
    "- Try to call both the methods and analyze the output of both the methods."
   ]
  },
  {
   "cell_type": "code",
   "execution_count": 97,
   "id": "c198c8b0",
   "metadata": {
    "ExecuteTime": {
     "end_time": "2023-07-30T17:11:48.764482Z",
     "start_time": "2023-07-30T17:11:48.741338Z"
    }
   },
   "outputs": [
    {
     "name": "stdout",
     "output_type": "stream",
     "text": [
      "THis function has 2 arguments\n"
     ]
    }
   ],
   "source": [
    "class Helloo:\n",
    "    def Hello(self,a):\n",
    "        print(\"THis function only has 1 argument\")\n",
    "    def Hello(self,a,b):\n",
    "        print(\"THis function has 2 arguments\")\n",
    "        \n",
    "obj = Helloo()\n",
    "# obj.Hello(1)  # will give an error\n",
    "obj.Hello(1,2)\n",
    "    "
   ]
  },
  {
   "cell_type": "markdown",
   "id": "b3830f80",
   "metadata": {},
   "source": [
    "## Create a function named ‘Sum’ that can accept multiple user inputs. Now add those user defined input values using for loop and the function should return the addition of the numbers\n",
    "\n",
    "list = [1,2,3,4,5] -> output = 15 - sum of oall the numbers"
   ]
  },
  {
   "cell_type": "code",
   "execution_count": 98,
   "id": "97abd489",
   "metadata": {
    "ExecuteTime": {
     "end_time": "2023-07-30T17:22:06.443516Z",
     "start_time": "2023-07-30T17:21:59.648831Z"
    }
   },
   "outputs": [
    {
     "name": "stdout",
     "output_type": "stream",
     "text": [
      "enter no of inputs : 5\n",
      "enter value: 1\n",
      "enter value: 2\n",
      "enter value: 3\n",
      "enter value: 4\n",
      "enter value: 5\n",
      "15\n"
     ]
    }
   ],
   "source": [
    "def Sum(n):\n",
    "    res_sum = 0\n",
    "    for i in range(n):\n",
    "        n = int(input(\"enter value: \"))\n",
    "        res_sum += n\n",
    "        \n",
    "    return res_sum\n",
    "    \n",
    "no_of_inputs = int(input(\"enter no of inputs : \"))\n",
    "print(Sum(no_of_inputs))"
   ]
  },
  {
   "cell_type": "code",
   "execution_count": 99,
   "id": "632cb920",
   "metadata": {
    "ExecuteTime": {
     "end_time": "2023-07-30T17:22:37.589704Z",
     "start_time": "2023-07-30T17:22:33.236364Z"
    }
   },
   "outputs": [
    {
     "name": "stdout",
     "output_type": "stream",
     "text": [
      "Please eneter the number of integers you want to enter3\n",
      "Please eneter a number1\n",
      "Please eneter a number2\n",
      "Please eneter a number3\n",
      "6\n"
     ]
    }
   ],
   "source": [
    "def sum() :\n",
    "    n = int(input(\"Please eneter the number of integers you want to enter\"))\n",
    "    s = 0\n",
    "    for i in range (1,n+1) :\n",
    "        a = input(\"Please eneter a number\")\n",
    "        s+=int(a)\n",
    "    return s\n",
    "\n",
    "print(sum())\n"
   ]
  },
  {
   "cell_type": "code",
   "execution_count": 100,
   "id": "d79108e1",
   "metadata": {
    "ExecuteTime": {
     "end_time": "2023-07-30T17:23:13.943312Z",
     "start_time": "2023-07-30T17:23:13.932550Z"
    }
   },
   "outputs": [
    {
     "data": {
      "text/plain": [
       "10"
      ]
     },
     "execution_count": 100,
     "metadata": {},
     "output_type": "execute_result"
    }
   ],
   "source": [
    "def sum(number,*args):\n",
    "    a = number\n",
    "    \n",
    "    for n in args:\n",
    "        a+= n\n",
    "    return a\n",
    "sum (1,2,3,4)\n"
   ]
  },
  {
   "cell_type": "code",
   "execution_count": 102,
   "id": "0c8b39cb",
   "metadata": {
    "ExecuteTime": {
     "end_time": "2023-07-30T17:24:35.807377Z",
     "start_time": "2023-07-30T17:24:32.314285Z"
    }
   },
   "outputs": [
    {
     "name": "stdout",
     "output_type": "stream",
     "text": [
      "Enter Value : 1\n",
      "Enter Value : 2\n",
      "Enter Value : 3\n",
      "Enter Value : 4\n",
      "Enter Value : 5\n"
     ]
    },
    {
     "data": {
      "text/plain": [
       "15"
      ]
     },
     "execution_count": 102,
     "metadata": {},
     "output_type": "execute_result"
    }
   ],
   "source": [
    "def sum():\n",
    "    lst = []\n",
    "    num = 0\n",
    "    for i in range(5):\n",
    "        s = int(input('Enter Value : '))\n",
    "        lst.append(s)\n",
    "    for j in lst:\n",
    "        num += j\n",
    "    return num\n",
    "\n",
    "sum()\n"
   ]
  },
  {
   "cell_type": "code",
   "execution_count": 105,
   "id": "f69412fb",
   "metadata": {
    "ExecuteTime": {
     "end_time": "2023-07-30T17:35:30.033315Z",
     "start_time": "2023-07-30T17:35:30.017902Z"
    }
   },
   "outputs": [
    {
     "name": "stdout",
     "output_type": "stream",
     "text": [
      "*args (1, 2, 3, 4)\n",
      "**pargs {'a': 2, 'b': 3}\n"
     ]
    }
   ],
   "source": [
    "# doubt\n",
    "def overload_method(*args, **pargs):\n",
    "    print(\"*args\", args)\n",
    "    print(\"**pargs\", pargs)\n",
    "overload_method(1,2,3,4, a=2, b=3)\n"
   ]
  },
  {
   "cell_type": "code",
   "execution_count": 108,
   "id": "1efef57f",
   "metadata": {
    "ExecuteTime": {
     "end_time": "2023-07-30T17:36:49.649608Z",
     "start_time": "2023-07-30T17:36:46.794644Z"
    }
   },
   "outputs": [
    {
     "name": "stdout",
     "output_type": "stream",
     "text": [
      "enter values seperated by space1 2 3 4 5\n",
      "15\n"
     ]
    }
   ],
   "source": [
    "# Doubt\n",
    "def Sum():\n",
    "    res = 0\n",
    "    x = input(\"enter values seperated by space\").split()\n",
    "    for i in range(0,len(x)):\n",
    "        res += int(x[i])\n",
    "    print(res)\n",
    "Sum()\n",
    "\n",
    "# Is there some way to achieve the same (multiple input in single line) but without needing the user to seperate by space?\n"
   ]
  },
  {
   "cell_type": "markdown",
   "id": "ea79b081",
   "metadata": {},
   "source": [
    "## Create a class named ‘Encapsulation’:\n",
    "- Inside the class, first create a constructor. Inside the constructor, initialize originalValue variable as 10.\n",
    "- After creating the constructor, define a function named ‘Value’ and this function should return the variable that we have initialized in the constructor.\n",
    "- Now create 2nd function named setValue, and pass an argument named ‘newValue’. The task of this function will be to replace the value of the originalValue variable by the value of the newValue variable."
   ]
  },
  {
   "cell_type": "code",
   "execution_count": 104,
   "id": "cf5fc031",
   "metadata": {
    "ExecuteTime": {
     "end_time": "2023-07-30T17:34:59.609369Z",
     "start_time": "2023-07-30T17:34:59.584678Z"
    }
   },
   "outputs": [
    {
     "name": "stdout",
     "output_type": "stream",
     "text": [
      "10\n",
      "25\n",
      "25\n"
     ]
    }
   ],
   "source": [
    "class Encapsulation:\n",
    "    def __init__(self):\n",
    "        self.original_value = 10\n",
    "    def value(self):\n",
    "        print(self.original_value)\n",
    "    def Set_value(self , new_value):\n",
    "        self.original_value = new_value\n",
    "        print(self.original_value)\n",
    "        \n",
    "obj = Encapsulation()\n",
    "obj.value()\n",
    "obj.Set_value(25)\n",
    "obj.value()\n",
    "        \n",
    "    "
   ]
  },
  {
   "cell_type": "code",
   "execution_count": null,
   "id": "49d65fc3",
   "metadata": {},
   "outputs": [],
   "source": []
  }
 ],
 "metadata": {
  "kernelspec": {
   "display_name": "Python 3",
   "language": "python",
   "name": "python3"
  },
  "language_info": {
   "codemirror_mode": {
    "name": "ipython",
    "version": 3
   },
   "file_extension": ".py",
   "mimetype": "text/x-python",
   "name": "python",
   "nbconvert_exporter": "python",
   "pygments_lexer": "ipython3",
   "version": "3.8.8"
  },
  "toc": {
   "base_numbering": 1,
   "nav_menu": {},
   "number_sections": true,
   "sideBar": true,
   "skip_h1_title": false,
   "title_cell": "Table of Contents",
   "title_sidebar": "Contents",
   "toc_cell": false,
   "toc_position": {},
   "toc_section_display": true,
   "toc_window_display": false
  }
 },
 "nbformat": 4,
 "nbformat_minor": 5
}
