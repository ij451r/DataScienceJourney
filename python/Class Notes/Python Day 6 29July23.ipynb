{
 "cells": [
  {
   "cell_type": "markdown",
   "id": "462b48a5",
   "metadata": {},
   "source": [
    "# Principle of OOPs concept"
   ]
  },
  {
   "cell_type": "markdown",
   "id": "c9d88f82",
   "metadata": {
    "ExecuteTime": {
     "end_time": "2023-07-29T07:29:53.938237Z",
     "start_time": "2023-07-29T07:29:53.914231Z"
    }
   },
   "source": [
    "## Constructors"
   ]
  },
  {
   "cell_type": "markdown",
   "id": "7779dfcf",
   "metadata": {},
   "source": [
    "### Constructors vs normal methods\n",
    "- A constructor is a special method that gets automatically called when you create an object (instance) of a class. It sets up the initial state of the object and prepares it for use, just like the blueprint sets the foundation for the house. Constructors are typically used to initialize the attributes of the object.\n",
    "- On the other hand, normal methods are regular functions within a class that can perform various operations and manipulations on the object's attributes."
   ]
  },
  {
   "cell_type": "markdown",
   "id": "8556663c",
   "metadata": {},
   "source": [
    "### Use of constructors \n",
    "Constructors are useful because they allow us to set initial values to the attributes of an object as soon as it is created. It ensures that an object starts in a consistent state, ready to be used without any unexpected errors.\n",
    "\n",
    "In Python, the constructor method is named __init__. Let's see an example of a simple class with a constructor:"
   ]
  },
  {
   "cell_type": "code",
   "execution_count": 14,
   "id": "a5cccfe5",
   "metadata": {
    "ExecuteTime": {
     "end_time": "2023-07-29T14:57:19.329450Z",
     "start_time": "2023-07-29T14:57:19.309257Z"
    }
   },
   "outputs": [
    {
     "name": "stdout",
     "output_type": "stream",
     "text": [
      "initialized an object using non parametrised constructor\n"
     ]
    }
   ],
   "source": [
    "class Car:\n",
    "    \n",
    "    \n",
    "    # overloading in pythion is not supposted\n",
    "    def __init__(self):    # non parametrised constructor\n",
    "        pass\n",
    "    \n",
    "#     def __init__(self, brand, model): # Parameterised constructor\n",
    "#         self.brand = brand\n",
    "#         self.model = model\n",
    "        \n",
    "    def call_non_para_cons(self):\n",
    "        print(\"initialized an object using non parametrised constructor\")\n",
    "        \n",
    "#     def start_engine(self):\n",
    "#         print(f\"The {self.brand} {self.model}'s engine is started\")\n",
    "        \n",
    "# My_car = Car(\"Toyota\" , \"Corolla\")\n",
    "\n",
    "My_car2 = Car()\n",
    "\n",
    "# My_car.start_engine()\n",
    "My_car2.call_non_para_cons()"
   ]
  },
  {
   "cell_type": "code",
   "execution_count": 15,
   "id": "0956f861",
   "metadata": {
    "ExecuteTime": {
     "end_time": "2023-07-29T15:01:17.105346Z",
     "start_time": "2023-07-29T15:01:17.081895Z"
    }
   },
   "outputs": [
    {
     "name": "stdout",
     "output_type": "stream",
     "text": [
      "The Toyota Corolla's engine is started\n"
     ]
    }
   ],
   "source": [
    "class Car:\n",
    "    def __init__(self, brand, model): # Parameterised constructor\n",
    "        self.brand = brand\n",
    "        self.model = model\n",
    "        \n",
    "    def start_engine(self):\n",
    "        print(f\"The {self.brand} {self.model}'s engine is started\")\n",
    "        \n",
    "My_car = Car(\"Toyota\" , \"Corolla\")  # object creation , which will call the init() function (constructer) to initialze the object\n",
    "\n",
    "My_car.start_engine()"
   ]
  },
  {
   "cell_type": "markdown",
   "id": "467844db",
   "metadata": {},
   "source": [
    "### How to use the property of constructors inside normal method and vice versa\n",
    "\n",
    "The properties defined by the constructor (i.e., the attributes) can be accessed inside other normal methods of the class using the self keyword. It's like accessing different rooms in a house from one room."
   ]
  },
  {
   "cell_type": "code",
   "execution_count": null,
   "id": "ca5aeae0",
   "metadata": {},
   "outputs": [],
   "source": [
    "class Car:\n",
    "    def __init__(self, brand, model): # Parameterised constructor\n",
    "        self.brand = brand\n",
    "        self.model = model\n",
    "        \n",
    "    def start_engine(self):  #can access the atrributes using the self keyword\n",
    "        print(f\"The {self.brand} {self.model}'s engine is started\")\n",
    "        \n",
    "        \n",
    "My_car = Car(\"Toyota\" , \"Corolla\")  # object creation , which will call the init() function (constructer) to initialze the object\n",
    "\n",
    "My_car.start_engine()"
   ]
  },
  {
   "cell_type": "markdown",
   "id": "92ffdbd7",
   "metadata": {},
   "source": [
    "### Access modifiers in python\n",
    "\n",
    "In Python, we have access modifiers that control the visibility of attributes and methods within a class. Access modifiers help in encapsulation, which means hiding the internal details of the class from outside interference, just like how the interior of a house is not visible to the outside world.\n",
    "\n",
    "There are three types of access modifiers in Python:\n",
    "\n",
    "- Public (public): No restrictions, and attributes/methods can be accessed from anywhere. In Python, attributes and methods are public by default.\n",
    "\n",
    "- Protected (protected): Attributes/methods are denoted by a single underscore before their names, like _protected_attr. They can be accessed within the class and its subclasses (derived classes). It's like allowing some close friends to access certain areas of the house.\n",
    "\n",
    "- Private (private): Attributes/methods are denoted by double underscores before their names, like __private_attr. They are only accessible within the class itself. It's like keeping certain rooms in the house completely off-limits to everyone else."
   ]
  },
  {
   "cell_type": "code",
   "execution_count": 16,
   "id": "25b0c5ab",
   "metadata": {
    "ExecuteTime": {
     "end_time": "2023-07-29T15:13:52.184456Z",
     "start_time": "2023-07-29T15:13:52.156096Z"
    }
   },
   "outputs": [],
   "source": [
    "class Student:\n",
    "    def __init__(self, name , age):  # init() has 2 underscore which indicates that this is a private\n",
    "        self.name = name   # public attribute\n",
    "        self._age = age    # Protected attribute\n",
    "        self.__registration_number = 0 # Private attribute\n",
    "        \n",
    "    def display_age(self):  # can access public and protected attributers\n",
    "        print(f\"{selff.name}'s age is {self.age} years. \")\n",
    "        \n",
    "    def __show_registration_number(self):\n",
    "        print(f\"Registration number : {self.__registration_number}\")\n",
    "        \n",
    "        "
   ]
  },
  {
   "cell_type": "code",
   "execution_count": 69,
   "id": "decfcae7",
   "metadata": {
    "ExecuteTime": {
     "end_time": "2023-07-29T16:48:56.383025Z",
     "start_time": "2023-07-29T16:48:56.360603Z"
    }
   },
   "outputs": [
    {
     "name": "stdout",
     "output_type": "stream",
     "text": [
      "42\n",
      "None\n",
      "100\n",
      "I am Internal\n",
      "100\n"
     ]
    }
   ],
   "source": [
    "class Myclass:\n",
    "    \n",
    "    def __init__(self):\n",
    "        self.__private_attr = 42\n",
    "        self._internal_attr = \"I am Internal\"\n",
    "        \n",
    "    def get_private_attr(self):\n",
    "        return self.__private_attr\n",
    "    \n",
    "    def set_private_attr(self , value):\n",
    "        self.__private_attr = value\n",
    "        \n",
    "obj = Myclass()\n",
    "\n",
    "print(obj.get_private_attr())\n",
    "\n",
    "print(obj.set_private_attr(100))\n",
    "\n",
    "print(obj.get_private_attr())\n",
    "      \n",
    "print(obj._internal_attr)\n",
    "\n",
    "# print(Myclass__private_attr)\n",
    "\n",
    "# print(obj.__private_attr) # will give you an error as we cannot access private atribute aoutside of the class\n",
    "\n",
    "print(obj._Myclass__private_attr) # Nmae Mangling\n"
   ]
  },
  {
   "cell_type": "markdown",
   "id": "80496815",
   "metadata": {},
   "source": [
    "## Inheritance"
   ]
  },
  {
   "cell_type": "markdown",
   "id": "5a772156",
   "metadata": {},
   "source": [
    "### What is inheritance and with the help of analogy.\n",
    "\n",
    "Inheritance is a concept in object-oriented programming (OOP) that allows a new class (called the derived or child class) to inherit the properties and behaviors (attributes and methods) of an existing class (called the base or parent class). It's like a family relationship, where children inherit certain traits and characteristics from their parents.\n",
    "\n",
    "Imagine a class hierarchy as a family tree. At the top, you have the root class (the oldest ancestor), and as you move down, you have child classes that inherit from their parent classes. Each child class inherits the attributes and methods of its parent class, and it can also have additional attributes and methods of its own, just like how children in a family carry the family traits and may have their own unique qualities."
   ]
  },
  {
   "cell_type": "markdown",
   "id": "f9ec408a",
   "metadata": {},
   "source": [
    "### Discuss the types of inheritance\n",
    "\n",
    "Inheritance can be categorized into different types based on the relationships between classes. The main types of inheritance are:\n",
    "- Single Inheritance\n",
    "- Multiple Inheritance\n",
    "- Multilevel Inheritance\n",
    "- Hierarchical Inheritance\n",
    "- Hybrid Inheritance"
   ]
  },
  {
   "cell_type": "markdown",
   "id": "7a52d18f",
   "metadata": {},
   "source": [
    "#### Single Inheritance\n",
    "In single inheritance, a class can inherit from only one base class. It forms a linear hierarchy, where each class has one direct parent."
   ]
  },
  {
   "cell_type": "code",
   "execution_count": 27,
   "id": "1f9ae6d9",
   "metadata": {
    "ExecuteTime": {
     "end_time": "2023-07-29T15:37:43.486699Z",
     "start_time": "2023-07-29T15:37:43.473631Z"
    }
   },
   "outputs": [
    {
     "name": "stdout",
     "output_type": "stream",
     "text": [
      "Some Generic animal sound\n"
     ]
    }
   ],
   "source": [
    "class Animal:\n",
    "    def make_sound(self):\n",
    "        print(\"Some Generic animal sound\")\n",
    "        \n",
    "class Dog(Animal):\n",
    "    pass\n",
    "\n",
    "my_dog = Dog()\n",
    "\n",
    "my_dog.make_sound()"
   ]
  },
  {
   "cell_type": "markdown",
   "id": "5e846a01",
   "metadata": {},
   "source": [
    "#### Multilevel Inheritance:\n",
    "\n",
    "In multilevel inheritance, a class is derived from another class, which, in turn, is derived from another class. It forms a chain of inheritance."
   ]
  },
  {
   "cell_type": "code",
   "execution_count": 28,
   "id": "34c3d924",
   "metadata": {
    "ExecuteTime": {
     "end_time": "2023-07-29T15:40:51.360762Z",
     "start_time": "2023-07-29T15:40:51.334485Z"
    }
   },
   "outputs": [
    {
     "name": "stdout",
     "output_type": "stream",
     "text": [
      "Vehicle is being driven\n"
     ]
    }
   ],
   "source": [
    "class Vehicle:\n",
    "    def drive(self):\n",
    "        print(\"Vehicle is being driven\")\n",
    "        \n",
    "class Car(Vehicle):\n",
    "    pass\n",
    "\n",
    "class ElectricCar(Car):\n",
    "    pass\n",
    "\n",
    "elec_car = ElectricCar()\n",
    "\n",
    "elec_car.drive()"
   ]
  },
  {
   "cell_type": "markdown",
   "id": "fe55bbbc",
   "metadata": {},
   "source": [
    "#### Hierarchical Inheritance:\n",
    "\n",
    "In hierarchical inheritance, a single base class is inherited by multiple child classes."
   ]
  },
  {
   "cell_type": "code",
   "execution_count": 29,
   "id": "48eca83d",
   "metadata": {
    "ExecuteTime": {
     "end_time": "2023-07-29T15:42:49.591652Z",
     "start_time": "2023-07-29T15:42:49.561628Z"
    }
   },
   "outputs": [],
   "source": [
    "class Vehicle:\n",
    "    def start_engine(self):\n",
    "        print(\"Vehicle started\")\n",
    "        \n",
    "class Car(Vehicle):\n",
    "    pass\n",
    "\n",
    "class Bike(Vehicle):\n",
    "    pass"
   ]
  },
  {
   "cell_type": "markdown",
   "id": "62862688",
   "metadata": {},
   "source": [
    "#### Multiple Inheritance:\n",
    "\n",
    "In multiple inheritance, a class can inherit from more than one base class. It allows the derived class to access attributes and methods from multiple sources."
   ]
  },
  {
   "cell_type": "code",
   "execution_count": 30,
   "id": "bdb3bea7",
   "metadata": {
    "ExecuteTime": {
     "end_time": "2023-07-29T15:45:25.729186Z",
     "start_time": "2023-07-29T15:45:25.699189Z"
    }
   },
   "outputs": [],
   "source": [
    "class Flyable:\n",
    "    def fly(self):\n",
    "        print(\"I can fly\")\n",
    "        \n",
    "class Swimmable:\n",
    "    def swin(self):\n",
    "        print(\"I can swim\")\n",
    "        \n",
    "    def sound():\n",
    "        pass\n",
    "        \n",
    "class Bird(Flyable):\n",
    "    def sound(self):\n",
    "        print(\"Bird Chirps\")\n",
    "        \n",
    "class Duck(Bird , Swimmable):\n",
    "    def sound(self):\n",
    "        print(\"Duck quacks\")"
   ]
  },
  {
   "cell_type": "markdown",
   "id": "ec422e18",
   "metadata": {},
   "source": [
    "#### Hybrid Inheritance (Combination of Multiple and Hierarchical):\n",
    "\n",
    "Hybrid inheritance is a combination of multiple and hierarchical inheritance. It involves multiple base classes and multiple levels of inheritance."
   ]
  },
  {
   "attachments": {
    "image-2.png": {
     "image/png": "[encoded data removed]"
    }
   },
   "cell_type": "markdown",
   "id": "5f016412",
   "metadata": {},
   "source": [
    "### Multiple inheritance and problem with it.\n",
    "\n",
    "While multiple inheritance can be powerful, it also introduces some challenges:\n",
    "\n",
    "##### Diamond Problem:\n",
    "The diamond problem occurs in multiple inheritance when a class inherits from two or more classes that have a common base class. This can lead to ambiguity when calling methods or accessing attributes from the common base class.\n",
    "\n",
    "Imagine a diamond-shaped hierarchy:\n",
    "\n",
    "![image-2.png](attachment:image-2.png)"
   ]
  },
  {
   "cell_type": "code",
   "execution_count": 33,
   "id": "b0d67cc1",
   "metadata": {
    "ExecuteTime": {
     "end_time": "2023-07-29T15:53:39.805216Z",
     "start_time": "2023-07-29T15:53:39.790059Z"
    }
   },
   "outputs": [
    {
     "name": "stdout",
     "output_type": "stream",
     "text": [
      "My name is John\n"
     ]
    }
   ],
   "source": [
    "class Person:\n",
    "    def __init__(self,name):\n",
    "        self.name = name\n",
    "    \n",
    "    def greet(self):\n",
    "        print(f\"My name is {self.name}\")\n",
    "        \n",
    "class Employee:\n",
    "    def __init__(self , employee_id):\n",
    "        self.employee_id = employee_id\n",
    "\n",
    "    def greet(self):\n",
    "        print(f\"Employee {Self.employee_id} says hi\")\n",
    "        \n",
    "class Manager(Person, Employee):\n",
    "    \n",
    "    def __init__(self, name , employee_id , department):\n",
    "        super().__init__(name)\n",
    "        \n",
    "    def greet(self):\n",
    "        super().greet()\n",
    "\n",
    "        \n",
    "manager =  Manager(\"John\" , \"123\" , \"HR\")\n",
    "manager.greet()"
   ]
  },
  {
   "cell_type": "markdown",
   "id": "c91d24f2",
   "metadata": {},
   "source": [
    "### Solution to the Diamond Problem\n",
    "\n",
    "To address the diamond problem, some programming languages, including Python, use method resolution order (MRO) to determine the order in which the base classes are searched for a method or attribute.\n",
    "\n",
    "In Python, you can use the super() function to call a method from a particular base class explicitly\n",
    "\n",
    "Python uses super() to handle the complexities that arise when dealing with multiple inheritance. Multiple inheritance occurs when a class inherits from more than one parent class. In such scenarios, super() helps maintain a consistent method resolution order (MRO) and enables cooperative inheritance, ensuring that each class in the inheritance chain is called only once."
   ]
  },
  {
   "cell_type": "code",
   "execution_count": 43,
   "id": "f92e1e0c",
   "metadata": {
    "ExecuteTime": {
     "end_time": "2023-07-29T16:02:40.161395Z",
     "start_time": "2023-07-29T16:02:40.154298Z"
    }
   },
   "outputs": [
    {
     "name": "stdout",
     "output_type": "stream",
     "text": [
      "My name is John\n",
      "Employee 123 says hi\n"
     ]
    }
   ],
   "source": [
    "class Person:\n",
    "    def __init__(self,name):\n",
    "        self.name = name\n",
    "    \n",
    "    def greet(self):\n",
    "        print(f\"My name is {self.name}\")\n",
    "        \n",
    "class Employee:\n",
    "    def __init__(self , employee_id):\n",
    "        self.employee_id = employee_id\n",
    "\n",
    "    def greet(self):\n",
    "        print(f\"Employee {self.employee_id} says hi\")\n",
    "        \n",
    "class Manager(Person, Employee):\n",
    "    \n",
    "    def __init__(self, name , employee_id , department):\n",
    "        Person.__init__(self, name)\n",
    "        Employee.__init__(self , employee_id)\n",
    "        \n",
    "    def greet(self):\n",
    "        Person.greet(self)\n",
    "        Employee.greet(self)\n",
    "\n",
    "        \n",
    "manager =  Manager(\"John\" , \"123\" , \"HR\")\n",
    "manager.greet()"
   ]
  },
  {
   "cell_type": "code",
   "execution_count": 49,
   "id": "d989fd80",
   "metadata": {
    "ExecuteTime": {
     "end_time": "2023-07-29T16:20:00.365384Z",
     "start_time": "2023-07-29T16:20:00.330265Z"
    }
   },
   "outputs": [
    {
     "name": "stdout",
     "output_type": "stream",
     "text": [
      "BaseClass method\n",
      "SubClass2 method\n",
      "SubClass1 method\n",
      "MultiDerived method\n"
     ]
    }
   ],
   "source": [
    "class BaseClass:\n",
    "    def some_method(self):\n",
    "        print(\"BaseClass method\")\n",
    "\n",
    "class SubClass1(BaseClass):\n",
    "    def some_method(self):\n",
    "        super().some_method()\n",
    "        print(\"SubClass1 method\")\n",
    "\n",
    "class SubClass2(BaseClass):\n",
    "    def some_method(self):\n",
    "        super().some_method()\n",
    "        print(\"SubClass2 method\")\n",
    "\n",
    "class MultiDerived(SubClass1, SubClass2):\n",
    "    def some_method(self):\n",
    "        super().some_method()\n",
    "        print(\"MultiDerived method\")\n",
    "        \n",
    "obj = MultiDerived()\n",
    "obj.some_method()\n",
    "\n",
    "# Output:\n",
    "# BaseClass method\n",
    "# SubClass1 method\n",
    "# BaseClass method\n",
    "# SubClass2 method\n",
    "# MultiDerived method"
   ]
  },
  {
   "cell_type": "code",
   "execution_count": 64,
   "id": "460958bc",
   "metadata": {
    "ExecuteTime": {
     "end_time": "2023-07-29T16:32:35.886654Z",
     "start_time": "2023-07-29T16:32:35.873437Z"
    }
   },
   "outputs": [
    {
     "name": "stdout",
     "output_type": "stream",
     "text": [
      "calling this using mom class object\n",
      "jessie is daughter of  42\n"
     ]
    }
   ],
   "source": [
    "class grand_parent:\n",
    "    def __init__(self):\n",
    "        self.fname =\"42\"\n",
    "        \n",
    "    def display_name(self):\n",
    "        print(\"calling this using mom class object\")\n",
    "        \n",
    "        \n",
    "class mother(grand_parent):\n",
    "    \n",
    "    def __init__(self,name):\n",
    "        grand_parent.__init__(self)\n",
    "        self.name=name\n",
    "    def relation(self):\n",
    "        print(f'{self.name} is daughter of  {self.fname}')\n",
    "\n",
    "mom=mother('jessie')\n",
    "mom.display_name()\n",
    "mom.relation()"
   ]
  },
  {
   "cell_type": "markdown",
   "id": "e860e80e",
   "metadata": {},
   "source": [
    "## Encapsulation"
   ]
  },
  {
   "cell_type": "markdown",
   "id": "8c1e0b82",
   "metadata": {},
   "source": [
    "### What is Encapsulation\n",
    "\n",
    "Encapsulation is one of the four fundamental concepts of object-oriented programming (OOP) and is all about bundling data (attributes) and the methods (functions) that operate on that data within a single unit, i.e., a class. It is used to hide the internal implementation details of an object from the outside world and only expose a limited, well-defined interface to interact with the object. This protects the integrity of the data and prevents external interference.\n",
    "\n",
    "In simpler terms, encapsulation can be seen as the process of enclosing the data and the operations that manipulate that data within a protective container (the class). It helps in organizing the code, improving code readability, and making it easier to maintain and extend the codebase."
   ]
  },
  {
   "cell_type": "markdown",
   "id": "2d519fe4",
   "metadata": {},
   "source": [
    "### Why do we need encapsulation\n",
    "\n",
    "Encapsulation is essential for several reasons:\n",
    "\n",
    "Data Protection: By making data members private, we prevent direct access to them from outside the class. This reduces the risk of accidental data modification and ensures that the data is accessed and modified only through controlled methods.\n",
    "\n",
    "Modularity and Maintainability: Encapsulation promotes modularity, meaning each class is responsible for a specific set of functionalities. This makes the code easier to maintain and understand, as changes in one class do not affect other parts of the code.\n",
    "\n",
    "Code Reusability: Encapsulation allows us to create reusable class components with well-defined interfaces. This means we can use the same class in different parts of our code without worrying about its internal implementation.\n",
    "\n",
    "Data Integrity: By controlling access to the data through methods, we can enforce constraints and validation rules, ensuring that the data remains consistent and valid."
   ]
  },
  {
   "cell_type": "markdown",
   "id": "0af428b0",
   "metadata": {},
   "source": [
    "### Use of private data members in encapsulation\n",
    "\n",
    "In Python, we can use access modifiers to control the visibility of attributes and methods in a class. Private attributes are denoted by double underscores __ before their names, like __private_attr. They are only accessible within the class itself and cannot be accessed directly from outside the class."
   ]
  },
  {
   "cell_type": "markdown",
   "id": "9e1d7931",
   "metadata": {},
   "source": [
    "### Mangling technique\n",
    "\n",
    "In Python, name mangling is a technique used for private attributes to avoid naming conflicts in subclasses. When a name is prefixed with double underscores inside a class, Python performs name mangling by adding _ClassName before the name, where ClassName is the name of the class.\n",
    "\n",
    "For example, if you have a private attribute __private_attr inside a class MyClass, it gets internally stored as _MyClass__private_attr. This makes it harder for external code to accidentally access private attributes.\n",
    "\n",
    "However, it's important to note that name mangling is more of a convention rather than a strict access control mechanism. It is not intended to enforce security but to signal that the attribute is intended for internal use within the class.\n",
    "\n",
    "In the example shown earlier, we used name mangling to access the private attribute __registration_id directly. However, it's generally recommended to use setter and getter methods for interacting with private attributes, as it provides a controlled interface and follows the principles of encapsulation.\n",
    "\n",
    "Overall, encapsulation is a powerful concept that ensures proper data hiding and code organization in object-oriented programming, leading to more robust and maintainable software."
   ]
  },
  {
   "cell_type": "code",
   "execution_count": 70,
   "id": "5a1bfca4",
   "metadata": {
    "ExecuteTime": {
     "end_time": "2023-07-29T16:49:29.834341Z",
     "start_time": "2023-07-29T16:49:29.817585Z"
    }
   },
   "outputs": [
    {
     "name": "stdout",
     "output_type": "stream",
     "text": [
      "42\n",
      "None\n",
      "100\n",
      "I am Internal\n",
      "100\n"
     ]
    }
   ],
   "source": [
    "class Myclass:\n",
    "    \n",
    "    def __init__(self):\n",
    "        self.__private_attr = 42\n",
    "        self._internal_attr = \"I am Internal\"\n",
    "        \n",
    "    def get_private_attr(self):\n",
    "        return self.__private_attr\n",
    "    \n",
    "    def set_private_attr(self , value):\n",
    "        self.__private_attr = value\n",
    "        \n",
    "obj = Myclass()\n",
    "\n",
    "print(obj.get_private_attr())\n",
    "\n",
    "print(obj.set_private_attr(100))\n",
    "\n",
    "print(obj.get_private_attr())\n",
    "      \n",
    "print(obj._internal_attr)\n",
    "\n",
    "# print(Myclass__private_attr)\n",
    "\n",
    "# print(obj.__private_attr) # will give you an error as we cannot access private atribute aoutside of the class\n",
    "\n",
    "print(obj._Myclass__private_attr) # Name Mangling\n"
   ]
  },
  {
   "cell_type": "markdown",
   "id": "36c49621",
   "metadata": {},
   "source": [
    "## Polymorphism\n",
    "\n",
    "Polymorphism is a fundamental concept in object-oriented programming (OOP) that allows objects of different classes to be treated as objects of a common class through a common interface. It allows a single function or method name to behave differently based on the context or the type of object it is called with.\n",
    "\n",
    "The term \"polymorphism\" comes from Greek, where \"poly\" means many, and \"morph\" means form. So, polymorphism essentially means having many forms or behaviors.\n",
    "\n",
    "In Python, polymorphism is achieved through method overriding and method overloading, which we'll explore further in the following sections."
   ]
  },
  {
   "cell_type": "markdown",
   "id": "99413c73",
   "metadata": {},
   "source": [
    "### Use of polymorphism in oops\n",
    "\n",
    "Polymorphism promotes code reusability and flexibility. It allows you to write flexible code that can work with objects of different classes without knowing their specific types. This simplifies code maintenance and makes it easier to extend the functionality of your program.\n",
    "\n",
    "A classic example of polymorphism is using the same method name to calculate the area of different shapes (e.g., circles, squares, triangles) based on the type of shape object passed to the method"
   ]
  },
  {
   "cell_type": "markdown",
   "id": "d7f8e5f8",
   "metadata": {},
   "source": [
    "### Application of polymorphism using inheritance\n",
    "\n",
    "Inheritance is one of the key mechanisms for implementing polymorphism in OOP. When a subclass inherits from a base class, it can override methods of the base class with its own implementation. This means that objects of the subclass can be used interchangeably with objects of the base class, thanks to the common method names."
   ]
  },
  {
   "cell_type": "code",
   "execution_count": 72,
   "id": "7434d4ec",
   "metadata": {
    "ExecuteTime": {
     "end_time": "2023-07-29T16:57:22.879907Z",
     "start_time": "2023-07-29T16:57:22.857285Z"
    }
   },
   "outputs": [
    {
     "name": "stdout",
     "output_type": "stream",
     "text": [
      "78.5\n",
      "16\n"
     ]
    }
   ],
   "source": [
    "class Shape:\n",
    "    def area(self):\n",
    "        pass\n",
    "    \n",
    "class Circle(Shape):\n",
    "    def __init__(self , radius):\n",
    "        self.radius = radius\n",
    "        \n",
    "    def area(self):\n",
    "        return 3.14 * self.radius **2\n",
    "        \n",
    "class Square(Shape):\n",
    "    def __init__(self, side):\n",
    "        self.side = side\n",
    "        \n",
    "    def area(self):\n",
    "        return self.side **2\n",
    "\n",
    "circle = Circle(5)\n",
    "square = Square(4)\n",
    "\n",
    "shapes = [circle , square]\n",
    "\n",
    "for shape in shapes:\n",
    "    print(shape.area())"
   ]
  },
  {
   "cell_type": "markdown",
   "id": "33b411cb",
   "metadata": {},
   "source": [
    "### Method overloading and method overriding\n",
    "\n",
    "**Method Overloading**:\n",
    "\n",
    "Method overloading is a concept where multiple methods with the same name are defined in a class, but they differ in terms of the number or type of parameters they accept. In Python, method overloading is not supported directly, as the last defined method with the same name will overwrite the previous one.\n",
    "\n",
    "However, Python uses default arguments and variable-length arguments (e.g., *args and **kwargs) to achieve method overloading-like behavior.\n",
    "\n",
    "**Method Overriding**:\n",
    "\n",
    "Method overriding occurs when a subclass provides a specific implementation for a method that is already defined in its base class. The method in the subclass \"overrides\" the method in the base class, and the subclass's implementation is called when the method is invoked on an object of the subclass."
   ]
  },
  {
   "cell_type": "code",
   "execution_count": 80,
   "id": "2ffc72f2",
   "metadata": {
    "ExecuteTime": {
     "end_time": "2023-07-29T17:00:54.782310Z",
     "start_time": "2023-07-29T17:00:54.752327Z"
    }
   },
   "outputs": [
    {
     "name": "stdout",
     "output_type": "stream",
     "text": [
      "9\n"
     ]
    }
   ],
   "source": [
    "# Overloading\n",
    "\n",
    "class mathOperations:\n",
    "    \n",
    "    def add(self, a , b):\n",
    "        return a+b\n",
    "    \n",
    "    def add(self, a, b, c):\n",
    "        return a+b+c\n",
    "        \n",
    "math_ops = mathOperations()\n",
    "# print(math_ops.add(2,3))  # will raise an error \n",
    "print(math_ops.add(2,3,4))"
   ]
  },
  {
   "cell_type": "code",
   "execution_count": 83,
   "id": "f938a754",
   "metadata": {
    "ExecuteTime": {
     "end_time": "2023-07-29T17:03:09.253776Z",
     "start_time": "2023-07-29T17:03:09.242036Z"
    }
   },
   "outputs": [
    {
     "name": "stdout",
     "output_type": "stream",
     "text": [
      "1\n",
      "5\n",
      "9\n"
     ]
    }
   ],
   "source": [
    "# Overloading\n",
    "\n",
    "class mathOperations:\n",
    "    \n",
    "    def add(self, a , b = None , c = None):\n",
    "        if b is None and c is None:\n",
    "            return a\n",
    "        elif c is None:\n",
    "            return a+b\n",
    "        else:\n",
    "            return a+b+c\n",
    "        \n",
    "math_ops = mathOperations()\n",
    "print(math_ops.add(1))\n",
    "print(math_ops.add(2,3)) \n",
    "print(math_ops.add(2,3,4))"
   ]
  },
  {
   "cell_type": "markdown",
   "id": "ab8d1287",
   "metadata": {},
   "source": [
    "#### **args and ** Kwargs"
   ]
  },
  {
   "cell_type": "code",
   "execution_count": 84,
   "id": "234cd906",
   "metadata": {
    "ExecuteTime": {
     "end_time": "2023-07-29T17:07:37.310552Z",
     "start_time": "2023-07-29T17:07:37.293927Z"
    }
   },
   "outputs": [
    {
     "name": "stdout",
     "output_type": "stream",
     "text": [
      "positional arguments(*args) (1, 2, 3, 4, 5)\n",
      "keyword arguments(**kwargs) {'name': ' John', 'age': 42}\n"
     ]
    }
   ],
   "source": [
    "def func(*args , **kwargs):\n",
    "    print(\"positional arguments(*args)\", args)\n",
    "    print(\"keyword arguments(**kwargs)\" , kwargs)\n",
    "    \n",
    "func(1 ,2, 3, 4, 5, name = \" John\" , age = 42)"
   ]
  },
  {
   "cell_type": "markdown",
   "id": "f9bfbe75",
   "metadata": {},
   "source": [
    "### Use of some complex problem statement"
   ]
  },
  {
   "cell_type": "code",
   "execution_count": null,
   "id": "eedf7300",
   "metadata": {},
   "outputs": [],
   "source": []
  },
  {
   "cell_type": "markdown",
   "id": "7307e456",
   "metadata": {},
   "source": [
    "## Abstraction\n",
    "\n",
    "In object-oriented programming, abstraction is achieved through the use of abstract classes and abstract methods. These abstract elements serve as blueprints for other classes, defining the structure and contract that subclasses must follow, but they don't provide a complete implementation. Instead, the implementation is left to the subclasses, allowing them to customize and extend the behavior as needed."
   ]
  },
  {
   "cell_type": "markdown",
   "id": "0a216439",
   "metadata": {},
   "source": [
    "### How abstraction is different from other principles.\n",
    "\n",
    "Abstraction is one of the four major principles of object-oriented programming, known as the \"Four Pillars of OOP.\" The other three principles are:\n",
    "\n",
    "Encapsulation: This involves the bundling of data and methods that operate on that data within a single unit (i.e., a class). The data is hidden from outside access, and only the class's methods can interact with it, ensuring data integrity and providing control over data access.\n",
    "\n",
    "Inheritance: This allows a class (subclass) to inherit the properties and behaviors of another class (superclass). It promotes code reuse and the creation of hierarchical relationships between classes.\n",
    "\n",
    "Polymorphism: This refers to the ability of objects to take on multiple forms. In particular, it allows objects of different classes to be treated as objects of a common superclass, providing a unified interface to different implementations.\n",
    "\n",
    "Abstraction differs from the other principles in that it emphasizes the creation of abstract classes and methods that define a blueprint for other classes to follow, without providing full implementation details. The other principles focus on how classes interact (encapsulation), how they inherit and share properties (inheritance), and how different objects can be treated uniformly (polymorphism)."
   ]
  },
  {
   "cell_type": "markdown",
   "id": "0dc78d44",
   "metadata": {},
   "source": [
    "### Importing of abc module\n",
    "\n",
    "In Python, the abc module stands for \"Abstract Base Classes.\" It provides a way to work with abstract classes and abstract methods in Python. The abc module contains the ABC class and the abstractmethod decorator, which are used to define and enforce abstract classes and methods."
   ]
  },
  {
   "cell_type": "code",
   "execution_count": 2,
   "id": "af6ffa99",
   "metadata": {
    "ExecuteTime": {
     "end_time": "2023-07-29T09:34:10.226132Z",
     "start_time": "2023-07-29T09:34:10.214559Z"
    }
   },
   "outputs": [],
   "source": [
    "from abc import ABC, abstractmethod"
   ]
  },
  {
   "cell_type": "markdown",
   "id": "caa4390e",
   "metadata": {},
   "source": [
    "### What is abstract class and abstract methods.\n",
    "\n",
    "An abstract class is a class that cannot be instantiated directly and serves as a blueprint for other classes. It typically contains one or more abstract methods, which are methods that are declared but have no implementation. Abstract methods must be overridden (implemented) in concrete subclasses.\n",
    "\n",
    "To create an abstract class, you need to inherit from the ABC class provided by the abc module, and the abstract methods are marked with the abstractmethod decorator."
   ]
  },
  {
   "cell_type": "code",
   "execution_count": 87,
   "id": "677cfbbf",
   "metadata": {
    "ExecuteTime": {
     "end_time": "2023-07-29T17:27:59.661089Z",
     "start_time": "2023-07-29T17:27:59.647583Z"
    }
   },
   "outputs": [],
   "source": [
    "from abc import ABC, abstractmethod\n",
    "class Shape(ABC):\n",
    "    @abstractmethod\n",
    "    def area(self):\n",
    "        pass\n",
    "    @abstractmethod\n",
    "    def perimiter(self):\n",
    "        pass"
   ]
  },
  {
   "cell_type": "markdown",
   "id": "69f5a9b3",
   "metadata": {},
   "source": [
    "### A complex example related to abstraction."
   ]
  },
  {
   "cell_type": "code",
   "execution_count": 90,
   "id": "44dfad01",
   "metadata": {
    "ExecuteTime": {
     "end_time": "2023-07-29T17:29:48.114383Z",
     "start_time": "2023-07-29T17:29:48.090249Z"
    }
   },
   "outputs": [
    {
     "name": "stdout",
     "output_type": "stream",
     "text": [
      "1300\n"
     ]
    }
   ],
   "source": [
    "from abc import ABC, abstractmethod\n",
    "\n",
    "class Account(ABC):\n",
    "    def __init__(self, account_number , balance):\n",
    "        self.account_number =account_number\n",
    "        self.balance = balance\n",
    "        \n",
    "    @abstractmethod\n",
    "    def deposit(self,amount):\n",
    "        pass\n",
    "    \n",
    "    @abstractmethod\n",
    "    def withdraw(self,amount):\n",
    "        pass\n",
    "    \n",
    "class SavingAccount(Account):\n",
    "    def deposit(self,amount):\n",
    "        self.balance += amount\n",
    "        \n",
    "    def withdraw(self, amount):\n",
    "        if self.balance >= amount:\n",
    "            self.balance -= amount\n",
    "        \n",
    "        else:\n",
    "            print(\"Insufficiant balance\")\n",
    "            \n",
    "            \n",
    "# Acc = Account(\"AB\" , 2000)  # cannot create object of an abstract class\n",
    "            \n",
    "saving_acc = SavingAccount(\"ABC\" , 1000)\n",
    "\n",
    "saving_acc.deposit(500)\n",
    "\n",
    "saving_acc.withdraw(200)\n",
    "\n",
    "print(saving_acc.balance)\n",
    "    \n",
    "    "
   ]
  },
  {
   "cell_type": "code",
   "execution_count": null,
   "id": "6c45f260",
   "metadata": {},
   "outputs": [],
   "source": []
  }
 ],
 "metadata": {
  "kernelspec": {
   "display_name": "Python 3",
   "language": "python",
   "name": "python3"
  },
  "language_info": {
   "codemirror_mode": {
    "name": "ipython",
    "version": 3
   },
   "file_extension": ".py",
   "mimetype": "text/x-python",
   "name": "python",
   "nbconvert_exporter": "python",
   "pygments_lexer": "ipython3",
   "version": "3.8.8"
  },
  "toc": {
   "base_numbering": 1,
   "nav_menu": {},
   "number_sections": true,
   "sideBar": true,
   "skip_h1_title": false,
   "title_cell": "Table of Contents",
   "title_sidebar": "Contents",
   "toc_cell": false,
   "toc_position": {},
   "toc_section_display": true,
   "toc_window_display": true
  }
 },
 "nbformat": 4,
 "nbformat_minor": 5
}
