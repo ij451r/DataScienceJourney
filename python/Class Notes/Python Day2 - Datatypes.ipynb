{
 "cells": [
  {
   "cell_type": "markdown",
   "id": "727b7036",
   "metadata": {},
   "source": [
    "## Numerical Data Types\n",
    "- Integer\n",
    "- Float\n",
    "- Complex"
   ]
  },
  {
   "cell_type": "code",
   "execution_count": 1,
   "id": "cd80b06f",
   "metadata": {
    "ExecuteTime": {
     "end_time": "2023-08-20T15:00:20.154300Z",
     "start_time": "2023-08-20T15:00:20.125617Z"
    }
   },
   "outputs": [],
   "source": [
    "a = 10"
   ]
  },
  {
   "cell_type": "code",
   "execution_count": 2,
   "id": "b5a22137",
   "metadata": {
    "ExecuteTime": {
     "end_time": "2023-08-20T15:00:31.725439Z",
     "start_time": "2023-08-20T15:00:31.700038Z"
    }
   },
   "outputs": [
    {
     "data": {
      "text/plain": [
       "int"
      ]
     },
     "execution_count": 2,
     "metadata": {},
     "output_type": "execute_result"
    }
   ],
   "source": [
    "type(a)"
   ]
  },
  {
   "cell_type": "code",
   "execution_count": 3,
   "id": "9daeda57",
   "metadata": {
    "ExecuteTime": {
     "end_time": "2023-08-20T15:00:46.784852Z",
     "start_time": "2023-08-20T15:00:46.772983Z"
    }
   },
   "outputs": [],
   "source": [
    "b = 10.5"
   ]
  },
  {
   "cell_type": "code",
   "execution_count": 4,
   "id": "0ef2daf0",
   "metadata": {
    "ExecuteTime": {
     "end_time": "2023-08-20T15:00:54.426704Z",
     "start_time": "2023-08-20T15:00:54.405658Z"
    }
   },
   "outputs": [
    {
     "data": {
      "text/plain": [
       "float"
      ]
     },
     "execution_count": 4,
     "metadata": {},
     "output_type": "execute_result"
    }
   ],
   "source": [
    "type(b)"
   ]
  },
  {
   "cell_type": "code",
   "execution_count": 5,
   "id": "55343aa4",
   "metadata": {
    "ExecuteTime": {
     "end_time": "2023-08-20T15:01:10.225651Z",
     "start_time": "2023-08-20T15:01:10.215610Z"
    }
   },
   "outputs": [],
   "source": [
    "c = 2+3j"
   ]
  },
  {
   "cell_type": "code",
   "execution_count": 9,
   "id": "3b0b203e",
   "metadata": {
    "ExecuteTime": {
     "end_time": "2023-08-20T15:06:20.106439Z",
     "start_time": "2023-08-20T15:06:20.095178Z"
    }
   },
   "outputs": [],
   "source": [
    "d = 3 + 4j"
   ]
  },
  {
   "cell_type": "code",
   "execution_count": 12,
   "id": "dc956c8e",
   "metadata": {
    "ExecuteTime": {
     "end_time": "2023-08-20T15:06:42.585075Z",
     "start_time": "2023-08-20T15:06:42.559569Z"
    }
   },
   "outputs": [
    {
     "data": {
      "text/plain": [
       "(5+7j)"
      ]
     },
     "execution_count": 12,
     "metadata": {},
     "output_type": "execute_result"
    }
   ],
   "source": [
    "s = c + d\n",
    "s"
   ]
  },
  {
   "cell_type": "code",
   "execution_count": 8,
   "id": "a49ea638",
   "metadata": {
    "ExecuteTime": {
     "end_time": "2023-08-20T15:04:17.262391Z",
     "start_time": "2023-08-20T15:04:17.234258Z"
    }
   },
   "outputs": [
    {
     "name": "stdout",
     "output_type": "stream",
     "text": [
      "(2+3j)\n"
     ]
    }
   ],
   "source": [
    "print(c)"
   ]
  },
  {
   "cell_type": "code",
   "execution_count": 7,
   "id": "b2e4b036",
   "metadata": {
    "ExecuteTime": {
     "end_time": "2023-08-20T15:02:04.750497Z",
     "start_time": "2023-08-20T15:02:04.739265Z"
    }
   },
   "outputs": [
    {
     "data": {
      "text/plain": [
       "complex"
      ]
     },
     "execution_count": 7,
     "metadata": {},
     "output_type": "execute_result"
    }
   ],
   "source": [
    "type(c)"
   ]
  },
  {
   "cell_type": "markdown",
   "id": "fc0072a2",
   "metadata": {},
   "source": [
    "## Sequence Data types\n",
    "- Strings"
   ]
  },
  {
   "cell_type": "markdown",
   "id": "75385176",
   "metadata": {
    "ExecuteTime": {
     "end_time": "2023-08-20T15:13:46.607401Z",
     "start_time": "2023-08-20T15:13:46.569377Z"
    }
   },
   "source": [
    "### Strings"
   ]
  },
  {
   "cell_type": "code",
   "execution_count": 14,
   "id": "7adcadb4",
   "metadata": {
    "ExecuteTime": {
     "end_time": "2023-08-20T15:14:14.543505Z",
     "start_time": "2023-08-20T15:14:14.535923Z"
    }
   },
   "outputs": [],
   "source": [
    "a = \"Intellipat\"\n",
    "b = 'Intellipat'"
   ]
  },
  {
   "cell_type": "code",
   "execution_count": 15,
   "id": "d3d408e6",
   "metadata": {
    "ExecuteTime": {
     "end_time": "2023-08-20T15:14:27.747171Z",
     "start_time": "2023-08-20T15:14:27.733288Z"
    }
   },
   "outputs": [
    {
     "data": {
      "text/plain": [
       "str"
      ]
     },
     "execution_count": 15,
     "metadata": {},
     "output_type": "execute_result"
    }
   ],
   "source": [
    "type(a)"
   ]
  },
  {
   "cell_type": "code",
   "execution_count": 31,
   "id": "a2c62622",
   "metadata": {
    "ExecuteTime": {
     "end_time": "2023-08-20T15:31:10.350205Z",
     "start_time": "2023-08-20T15:31:10.346126Z"
    }
   },
   "outputs": [],
   "source": [
    "# c = \"Python basic training course\n",
    "#      by intellipat\""
   ]
  },
  {
   "cell_type": "code",
   "execution_count": 19,
   "id": "d0937f5e",
   "metadata": {
    "ExecuteTime": {
     "end_time": "2023-08-20T15:16:33.776776Z",
     "start_time": "2023-08-20T15:16:33.769974Z"
    }
   },
   "outputs": [],
   "source": [
    "c = '''Python basic training course\n",
    "by intellipat'''"
   ]
  },
  {
   "cell_type": "code",
   "execution_count": 21,
   "id": "102911f8",
   "metadata": {
    "ExecuteTime": {
     "end_time": "2023-08-20T15:16:44.072787Z",
     "start_time": "2023-08-20T15:16:44.063398Z"
    }
   },
   "outputs": [
    {
     "name": "stdout",
     "output_type": "stream",
     "text": [
      "Python basic training course\n",
      "by intellipat\n"
     ]
    }
   ],
   "source": [
    "print(c)"
   ]
  },
  {
   "cell_type": "code",
   "execution_count": 22,
   "id": "1a29a7e2",
   "metadata": {
    "ExecuteTime": {
     "end_time": "2023-08-20T15:24:26.099707Z",
     "start_time": "2023-08-20T15:24:26.082533Z"
    }
   },
   "outputs": [
    {
     "data": {
      "text/plain": [
       "str"
      ]
     },
     "execution_count": 22,
     "metadata": {},
     "output_type": "execute_result"
    }
   ],
   "source": [
    "type(c)"
   ]
  },
  {
   "cell_type": "code",
   "execution_count": 53,
   "id": "498f99b6",
   "metadata": {
    "ExecuteTime": {
     "end_time": "2023-08-20T15:48:53.773678Z",
     "start_time": "2023-08-20T15:48:53.753485Z"
    }
   },
   "outputs": [],
   "source": [
    "string = \"Intellipat python training for data science data data data\"\n",
    "#         01234567891011"
   ]
  },
  {
   "cell_type": "code",
   "execution_count": 36,
   "id": "db4de7aa",
   "metadata": {
    "ExecuteTime": {
     "end_time": "2023-08-20T15:32:38.955058Z",
     "start_time": "2023-08-20T15:32:38.938790Z"
    }
   },
   "outputs": [
    {
     "data": {
      "text/plain": [
       "4"
      ]
     },
     "execution_count": 36,
     "metadata": {},
     "output_type": "execute_result"
    }
   ],
   "source": [
    "string.count(\"data\")"
   ]
  },
  {
   "cell_type": "code",
   "execution_count": null,
   "id": "2dd4f005",
   "metadata": {},
   "outputs": [],
   "source": [
    "string.count(\"data\")"
   ]
  },
  {
   "cell_type": "code",
   "execution_count": 25,
   "id": "f7732b98",
   "metadata": {
    "ExecuteTime": {
     "end_time": "2023-08-20T15:25:43.887188Z",
     "start_time": "2023-08-20T15:25:43.868753Z"
    }
   },
   "outputs": [
    {
     "data": {
      "text/plain": [
       "0"
      ]
     },
     "execution_count": 25,
     "metadata": {},
     "output_type": "execute_result"
    }
   ],
   "source": [
    "string.count(\"java\")"
   ]
  },
  {
   "cell_type": "code",
   "execution_count": 38,
   "id": "915f7c5c",
   "metadata": {
    "ExecuteTime": {
     "end_time": "2023-08-20T15:37:46.910813Z",
     "start_time": "2023-08-20T15:37:46.892055Z"
    }
   },
   "outputs": [
    {
     "data": {
      "text/plain": [
       "['Intelli', 'at ', 'ython training for data science data data data']"
      ]
     },
     "execution_count": 38,
     "metadata": {},
     "output_type": "execute_result"
    }
   ],
   "source": [
    "string.split(\"p\" )"
   ]
  },
  {
   "cell_type": "code",
   "execution_count": 50,
   "id": "fde9a695",
   "metadata": {
    "ExecuteTime": {
     "end_time": "2023-08-20T15:43:36.646841Z",
     "start_time": "2023-08-20T15:43:36.635318Z"
    }
   },
   "outputs": [],
   "source": [
    "x = string.split(\" \" )"
   ]
  },
  {
   "cell_type": "code",
   "execution_count": 51,
   "id": "64773453",
   "metadata": {
    "ExecuteTime": {
     "end_time": "2023-08-20T15:43:53.227138Z",
     "start_time": "2023-08-20T15:43:53.214674Z"
    }
   },
   "outputs": [
    {
     "data": {
      "text/plain": [
       "list"
      ]
     },
     "execution_count": 51,
     "metadata": {},
     "output_type": "execute_result"
    }
   ],
   "source": [
    "type(x)"
   ]
  },
  {
   "cell_type": "code",
   "execution_count": null,
   "id": "e6975cde",
   "metadata": {},
   "outputs": [],
   "source": []
  },
  {
   "cell_type": "code",
   "execution_count": 52,
   "id": "7db2e2f2",
   "metadata": {
    "ExecuteTime": {
     "end_time": "2023-08-20T15:44:07.324898Z",
     "start_time": "2023-08-20T15:44:07.309793Z"
    }
   },
   "outputs": [
    {
     "name": "stdout",
     "output_type": "stream",
     "text": [
      "['Intellipat', 'python', 'training', 'for', 'data', 'science', 'data', 'data', 'data']\n"
     ]
    }
   ],
   "source": [
    "print(x)"
   ]
  },
  {
   "cell_type": "code",
   "execution_count": 28,
   "id": "67e5b118",
   "metadata": {
    "ExecuteTime": {
     "end_time": "2023-08-20T15:27:57.239454Z",
     "start_time": "2023-08-20T15:27:57.218103Z"
    }
   },
   "outputs": [
    {
     "data": {
      "text/plain": [
       "11"
      ]
     },
     "execution_count": 28,
     "metadata": {},
     "output_type": "execute_result"
    }
   ],
   "source": [
    "string.find(\"python\")"
   ]
  },
  {
   "cell_type": "code",
   "execution_count": null,
   "id": "50825cbe",
   "metadata": {},
   "outputs": [],
   "source": [
    "string.find(\"python\")"
   ]
  },
  {
   "cell_type": "code",
   "execution_count": 40,
   "id": "6a33678a",
   "metadata": {
    "ExecuteTime": {
     "end_time": "2023-08-20T15:38:33.538162Z",
     "start_time": "2023-08-20T15:38:33.528567Z"
    }
   },
   "outputs": [
    {
     "data": {
      "text/plain": [
       "'Intellipat python course for data science data data data'"
      ]
     },
     "execution_count": 40,
     "metadata": {},
     "output_type": "execute_result"
    }
   ],
   "source": [
    "string.replace('training' , 'course')"
   ]
  },
  {
   "cell_type": "code",
   "execution_count": 42,
   "id": "68a78e78",
   "metadata": {
    "ExecuteTime": {
     "end_time": "2023-08-20T15:40:25.273262Z",
     "start_time": "2023-08-20T15:40:25.257891Z"
    }
   },
   "outputs": [
    {
     "name": "stdout",
     "output_type": "stream",
     "text": [
      "Intellipat training\n"
     ]
    }
   ],
   "source": [
    "a = \"Intellipat\"\n",
    "b = \"training\"\n",
    "c = a+\" \"+b\n",
    "print(c)"
   ]
  },
  {
   "cell_type": "code",
   "execution_count": 47,
   "id": "e04b11d9",
   "metadata": {
    "ExecuteTime": {
     "end_time": "2023-08-20T15:42:10.506589Z",
     "start_time": "2023-08-20T15:42:10.492198Z"
    }
   },
   "outputs": [
    {
     "data": {
      "text/plain": [
       "'Intellipat'"
      ]
     },
     "execution_count": 47,
     "metadata": {},
     "output_type": "execute_result"
    }
   ],
   "source": [
    "a = \"intellipat\"\n",
    "a.capitalize()\n"
   ]
  },
  {
   "cell_type": "code",
   "execution_count": 45,
   "id": "b9334052",
   "metadata": {
    "ExecuteTime": {
     "end_time": "2023-08-20T15:41:28.649457Z",
     "start_time": "2023-08-20T15:41:28.633520Z"
    }
   },
   "outputs": [
    {
     "data": {
      "text/plain": [
       "'Intellipat'"
      ]
     },
     "execution_count": 45,
     "metadata": {},
     "output_type": "execute_result"
    }
   ],
   "source": [
    "a.title()"
   ]
  },
  {
   "cell_type": "code",
   "execution_count": 48,
   "id": "a8e97909",
   "metadata": {
    "ExecuteTime": {
     "end_time": "2023-08-20T15:42:12.490975Z",
     "start_time": "2023-08-20T15:42:12.473357Z"
    }
   },
   "outputs": [
    {
     "data": {
      "text/plain": [
       "0"
      ]
     },
     "execution_count": 48,
     "metadata": {},
     "output_type": "execute_result"
    }
   ],
   "source": [
    "a.find(\"i\")"
   ]
  },
  {
   "cell_type": "code",
   "execution_count": 49,
   "id": "d25ce025",
   "metadata": {
    "ExecuteTime": {
     "end_time": "2023-08-20T15:42:27.513189Z",
     "start_time": "2023-08-20T15:42:27.505855Z"
    }
   },
   "outputs": [
    {
     "data": {
      "text/plain": [
       "4"
      ]
     },
     "execution_count": 49,
     "metadata": {},
     "output_type": "execute_result"
    }
   ],
   "source": [
    "a.find('l')"
   ]
  },
  {
   "cell_type": "code",
   "execution_count": 54,
   "id": "fc49a9b4",
   "metadata": {
    "ExecuteTime": {
     "end_time": "2023-08-20T15:49:02.418398Z",
     "start_time": "2023-08-20T15:49:02.389151Z"
    }
   },
   "outputs": [
    {
     "data": {
      "text/plain": [
       "'Intellipat python training for data science data data data'"
      ]
     },
     "execution_count": 54,
     "metadata": {},
     "output_type": "execute_result"
    }
   ],
   "source": [
    "string.capitalize()"
   ]
  },
  {
   "cell_type": "code",
   "execution_count": 55,
   "id": "609874a4",
   "metadata": {
    "ExecuteTime": {
     "end_time": "2023-08-20T15:49:11.470665Z",
     "start_time": "2023-08-20T15:49:11.450735Z"
    }
   },
   "outputs": [
    {
     "data": {
      "text/plain": [
       "'Intellipat Python Training For Data Science Data Data Data'"
      ]
     },
     "execution_count": 55,
     "metadata": {},
     "output_type": "execute_result"
    }
   ],
   "source": [
    "string.title()"
   ]
  },
  {
   "cell_type": "markdown",
   "id": "43a58d86",
   "metadata": {},
   "source": [
    "### Lists"
   ]
  },
  {
   "cell_type": "code",
   "execution_count": 56,
   "id": "37b12241",
   "metadata": {
    "ExecuteTime": {
     "end_time": "2023-08-20T15:54:35.795660Z",
     "start_time": "2023-08-20T15:54:35.763433Z"
    }
   },
   "outputs": [],
   "source": [
    "l = [10, 12, 13, 14, 15, 16]"
   ]
  },
  {
   "cell_type": "code",
   "execution_count": 57,
   "id": "cd321975",
   "metadata": {
    "ExecuteTime": {
     "end_time": "2023-08-20T15:54:53.252717Z",
     "start_time": "2023-08-20T15:54:53.243851Z"
    }
   },
   "outputs": [
    {
     "data": {
      "text/plain": [
       "list"
      ]
     },
     "execution_count": 57,
     "metadata": {},
     "output_type": "execute_result"
    }
   ],
   "source": [
    "type(l)"
   ]
  },
  {
   "cell_type": "code",
   "execution_count": 58,
   "id": "248ee534",
   "metadata": {
    "ExecuteTime": {
     "end_time": "2023-08-20T15:55:34.423502Z",
     "start_time": "2023-08-20T15:55:34.416782Z"
    }
   },
   "outputs": [],
   "source": [
    "l = [1,2,\"Intellipat\",\"Training\",11.5,2+3j , [1,2,3,4]]"
   ]
  },
  {
   "cell_type": "code",
   "execution_count": 59,
   "id": "e7641b8d",
   "metadata": {
    "ExecuteTime": {
     "end_time": "2023-08-20T15:55:57.143792Z",
     "start_time": "2023-08-20T15:55:57.119439Z"
    }
   },
   "outputs": [
    {
     "name": "stdout",
     "output_type": "stream",
     "text": [
      "[1, 2, 'Intellipat', 'Training', 11.5, (2+3j), [1, 2, 3, 4]]\n"
     ]
    }
   ],
   "source": [
    "print(l)"
   ]
  },
  {
   "cell_type": "code",
   "execution_count": 60,
   "id": "956f9a02",
   "metadata": {
    "ExecuteTime": {
     "end_time": "2023-08-20T15:56:08.890346Z",
     "start_time": "2023-08-20T15:56:08.874177Z"
    }
   },
   "outputs": [
    {
     "data": {
      "text/plain": [
       "list"
      ]
     },
     "execution_count": 60,
     "metadata": {},
     "output_type": "execute_result"
    }
   ],
   "source": [
    "type(l)"
   ]
  },
  {
   "cell_type": "code",
   "execution_count": 61,
   "id": "5e5c6166",
   "metadata": {
    "ExecuteTime": {
     "end_time": "2023-08-20T15:58:27.798287Z",
     "start_time": "2023-08-20T15:58:27.778279Z"
    }
   },
   "outputs": [],
   "source": [
    "l.insert(3,\"Python\")"
   ]
  },
  {
   "cell_type": "code",
   "execution_count": 62,
   "id": "73c0231e",
   "metadata": {
    "ExecuteTime": {
     "end_time": "2023-08-20T15:58:39.981339Z",
     "start_time": "2023-08-20T15:58:39.964194Z"
    }
   },
   "outputs": [
    {
     "name": "stdout",
     "output_type": "stream",
     "text": [
      "[1, 2, 'Intellipat', 'Python', 'Training', 11.5, (2+3j), [1, 2, 3, 4]]\n"
     ]
    }
   ],
   "source": [
    "print(l)"
   ]
  },
  {
   "cell_type": "code",
   "execution_count": 90,
   "id": "d1b0a0be",
   "metadata": {
    "ExecuteTime": {
     "end_time": "2023-08-20T16:33:39.710421Z",
     "start_time": "2023-08-20T16:33:39.690257Z"
    }
   },
   "outputs": [],
   "source": [
    "lst1 = [10,20,30,40,50]\n",
    "lst2 = [1,2,3,4,5]\n",
    "lst1.extend(lst2)"
   ]
  },
  {
   "cell_type": "code",
   "execution_count": 91,
   "id": "8a344d2e",
   "metadata": {
    "ExecuteTime": {
     "end_time": "2023-08-20T16:33:41.725479Z",
     "start_time": "2023-08-20T16:33:41.714094Z"
    }
   },
   "outputs": [
    {
     "name": "stdout",
     "output_type": "stream",
     "text": [
      "[10, 20, 30, 40, 50, 1, 2, 3, 4, 5]\n"
     ]
    }
   ],
   "source": [
    "print(lst1)"
   ]
  },
  {
   "cell_type": "code",
   "execution_count": 67,
   "id": "1685da77",
   "metadata": {
    "ExecuteTime": {
     "end_time": "2023-08-20T16:00:36.270005Z",
     "start_time": "2023-08-20T16:00:36.256053Z"
    }
   },
   "outputs": [],
   "source": [
    "lst1.remove(50)"
   ]
  },
  {
   "cell_type": "code",
   "execution_count": 68,
   "id": "467ca488",
   "metadata": {
    "ExecuteTime": {
     "end_time": "2023-08-20T16:00:55.827764Z",
     "start_time": "2023-08-20T16:00:55.824703Z"
    }
   },
   "outputs": [
    {
     "name": "stdout",
     "output_type": "stream",
     "text": [
      "[10, 20, 30, 40, 1, 2, 3, 4, 5]\n"
     ]
    }
   ],
   "source": [
    "print(lst1)"
   ]
  },
  {
   "cell_type": "code",
   "execution_count": 72,
   "id": "6628a2ba",
   "metadata": {
    "ExecuteTime": {
     "end_time": "2023-08-20T16:21:57.087773Z",
     "start_time": "2023-08-20T16:21:57.057861Z"
    }
   },
   "outputs": [
    {
     "name": "stdout",
     "output_type": "stream",
     "text": [
      "[10, 20, 30, 40, 1, 2, 3, 4, 5]\n"
     ]
    }
   ],
   "source": [
    "print(lst1)"
   ]
  },
  {
   "cell_type": "code",
   "execution_count": 73,
   "id": "a7a2e868",
   "metadata": {
    "ExecuteTime": {
     "end_time": "2023-08-20T16:22:14.866533Z",
     "start_time": "2023-08-20T16:22:14.855172Z"
    }
   },
   "outputs": [],
   "source": [
    "lst1.append(6)"
   ]
  },
  {
   "cell_type": "code",
   "execution_count": 74,
   "id": "a10a94dd",
   "metadata": {
    "ExecuteTime": {
     "end_time": "2023-08-20T16:22:26.422039Z",
     "start_time": "2023-08-20T16:22:26.417480Z"
    }
   },
   "outputs": [
    {
     "name": "stdout",
     "output_type": "stream",
     "text": [
      "[10, 20, 30, 40, 1, 2, 3, 4, 5, 6]\n"
     ]
    }
   ],
   "source": [
    "print(lst1)"
   ]
  },
  {
   "cell_type": "code",
   "execution_count": 75,
   "id": "ab460d96",
   "metadata": {
    "ExecuteTime": {
     "end_time": "2023-08-20T16:23:22.673464Z",
     "start_time": "2023-08-20T16:23:22.619537Z"
    }
   },
   "outputs": [
    {
     "name": "stdout",
     "output_type": "stream",
     "text": [
      "[10, 20, 30, 1, 2, 3, 4, 5, 6]\n"
     ]
    }
   ],
   "source": [
    "lst1.pop(3)\n",
    "print(lst1)"
   ]
  },
  {
   "cell_type": "code",
   "execution_count": 78,
   "id": "dfec56ae",
   "metadata": {
    "ExecuteTime": {
     "end_time": "2023-08-20T16:26:56.647649Z",
     "start_time": "2023-08-20T16:26:56.642134Z"
    }
   },
   "outputs": [],
   "source": [
    "lst = list([1,2,3])"
   ]
  },
  {
   "cell_type": "code",
   "execution_count": null,
   "id": "ad2971c1",
   "metadata": {},
   "outputs": [],
   "source": [
    "l = [10, 12, 13, 14, 15, 16]\n",
    "#      0   1   2   3   4   5\n",
    "#     -6  -5  -4  -3  -2  -1"
   ]
  },
  {
   "cell_type": "code",
   "execution_count": 79,
   "id": "27a8a248",
   "metadata": {
    "ExecuteTime": {
     "end_time": "2023-08-20T16:29:34.659332Z",
     "start_time": "2023-08-20T16:29:34.601677Z"
    }
   },
   "outputs": [
    {
     "data": {
      "text/plain": [
       "13"
      ]
     },
     "execution_count": 79,
     "metadata": {},
     "output_type": "execute_result"
    }
   ],
   "source": [
    "l[2]"
   ]
  },
  {
   "cell_type": "code",
   "execution_count": 80,
   "id": "b6812117",
   "metadata": {
    "ExecuteTime": {
     "end_time": "2023-08-20T16:29:53.701472Z",
     "start_time": "2023-08-20T16:29:53.645658Z"
    }
   },
   "outputs": [
    {
     "data": {
      "text/plain": [
       "6"
      ]
     },
     "execution_count": 80,
     "metadata": {},
     "output_type": "execute_result"
    }
   ],
   "source": [
    "len(l)"
   ]
  },
  {
   "cell_type": "code",
   "execution_count": 81,
   "id": "9a81f0af",
   "metadata": {
    "ExecuteTime": {
     "end_time": "2023-08-20T16:30:14.737906Z",
     "start_time": "2023-08-20T16:30:14.724286Z"
    }
   },
   "outputs": [
    {
     "data": {
      "text/plain": [
       "16"
      ]
     },
     "execution_count": 81,
     "metadata": {},
     "output_type": "execute_result"
    }
   ],
   "source": [
    "l[5]"
   ]
  },
  {
   "cell_type": "code",
   "execution_count": 82,
   "id": "f9c8fbfd",
   "metadata": {
    "ExecuteTime": {
     "end_time": "2023-08-20T16:30:27.572643Z",
     "start_time": "2023-08-20T16:30:27.524591Z"
    }
   },
   "outputs": [
    {
     "data": {
      "text/plain": [
       "16"
      ]
     },
     "execution_count": 82,
     "metadata": {},
     "output_type": "execute_result"
    }
   ],
   "source": [
    "l[-1]"
   ]
  },
  {
   "cell_type": "code",
   "execution_count": 84,
   "id": "9e503f28",
   "metadata": {
    "ExecuteTime": {
     "end_time": "2023-08-20T16:31:23.610009Z",
     "start_time": "2023-08-20T16:31:23.595676Z"
    }
   },
   "outputs": [],
   "source": [
    "l = [10, 12, 13, 14, 15, [1,2,3,4,5]]"
   ]
  },
  {
   "cell_type": "code",
   "execution_count": 86,
   "id": "eee8b156",
   "metadata": {
    "ExecuteTime": {
     "end_time": "2023-08-20T16:31:33.500062Z",
     "start_time": "2023-08-20T16:31:33.493322Z"
    }
   },
   "outputs": [],
   "source": [
    "x = l[-1]"
   ]
  },
  {
   "cell_type": "code",
   "execution_count": 89,
   "id": "cfae9556",
   "metadata": {
    "ExecuteTime": {
     "end_time": "2023-08-20T16:32:14.257831Z",
     "start_time": "2023-08-20T16:32:14.249878Z"
    }
   },
   "outputs": [
    {
     "data": {
      "text/plain": [
       "5"
      ]
     },
     "execution_count": 89,
     "metadata": {},
     "output_type": "execute_result"
    }
   ],
   "source": [
    "l[-1][-1]"
   ]
  },
  {
   "cell_type": "code",
   "execution_count": 87,
   "id": "aabdce61",
   "metadata": {
    "ExecuteTime": {
     "end_time": "2023-08-20T16:31:44.930084Z",
     "start_time": "2023-08-20T16:31:44.922260Z"
    }
   },
   "outputs": [
    {
     "data": {
      "text/plain": [
       "5"
      ]
     },
     "execution_count": 87,
     "metadata": {},
     "output_type": "execute_result"
    }
   ],
   "source": [
    "x[-1]"
   ]
  },
  {
   "cell_type": "markdown",
   "id": "a2eca4c3",
   "metadata": {
    "ExecuteTime": {
     "end_time": "2023-08-20T16:26:22.074929Z",
     "start_time": "2023-08-20T16:26:22.064263Z"
    }
   },
   "source": [
    "### Tuple"
   ]
  },
  {
   "cell_type": "code",
   "execution_count": 93,
   "id": "02d73746",
   "metadata": {
    "ExecuteTime": {
     "end_time": "2023-08-20T16:37:12.883851Z",
     "start_time": "2023-08-20T16:37:12.834148Z"
    }
   },
   "outputs": [],
   "source": [
    "tup = (1,2,3,4,5,\"Intellipat\",1,2,3,4,1,3,5)"
   ]
  },
  {
   "cell_type": "code",
   "execution_count": 99,
   "id": "233b8f51",
   "metadata": {
    "ExecuteTime": {
     "end_time": "2023-08-20T16:43:06.429809Z",
     "start_time": "2023-08-20T16:43:06.410990Z"
    }
   },
   "outputs": [
    {
     "data": {
      "text/plain": [
       "'Intellipat'"
      ]
     },
     "execution_count": 99,
     "metadata": {},
     "output_type": "execute_result"
    }
   ],
   "source": [
    "tup[5]"
   ]
  },
  {
   "cell_type": "code",
   "execution_count": 98,
   "id": "62148e7b",
   "metadata": {
    "ExecuteTime": {
     "end_time": "2023-08-20T16:42:39.949057Z",
     "start_time": "2023-08-20T16:42:39.941305Z"
    }
   },
   "outputs": [
    {
     "data": {
      "text/plain": [
       "1"
      ]
     },
     "execution_count": 98,
     "metadata": {},
     "output_type": "execute_result"
    }
   ],
   "source": [
    "tup[0]"
   ]
  },
  {
   "cell_type": "code",
   "execution_count": 97,
   "id": "51f41930",
   "metadata": {
    "ExecuteTime": {
     "end_time": "2023-08-20T16:42:31.429513Z",
     "start_time": "2023-08-20T16:42:31.408334Z"
    }
   },
   "outputs": [
    {
     "data": {
      "text/plain": [
       "2"
      ]
     },
     "execution_count": 97,
     "metadata": {},
     "output_type": "execute_result"
    }
   ],
   "source": [
    "tup[1]"
   ]
  },
  {
   "cell_type": "code",
   "execution_count": 94,
   "id": "9a09e7d9",
   "metadata": {
    "ExecuteTime": {
     "end_time": "2023-08-20T16:37:25.521094Z",
     "start_time": "2023-08-20T16:37:25.508804Z"
    }
   },
   "outputs": [
    {
     "data": {
      "text/plain": [
       "tuple"
      ]
     },
     "execution_count": 94,
     "metadata": {},
     "output_type": "execute_result"
    }
   ],
   "source": [
    "type(tup)"
   ]
  },
  {
   "cell_type": "code",
   "execution_count": 95,
   "id": "a0bd026b",
   "metadata": {
    "ExecuteTime": {
     "end_time": "2023-08-20T16:37:57.455179Z",
     "start_time": "2023-08-20T16:37:57.448808Z"
    }
   },
   "outputs": [
    {
     "data": {
      "text/plain": [
       "3"
      ]
     },
     "execution_count": 95,
     "metadata": {},
     "output_type": "execute_result"
    }
   ],
   "source": [
    "tup.count(1)"
   ]
  },
  {
   "cell_type": "code",
   "execution_count": 96,
   "id": "ff00bc4a",
   "metadata": {
    "ExecuteTime": {
     "end_time": "2023-08-20T16:38:19.298152Z",
     "start_time": "2023-08-20T16:38:19.284875Z"
    }
   },
   "outputs": [
    {
     "data": {
      "text/plain": [
       "5"
      ]
     },
     "execution_count": 96,
     "metadata": {},
     "output_type": "execute_result"
    }
   ],
   "source": [
    "tup.index(\"Intellipat\")"
   ]
  },
  {
   "cell_type": "markdown",
   "id": "10ef5bfc",
   "metadata": {},
   "source": [
    "### Sets"
   ]
  },
  {
   "cell_type": "code",
   "execution_count": 100,
   "id": "0bf6b09e",
   "metadata": {
    "ExecuteTime": {
     "end_time": "2023-08-20T16:47:22.832046Z",
     "start_time": "2023-08-20T16:47:22.781019Z"
    }
   },
   "outputs": [],
   "source": [
    "set1 = set([\"Intellipat\" , 1,2,3,4,5,6,7,8,1,2])"
   ]
  },
  {
   "cell_type": "code",
   "execution_count": 104,
   "id": "ea3f9e39",
   "metadata": {
    "ExecuteTime": {
     "end_time": "2023-08-20T16:51:13.799574Z",
     "start_time": "2023-08-20T16:51:13.744649Z"
    }
   },
   "outputs": [],
   "source": [
    "set2 = set([\"Intelipaat\" ,3,6,7,9])"
   ]
  },
  {
   "cell_type": "code",
   "execution_count": 101,
   "id": "037e7d92",
   "metadata": {
    "ExecuteTime": {
     "end_time": "2023-08-20T16:47:30.047477Z",
     "start_time": "2023-08-20T16:47:30.027398Z"
    }
   },
   "outputs": [
    {
     "data": {
      "text/plain": [
       "set"
      ]
     },
     "execution_count": 101,
     "metadata": {},
     "output_type": "execute_result"
    }
   ],
   "source": [
    "type(set1)"
   ]
  },
  {
   "cell_type": "code",
   "execution_count": 103,
   "id": "04d628ba",
   "metadata": {
    "ExecuteTime": {
     "end_time": "2023-08-20T16:47:43.185068Z",
     "start_time": "2023-08-20T16:47:43.166184Z"
    }
   },
   "outputs": [
    {
     "name": "stdout",
     "output_type": "stream",
     "text": [
      "{1, 2, 3, 'Intellipat', 4, 5, 6, 7, 8}\n"
     ]
    }
   ],
   "source": [
    "print(set1)"
   ]
  },
  {
   "cell_type": "code",
   "execution_count": 105,
   "id": "f1a1f660",
   "metadata": {
    "ExecuteTime": {
     "end_time": "2023-08-20T16:54:21.935758Z",
     "start_time": "2023-08-20T16:54:21.917773Z"
    }
   },
   "outputs": [],
   "source": [
    "set2 = {\"Intellipat\"}"
   ]
  },
  {
   "cell_type": "code",
   "execution_count": 106,
   "id": "8d96bc3b",
   "metadata": {
    "ExecuteTime": {
     "end_time": "2023-08-20T16:54:31.052253Z",
     "start_time": "2023-08-20T16:54:30.997710Z"
    }
   },
   "outputs": [
    {
     "data": {
      "text/plain": [
       "set"
      ]
     },
     "execution_count": 106,
     "metadata": {},
     "output_type": "execute_result"
    }
   ],
   "source": [
    "type(set2)"
   ]
  },
  {
   "cell_type": "code",
   "execution_count": 107,
   "id": "2c522e15",
   "metadata": {
    "ExecuteTime": {
     "end_time": "2023-08-20T16:55:01.153443Z",
     "start_time": "2023-08-20T16:55:01.144831Z"
    }
   },
   "outputs": [],
   "source": [
    "set1.add(1)"
   ]
  },
  {
   "cell_type": "code",
   "execution_count": 108,
   "id": "3436226f",
   "metadata": {
    "ExecuteTime": {
     "end_time": "2023-08-20T16:55:11.875368Z",
     "start_time": "2023-08-20T16:55:11.870945Z"
    }
   },
   "outputs": [
    {
     "name": "stdout",
     "output_type": "stream",
     "text": [
      "{1, 2, 3, 'Intellipat', 4, 5, 6, 7, 8}\n"
     ]
    }
   ],
   "source": [
    "print(set1)"
   ]
  },
  {
   "cell_type": "code",
   "execution_count": 109,
   "id": "4bf46cbe",
   "metadata": {
    "ExecuteTime": {
     "end_time": "2023-08-20T16:55:45.059383Z",
     "start_time": "2023-08-20T16:55:45.048153Z"
    }
   },
   "outputs": [],
   "source": [
    "set1.remove(\"Intellipat\")"
   ]
  },
  {
   "cell_type": "code",
   "execution_count": 110,
   "id": "62ddf227",
   "metadata": {
    "ExecuteTime": {
     "end_time": "2023-08-20T16:55:49.238740Z",
     "start_time": "2023-08-20T16:55:49.225237Z"
    }
   },
   "outputs": [
    {
     "name": "stdout",
     "output_type": "stream",
     "text": [
      "{1, 2, 3, 4, 5, 6, 7, 8}\n"
     ]
    }
   ],
   "source": [
    "print(set1)"
   ]
  },
  {
   "cell_type": "code",
   "execution_count": 111,
   "id": "c8401dcc",
   "metadata": {
    "ExecuteTime": {
     "end_time": "2023-08-20T16:56:41.883227Z",
     "start_time": "2023-08-20T16:56:41.867837Z"
    }
   },
   "outputs": [],
   "source": [
    "a = {'i','n','t','e','l'}\n",
    "b = {'p','y','t','h','o','n'} "
   ]
  },
  {
   "cell_type": "code",
   "execution_count": 112,
   "id": "3ee28ca0",
   "metadata": {
    "ExecuteTime": {
     "end_time": "2023-08-20T16:57:04.825625Z",
     "start_time": "2023-08-20T16:57:04.801731Z"
    }
   },
   "outputs": [
    {
     "data": {
      "text/plain": [
       "{'n', 't'}"
      ]
     },
     "execution_count": 112,
     "metadata": {},
     "output_type": "execute_result"
    }
   ],
   "source": [
    "a.intersection(b)"
   ]
  },
  {
   "cell_type": "code",
   "execution_count": 113,
   "id": "77d98285",
   "metadata": {
    "ExecuteTime": {
     "end_time": "2023-08-20T16:57:24.266666Z",
     "start_time": "2023-08-20T16:57:24.256924Z"
    }
   },
   "outputs": [
    {
     "data": {
      "text/plain": [
       "{'e', 'i', 'l'}"
      ]
     },
     "execution_count": 113,
     "metadata": {},
     "output_type": "execute_result"
    }
   ],
   "source": [
    "a.difference(b)"
   ]
  },
  {
   "cell_type": "code",
   "execution_count": 126,
   "id": "64188634",
   "metadata": {
    "ExecuteTime": {
     "end_time": "2023-08-20T17:05:33.008285Z",
     "start_time": "2023-08-20T17:05:32.993607Z"
    }
   },
   "outputs": [
    {
     "name": "stdout",
     "output_type": "stream",
     "text": [
      "{1, 2, 3, 4, 'andy'}\n"
     ]
    }
   ],
   "source": [
    "myset = set(['andy',1,2,3,4,1,2,3,4])\n",
    "print(myset)"
   ]
  },
  {
   "cell_type": "code",
   "execution_count": 127,
   "id": "5391c15f",
   "metadata": {
    "ExecuteTime": {
     "end_time": "2023-08-20T17:05:36.828282Z",
     "start_time": "2023-08-20T17:05:36.823983Z"
    }
   },
   "outputs": [],
   "source": [
    "myset.add(\"python\")"
   ]
  },
  {
   "cell_type": "code",
   "execution_count": 128,
   "id": "3ba75243",
   "metadata": {
    "ExecuteTime": {
     "end_time": "2023-08-20T17:05:37.126357Z",
     "start_time": "2023-08-20T17:05:37.119242Z"
    }
   },
   "outputs": [],
   "source": [
    "myset.add(1)"
   ]
  },
  {
   "cell_type": "code",
   "execution_count": 129,
   "id": "90d672f1",
   "metadata": {
    "ExecuteTime": {
     "end_time": "2023-08-20T17:05:37.606672Z",
     "start_time": "2023-08-20T17:05:37.597142Z"
    }
   },
   "outputs": [],
   "source": [
    "myset.add(10.5)"
   ]
  },
  {
   "cell_type": "code",
   "execution_count": 130,
   "id": "bf22f19f",
   "metadata": {
    "ExecuteTime": {
     "end_time": "2023-08-20T17:05:39.681320Z",
     "start_time": "2023-08-20T17:05:39.665109Z"
    }
   },
   "outputs": [
    {
     "ename": "TypeError",
     "evalue": "'set' object is not subscriptable",
     "output_type": "error",
     "traceback": [
      "\u001b[1;31m---------------------------------------------------------------------------\u001b[0m",
      "\u001b[1;31mTypeError\u001b[0m                                 Traceback (most recent call last)",
      "\u001b[1;32m<ipython-input-130-5445583283da>\u001b[0m in \u001b[0;36m<module>\u001b[1;34m\u001b[0m\n\u001b[1;32m----> 1\u001b[1;33m \u001b[0mmyset\u001b[0m\u001b[1;33m[\u001b[0m\u001b[1;36m0\u001b[0m\u001b[1;33m]\u001b[0m\u001b[1;33m\u001b[0m\u001b[1;33m\u001b[0m\u001b[0m\n\u001b[0m",
      "\u001b[1;31mTypeError\u001b[0m: 'set' object is not subscriptable"
     ]
    }
   ],
   "source": [
    "myset[0]"
   ]
  },
  {
   "cell_type": "code",
   "execution_count": 123,
   "id": "870ab47f",
   "metadata": {
    "ExecuteTime": {
     "end_time": "2023-08-20T17:02:40.353709Z",
     "start_time": "2023-08-20T17:02:40.331151Z"
    }
   },
   "outputs": [
    {
     "data": {
      "text/plain": [
       "{1, 10.5, 2, 3, 4, 'andy', 'python'}"
      ]
     },
     "execution_count": 123,
     "metadata": {},
     "output_type": "execute_result"
    }
   ],
   "source": [
    "myset"
   ]
  },
  {
   "cell_type": "code",
   "execution_count": 117,
   "id": "cb77485d",
   "metadata": {
    "ExecuteTime": {
     "end_time": "2023-08-20T16:59:13.069670Z",
     "start_time": "2023-08-20T16:59:13.044050Z"
    }
   },
   "outputs": [
    {
     "data": {
      "text/plain": [
       "{'i'}"
      ]
     },
     "execution_count": 117,
     "metadata": {},
     "output_type": "execute_result"
    }
   ],
   "source": [
    "a={'i','n','d'}\n",
    "b={'p','y','i'}\n",
    "a.intersection(b)"
   ]
  },
  {
   "cell_type": "code",
   "execution_count": 131,
   "id": "5df06484",
   "metadata": {
    "ExecuteTime": {
     "end_time": "2023-08-20T17:08:09.052836Z",
     "start_time": "2023-08-20T17:08:09.044978Z"
    }
   },
   "outputs": [
    {
     "data": {
      "text/plain": [
       "1"
      ]
     },
     "execution_count": 131,
     "metadata": {},
     "output_type": "execute_result"
    }
   ],
   "source": [
    "myset.pop()"
   ]
  },
  {
   "cell_type": "code",
   "execution_count": 133,
   "id": "4c74eadd",
   "metadata": {
    "ExecuteTime": {
     "end_time": "2023-08-20T17:08:20.045267Z",
     "start_time": "2023-08-20T17:08:20.031400Z"
    }
   },
   "outputs": [
    {
     "data": {
      "text/plain": [
       "{10.5, 2, 3, 4, 'andy', 'python'}"
      ]
     },
     "execution_count": 133,
     "metadata": {},
     "output_type": "execute_result"
    }
   ],
   "source": [
    "myset"
   ]
  },
  {
   "cell_type": "code",
   "execution_count": 136,
   "id": "a5f3c901",
   "metadata": {
    "ExecuteTime": {
     "end_time": "2023-08-20T17:09:36.297537Z",
     "start_time": "2023-08-20T17:09:36.283010Z"
    }
   },
   "outputs": [
    {
     "data": {
      "text/plain": [
       "True"
      ]
     },
     "execution_count": 136,
     "metadata": {},
     "output_type": "execute_result"
    }
   ],
   "source": [
    "set1 = {1,2,3}\n",
    "set2 = {3,2,1}\n",
    "set1 == set2"
   ]
  },
  {
   "cell_type": "markdown",
   "id": "7c209daf",
   "metadata": {},
   "source": [
    "### Dictionary"
   ]
  },
  {
   "cell_type": "code",
   "execution_count": 137,
   "id": "d84008c9",
   "metadata": {
    "ExecuteTime": {
     "end_time": "2023-08-20T17:14:30.383760Z",
     "start_time": "2023-08-20T17:14:30.369670Z"
    }
   },
   "outputs": [],
   "source": [
    "dict1 = {1 : \"Intellipat\" , 2 : \"Python\" , 3 : \"training\"}"
   ]
  },
  {
   "cell_type": "code",
   "execution_count": 138,
   "id": "c19ec302",
   "metadata": {
    "ExecuteTime": {
     "end_time": "2023-08-20T17:14:37.348371Z",
     "start_time": "2023-08-20T17:14:37.329363Z"
    }
   },
   "outputs": [
    {
     "data": {
      "text/plain": [
       "dict"
      ]
     },
     "execution_count": 138,
     "metadata": {},
     "output_type": "execute_result"
    }
   ],
   "source": [
    "type(dict1)"
   ]
  },
  {
   "cell_type": "code",
   "execution_count": 139,
   "id": "37635358",
   "metadata": {
    "ExecuteTime": {
     "end_time": "2023-08-20T17:15:23.630908Z",
     "start_time": "2023-08-20T17:15:23.613870Z"
    }
   },
   "outputs": [],
   "source": [
    "dict2 = {\"name\" : \"Intellipat\" , 1 :[1,2,3,4,5]}"
   ]
  },
  {
   "cell_type": "code",
   "execution_count": 140,
   "id": "b596d644",
   "metadata": {
    "ExecuteTime": {
     "end_time": "2023-08-20T17:15:58.037199Z",
     "start_time": "2023-08-20T17:15:57.991539Z"
    }
   },
   "outputs": [
    {
     "data": {
      "text/plain": [
       "[1, 2, 3, 4, 5]"
      ]
     },
     "execution_count": 140,
     "metadata": {},
     "output_type": "execute_result"
    }
   ],
   "source": [
    "dict2.get(1)"
   ]
  },
  {
   "cell_type": "code",
   "execution_count": 141,
   "id": "0a2f7ab7",
   "metadata": {
    "ExecuteTime": {
     "end_time": "2023-08-20T17:16:37.081510Z",
     "start_time": "2023-08-20T17:16:37.018382Z"
    }
   },
   "outputs": [],
   "source": [
    "dict3 = {\"name\" : \"Intellipat\" , 1 :[1,2,3,4,5] , \"name\":\"Python\"}"
   ]
  },
  {
   "cell_type": "code",
   "execution_count": 142,
   "id": "b1ad45ea",
   "metadata": {
    "ExecuteTime": {
     "end_time": "2023-08-20T17:17:40.992035Z",
     "start_time": "2023-08-20T17:17:40.979291Z"
    }
   },
   "outputs": [
    {
     "data": {
      "text/plain": [
       "'Python'"
      ]
     },
     "execution_count": 142,
     "metadata": {},
     "output_type": "execute_result"
    }
   ],
   "source": [
    "dict3.get(\"name\")"
   ]
  },
  {
   "cell_type": "code",
   "execution_count": 143,
   "id": "50f03c75",
   "metadata": {
    "ExecuteTime": {
     "end_time": "2023-08-20T17:18:40.348564Z",
     "start_time": "2023-08-20T17:18:40.336286Z"
    }
   },
   "outputs": [],
   "source": [
    "# As of python 3.7 , dictionaries are ordered. Inpython 3.6 and earlier , dictionaries are unordered"
   ]
  },
  {
   "cell_type": "code",
   "execution_count": 144,
   "id": "59c51375",
   "metadata": {
    "ExecuteTime": {
     "end_time": "2023-08-20T17:19:08.364496Z",
     "start_time": "2023-08-20T17:19:08.345235Z"
    }
   },
   "outputs": [
    {
     "name": "stdout",
     "output_type": "stream",
     "text": [
      "{'name': 'Python', 1: [1, 2, 3, 4, 5]}\n"
     ]
    }
   ],
   "source": [
    "print(dict3)"
   ]
  },
  {
   "cell_type": "code",
   "execution_count": 145,
   "id": "776887a8",
   "metadata": {
    "ExecuteTime": {
     "end_time": "2023-08-20T17:19:48.357234Z",
     "start_time": "2023-08-20T17:19:48.336573Z"
    }
   },
   "outputs": [
    {
     "data": {
      "text/plain": [
       "dict_keys(['name', 1])"
      ]
     },
     "execution_count": 145,
     "metadata": {},
     "output_type": "execute_result"
    }
   ],
   "source": [
    "dict2.keys()"
   ]
  },
  {
   "cell_type": "code",
   "execution_count": 146,
   "id": "2cc0460f",
   "metadata": {
    "ExecuteTime": {
     "end_time": "2023-08-20T17:20:27.797959Z",
     "start_time": "2023-08-20T17:20:27.783495Z"
    }
   },
   "outputs": [
    {
     "data": {
      "text/plain": [
       "[1, 2, 3, 4, 5]"
      ]
     },
     "execution_count": 146,
     "metadata": {},
     "output_type": "execute_result"
    }
   ],
   "source": [
    "dict2.pop(1)"
   ]
  },
  {
   "cell_type": "code",
   "execution_count": 147,
   "id": "67b99ec6",
   "metadata": {
    "ExecuteTime": {
     "end_time": "2023-08-20T17:20:34.122774Z",
     "start_time": "2023-08-20T17:20:34.111003Z"
    }
   },
   "outputs": [
    {
     "name": "stdout",
     "output_type": "stream",
     "text": [
      "{'name': 'Intellipat'}\n"
     ]
    }
   ],
   "source": [
    "print(dict2)"
   ]
  },
  {
   "cell_type": "code",
   "execution_count": 148,
   "id": "5bdb721e",
   "metadata": {
    "ExecuteTime": {
     "end_time": "2023-08-20T17:21:05.433667Z",
     "start_time": "2023-08-20T17:21:05.414594Z"
    }
   },
   "outputs": [
    {
     "data": {
      "text/plain": [
       "dict_items([('name', 'Intellipat')])"
      ]
     },
     "execution_count": 148,
     "metadata": {},
     "output_type": "execute_result"
    }
   ],
   "source": [
    "dict2.items()"
   ]
  },
  {
   "cell_type": "code",
   "execution_count": 149,
   "id": "f7b269c3",
   "metadata": {
    "ExecuteTime": {
     "end_time": "2023-08-20T17:21:15.011405Z",
     "start_time": "2023-08-20T17:21:14.988316Z"
    }
   },
   "outputs": [
    {
     "data": {
      "text/plain": [
       "dict_items([(1, 'Intellipat'), (2, 'Python'), (3, 'training')])"
      ]
     },
     "execution_count": 149,
     "metadata": {},
     "output_type": "execute_result"
    }
   ],
   "source": [
    "dict1.items()"
   ]
  },
  {
   "cell_type": "code",
   "execution_count": 158,
   "id": "6fc662ce",
   "metadata": {
    "ExecuteTime": {
     "end_time": "2023-08-20T17:25:01.618834Z",
     "start_time": "2023-08-20T17:25:01.600728Z"
    }
   },
   "outputs": [],
   "source": [
    "# lst = set(1, 2, 3, {1 : 'a', 2 : 'b', 3 : 'c'})\n"
   ]
  },
  {
   "cell_type": "code",
   "execution_count": 159,
   "id": "5ece1e2c",
   "metadata": {
    "ExecuteTime": {
     "end_time": "2023-08-20T17:25:04.922561Z",
     "start_time": "2023-08-20T17:25:04.919285Z"
    },
    "scrolled": true
   },
   "outputs": [],
   "source": [
    "# type(lst[3])"
   ]
  },
  {
   "cell_type": "markdown",
   "id": "38f2f679",
   "metadata": {},
   "source": [
    "## Boolean Data Type"
   ]
  },
  {
   "cell_type": "code",
   "execution_count": 160,
   "id": "57e77e77",
   "metadata": {
    "ExecuteTime": {
     "end_time": "2023-08-20T17:26:15.936804Z",
     "start_time": "2023-08-20T17:26:15.918035Z"
    }
   },
   "outputs": [],
   "source": [
    "a = True"
   ]
  },
  {
   "cell_type": "code",
   "execution_count": 161,
   "id": "8791bcb7",
   "metadata": {
    "ExecuteTime": {
     "end_time": "2023-08-20T17:26:22.593015Z",
     "start_time": "2023-08-20T17:26:22.580693Z"
    }
   },
   "outputs": [
    {
     "data": {
      "text/plain": [
       "bool"
      ]
     },
     "execution_count": 161,
     "metadata": {},
     "output_type": "execute_result"
    }
   ],
   "source": [
    "type(a)"
   ]
  },
  {
   "cell_type": "code",
   "execution_count": 162,
   "id": "f628c226",
   "metadata": {
    "ExecuteTime": {
     "end_time": "2023-08-20T17:26:30.795525Z",
     "start_time": "2023-08-20T17:26:30.787491Z"
    }
   },
   "outputs": [],
   "source": [
    "b = False"
   ]
  },
  {
   "cell_type": "code",
   "execution_count": 163,
   "id": "17b679ed",
   "metadata": {
    "ExecuteTime": {
     "end_time": "2023-08-20T17:26:36.512368Z",
     "start_time": "2023-08-20T17:26:36.504635Z"
    }
   },
   "outputs": [
    {
     "data": {
      "text/plain": [
       "bool"
      ]
     },
     "execution_count": 163,
     "metadata": {},
     "output_type": "execute_result"
    }
   ],
   "source": [
    "type(b)"
   ]
  },
  {
   "cell_type": "code",
   "execution_count": 164,
   "id": "8518e261",
   "metadata": {
    "ExecuteTime": {
     "end_time": "2023-08-20T17:26:59.309658Z",
     "start_time": "2023-08-20T17:26:59.291608Z"
    }
   },
   "outputs": [
    {
     "name": "stdout",
     "output_type": "stream",
     "text": [
      "True\n"
     ]
    }
   ],
   "source": [
    "a = 10\n",
    "b = 20\n",
    "c = a < b\n",
    "print(c)"
   ]
  },
  {
   "cell_type": "code",
   "execution_count": 165,
   "id": "36da474c",
   "metadata": {
    "ExecuteTime": {
     "end_time": "2023-08-20T17:27:13.669579Z",
     "start_time": "2023-08-20T17:27:13.654132Z"
    }
   },
   "outputs": [
    {
     "data": {
      "text/plain": [
       "bool"
      ]
     },
     "execution_count": 165,
     "metadata": {},
     "output_type": "execute_result"
    }
   ],
   "source": [
    "type(c)"
   ]
  },
  {
   "cell_type": "code",
   "execution_count": 180,
   "id": "4ec7967e",
   "metadata": {
    "ExecuteTime": {
     "end_time": "2023-08-20T17:32:04.552628Z",
     "start_time": "2023-08-20T17:32:04.536379Z"
    }
   },
   "outputs": [
    {
     "data": {
      "text/plain": [
       "False"
      ]
     },
     "execution_count": 180,
     "metadata": {},
     "output_type": "execute_result"
    }
   ],
   "source": [
    "a = {1,2,3}\n",
    "b = {3,2,1}\n",
    "(a is b)"
   ]
  },
  {
   "cell_type": "code",
   "execution_count": 167,
   "id": "030a3a0f",
   "metadata": {
    "ExecuteTime": {
     "end_time": "2023-08-20T17:30:47.425491Z",
     "start_time": "2023-08-20T17:30:47.367529Z"
    }
   },
   "outputs": [
    {
     "data": {
      "text/plain": [
       "2564690096864"
      ]
     },
     "execution_count": 167,
     "metadata": {},
     "output_type": "execute_result"
    }
   ],
   "source": [
    "id(a)"
   ]
  },
  {
   "cell_type": "code",
   "execution_count": 168,
   "id": "44eaa71b",
   "metadata": {
    "ExecuteTime": {
     "end_time": "2023-08-20T17:30:53.965971Z",
     "start_time": "2023-08-20T17:30:53.946350Z"
    }
   },
   "outputs": [
    {
     "data": {
      "text/plain": [
       "2564682339712"
      ]
     },
     "execution_count": 168,
     "metadata": {},
     "output_type": "execute_result"
    }
   ],
   "source": [
    "id(b)"
   ]
  },
  {
   "cell_type": "code",
   "execution_count": 176,
   "id": "fa944a95",
   "metadata": {
    "ExecuteTime": {
     "end_time": "2023-08-20T17:32:00.016301Z",
     "start_time": "2023-08-20T17:31:59.994094Z"
    }
   },
   "outputs": [
    {
     "data": {
      "text/plain": [
       "False"
      ]
     },
     "execution_count": 176,
     "metadata": {},
     "output_type": "execute_result"
    }
   ],
   "source": [
    "a = (1,2,3)\n",
    "b = (1,2,3)\n",
    "(a is b)"
   ]
  },
  {
   "cell_type": "code",
   "execution_count": 171,
   "id": "0529770a",
   "metadata": {
    "ExecuteTime": {
     "end_time": "2023-08-20T17:31:40.695924Z",
     "start_time": "2023-08-20T17:31:40.645694Z"
    }
   },
   "outputs": [
    {
     "data": {
      "text/plain": [
       "True"
      ]
     },
     "execution_count": 171,
     "metadata": {},
     "output_type": "execute_result"
    }
   ],
   "source": [
    "a = \"python\"\n",
    "b = \"python\"\n",
    "a is b"
   ]
  },
  {
   "cell_type": "code",
   "execution_count": 182,
   "id": "8f949cc7",
   "metadata": {
    "ExecuteTime": {
     "end_time": "2023-08-20T17:32:53.799313Z",
     "start_time": "2023-08-20T17:32:53.789769Z"
    }
   },
   "outputs": [
    {
     "data": {
      "text/plain": [
       "False"
      ]
     },
     "execution_count": 182,
     "metadata": {},
     "output_type": "execute_result"
    }
   ],
   "source": [
    "a = [1,2,3]\n",
    "b = [1,2,3]\n",
    "(a is b)"
   ]
  }
 ],
 "metadata": {
  "kernelspec": {
   "display_name": "Python 3",
   "language": "python",
   "name": "python3"
  },
  "language_info": {
   "codemirror_mode": {
    "name": "ipython",
    "version": 3
   },
   "file_extension": ".py",
   "mimetype": "text/x-python",
   "name": "python",
   "nbconvert_exporter": "python",
   "pygments_lexer": "ipython3",
   "version": "3.8.8"
  },
  "toc": {
   "base_numbering": 1,
   "nav_menu": {},
   "number_sections": true,
   "sideBar": true,
   "skip_h1_title": false,
   "title_cell": "Table of Contents",
   "title_sidebar": "Contents",
   "toc_cell": false,
   "toc_position": {},
   "toc_section_display": true,
   "toc_window_display": false
  }
 },
 "nbformat": 4,
 "nbformat_minor": 5
}
