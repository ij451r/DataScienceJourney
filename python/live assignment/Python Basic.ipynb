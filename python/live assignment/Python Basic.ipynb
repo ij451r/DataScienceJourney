{
 "cells": [
  {
   "cell_type": "markdown",
   "id": "c7d0aa1e",
   "metadata": {},
   "source": [
    "# Python Basics Assignment\n",
    "Mohammad Jasir - mohammedjasir660@gmail.com"
   ]
  },
  {
   "cell_type": "markdown",
   "id": "0c658cf5",
   "metadata": {},
   "source": [
    "### Q1. Using Python script as a calculator and Create the variables n, r, p and assign them values 10, 5, and 100 respectively. Then evaluate the following expression in the Python console.\n",
    "\n",
    "$𝐴 = 𝑝 (1 + 𝑟/ 100)^n$\n",
    "\n",
    "**b. 162.89**"
   ]
  },
  {
   "cell_type": "code",
   "execution_count": 2,
   "id": "35a83d40",
   "metadata": {
    "ExecuteTime": {
     "end_time": "2023-08-01T07:10:19.793532Z",
     "start_time": "2023-08-01T07:10:19.786738Z"
    }
   },
   "outputs": [
    {
     "name": "stdout",
     "output_type": "stream",
     "text": [
      "The result is 162.8894626777442\n"
     ]
    }
   ],
   "source": [
    "n, r, p = 10, 5, 100\n",
    "A = p * ( 1 + (r / 100) )**n\n",
    "print(f'The result is {A}')"
   ]
  },
  {
   "cell_type": "markdown",
   "id": "d5a08f30",
   "metadata": {},
   "source": [
    "### Q2. In a given string format operation, how will you print the given string.\n",
    "\n",
    "A = 10\n",
    "B = 20\n",
    "\n",
    "Str = \"There are {} students in the class, with {} who play at least one sport.\"\n",
    "\n",
    "**c. print(string.format(b,a))**"
   ]
  },
  {
   "cell_type": "code",
   "execution_count": 5,
   "id": "02c341a8",
   "metadata": {
    "ExecuteTime": {
     "end_time": "2023-08-01T07:13:35.293942Z",
     "start_time": "2023-08-01T07:13:35.272828Z"
    }
   },
   "outputs": [
    {
     "name": "stdout",
     "output_type": "stream",
     "text": [
      "There are 20 students in the class, with 10 who play at least one sport.\n"
     ]
    }
   ],
   "source": [
    "A = 10\n",
    "B = 20\n",
    "\n",
    "Str = \"There are {} students in the class, with {} who play at least one sport.\"\n",
    "print(Str.format(B,A))"
   ]
  },
  {
   "cell_type": "markdown",
   "id": "aab66eed",
   "metadata": {},
   "source": [
    "### Q3. In a given sample string, How do you print a double quoted string in between a\n",
    "regular string using the escape character?\n",
    "\n",
    "Sample output = It goes without saying, “Time is Money”, and none can deny it.\n",
    "\n",
    "**a. print(“It goes without saying, \\“Time is Money\\”, and none can deny it.”)**\n"
   ]
  },
  {
   "cell_type": "code",
   "execution_count": 6,
   "id": "6ec0575d",
   "metadata": {
    "ExecuteTime": {
     "end_time": "2023-08-01T07:15:00.599723Z",
     "start_time": "2023-08-01T07:15:00.586976Z"
    }
   },
   "outputs": [
    {
     "name": "stdout",
     "output_type": "stream",
     "text": [
      "It goes without saying, \"Time is Money\", and none can deny it.\n"
     ]
    }
   ],
   "source": [
    "print(\"It goes without saying, \\\"Time is Money\\\", and none can deny it.\")"
   ]
  },
  {
   "cell_type": "markdown",
   "id": "be69f4d0",
   "metadata": {
    "ExecuteTime": {
     "end_time": "2023-08-01T05:36:11.905514Z",
     "start_time": "2023-08-01T05:36:11.899331Z"
    }
   },
   "source": [
    "### Q4. What will be the output of the following code?\n",
    "\n",
    "x = lambda a,b: a//b\n",
    "x(10,3)\n",
    "\n",
    "**b. 3**"
   ]
  },
  {
   "cell_type": "code",
   "execution_count": 7,
   "id": "3b1643ea",
   "metadata": {
    "ExecuteTime": {
     "end_time": "2023-08-01T07:16:13.261148Z",
     "start_time": "2023-08-01T07:16:13.256867Z"
    }
   },
   "outputs": [
    {
     "name": "stdout",
     "output_type": "stream",
     "text": [
      "3.0\n"
     ]
    }
   ],
   "source": [
    "x = lambda a,b: a//b \n",
    "print(x(10.,3))"
   ]
  },
  {
   "cell_type": "markdown",
   "id": "f514d378",
   "metadata": {},
   "source": [
    "### Q5. What will be the output of the following code?\n",
    "\n",
    "A = 10\n",
    "\n",
    "B = 12\n",
    "\n",
    "print(\"Smaller\") if A == B else print(\"Greater\") if A < B else print(\"True\")\n",
    "\n",
    "**c. Greater**"
   ]
  },
  {
   "cell_type": "code",
   "execution_count": 8,
   "id": "960f36ff",
   "metadata": {
    "ExecuteTime": {
     "end_time": "2023-08-01T07:17:39.134532Z",
     "start_time": "2023-08-01T07:17:39.124771Z"
    }
   },
   "outputs": [
    {
     "name": "stdout",
     "output_type": "stream",
     "text": [
      "Greater\n"
     ]
    }
   ],
   "source": [
    "print(\"Smaller\") if A == B else print(\"Greater\") if A < B else print(\"True\")\n"
   ]
  },
  {
   "cell_type": "markdown",
   "id": "7af041a3",
   "metadata": {},
   "source": [
    "### Q6. What will be the output of the following code?\n",
    "\n",
    "**a. [2 7 3 5 4 6]**"
   ]
  },
  {
   "cell_type": "code",
   "execution_count": 13,
   "id": "6cc67311",
   "metadata": {
    "ExecuteTime": {
     "end_time": "2023-08-01T07:24:07.887279Z",
     "start_time": "2023-08-01T07:24:07.843911Z"
    }
   },
   "outputs": [
    {
     "name": "stdout",
     "output_type": "stream",
     "text": [
      "[2, 7, 3, 5, 4, 6]\n",
      "[2 7 3 5 4 6]\n"
     ]
    }
   ],
   "source": [
    "import os\n",
    "import numpy as np\n",
    "my_list1=[2,7,3,5,4,6]\n",
    "print(my_list1)\n",
    "arr_1 = np.array(my_list1, dtype=int)\n",
    "print(arr_1)"
   ]
  },
  {
   "cell_type": "markdown",
   "id": "cb53b7b7",
   "metadata": {},
   "source": [
    "### Q7. Create a string called ‘string’ with the value as “Machine Learning”. Which code(s)\n",
    "is/are appropriate to slice the substring “Learn”?\n",
    "\n",
    "**d. string[slice(8,13,1)]**\n"
   ]
  },
  {
   "cell_type": "code",
   "execution_count": 15,
   "id": "55f139d1",
   "metadata": {
    "ExecuteTime": {
     "end_time": "2023-08-01T07:26:31.785089Z",
     "start_time": "2023-08-01T07:26:31.773331Z"
    }
   },
   "outputs": [
    {
     "data": {
      "text/plain": [
       "'Learn'"
      ]
     },
     "execution_count": 15,
     "metadata": {},
     "output_type": "execute_result"
    }
   ],
   "source": [
    "string = \"Machine Learning\"\n",
    "string[slice(8,13,1)]"
   ]
  },
  {
   "cell_type": "markdown",
   "id": "26714d48",
   "metadata": {},
   "source": [
    "### Q8. Create a sequence of numbers from 10 to 25 and increment by 4. What is the index\n",
    "of the value 18?\n",
    "\n",
    "**b. 2**"
   ]
  },
  {
   "cell_type": "code",
   "execution_count": 20,
   "id": "6f02f041",
   "metadata": {
    "ExecuteTime": {
     "end_time": "2023-08-01T07:29:41.526255Z",
     "start_time": "2023-08-01T07:29:41.515816Z"
    }
   },
   "outputs": [
    {
     "name": "stdout",
     "output_type": "stream",
     "text": [
      "2\n"
     ]
    }
   ],
   "source": [
    "Nums = [i for i in range(10,25,4)]\n",
    "print(Nums.index(18))"
   ]
  },
  {
   "cell_type": "markdown",
   "id": "51ec9fc9",
   "metadata": {},
   "source": [
    "### Q9. Which of the following is true with respect to the below codes?\n",
    "\n",
    "**a. num1 = num2**"
   ]
  },
  {
   "cell_type": "code",
   "execution_count": 21,
   "id": "6d7e2de8",
   "metadata": {
    "ExecuteTime": {
     "end_time": "2023-08-01T08:09:27.189504Z",
     "start_time": "2023-08-01T08:09:27.176010Z"
    }
   },
   "outputs": [
    {
     "name": "stdout",
     "output_type": "stream",
     "text": [
      "625 625\n"
     ]
    }
   ],
   "source": [
    "num1 = 5**4\n",
    "num2 = pow(5,4)\n",
    "print(num1, num2)"
   ]
  },
  {
   "cell_type": "markdown",
   "id": "f10927ef",
   "metadata": {},
   "source": [
    "### Q10.A Python NameError exception is raised when: -\n",
    "\n",
    "**a. Trying to access a variable which has not been defined**"
   ]
  },
  {
   "cell_type": "code",
   "execution_count": 23,
   "id": "ad95334f",
   "metadata": {
    "ExecuteTime": {
     "end_time": "2023-08-01T08:11:02.101137Z",
     "start_time": "2023-08-01T08:11:02.073511Z"
    }
   },
   "outputs": [
    {
     "ename": "NameError",
     "evalue": "name 'variable' is not defined",
     "output_type": "error",
     "traceback": [
      "\u001b[0;31m---------------------------------------------------------------------------\u001b[0m",
      "\u001b[0;31mNameError\u001b[0m                                 Traceback (most recent call last)",
      "Cell \u001b[0;32mIn[23], line 1\u001b[0m\n\u001b[0;32m----> 1\u001b[0m \u001b[38;5;28mprint\u001b[39m(\u001b[43mvariable\u001b[49m)\n",
      "\u001b[0;31mNameError\u001b[0m: name 'variable' is not defined"
     ]
    }
   ],
   "source": [
    "print(variable)"
   ]
  },
  {
   "cell_type": "markdown",
   "id": "acc0ba6b",
   "metadata": {},
   "source": [
    "### Q11.What type of exception will be raised for the code given below?\n",
    "\n",
    "**c. ValueError**\n"
   ]
  },
  {
   "cell_type": "code",
   "execution_count": 24,
   "id": "15c17133",
   "metadata": {
    "ExecuteTime": {
     "end_time": "2023-08-01T08:11:55.500449Z",
     "start_time": "2023-08-01T08:11:55.459179Z"
    }
   },
   "outputs": [
    {
     "ename": "ValueError",
     "evalue": "invalid literal for int() with base 10: 'string'",
     "output_type": "error",
     "traceback": [
      "\u001b[0;31m---------------------------------------------------------------------------\u001b[0m",
      "\u001b[0;31mValueError\u001b[0m                                Traceback (most recent call last)",
      "Cell \u001b[0;32mIn[24], line 2\u001b[0m\n\u001b[1;32m      1\u001b[0m x \u001b[38;5;241m=\u001b[39m \u001b[38;5;124m'\u001b[39m\u001b[38;5;124mstring\u001b[39m\u001b[38;5;124m'\u001b[39m\n\u001b[0;32m----> 2\u001b[0m \u001b[38;5;28;43mint\u001b[39;49m\u001b[43m(\u001b[49m\u001b[43mx\u001b[49m\u001b[43m)\u001b[49m\n",
      "\u001b[0;31mValueError\u001b[0m: invalid literal for int() with base 10: 'string'"
     ]
    }
   ],
   "source": [
    "x = 'string'\n",
    "int(x)"
   ]
  },
  {
   "cell_type": "markdown",
   "id": "199e2d95",
   "metadata": {},
   "source": [
    "### Q12.A FileNotFoundError exception is raised by operating system errors when: -\n",
    "\n",
    "**b. A file or directory is requested but does not exist in the working directory**"
   ]
  },
  {
   "cell_type": "code",
   "execution_count": 25,
   "id": "286913a1",
   "metadata": {
    "ExecuteTime": {
     "end_time": "2023-08-01T08:14:51.048218Z",
     "start_time": "2023-08-01T08:14:50.921794Z"
    }
   },
   "outputs": [
    {
     "ename": "FileNotFoundError",
     "evalue": "[Errno 2] No such file or directory: 'file.txt'",
     "output_type": "error",
     "traceback": [
      "\u001b[0;31m---------------------------------------------------------------------------\u001b[0m",
      "\u001b[0;31mFileNotFoundError\u001b[0m                         Traceback (most recent call last)",
      "Cell \u001b[0;32mIn[25], line 1\u001b[0m\n\u001b[0;32m----> 1\u001b[0m \u001b[38;5;28;01mwith\u001b[39;00m \u001b[38;5;28;43mopen\u001b[39;49m\u001b[43m(\u001b[49m\u001b[38;5;124;43m'\u001b[39;49m\u001b[38;5;124;43mfile.txt\u001b[39;49m\u001b[38;5;124;43m'\u001b[39;49m\u001b[43m)\u001b[49m:\n\u001b[1;32m      2\u001b[0m     \u001b[38;5;28;01mpass\u001b[39;00m\n",
      "File \u001b[0;32m~/.local/lib/python3.8/site-packages/IPython/core/interactiveshell.py:282\u001b[0m, in \u001b[0;36m_modified_open\u001b[0;34m(file, *args, **kwargs)\u001b[0m\n\u001b[1;32m    275\u001b[0m \u001b[38;5;28;01mif\u001b[39;00m file \u001b[38;5;129;01min\u001b[39;00m {\u001b[38;5;241m0\u001b[39m, \u001b[38;5;241m1\u001b[39m, \u001b[38;5;241m2\u001b[39m}:\n\u001b[1;32m    276\u001b[0m     \u001b[38;5;28;01mraise\u001b[39;00m \u001b[38;5;167;01mValueError\u001b[39;00m(\n\u001b[1;32m    277\u001b[0m         \u001b[38;5;124mf\u001b[39m\u001b[38;5;124m\"\u001b[39m\u001b[38;5;124mIPython won\u001b[39m\u001b[38;5;124m'\u001b[39m\u001b[38;5;124mt let you open fd=\u001b[39m\u001b[38;5;132;01m{\u001b[39;00mfile\u001b[38;5;132;01m}\u001b[39;00m\u001b[38;5;124m by default \u001b[39m\u001b[38;5;124m\"\u001b[39m\n\u001b[1;32m    278\u001b[0m         \u001b[38;5;124m\"\u001b[39m\u001b[38;5;124mas it is likely to crash IPython. If you know what you are doing, \u001b[39m\u001b[38;5;124m\"\u001b[39m\n\u001b[1;32m    279\u001b[0m         \u001b[38;5;124m\"\u001b[39m\u001b[38;5;124myou can use builtins\u001b[39m\u001b[38;5;124m'\u001b[39m\u001b[38;5;124m open.\u001b[39m\u001b[38;5;124m\"\u001b[39m\n\u001b[1;32m    280\u001b[0m     )\n\u001b[0;32m--> 282\u001b[0m \u001b[38;5;28;01mreturn\u001b[39;00m \u001b[43mio_open\u001b[49m\u001b[43m(\u001b[49m\u001b[43mfile\u001b[49m\u001b[43m,\u001b[49m\u001b[43m \u001b[49m\u001b[38;5;241;43m*\u001b[39;49m\u001b[43margs\u001b[49m\u001b[43m,\u001b[49m\u001b[43m \u001b[49m\u001b[38;5;241;43m*\u001b[39;49m\u001b[38;5;241;43m*\u001b[39;49m\u001b[43mkwargs\u001b[49m\u001b[43m)\u001b[49m\n",
      "\u001b[0;31mFileNotFoundError\u001b[0m: [Errno 2] No such file or directory: 'file.txt'"
     ]
    }
   ],
   "source": [
    "with open('file.txt'):\n",
    "    pass"
   ]
  },
  {
   "cell_type": "markdown",
   "id": "3af0575f",
   "metadata": {},
   "source": [
    "### Q13.Consider a variable Z. The value of Z is \"ID-5632\". Data type of Z is: -\n",
    "\n",
    "**b. Character**"
   ]
  },
  {
   "cell_type": "code",
   "execution_count": 26,
   "id": "a2c3e7bd",
   "metadata": {
    "ExecuteTime": {
     "end_time": "2023-08-01T10:55:16.937906Z",
     "start_time": "2023-08-01T10:55:16.928625Z"
    }
   },
   "outputs": [
    {
     "data": {
      "text/plain": [
       "str"
      ]
     },
     "execution_count": 26,
     "metadata": {},
     "output_type": "execute_result"
    }
   ],
   "source": [
    "z=\"ID-5632\"\n",
    "type(z)"
   ]
  },
  {
   "cell_type": "markdown",
   "id": "f0328401",
   "metadata": {},
   "source": [
    "### Q14.Which of the following variable(s) are character data type?\n",
    "\n",
    "**d. All of the above**"
   ]
  },
  {
   "cell_type": "markdown",
   "id": "d4a38266",
   "metadata": {},
   "source": [
    "### Q15.Choose the symbol/s that does not have the ability to convert any values to string?\n",
    "\n",
    "**b. “ ”**\n"
   ]
  },
  {
   "cell_type": "markdown",
   "id": "8166d6ab",
   "metadata": {},
   "source": [
    "### Q16.Create a dictionary ‘Country’ that maps the following countries to their capitals respectively:\n",
    "\n",
    "Country: India China Japan Qatar France \\\n",
    "State: Delhi Beijing Tokyo Doha Marseilles\n",
    "\n",
    "Find 2 commands to replace “Marseilles” with “Paris” is:\n",
    "\n",
    "**Country['France']='Paris'\\\n",
    "Country.update(UpdatedDictionary)**"
   ]
  },
  {
   "cell_type": "code",
   "execution_count": 34,
   "id": "6b873cbc",
   "metadata": {
    "ExecuteTime": {
     "end_time": "2023-08-01T11:08:49.742246Z",
     "start_time": "2023-08-01T11:08:49.726638Z"
    }
   },
   "outputs": [
    {
     "name": "stdout",
     "output_type": "stream",
     "text": [
      "{'India': 'Delhi', 'China': 'Beijing', 'Japan': 'Tokyo', 'Qatar': 'Doha', 'France': 'Paris'}\n",
      "{'India': 'Delhi', 'China': 'Beijing', 'Japan': 'Tokyo', 'Qatar': 'Doha', 'France': 'Paris'}\n"
     ]
    }
   ],
   "source": [
    "Country = {\n",
    "    'India' : 'Delhi',\n",
    "    'China' : 'Beijing',\n",
    "    'Japan' : 'Tokyo',\n",
    "    'Qatar' : 'Doha',\n",
    "    'France': 'Marseilles'\n",
    "}\n",
    "#1\n",
    "Country['France'] = 'Paris'\n",
    "print(Country)\n",
    "#2\n",
    "UpdatedCountry = {\n",
    "    'France':'Paris'\n",
    "}\n",
    "Country.update(UpdatedCountry)\n",
    "print(Country)"
   ]
  },
  {
   "cell_type": "markdown",
   "id": "c377aa4b",
   "metadata": {},
   "source": [
    "### Q17. Create the tuples given below\n",
    "tuple_1 = (1,5,6,7,8)\\\n",
    "tuple_2 = (8,9,4)\\\n",
    "Identify which of the following code does not work on a tuple.\\\n",
    "\n",
    "a. sum(tuple_1)\\\n",
    "b. len(tuple_2)\\\n",
    "c. tuple_2 + tuple_1 \\\n",
    "d. tuple_1[3] = 45"
   ]
  },
  {
   "cell_type": "code",
   "execution_count": 37,
   "id": "237a2767",
   "metadata": {
    "ExecuteTime": {
     "end_time": "2023-08-01T11:13:59.719371Z",
     "start_time": "2023-08-01T11:13:59.705337Z"
    }
   },
   "outputs": [
    {
     "name": "stdout",
     "output_type": "stream",
     "text": [
      "27\n",
      "3\n",
      "(8, 9, 4, 1, 5, 6, 7, 8)\n",
      "'tuple' object does not support item assignment\n"
     ]
    }
   ],
   "source": [
    "tuple_1 = (1,5,6,7,8)\n",
    "tuple_2 = (8,9,4)\n",
    "\n",
    "print(sum(tuple_1))\n",
    "print(len(tuple_2))\n",
    "print(tuple_2+tuple_1)\n",
    "try:\n",
    "    tuple_1[3]=45\n",
    "except Exception as e:\n",
    "    print(e)"
   ]
  },
  {
   "cell_type": "markdown",
   "id": "4e840332",
   "metadata": {},
   "source": [
    "### Q18. How many elements in the following data structure?\n",
    "\n",
    "**6 elements**"
   ]
  },
  {
   "cell_type": "code",
   "execution_count": 38,
   "id": "514c4d97",
   "metadata": {
    "ExecuteTime": {
     "end_time": "2023-08-01T11:16:20.700979Z",
     "start_time": "2023-08-01T11:16:20.691206Z"
    }
   },
   "outputs": [
    {
     "name": "stdout",
     "output_type": "stream",
     "text": [
      "6\n"
     ]
    }
   ],
   "source": [
    "s={1,2,3,4,4,4,5,6}\n",
    "print(len(s))"
   ]
  },
  {
   "cell_type": "markdown",
   "id": "d6783c09",
   "metadata": {},
   "source": [
    "### Q19.Write a function which finds all pythagorean triplets of triangles whose sides are no greater than a natural number N."
   ]
  },
  {
   "cell_type": "code",
   "execution_count": 42,
   "id": "c83d2c3a",
   "metadata": {
    "ExecuteTime": {
     "end_time": "2023-08-01T11:23:08.812939Z",
     "start_time": "2023-08-01T11:23:08.794664Z"
    }
   },
   "outputs": [
    {
     "data": {
      "text/plain": [
       "((12, 35.0, 37.0), (3, 5.0, 4.0))"
      ]
     },
     "execution_count": 42,
     "metadata": {},
     "output_type": "execute_result"
    }
   ],
   "source": [
    "def findPythTriplet(m):\n",
    "    if m%2==0:\n",
    "        return m, (m/2)**2-1, (m/2)**2+1\n",
    "    else:\n",
    "        return m, (m**2+1)/2, (m**2-1)/2\n",
    "findPythTriplet(12), findPythTriplet(3)"
   ]
  }
 ],
 "metadata": {
  "kernelspec": {
   "display_name": "Python 3 (ipykernel)",
   "language": "python",
   "name": "python3"
  },
  "language_info": {
   "codemirror_mode": {
    "name": "ipython",
    "version": 3
   },
   "file_extension": ".py",
   "mimetype": "text/x-python",
   "name": "python",
   "nbconvert_exporter": "python",
   "pygments_lexer": "ipython3",
   "version": "3.8.10"
  },
  "toc": {
   "base_numbering": 1,
   "nav_menu": {},
   "number_sections": true,
   "sideBar": true,
   "skip_h1_title": false,
   "title_cell": "Table of Contents",
   "title_sidebar": "Contents",
   "toc_cell": false,
   "toc_position": {},
   "toc_section_display": true,
   "toc_window_display": false
  },
  "varInspector": {
   "cols": {
    "lenName": 16,
    "lenType": 16,
    "lenVar": 40
   },
   "kernels_config": {
    "python": {
     "delete_cmd_postfix": "",
     "delete_cmd_prefix": "del ",
     "library": "var_list.py",
     "varRefreshCmd": "print(var_dic_list())"
    },
    "r": {
     "delete_cmd_postfix": ") ",
     "delete_cmd_prefix": "rm(",
     "library": "var_list.r",
     "varRefreshCmd": "cat(var_dic_list()) "
    }
   },
   "types_to_exclude": [
    "module",
    "function",
    "builtin_function_or_method",
    "instance",
    "_Feature"
   ],
   "window_display": false
  }
 },
 "nbformat": 4,
 "nbformat_minor": 5
}
