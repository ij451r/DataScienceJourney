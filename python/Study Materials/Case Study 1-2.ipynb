{
 "cells": [
  {
   "cell_type": "markdown",
   "id": "a2637fd3",
   "metadata": {},
   "source": [
    "# Module 1: Case Study - 1"
   ]
  },
  {
   "cell_type": "markdown",
   "id": "e6c1131d",
   "metadata": {},
   "source": [
    "## Create a list containing squares of numbers from 1 to 10 \n",
    "(HINT: use List Comprehension).\n"
   ]
  },
  {
   "cell_type": "code",
   "execution_count": 4,
   "id": "bff1c40f",
   "metadata": {
    "ExecuteTime": {
     "end_time": "2023-09-13T06:47:09.985101Z",
     "start_time": "2023-09-13T06:47:09.980188Z"
    }
   },
   "outputs": [
    {
     "name": "stdout",
     "output_type": "stream",
     "text": [
      "[1, 4, 9, 16, 25, 36, 49, 64, 81, 100] "
     ]
    }
   ],
   "source": [
    "sq_nos_1_10 = [x**2 for x in range(1,11)]\n",
    "print(sq_nos_1_10, end=' ')"
   ]
  },
  {
   "cell_type": "markdown",
   "id": "d573deb6",
   "metadata": {},
   "source": [
    "## Write a function to check if the year number is a leap year."
   ]
  },
  {
   "cell_type": "code",
   "execution_count": 11,
   "id": "59e0ec7d",
   "metadata": {
    "ExecuteTime": {
     "end_time": "2023-09-13T07:33:31.328210Z",
     "start_time": "2023-09-13T07:33:31.319178Z"
    }
   },
   "outputs": [
    {
     "name": "stdout",
     "output_type": "stream",
     "text": [
      "[1988, 1992, 1996, 2000, 2004, 2008, 2012, 2016, 2020, 2024, 2028]\n"
     ]
    }
   ],
   "source": [
    "def is_leapyr(year):\n",
    "    if year%4 == 0:\n",
    "        if year%100 == 0:\n",
    "            if year%400 == 0:\n",
    "                return 1\n",
    "            else:\n",
    "                return 0\n",
    "        else:\n",
    "            return 1\n",
    "    else:\n",
    "        return 0\n",
    "years = [x for x in range(1988,2030) if is_leapyr(x)]\n",
    "print(years)"
   ]
  },
  {
   "cell_type": "markdown",
   "id": "9083c20f",
   "metadata": {
    "ExecuteTime": {
     "end_time": "2023-09-13T06:44:13.292716Z",
     "start_time": "2023-09-13T06:44:13.288936Z"
    }
   },
   "source": [
    "## Write a function to take an array and return another array that contains the members of the first array that are even."
   ]
  },
  {
   "cell_type": "code",
   "execution_count": 12,
   "id": "75b7d76b",
   "metadata": {
    "ExecuteTime": {
     "end_time": "2023-09-13T07:35:20.732554Z",
     "start_time": "2023-09-13T07:35:20.726389Z"
    }
   },
   "outputs": [
    {
     "name": "stdout",
     "output_type": "stream",
     "text": [
      "[2, 4, 6, 8]\n"
     ]
    }
   ],
   "source": [
    "def ret_even(List):\n",
    "    return [x for x in List if x%2==0]\n",
    "print(ret_even(range(1,10)))"
   ]
  },
  {
   "cell_type": "markdown",
   "id": "b257ad85",
   "metadata": {},
   "source": [
    "## Write a function that takes 2 arrays and prints the members of the first array that are present in the second array. \n",
    "(HINT: use Membership\n",
    "Comprehension)"
   ]
  },
  {
   "cell_type": "code",
   "execution_count": 13,
   "id": "3ac7ca44",
   "metadata": {
    "ExecuteTime": {
     "end_time": "2023-09-13T07:36:46.292319Z",
     "start_time": "2023-09-13T07:36:46.282335Z"
    }
   },
   "outputs": [
    {
     "data": {
      "text/plain": [
       "[5, 6, 7, 8, 9]"
      ]
     },
     "execution_count": 13,
     "metadata": {},
     "output_type": "execute_result"
    }
   ],
   "source": [
    "def ret_same(List1, List2):\n",
    "    return [x for x in List1 if x in List2]\n",
    "ret_same(range(1,10), range(5,15))"
   ]
  },
  {
   "cell_type": "markdown",
   "id": "d393610b",
   "metadata": {},
   "source": [
    "# Module 1: Case Study - 2"
   ]
  },
  {
   "cell_type": "markdown",
   "id": "4b3e0442",
   "metadata": {},
   "source": [
    "## Create 1st tuple with values -> (10, 20, 30), 2nd tuple with values -> (40, 50, 60):\n",
    "1. Concatenate the two tuples and store it in “t_combine”\n",
    "2. Repeat the elements of “t_combine” 3 times\n",
    "3. Access the 3rd element from “t_combine”\n",
    "4. Access the first three elements from “t_combine”\n",
    "5. Access the last three elements from “t_combine”\n"
   ]
  },
  {
   "cell_type": "code",
   "execution_count": 18,
   "id": "9edd71ff",
   "metadata": {
    "ExecuteTime": {
     "end_time": "2023-09-13T07:43:16.825608Z",
     "start_time": "2023-09-13T07:43:16.816006Z"
    }
   },
   "outputs": [
    {
     "name": "stdout",
     "output_type": "stream",
     "text": [
      "(10, 20, 30, 40, 50, 60)\n",
      "(10, 20, 30, 40, 50, 60, 10, 20, 30, 40, 50, 60, 10, 20, 30, 40, 50, 60)\n",
      "30\n",
      "(10, 20, 30)\n",
      "(40, 50, 60)\n"
     ]
    }
   ],
   "source": [
    "T1 = (10,20,30)\n",
    "T2 = (40,50,60)\n",
    "t_combine = T1+T2\n",
    "print(t_combine)\n",
    "\n",
    "t_combine*=3\n",
    "print(t_combine)\n",
    "\n",
    "print(t_combine[2])\n",
    "\n",
    "print(t_combine[:3])\n",
    "\n",
    "print(t_combine[-3:])"
   ]
  },
  {
   "cell_type": "markdown",
   "id": "7180fb67",
   "metadata": {},
   "source": [
    "## Create a list ‘my_list’ with these elements:\n",
    "1. First element is a tuple with values 1, 2, 3\n",
    "2. Second element is a tuple with values “a”, “b”, “c”\n",
    "3. Third element is a tuple with values True, False\n"
   ]
  },
  {
   "cell_type": "code",
   "execution_count": 19,
   "id": "c588429b",
   "metadata": {
    "ExecuteTime": {
     "end_time": "2023-09-13T07:44:19.189012Z",
     "start_time": "2023-09-13T07:44:19.179742Z"
    }
   },
   "outputs": [
    {
     "name": "stdout",
     "output_type": "stream",
     "text": [
      "[(1, 2, 3), ('a', 'b', 'c'), (True, False)]\n"
     ]
    }
   ],
   "source": [
    "my_list = [(1,2,3),('a','b','c'),(True,False)]\n",
    "\n",
    "print(my_list)"
   ]
  },
  {
   "cell_type": "markdown",
   "id": "c6e07d1f",
   "metadata": {},
   "source": [
    "## Append a new tuple – (1, ‘a’, True) to ‘my_list’:\n",
    "1. Append a new list – *“sparta”, 123+ to my_list\n"
   ]
  },
  {
   "cell_type": "code",
   "execution_count": 21,
   "id": "e91a3af7",
   "metadata": {
    "ExecuteTime": {
     "end_time": "2023-09-13T07:44:47.526039Z",
     "start_time": "2023-09-13T07:44:47.521128Z"
    }
   },
   "outputs": [
    {
     "name": "stdout",
     "output_type": "stream",
     "text": [
      "[(1, 2, 3), ('a', 'b', 'c'), (True, False), (1, 'a', True)]\n"
     ]
    }
   ],
   "source": [
    "my_list.append((1,'a',True))\n",
    "print(my_list)"
   ]
  },
  {
   "cell_type": "markdown",
   "id": "908a4b51",
   "metadata": {},
   "source": [
    "## Create a dictionary ‘fruit’ where:\n",
    "1. The first key is ‘Fruit’ and the values are (“Apple”, “Banana”, “Mango”,\n",
    "“Guava”)\n",
    "2. The second key is ‘Cost’ and the values are (85, 54, 120, 70)\n",
    "3. Extract all the keys from ‘fruit’\n",
    "4. Extract all the values from ‘fruit’\n"
   ]
  },
  {
   "cell_type": "code",
   "execution_count": 22,
   "id": "b3fc3f1e",
   "metadata": {
    "ExecuteTime": {
     "end_time": "2023-09-13T07:46:32.992336Z",
     "start_time": "2023-09-13T07:46:32.986675Z"
    }
   },
   "outputs": [
    {
     "name": "stdout",
     "output_type": "stream",
     "text": [
      "dict_keys(['Fruit', 'Cost'])\n",
      "dict_values([('Apple', 'Banana', 'Mango', 'Guava'), (85, 54, 120, 70)])\n"
     ]
    }
   ],
   "source": [
    "fruit ={\n",
    "    'Fruit' : ('Apple','Banana','Mango','Guava'),\n",
    "    'Cost' : (85,54,120,70)\n",
    "}\n",
    "print(fruit.keys())\n",
    "print(fruit.values())"
   ]
  },
  {
   "cell_type": "markdown",
   "id": "97ecd0fe",
   "metadata": {},
   "source": [
    "## Create a set named ‘my_set’ with values (1, 1, “a”, “a”, True, True) and print the result."
   ]
  },
  {
   "cell_type": "code",
   "execution_count": 23,
   "id": "2048baaf",
   "metadata": {
    "ExecuteTime": {
     "end_time": "2023-09-13T07:47:05.873730Z",
     "start_time": "2023-09-13T07:47:05.867923Z"
    }
   },
   "outputs": [
    {
     "name": "stdout",
     "output_type": "stream",
     "text": [
      "{'a', 1}\n"
     ]
    }
   ],
   "source": [
    "my_set = {1,1,\"a\",'a',True,True}\n",
    "print(my_set)"
   ]
  }
 ],
 "metadata": {
  "kernelspec": {
   "display_name": "Python 3 (ipykernel)",
   "language": "python",
   "name": "python3"
  },
  "language_info": {
   "codemirror_mode": {
    "name": "ipython",
    "version": 3
   },
   "file_extension": ".py",
   "mimetype": "text/x-python",
   "name": "python",
   "nbconvert_exporter": "python",
   "pygments_lexer": "ipython3",
   "version": "3.8.10"
  },
  "toc": {
   "base_numbering": 1,
   "nav_menu": {},
   "number_sections": true,
   "sideBar": true,
   "skip_h1_title": false,
   "title_cell": "Table of Contents",
   "title_sidebar": "Contents",
   "toc_cell": false,
   "toc_position": {},
   "toc_section_display": true,
   "toc_window_display": false
  },
  "varInspector": {
   "cols": {
    "lenName": 16,
    "lenType": 16,
    "lenVar": 40
   },
   "kernels_config": {
    "python": {
     "delete_cmd_postfix": "",
     "delete_cmd_prefix": "del ",
     "library": "var_list.py",
     "varRefreshCmd": "print(var_dic_list())"
    },
    "r": {
     "delete_cmd_postfix": ") ",
     "delete_cmd_prefix": "rm(",
     "library": "var_list.r",
     "varRefreshCmd": "cat(var_dic_list()) "
    }
   },
   "types_to_exclude": [
    "module",
    "function",
    "builtin_function_or_method",
    "instance",
    "_Feature"
   ],
   "window_display": false
  }
 },
 "nbformat": 4,
 "nbformat_minor": 5
}
