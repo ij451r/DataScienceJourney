{
 "cells": [
  {
   "cell_type": "markdown",
   "id": "b74d4905",
   "metadata": {},
   "source": [
    "# Module 4 Numpy Case Study"
   ]
  },
  {
   "cell_type": "code",
   "execution_count": 1,
   "id": "f0bb59c0",
   "metadata": {
    "ExecuteTime": {
     "end_time": "2023-09-28T08:22:33.790577Z",
     "start_time": "2023-09-28T08:22:33.771473Z"
    }
   },
   "outputs": [],
   "source": [
    "import numpy as np"
   ]
  },
  {
   "cell_type": "markdown",
   "id": "f693c773",
   "metadata": {},
   "source": [
    "## Create a function that takes dimensions as tuples e.g. (3, 3) and a numeric value and returns a NumPy array of the given dimension filled with the given value e.g.: solve((3, 3), 5) will return\n",
    "```python\n",
    "[\n",
    "[5, 5, 5],\n",
    "[5, 5, 5],\n",
    "[5, 5, 5]\n",
    "]\n",
    "```\n"
   ]
  },
  {
   "cell_type": "code",
   "execution_count": 2,
   "id": "1dffa5bb",
   "metadata": {
    "ExecuteTime": {
     "end_time": "2023-09-28T08:23:12.177570Z",
     "start_time": "2023-09-28T08:23:12.147022Z"
    }
   },
   "outputs": [
    {
     "data": {
      "text/plain": [
       "array([[5., 5., 5.],\n",
       "       [5., 5., 5.],\n",
       "       [5., 5., 5.]])"
      ]
     },
     "execution_count": 2,
     "metadata": {},
     "output_type": "execute_result"
    }
   ],
   "source": [
    "def createArray(size, ele):\n",
    "    return ele*np.ones(size)\n",
    "createArray((3,3),5)"
   ]
  },
  {
   "cell_type": "markdown",
   "id": "6975f387",
   "metadata": {},
   "source": [
    "## Create a method that takes n NumPy arrays of the same dimensions, sums them and returns the answer.\n"
   ]
  },
  {
   "cell_type": "code",
   "execution_count": 4,
   "id": "37792e22",
   "metadata": {
    "ExecuteTime": {
     "end_time": "2023-09-28T08:26:15.986602Z",
     "start_time": "2023-09-28T08:26:15.958359Z"
    }
   },
   "outputs": [
    {
     "data": {
      "text/plain": [
       "array([12., 16., 20., 24.])"
      ]
     },
     "execution_count": 4,
     "metadata": {},
     "output_type": "execute_result"
    }
   ],
   "source": [
    "def sumArray(*arrays):\n",
    "    sumArray = np.zeros(arrays[0].shape)\n",
    "    for array in arrays:\n",
    "        sumArray += array\n",
    "    return sumArray\n",
    "sumArray(np.arange(1,5),np.arange(6,10),np.arange(2,6),np.arange(3,7))"
   ]
  },
  {
   "cell_type": "markdown",
   "id": "e1048ffb",
   "metadata": {},
   "source": [
    "## Given a 2 D Array of N X M Dimension, write a function that accepts this array as well as two numbers N and M. The method should return the top-left N X M sub matrix, e.g:\n",
    "```\n",
    "[\n",
    "[1, 2, 3],\n",
    "[4, 5, 6],\n",
    "[7, 8, 9],\n",
    "]\n",
    "```\n",
    "top_left_sub_matrix (matrix, 2, 2) -> should return:\n",
    "```\n",
    "[\n",
    "[1, 2]\n",
    "[4, 5]\n",
    "]\n",
    "```\n"
   ]
  },
  {
   "cell_type": "code",
   "execution_count": 13,
   "id": "a980b42d",
   "metadata": {
    "ExecuteTime": {
     "end_time": "2023-09-28T08:32:06.202414Z",
     "start_time": "2023-09-28T08:32:03.407288Z"
    }
   },
   "outputs": [
    {
     "name": "stdout",
     "output_type": "stream",
     "text": [
      "array = [[6 4 7 8 6 9 5 5]\n",
      " [7 6 7 6 4 1 1 4]\n",
      " [1 1 6 8 1 7 5 1]\n",
      " [5 8 8 1 3 9 7 6]\n",
      " [5 5 8 8 5 6 1 7]\n",
      " [7 3 2 5 8 3 1 7]\n",
      " [4 7 3 9 5 3 7 2]]\n",
      "Enter n\t2\n",
      "Enter m\t2\n",
      "[[6 4]\n",
      " [7 6]]\n"
     ]
    }
   ],
   "source": [
    "array = np.random.randint(1,10,(7,8))\n",
    "print(f\"array = {array}\")\n",
    "n = int(input(\"Enter n\\t\"))\n",
    "m = int(input(\"Enter m\\t\"))\n",
    "def top_left_sub_matrix(matrix, n, m):\n",
    "    return matrix[:n,:m]\n",
    "print(top_left_sub_matrix(array,n,m))"
   ]
  },
  {
   "cell_type": "markdown",
   "id": "f2595c55",
   "metadata": {},
   "source": [
    "### Given a 2 D Array of N X M Dimension, write a function that accepts this array as well as two numbers N and M. The method should return the bottom-right N X M sub matrix, e.g:\n",
    "```\n",
    "[\n",
    "[1, 2, 3],\n",
    "[4, 5, 6],\n",
    "[7, 8, 9],\n",
    "]\n",
    "```\n",
    "sub_matrix(matrix, 1, 1) -> should return : (Keep in mind these arrays are\n",
    "zero indexed)\n",
    "```\n",
    "[\n",
    "[5, 6]\n",
    "[8, 9]\n",
    "]\n",
    "```\n"
   ]
  },
  {
   "cell_type": "code",
   "execution_count": null,
   "id": "eb4f7d1d",
   "metadata": {},
   "outputs": [],
   "source": []
  },
  {
   "cell_type": "markdown",
   "id": "ca8a9600",
   "metadata": {},
   "source": [
    "## Given a 1 D NumPy Array. Write a function that accepts this array as\n",
    "parameters. The method should return a dictionary with 'mean' and\n",
    "'std_dev' as key and array's mean and array's standard deviation as\n",
    "values:\n",
    "[1, 1, 1]\n",
    "solution(arr) -> should return :\n",
    "{'mean': 1.0, 'std_dev': 0.0}"
   ]
  },
  {
   "cell_type": "code",
   "execution_count": null,
   "id": "a07006d0",
   "metadata": {},
   "outputs": [],
   "source": []
  }
 ],
 "metadata": {
  "kernelspec": {
   "display_name": "Python 3 (ipykernel)",
   "language": "python",
   "name": "python3"
  },
  "language_info": {
   "codemirror_mode": {
    "name": "ipython",
    "version": 3
   },
   "file_extension": ".py",
   "mimetype": "text/x-python",
   "name": "python",
   "nbconvert_exporter": "python",
   "pygments_lexer": "ipython3",
   "version": "3.8.10"
  },
  "toc": {
   "base_numbering": 1,
   "nav_menu": {},
   "number_sections": true,
   "sideBar": true,
   "skip_h1_title": false,
   "title_cell": "Table of Contents",
   "title_sidebar": "Contents",
   "toc_cell": false,
   "toc_position": {},
   "toc_section_display": true,
   "toc_window_display": false
  },
  "varInspector": {
   "cols": {
    "lenName": 16,
    "lenType": 16,
    "lenVar": 40
   },
   "kernels_config": {
    "python": {
     "delete_cmd_postfix": "",
     "delete_cmd_prefix": "del ",
     "library": "var_list.py",
     "varRefreshCmd": "print(var_dic_list())"
    },
    "r": {
     "delete_cmd_postfix": ") ",
     "delete_cmd_prefix": "rm(",
     "library": "var_list.r",
     "varRefreshCmd": "cat(var_dic_list()) "
    }
   },
   "types_to_exclude": [
    "module",
    "function",
    "builtin_function_or_method",
    "instance",
    "_Feature"
   ],
   "window_display": false
  }
 },
 "nbformat": 4,
 "nbformat_minor": 5
}
