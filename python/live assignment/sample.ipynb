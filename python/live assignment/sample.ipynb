{
 "cells": [
  {
   "cell_type": "markdown",
   "id": "e926d1af",
   "metadata": {},
   "source": [
    "# Assignment Questions\n"
   ]
  },
  {
   "cell_type": "markdown",
   "id": "b348b944",
   "metadata": {},
   "source": [
    "## Write a Python program to demonstrate multiple inheritance.\n",
    "\n",
    "1. Employee class has 3 data members EmployeeID, Gender (String), Salary and\n",
    "PerformanceRating(Out of 5) of type int. It has a get() function to get these details from\n",
    "the user. \n",
    "2. JoiningDetail class has a data member DateOfJoining of type Date and a function\n",
    "getDoJ to get the Date of joining of employees.\n",
    "3. Information Class uses the marks from Employee class and the DateOfJoining date\n",
    "from the JoiningDetail class to calculate the top 3 Employees based on their Ratings\n",
    "and then Display, using readData, all the details on these employees in Ascending\n",
    "order of their Date Of Joining.\n"
   ]
  },
  {
   "cell_type": "code",
   "execution_count": 21,
   "id": "8865fad7",
   "metadata": {
    "ExecuteTime": {
     "end_time": "2023-08-07T07:37:10.041889Z",
     "start_time": "2023-08-07T07:36:44.309607Z"
    }
   },
   "outputs": [
    {
     "name": "stdout",
     "output_type": "stream",
     "text": [
      "Enter Count of Employees1\n",
      "Employee Id, Gender(M/F), Salary and Performance Rating (Out of 5) - separated by comma and in the given order \n",
      "1,m,12,1\n",
      "Enter Date in dd/mm/yyyy format1/324/23\n",
      "Error: month must be in 1..12\n",
      "\n",
      "Enter Date in dd/mm/yyyy format34543/12/343\n",
      "Error: day is out of range for month\n",
      "\n",
      "Enter Date in dd/mm/yyyy format12/12/1\n",
      "1 with Date of Joining 0001-12-12 00:00:00, salary - 12.0, gender - m and performance rating - 1\n"
     ]
    }
   ],
   "source": [
    "from datetime import datetime\n",
    "from operator import attrgetter\n",
    "\n",
    "class Employee:\n",
    "    def get(self):\n",
    "        while True:\n",
    "            values = input(\"Employee Id, Gender(M/F), Salary and Performance Rating (Out of 5) - separated by comma and in the given order \\n\")\n",
    "            values = values.split(',')\n",
    "            if len(values) != 4 or values[1] not in ['M','m','F','f'] or 0<int(values[3])>5:\n",
    "                print(len(values) != 4, values[1] not in ['M','m','F','f'], 0<int(values[3])>5)\n",
    "                print(\"Please re-enter values\\n\")\n",
    "            else:\n",
    "                break\n",
    "        self.EmployeeId = values[0]\n",
    "        self.Gender = values[1]\n",
    "        self.Salary = float(values[2])\n",
    "        self.PerformanceRating = int(values[3])\n",
    "class JoiningDetail:\n",
    "    def getDoJ(self):\n",
    "        while True:\n",
    "            date = input(\"Enter Date in dd/mm/yyyy format\")\n",
    "            date = [int(x) for x in date.split('/')]\n",
    "            try:\n",
    "                self.DateOfJoining = datetime(date[2],date[1],date[0])\n",
    "                break\n",
    "            except Exception as e:\n",
    "                print(f\"Error: {e}\\n\")\n",
    "class Information(Employee, JoiningDetail):\n",
    "    def readData(self, count):\n",
    "        employees = []\n",
    "        for i in range(count):\n",
    "            employee = Information()\n",
    "            employee.get()\n",
    "            employee.getDoJ()\n",
    "            employees.append(employee)\n",
    "        return employees\n",
    "    @staticmethod\n",
    "    def display(employeelist):\n",
    "        employeelist.sort(key=attrgetter('DateOfJoining'))\n",
    "        top_employees = sorted(employeelist, key=attrgetter('PerformanceRating'), reverse=True)[:3]\n",
    "        for employee in top_employees:\n",
    "            print(f'{employee.EmployeeId} with Date of Joining {employee.DateOfJoining}, salary - {employee.Salary}, gender - {employee.Gender} and performance rating - {employee.PerformanceRating}')\n",
    "            \n",
    "info = Information()\n",
    "count = int(input(\"Enter Count of Employees\"))\n",
    "employees = info.readData(count)\n",
    "info.display(employees)"
   ]
  },
  {
   "cell_type": "markdown",
   "id": "e76ce1d5",
   "metadata": {},
   "source": [
    "Q.2 Write a Python program to demonstrate Polymorphism.\n",
    "1. Class Vehicle with a parameterized function Fare, that takes input value as fare and\n",
    "returns it to calling Objects.\n",
    "2. Create five separate variables Bus, Car, Train, Truck and Ship that call the Fare\n",
    "function.\n",
    "3. Use a third variable TotalFare to store the sum of fare for each Vehicle Type.\n",
    "4. Print the TotalFare.\n"
   ]
  },
  {
   "cell_type": "code",
   "execution_count": 24,
   "id": "a9a294f1",
   "metadata": {
    "ExecuteTime": {
     "end_time": "2023-08-07T07:45:53.576833Z",
     "start_time": "2023-08-07T07:45:50.362080Z"
    }
   },
   "outputs": [
    {
     "name": "stdout",
     "output_type": "stream",
     "text": [
      "Enter Fare:\t1\n",
      "Enter Fare:\t2\n",
      "Enter Fare:\t3\n",
      "Enter Fare:\t4\n",
      "Enter Fare:\t5\n",
      "15.0\n"
     ]
    }
   ],
   "source": [
    "class Vehicle:\n",
    "    def __init__(self):\n",
    "        self.fare = float(input(\"Enter Fare:\\t\"))\n",
    "    def Fare(self):\n",
    "        return self.fare\n",
    "\n",
    "Bus = Vehicle()\n",
    "Car = Vehicle()\n",
    "Train = Vehicle()\n",
    "Truck = Vehicle()\n",
    "Ship = Vehicle()\n",
    "\n",
    "TotalFare = Bus.Fare() + Car.Fare() + Train.Fare() + Truck.Fare() + Ship.Fare()\n",
    "print(TotalFare)"
   ]
  },
  {
   "cell_type": "markdown",
   "id": "93d73503",
   "metadata": {},
   "source": [
    "Q3. Consider an ongoing test cricket series. Following are the names of the players and their\n",
    "scores in the test1 and 2.\\\n",
    "**Test Match 1 :** \\\n",
    "Dhoni : 56 , Balaji : 94\\\n",
    "**Test Match 2 :** \\\n",
    "Balaji : 80 , Dravid : 105\n",
    "\n",
    "Calculate the highest number of runs scored by an individual cricketer in both of the matches.\\\n",
    "Create a python function Max_Score (M) that reads a dictionary M that recognizes the player\n",
    "with the highest total score. This function will return ( Top player , Total Score ). \n",
    "\n",
    "You can consider the Top player as String who is the highest scorer and Top score as Integer .\\\n",
    "Input : Max_Score({‘test1’:{‘Dhoni’:56, ‘Balaji : 85}, ‘test2’:{‘Dhoni’ 87, ‘Balaji’’:200}}) \\\n",
    "\n",
    "Output : (‘Balaji ‘ , 200)\n"
   ]
  },
  {
   "cell_type": "code",
   "execution_count": 46,
   "id": "da2554cb",
   "metadata": {
    "ExecuteTime": {
     "end_time": "2023-08-07T08:01:39.588347Z",
     "start_time": "2023-08-07T08:01:39.570287Z"
    }
   },
   "outputs": [
    {
     "data": {
      "text/plain": [
       "('Balaji', 200)"
      ]
     },
     "execution_count": 46,
     "metadata": {},
     "output_type": "execute_result"
    }
   ],
   "source": [
    "match_details = {\n",
    "    'test1':{\n",
    "        'Dhoni':56, \n",
    "        'Balaji' : 85\n",
    "    }, \n",
    "    'test2':{\n",
    "        'Dhoni': 87, \n",
    "        'Balaji': 200\n",
    "    }\n",
    "}\n",
    "def Max_Score(match_details):\n",
    "    Max = 0\n",
    "    for key in match_details:\n",
    "        for innerkey in match_details[key]:\n",
    "            score = match_details[key][innerkey]\n",
    "            if score>Max:\n",
    "                Max = score\n",
    "                Player = innerkey\n",
    "    return (Player, Max) \n",
    "    \n",
    "Max_Score(match_details)"
   ]
  },
  {
   "cell_type": "markdown",
   "id": "3a8a0f65",
   "metadata": {},
   "source": [
    "Q4. Create a simple Card game in which there are 8 cards which are randomly chosen from a\n",
    "deck. The first card is shown face up. The game asks the player to predict whether the next card\n",
    "in the selection will have a higher or lower value than the currently showing card.\\\n",
    "For example, say the card that’s shown is a 3. The player chooses “higher,” and the next card is\n",
    "shown. If that card has a higher value, the player is correct. In this example, if the player had\n",
    "chosen “lower,” they would have been incorrect. If the player guesses correctly, they get 20\n",
    "points. If they choose incorrectly, they lose 15 points. If the next card to be turned over has the\n",
    "same value as the previous card, the player is incorrect.\n"
   ]
  },
  {
   "cell_type": "code",
   "execution_count": 56,
   "id": "5bfed72d",
   "metadata": {
    "ExecuteTime": {
     "end_time": "2023-08-07T08:38:23.119951Z",
     "start_time": "2023-08-07T08:38:04.923664Z"
    }
   },
   "outputs": [
    {
     "name": "stdout",
     "output_type": "stream",
     "text": [
      "There are 8 cards with values 1 to 50\n",
      "[2]\n",
      "Enter '1' for higher and '0' for lower\t1\n",
      "Yes the the next card is higher in value\n",
      "[2, 14]\n",
      "Enter '1' for higher and '0' for lower\t1\n",
      "Yes the the next card is higher in value\n",
      "[2, 14, 32]\n",
      "Enter '1' for higher and '0' for lower\t0\n",
      "Yes the next card is lower\n",
      "[2, 14, 32, 26]\n",
      "Enter '1' for higher and '0' for lower\t1\n",
      "Sorry, the next card is lower\n",
      "[2, 14, 32, 26, 24]\n",
      "Enter '1' for higher and '0' for lower\t1\n",
      "Sorry, the next card is lower\n",
      "[2, 14, 32, 26, 24, 18]\n",
      "Enter '1' for higher and '0' for lower\t1\n",
      "Sorry, the next card is lower\n",
      "[2, 14, 32, 26, 24, 18, 6]\n",
      "Enter '1' for higher and '0' for lower\t0\n",
      "Sorry, the next card is higher\n",
      "0  - is your score\n"
     ]
    }
   ],
   "source": [
    "from random import randint\n",
    "\n",
    "cards = [randint(1,50) for x in range(8)]\n",
    "print(\"There are 8 cards with values 1 to 50\")\n",
    "player_score = 0\n",
    "\n",
    "for i in range(len(cards)-1):\n",
    "    print(cards[:i+1])\n",
    "    while True:\n",
    "        Choice = int(input(\"Enter '1' for higher and '0' for lower\\t\"))\n",
    "        if Choice in [1,0]:\n",
    "            break\n",
    "        else:\n",
    "            print(\"Invalid Choice\\t\")\n",
    "    if Choice == 1:\n",
    "        if cards[i+1]>cards[i]:\n",
    "            print(\"Yes the the next card is higher in value\")\n",
    "            player_score+=20\n",
    "        else:\n",
    "            print(\"Sorry, the next card is lower\")\n",
    "            player_score-=15\n",
    "    else:\n",
    "        if cards[i+1]>cards[i]:\n",
    "            print(\"Sorry, the next card is higher\")\n",
    "            player_score+=20\n",
    "        else:\n",
    "            print(\"Yes the next card is lower\")\n",
    "            player_score-=15\n",
    "print(player_score, \" - is your score\")"
   ]
  },
  {
   "cell_type": "markdown",
   "id": "09eb4eef",
   "metadata": {},
   "source": [
    "Q5. Create an empty dictionary called Car_0 . Then fill the dictionary with Keys : color , speed\n",
    ", X_position and Y_position.\n",
    "\n",
    "car_0 = {'x_position': 10, 'y_position': 72, 'speed': 'medium'} .\n",
    "1. If the speed is slow the coordinates of the X_pos get incremented by 2.\n",
    "2. If the speed is Medium the coordinates of the X_pos gets incremented by 9\n",
    "3. Now if the speed is Fast the coordinates of the X_pos gets incremented by 22.\n",
    "\n",
    "Print the modified dictionary.\n"
   ]
  },
  {
   "cell_type": "code",
   "execution_count": 60,
   "id": "724db042",
   "metadata": {
    "ExecuteTime": {
     "end_time": "2023-08-07T08:54:28.288495Z",
     "start_time": "2023-08-07T08:50:04.138301Z"
    }
   },
   "outputs": [
    {
     "name": "stdout",
     "output_type": "stream",
     "text": [
      "Enter Speed value (slow/medium/fast/quit)\tslow\n",
      "{'x_position': 12, 'y_position': 72, 'speed': 'slow', 'color': ''}\n",
      "Enter Speed value (slow/medium/fast/quit)\tmedium\n",
      "{'x_position': 21, 'y_position': 72, 'speed': 'medium', 'color': ''}\n",
      "Enter Speed value (slow/medium/fast/quit)\tfast\n",
      "{'x_position': 43, 'y_position': 72, 'speed': 'fast', 'color': ''}\n",
      "Enter Speed value (slow/medium/fast/quit)\tslow\n",
      "{'x_position': 45, 'y_position': 72, 'speed': 'slow', 'color': ''}\n",
      "Enter Speed value (slow/medium/fast/quit)\tslow\n",
      "{'x_position': 47, 'y_position': 72, 'speed': 'slow', 'color': ''}\n",
      "Enter Speed value (slow/medium/fast/quit)\tfast\n",
      "{'x_position': 69, 'y_position': 72, 'speed': 'fast', 'color': ''}\n",
      "Enter Speed value (slow/medium/fast/quit)\tqu\n",
      "Please recheck value\n",
      "Enter Speed value (slow/medium/fast/quit)\tslow\n",
      "{'x_position': 71, 'y_position': 72, 'speed': 'slow', 'color': ''}\n",
      "Enter Speed value (slow/medium/fast/quit)\tquit\n",
      "{'x_position': 71, 'y_position': 72, 'speed': 'slow', 'color': ''}\n"
     ]
    }
   ],
   "source": [
    "Car_0 = {}\n",
    "\n",
    "Car_0['x_position'] = 10\n",
    "Car_0['y_position'] = 72\n",
    "Car_0['speed'] = 'medium'\n",
    "Car_0['color'] = ''\n",
    "\n",
    "while True:\n",
    "    while True:\n",
    "        speed = input('Enter Speed value (slow/medium/fast/quit)\\t')\n",
    "        if speed not in ['slow','medium','fast','quit']:\n",
    "            print(\"Please recheck value\")\n",
    "        else:\n",
    "            break\n",
    "    if speed == 'quit':\n",
    "        break\n",
    "    elif speed == 'slow':\n",
    "        Car_0['x_position']+=2\n",
    "        Car_0['speed']='slow'\n",
    "    elif speed == 'medium':\n",
    "        Car_0['x_position']+=9\n",
    "        Car_0['speed']='medium'\n",
    "    else:\n",
    "        Car_0['x_position']+=22\n",
    "        Car_0['speed']='fast'\n",
    "    print(Car_0)\n",
    "print(Car_0)"
   ]
  },
  {
   "cell_type": "markdown",
   "id": "b1b3f44a",
   "metadata": {},
   "source": [
    "Q6. Show a basic implementation of abstraction in python using the abstract classes.\n",
    "\n",
    "- Create an abstract class in python.\n",
    "- Implement abstraction with the other classes and base class as abstract class.\n"
   ]
  },
  {
   "cell_type": "code",
   "execution_count": 2,
   "id": "90f1b550",
   "metadata": {
    "ExecuteTime": {
     "end_time": "2023-09-03T11:02:31.676382Z",
     "start_time": "2023-09-03T11:02:31.635210Z"
    }
   },
   "outputs": [],
   "source": [
    "from abc import ABC, abstractmethod\n",
    "from math import pi\n",
    "\n",
    "class Shape(ABC):\n",
    "    @abstractmethod\n",
    "    def area(self):\n",
    "        pass\n",
    "    \n",
    "class Rectangle(Shape):\n",
    "    def __init__(self, length, breadth):\n",
    "        self.length = length\n",
    "        self.breadth = breadth\n",
    "    def area(self):\n",
    "        return self.length*self.breadth\n",
    "    \n",
    "class Circle(Shape):\n",
    "    def __init__(self, radius):\n",
    "        self.radius = radius\n",
    "    def area(self):\n",
    "        return 4*pi*(self.radius**2)"
   ]
  },
  {
   "cell_type": "markdown",
   "id": "9f6ebb44",
   "metadata": {},
   "source": [
    "Q7. Create a program in python to demonstrate Polymorphism.\n",
    "- Make use of private and protected members using python name mangling techniques.\n"
   ]
  },
  {
   "cell_type": "code",
   "execution_count": 7,
   "id": "52d27b7e",
   "metadata": {
    "ExecuteTime": {
     "end_time": "2023-09-03T11:28:59.720987Z",
     "start_time": "2023-09-03T11:28:59.649241Z"
    }
   },
   "outputs": [
    {
     "name": "stdout",
     "output_type": "stream",
     "text": [
      "whiskers of type mammal says meow\n",
      "Dafy of type unknown says Quack\n",
      "whiskers\n",
      "mammal\n"
     ]
    }
   ],
   "source": [
    "class Animal:\n",
    "    def __init__(self, name):\n",
    "        self._name = name         #protected member\n",
    "        self.__type = \"unknown\"   #private member\n",
    "    def speak(self):\n",
    "        pass\n",
    "    def set_type(self, new_type):\n",
    "        self.__type = new_type\n",
    "    def get_type(self):\n",
    "        return self.__type\n",
    "\n",
    "class Cat(Animal):\n",
    "    def __init__(self, name):\n",
    "        super().__init__(name)\n",
    "        self.__type = \"Mammal\"\n",
    "    def speak(self):\n",
    "        return \"meow\"\n",
    "\n",
    "class Duck(Animal):\n",
    "    def __init__(self, name):\n",
    "        super().__init__(name)\n",
    "        self.__type = \"Bird\"\n",
    "    def speak(self):\n",
    "        return \"Quack\"\n",
    "\n",
    "def AnimalSound(animal):\n",
    "    print(f\"{animal._name} of type {animal.get_type()} says {animal.speak()}\")\n",
    "\n",
    "cat = Cat(\"whiskers\")\n",
    "duck = Duck(\"Dafy\")\n",
    "\n",
    "cat.set_type(\"mammal\")\n",
    "\n",
    "#polymorphism\n",
    "AnimalSound(cat)\n",
    "AnimalSound(duck)\n",
    "\n",
    "print(cat._name)\n",
    "print(cat._Animal__type)\n",
    "# print(cat.__type) #cant access by mangling"
   ]
  },
  {
   "cell_type": "markdown",
   "id": "6b951b34",
   "metadata": {},
   "source": [
    "Q8. Given a list of 50 natural numbers from 1-50. \n",
    "- Create a function that will take every element from the list and return the square of each element. \n",
    "- Use the python map and filter methods to implement the function on the given list."
   ]
  },
  {
   "cell_type": "code",
   "execution_count": 14,
   "id": "9466b460",
   "metadata": {
    "ExecuteTime": {
     "end_time": "2023-09-03T11:36:36.000429Z",
     "start_time": "2023-09-03T11:36:35.959612Z"
    }
   },
   "outputs": [
    {
     "name": "stdout",
     "output_type": "stream",
     "text": [
      "False\n",
      "[1, 4, 9, 16, 25, 36, 49, 64, 81, 100, 121, 144, 169, 196, 225, 256, 289, 324, 361, 400, 441, 484, 529, 576, 625, 676, 729, 784, 841, 900, 961, 1024, 1089, 1156, 1225, 1296, 1369, 1444, 1521, 1600, 1681, 1764, 1849, 1936, 2025, 2116, 2209, 2304, 2401, 2500]\n",
      "[2, 4, 6, 8, 10, 12, 14, 16, 18, 20, 22, 24, 26, 28, 30, 32, 34, 36, 38, 40, 42, 44, 46, 48, 50]\n"
     ]
    }
   ],
   "source": [
    "nos1to50 = [x for x in range(1,51)]\n",
    "def square(x):\n",
    "    return x**2\n",
    "def iseven(x):\n",
    "    return x%2==0\n",
    "nos1to50_square_map = list(map(square, nos1to50))\n",
    "nos1to50_square_filter = list(filter(iseven, nos1to50))\n",
    "print(nos1to50_square_map == nos1to50_square_filter)\n",
    "print(nos1to50_square_map)\n",
    "print(nos1to50_square_filter)"
   ]
  },
  {
   "cell_type": "markdown",
   "id": "f8035526",
   "metadata": {},
   "source": [
    "Q9. Create a class, Triangle. Its init() method should take self, angle1, angle2, and angle3 as\n",
    "arguments.\n"
   ]
  },
  {
   "cell_type": "code",
   "execution_count": 15,
   "id": "c1c8578f",
   "metadata": {
    "ExecuteTime": {
     "end_time": "2023-09-03T11:47:34.948064Z",
     "start_time": "2023-09-03T11:47:34.928602Z"
    }
   },
   "outputs": [],
   "source": [
    "class Triangle:\n",
    "    def __init__(self, angle1, angle2, angle3):\n",
    "        self.angle1 = angle1\n",
    "        self.angle2 = angle2\n",
    "        self.angle3 = angle3"
   ]
  },
  {
   "cell_type": "markdown",
   "id": "9afb7628",
   "metadata": {},
   "source": [
    "Q10. Create a class variable named number_of_sides and set it equal to 3.\n"
   ]
  },
  {
   "cell_type": "code",
   "execution_count": 17,
   "id": "8c522936",
   "metadata": {
    "ExecuteTime": {
     "end_time": "2023-09-03T11:48:50.000024Z",
     "start_time": "2023-09-03T11:48:49.973524Z"
    }
   },
   "outputs": [
    {
     "name": "stdout",
     "output_type": "stream",
     "text": [
      "3\n"
     ]
    }
   ],
   "source": [
    "triangleA = Triangle(90,45,45)\n",
    "triangleA.number_of_sides = 3\n",
    "print(triangleA.number_of_sides)"
   ]
  },
  {
   "cell_type": "markdown",
   "id": "9039ef67",
   "metadata": {},
   "source": [
    "Q11. Create a method named check_angles. \n",
    "The sum of a triangle's three angles should return\n",
    "True if the sum is equal to 180, and False otherwise. The method should print whether the\n",
    "angles belong to a triangle or not.\n",
    "\n",
    "1. Write methods to verify if the triangle is an acute triangle or obtuse triangle.\n",
    "2. Create an instance of the triangle class and call all the defined methods.\n",
    "3. Create three child classes of triangle class - isosceles_triangle, right_triangle and\n",
    "equilateral_triangle.\n",
    "4. Define methods which check for their properties."
   ]
  },
  {
   "cell_type": "code",
   "execution_count": 23,
   "id": "65e982dc",
   "metadata": {
    "ExecuteTime": {
     "end_time": "2023-09-03T12:09:00.999167Z",
     "start_time": "2023-09-03T12:09:00.936554Z"
    }
   },
   "outputs": [
    {
     "name": "stdout",
     "output_type": "stream",
     "text": [
      "It is a triangle\n",
      "triangle is acute\n",
      "The triangle is isosceles\n",
      "The triangle is equilateral\n",
      "The triangle is right\n"
     ]
    }
   ],
   "source": [
    "def check_angles(triangle):\n",
    "    if triangle.angle1+triangle.angle2+triangle.angle3 == 180:\n",
    "        print(\"It is a triangle\")\n",
    "    else:\n",
    "        print(\"It cannot be a triangle\")\n",
    "    return triangle.angle1+triangle.angle2+triangle.angle3 == 180\n",
    "def check_acute_or_obtuse(triangle):\n",
    "    if triangle.angle1>90 or triangle.angle2>90 or triangle.angle3>90:\n",
    "        print(\"triangle is obtuse angled\")\n",
    "    else:\n",
    "        print(\"triangle is acute\")\n",
    "    return\n",
    "check_angles(triangleA)\n",
    "check_acute_or_obtuse(triangleA)\n",
    "\n",
    "class isosceles_triangle(Triangle):\n",
    "    def check_type(self):\n",
    "        if self.angle1==self.angle2 or self.angle2==self.angle3 or self.angle1==self.angle3:\n",
    "            print(\"The triangle is isosceles\")\n",
    "        else:\n",
    "            print(\"The triangle is not isosceles\")\n",
    "        return\n",
    "    \n",
    "class right_triangle(Triangle):\n",
    "    def check_type(self):\n",
    "        if self.angle1==90 or self.angle2==90 or self.angle3==90:\n",
    "            print(\"The triangle is right\")\n",
    "        else:\n",
    "            print(\"The triangle is not right\")\n",
    "        return\n",
    "\n",
    "class equilateral_triangle(Triangle):\n",
    "    def check_type(self):\n",
    "        if self.angle1==self.angle2==self.angle3:\n",
    "            print(\"The triangle is equilateral\")\n",
    "        else:\n",
    "            print(\"The triangle is not equilateral\")\n",
    "        return            \n",
    "\n",
    "triangleB = isosceles_triangle(25,25,40)\n",
    "triangleC = equilateral_triangle(60,60,60)\n",
    "triangleD = right_triangle(90,45,45)\n",
    "\n",
    "triangleB.check_type()\n",
    "triangleC.check_type()\n",
    "triangleD.check_type()"
   ]
  },
  {
   "cell_type": "markdown",
   "id": "60c2919c",
   "metadata": {},
   "source": [
    "Q12. Create a class isosceles_right_triangle which inherits from isosceles_triangle and\n",
    "right_triangle.\n",
    "\n",
    "1. Define methods which check for their properties."
   ]
  },
  {
   "cell_type": "code",
   "execution_count": 28,
   "id": "05d561d6",
   "metadata": {
    "ExecuteTime": {
     "end_time": "2023-09-03T12:15:49.375412Z",
     "start_time": "2023-09-03T12:15:49.341764Z"
    }
   },
   "outputs": [
    {
     "name": "stdout",
     "output_type": "stream",
     "text": [
      "The triangle is isosceles\n",
      "The triangle is right\n"
     ]
    }
   ],
   "source": [
    "class isosceles_right_triangle(isosceles_triangle, right_triangle):\n",
    "    def __init__(self, angle1, angle2, angle3):\n",
    "        isosceles_triangle.__init__(self, angle1, angle2, angle3)\n",
    "        right_triangle.__init__(self, angle1, angle2, angle3)\n",
    "    def check_type(self):\n",
    "        isosceles_triangle.check_type(self)\n",
    "        right_triangle.check_type(self)\n",
    "triangleE = isosceles_right_triangle(90,45,45)\n",
    "triangleE.check_type()"
   ]
  }
 ],
 "metadata": {
  "kernelspec": {
   "display_name": "Python 3 (ipykernel)",
   "language": "python",
   "name": "python3"
  },
  "language_info": {
   "codemirror_mode": {
    "name": "ipython",
    "version": 3
   },
   "file_extension": ".py",
   "mimetype": "text/x-python",
   "name": "python",
   "nbconvert_exporter": "python",
   "pygments_lexer": "ipython3",
   "version": "3.8.10"
  },
  "toc": {
   "base_numbering": 1,
   "nav_menu": {},
   "number_sections": true,
   "sideBar": true,
   "skip_h1_title": false,
   "title_cell": "Table of Contents",
   "title_sidebar": "Contents",
   "toc_cell": false,
   "toc_position": {},
   "toc_section_display": true,
   "toc_window_display": false
  },
  "varInspector": {
   "cols": {
    "lenName": 16,
    "lenType": 16,
    "lenVar": 40
   },
   "kernels_config": {
    "python": {
     "delete_cmd_postfix": "",
     "delete_cmd_prefix": "del ",
     "library": "var_list.py",
     "varRefreshCmd": "print(var_dic_list())"
    },
    "r": {
     "delete_cmd_postfix": ") ",
     "delete_cmd_prefix": "rm(",
     "library": "var_list.r",
     "varRefreshCmd": "cat(var_dic_list()) "
    }
   },
   "types_to_exclude": [
    "module",
    "function",
    "builtin_function_or_method",
    "instance",
    "_Feature"
   ],
   "window_display": false
  }
 },
 "nbformat": 4,
 "nbformat_minor": 5
}
