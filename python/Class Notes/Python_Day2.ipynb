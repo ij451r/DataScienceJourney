{
 "cells": [
  {
   "cell_type": "markdown",
   "id": "60449bf1",
   "metadata": {
    "toc": true
   },
   "source": [
    "<h1>Table of Contents<span class=\"tocSkip\"></span></h1>\n",
    "<div class=\"toc\"><ul class=\"toc-item\"><li><span><a href=\"#Data-Types\" data-toc-modified-id=\"Data-Types-1\"><span class=\"toc-item-num\">1&nbsp;&nbsp;</span>Data Types</a></span><ul class=\"toc-item\"><li><span><a href=\"#Numeric-Data-Types\" data-toc-modified-id=\"Numeric-Data-Types-1.1\"><span class=\"toc-item-num\">1.1&nbsp;&nbsp;</span>Numeric Data Types</a></span></li><li><span><a href=\"#Sequence-Data-Types\" data-toc-modified-id=\"Sequence-Data-Types-1.2\"><span class=\"toc-item-num\">1.2&nbsp;&nbsp;</span>Sequence Data Types</a></span><ul class=\"toc-item\"><li><span><a href=\"#String\" data-toc-modified-id=\"String-1.2.1\"><span class=\"toc-item-num\">1.2.1&nbsp;&nbsp;</span>String</a></span></li><li><span><a href=\"#List\" data-toc-modified-id=\"List-1.2.2\"><span class=\"toc-item-num\">1.2.2&nbsp;&nbsp;</span>List</a></span></li><li><span><a href=\"#Tuple\" data-toc-modified-id=\"Tuple-1.2.3\"><span class=\"toc-item-num\">1.2.3&nbsp;&nbsp;</span>Tuple</a></span></li><li><span><a href=\"#Set\" data-toc-modified-id=\"Set-1.2.4\"><span class=\"toc-item-num\">1.2.4&nbsp;&nbsp;</span>Set</a></span></li><li><span><a href=\"#Dictionary\" data-toc-modified-id=\"Dictionary-1.2.5\"><span class=\"toc-item-num\">1.2.5&nbsp;&nbsp;</span>Dictionary</a></span></li></ul></li><li><span><a href=\"#Boolena-Data-Type\" data-toc-modified-id=\"Boolena-Data-Type-1.3\"><span class=\"toc-item-num\">1.3&nbsp;&nbsp;</span>Boolena Data Type</a></span></li></ul></li><li><span><a href=\"#Mutable-vs-Immutable-Data-Types\" data-toc-modified-id=\"Mutable-vs-Immutable-Data-Types-2\"><span class=\"toc-item-num\">2&nbsp;&nbsp;</span>Mutable vs Immutable Data Types</a></span></li><li><span><a href=\"#Slicing\" data-toc-modified-id=\"Slicing-3\"><span class=\"toc-item-num\">3&nbsp;&nbsp;</span>Slicing</a></span></li><li><span><a href=\"#Doubt-Resolution\" data-toc-modified-id=\"Doubt-Resolution-4\"><span class=\"toc-item-num\">4&nbsp;&nbsp;</span>Doubt Resolution</a></span></li></ul></div>"
   ]
  },
  {
   "cell_type": "markdown",
   "id": "d3f26916",
   "metadata": {
    "ExecuteTime": {
     "end_time": "2023-01-02T10:00:43.031120Z",
     "start_time": "2023-01-02T10:00:42.901027Z"
    }
   },
   "source": [
    "## Data Types"
   ]
  },
  {
   "cell_type": "markdown",
   "id": "ccd9982f",
   "metadata": {
    "ExecuteTime": {
     "end_time": "2023-01-02T10:01:50.829255Z",
     "start_time": "2023-01-02T10:01:50.804917Z"
    }
   },
   "source": [
    "### Numeric Data Types\n",
    "- Integer\n",
    "- Float\n",
    "- Compex"
   ]
  },
  {
   "cell_type": "code",
   "execution_count": 3,
   "id": "a77c50fe",
   "metadata": {
    "ExecuteTime": {
     "end_time": "2023-01-02T10:03:34.015743Z",
     "start_time": "2023-01-02T10:03:33.974239Z"
    }
   },
   "outputs": [],
   "source": [
    "a = 10"
   ]
  },
  {
   "cell_type": "code",
   "execution_count": 4,
   "id": "79265f93",
   "metadata": {
    "ExecuteTime": {
     "end_time": "2023-01-02T10:03:34.331986Z",
     "start_time": "2023-01-02T10:03:34.282295Z"
    }
   },
   "outputs": [
    {
     "name": "stdout",
     "output_type": "stream",
     "text": [
      "<class 'int'>\n"
     ]
    }
   ],
   "source": [
    "print(type(a))"
   ]
  },
  {
   "cell_type": "code",
   "execution_count": 5,
   "id": "491ec10e",
   "metadata": {
    "ExecuteTime": {
     "end_time": "2023-01-02T10:03:34.747380Z",
     "start_time": "2023-01-02T10:03:34.718540Z"
    }
   },
   "outputs": [],
   "source": [
    "b = 10.5"
   ]
  },
  {
   "cell_type": "code",
   "execution_count": 6,
   "id": "596ff745",
   "metadata": {
    "ExecuteTime": {
     "end_time": "2023-01-02T10:03:35.181777Z",
     "start_time": "2023-01-02T10:03:35.123790Z"
    }
   },
   "outputs": [
    {
     "name": "stdout",
     "output_type": "stream",
     "text": [
      "<class 'float'>\n"
     ]
    }
   ],
   "source": [
    "print(type(b))"
   ]
  },
  {
   "cell_type": "code",
   "execution_count": 7,
   "id": "f73a0a1f",
   "metadata": {
    "ExecuteTime": {
     "end_time": "2023-01-02T10:03:43.730238Z",
     "start_time": "2023-01-02T10:03:43.714456Z"
    }
   },
   "outputs": [],
   "source": [
    "c = 2 + 3j"
   ]
  },
  {
   "cell_type": "code",
   "execution_count": 8,
   "id": "2a2c12e8",
   "metadata": {
    "ExecuteTime": {
     "end_time": "2023-01-02T10:03:51.401978Z",
     "start_time": "2023-01-02T10:03:51.380646Z"
    }
   },
   "outputs": [
    {
     "name": "stdout",
     "output_type": "stream",
     "text": [
      "<class 'complex'>\n"
     ]
    }
   ],
   "source": [
    "print(type(c))"
   ]
  },
  {
   "cell_type": "markdown",
   "id": "5b68fc40",
   "metadata": {
    "ExecuteTime": {
     "end_time": "2023-01-02T10:04:20.124687Z",
     "start_time": "2023-01-02T10:04:20.105629Z"
    }
   },
   "source": [
    "### Sequence Data Types\n",
    "- String\n",
    "- List\n",
    "- Tuple\n",
    "- Set\n",
    "- Dictionary"
   ]
  },
  {
   "cell_type": "markdown",
   "id": "28a46c25",
   "metadata": {
    "ExecuteTime": {
     "end_time": "2023-01-02T10:05:14.671575Z",
     "start_time": "2023-01-02T10:05:14.648478Z"
    }
   },
   "source": [
    "#### String"
   ]
  },
  {
   "cell_type": "code",
   "execution_count": 11,
   "id": "42f09363",
   "metadata": {
    "ExecuteTime": {
     "end_time": "2023-01-02T10:08:38.765098Z",
     "start_time": "2023-01-02T10:08:38.726908Z"
    }
   },
   "outputs": [
    {
     "name": "stdout",
     "output_type": "stream",
     "text": [
      "Intellipat\n"
     ]
    }
   ],
   "source": [
    "b = \"Intellipat\" # same as b = 'Intellipat'\n",
    "print(b)"
   ]
  },
  {
   "cell_type": "code",
   "execution_count": 12,
   "id": "36608f1b",
   "metadata": {
    "ExecuteTime": {
     "end_time": "2023-01-02T10:08:43.227429Z",
     "start_time": "2023-01-02T10:08:43.211957Z"
    }
   },
   "outputs": [
    {
     "name": "stdout",
     "output_type": "stream",
     "text": [
      "Python basic training course\n",
      "its 1st day of the course\n"
     ]
    }
   ],
   "source": [
    "# use triple quotes for declaring multi line strings\n",
    "a = '''Python basic training course\n",
    "its 1st day of the course'''\n",
    "print(a)"
   ]
  },
  {
   "cell_type": "code",
   "execution_count": 13,
   "id": "2e22e4d0",
   "metadata": {
    "ExecuteTime": {
     "end_time": "2023-01-02T10:08:57.883574Z",
     "start_time": "2023-01-02T10:08:57.859979Z"
    }
   },
   "outputs": [
    {
     "name": "stdout",
     "output_type": "stream",
     "text": [
      "<class 'str'>\n"
     ]
    }
   ],
   "source": [
    "print(type(a))"
   ]
  },
  {
   "cell_type": "code",
   "execution_count": 22,
   "id": "c9901b8d",
   "metadata": {
    "ExecuteTime": {
     "end_time": "2023-01-02T10:11:25.457567Z",
     "start_time": "2023-01-02T10:11:25.434411Z"
    }
   },
   "outputs": [],
   "source": [
    "string = \"Intellipat Python Training\""
   ]
  },
  {
   "cell_type": "code",
   "execution_count": 23,
   "id": "b843adcf",
   "metadata": {
    "ExecuteTime": {
     "end_time": "2023-01-02T10:11:26.091491Z",
     "start_time": "2023-01-02T10:11:26.075141Z"
    }
   },
   "outputs": [
    {
     "data": {
      "text/plain": [
       "27"
      ]
     },
     "execution_count": 23,
     "metadata": {},
     "output_type": "execute_result"
    }
   ],
   "source": [
    "string.count(\"\")"
   ]
  },
  {
   "cell_type": "code",
   "execution_count": 29,
   "id": "83ef4b5b",
   "metadata": {
    "ExecuteTime": {
     "end_time": "2023-01-02T10:13:00.643009Z",
     "start_time": "2023-01-02T10:13:00.622270Z"
    }
   },
   "outputs": [],
   "source": [
    "x = string.split(\" \") # split method will split the string using a specified operator and return a list"
   ]
  },
  {
   "cell_type": "code",
   "execution_count": 26,
   "id": "e481fb2a",
   "metadata": {
    "ExecuteTime": {
     "end_time": "2023-01-02T10:12:01.650734Z",
     "start_time": "2023-01-02T10:12:01.638245Z"
    }
   },
   "outputs": [
    {
     "name": "stdout",
     "output_type": "stream",
     "text": [
      "['Intellipat', 'Python', 'Training']\n"
     ]
    }
   ],
   "source": [
    "print(x)"
   ]
  },
  {
   "cell_type": "code",
   "execution_count": 27,
   "id": "b6ed4afc",
   "metadata": {
    "ExecuteTime": {
     "end_time": "2023-01-02T10:12:02.291080Z",
     "start_time": "2023-01-02T10:12:02.279059Z"
    }
   },
   "outputs": [
    {
     "name": "stdout",
     "output_type": "stream",
     "text": [
      "<class 'list'>\n"
     ]
    }
   ],
   "source": [
    "print(type(x))"
   ]
  },
  {
   "cell_type": "code",
   "execution_count": 30,
   "id": "d2ec846a",
   "metadata": {
    "ExecuteTime": {
     "end_time": "2023-01-02T10:13:37.812338Z",
     "start_time": "2023-01-02T10:13:37.781415Z"
    }
   },
   "outputs": [
    {
     "data": {
      "text/plain": [
       "6"
      ]
     },
     "execution_count": 30,
     "metadata": {},
     "output_type": "execute_result"
    }
   ],
   "source": [
    "string.find(\"i\") # Returns occurrences of specified character"
   ]
  },
  {
   "cell_type": "code",
   "execution_count": 31,
   "id": "1eef4d8b",
   "metadata": {
    "ExecuteTime": {
     "end_time": "2023-01-02T10:14:44.084414Z",
     "start_time": "2023-01-02T10:14:44.052225Z"
    }
   },
   "outputs": [],
   "source": [
    "string = \"Intellipat Python Training\"\n",
    "a = \"Intellipat\"\n",
    "b = \"Python\""
   ]
  },
  {
   "cell_type": "code",
   "execution_count": 34,
   "id": "daf7a43b",
   "metadata": {
    "ExecuteTime": {
     "end_time": "2023-01-02T10:15:35.414298Z",
     "start_time": "2023-01-02T10:15:35.380242Z"
    }
   },
   "outputs": [
    {
     "data": {
      "text/plain": [
       "'IntellipatIntellipat Python TrainingPython'"
      ]
     },
     "execution_count": 34,
     "metadata": {},
     "output_type": "execute_result"
    }
   ],
   "source": [
    "string.join([a,b])"
   ]
  },
  {
   "cell_type": "code",
   "execution_count": 35,
   "id": "8962bb6a",
   "metadata": {
    "ExecuteTime": {
     "end_time": "2023-01-02T10:16:16.844416Z",
     "start_time": "2023-01-02T10:16:16.833498Z"
    }
   },
   "outputs": [
    {
     "data": {
      "text/plain": [
       "'Intellipat Python Course'"
      ]
     },
     "execution_count": 35,
     "metadata": {},
     "output_type": "execute_result"
    }
   ],
   "source": [
    "string.replace(\"Training\",\"Course\") #Returns string by replacing specified character with another character\n"
   ]
  },
  {
   "cell_type": "code",
   "execution_count": 36,
   "id": "d46c937a",
   "metadata": {
    "ExecuteTime": {
     "end_time": "2023-01-02T10:17:09.902593Z",
     "start_time": "2023-01-02T10:17:09.863442Z"
    }
   },
   "outputs": [
    {
     "data": {
      "text/plain": [
       "'Intellipat Python'"
      ]
     },
     "execution_count": 36,
     "metadata": {},
     "output_type": "execute_result"
    }
   ],
   "source": [
    "str2 = a+\" \"+b # concatination of strings using + operator\n",
    "str2"
   ]
  },
  {
   "cell_type": "markdown",
   "id": "5f1ee023",
   "metadata": {},
   "source": [
    "#### List"
   ]
  },
  {
   "cell_type": "code",
   "execution_count": 37,
   "id": "20fe744f",
   "metadata": {
    "ExecuteTime": {
     "end_time": "2023-01-02T10:17:30.935890Z",
     "start_time": "2023-01-02T10:17:30.919606Z"
    }
   },
   "outputs": [],
   "source": [
    "list1 = [10,20,30,40,50,60,70]"
   ]
  },
  {
   "cell_type": "code",
   "execution_count": 38,
   "id": "fd2f0af4",
   "metadata": {
    "ExecuteTime": {
     "end_time": "2023-01-02T10:17:31.360624Z",
     "start_time": "2023-01-02T10:17:31.329454Z"
    }
   },
   "outputs": [
    {
     "data": {
      "text/plain": [
       "list"
      ]
     },
     "execution_count": 38,
     "metadata": {},
     "output_type": "execute_result"
    }
   ],
   "source": [
    "type(list1)"
   ]
  },
  {
   "cell_type": "code",
   "execution_count": 39,
   "id": "5967db72",
   "metadata": {
    "ExecuteTime": {
     "end_time": "2023-01-02T10:17:33.774294Z",
     "start_time": "2023-01-02T10:17:33.764330Z"
    }
   },
   "outputs": [],
   "source": [
    "list1.insert(7,\"80\")"
   ]
  },
  {
   "cell_type": "code",
   "execution_count": 41,
   "id": "13402517",
   "metadata": {
    "ExecuteTime": {
     "end_time": "2023-01-02T10:17:44.623303Z",
     "start_time": "2023-01-02T10:17:44.595505Z"
    }
   },
   "outputs": [
    {
     "name": "stdout",
     "output_type": "stream",
     "text": [
      "[10, 20, 30, 40, 50, 60, 70, '80']\n"
     ]
    }
   ],
   "source": [
    "print(list1)"
   ]
  },
  {
   "cell_type": "code",
   "execution_count": 42,
   "id": "bae82736",
   "metadata": {
    "ExecuteTime": {
     "end_time": "2023-01-02T10:17:47.844838Z",
     "start_time": "2023-01-02T10:17:47.785092Z"
    }
   },
   "outputs": [],
   "source": [
    "list2 = [1,2,3,4,5]"
   ]
  },
  {
   "cell_type": "code",
   "execution_count": 43,
   "id": "e080342e",
   "metadata": {
    "ExecuteTime": {
     "end_time": "2023-01-02T10:17:50.280391Z",
     "start_time": "2023-01-02T10:17:50.245850Z"
    }
   },
   "outputs": [],
   "source": [
    "list1.extend(list2)"
   ]
  },
  {
   "cell_type": "code",
   "execution_count": 44,
   "id": "bbcfa1c1",
   "metadata": {
    "ExecuteTime": {
     "end_time": "2023-01-02T10:17:57.111053Z",
     "start_time": "2023-01-02T10:17:57.081055Z"
    }
   },
   "outputs": [
    {
     "name": "stdout",
     "output_type": "stream",
     "text": [
      "[10, 20, 30, 40, 50, 60, 70, '80', 1, 2, 3, 4, 5]\n"
     ]
    }
   ],
   "source": [
    "print(list1)"
   ]
  },
  {
   "cell_type": "code",
   "execution_count": 45,
   "id": "d33c28bd",
   "metadata": {
    "ExecuteTime": {
     "end_time": "2023-01-02T10:18:00.721230Z",
     "start_time": "2023-01-02T10:18:00.707214Z"
    }
   },
   "outputs": [],
   "source": [
    "list1.remove(2)\n"
   ]
  },
  {
   "cell_type": "code",
   "execution_count": 46,
   "id": "56d4bbe7",
   "metadata": {
    "ExecuteTime": {
     "end_time": "2023-01-02T10:18:07.822680Z",
     "start_time": "2023-01-02T10:18:07.801666Z"
    }
   },
   "outputs": [
    {
     "name": "stdout",
     "output_type": "stream",
     "text": [
      "[1, 2, 3, 4, 5]\n"
     ]
    }
   ],
   "source": [
    "print(list2)"
   ]
  },
  {
   "cell_type": "code",
   "execution_count": 47,
   "id": "8e6fcaef",
   "metadata": {
    "ExecuteTime": {
     "end_time": "2023-01-02T10:18:20.541477Z",
     "start_time": "2023-01-02T10:18:20.518728Z"
    }
   },
   "outputs": [],
   "source": [
    "list1.remove(\"80\")"
   ]
  },
  {
   "cell_type": "code",
   "execution_count": 48,
   "id": "7991dfff",
   "metadata": {
    "ExecuteTime": {
     "end_time": "2023-01-02T10:18:20.907352Z",
     "start_time": "2023-01-02T10:18:20.874325Z"
    }
   },
   "outputs": [
    {
     "name": "stdout",
     "output_type": "stream",
     "text": [
      "[10, 20, 30, 40, 50, 60, 70, 1, 3, 4, 5]\n"
     ]
    }
   ],
   "source": [
    "print(list1)"
   ]
  },
  {
   "cell_type": "code",
   "execution_count": 49,
   "id": "259f5994",
   "metadata": {
    "ExecuteTime": {
     "end_time": "2023-01-02T10:18:24.518761Z",
     "start_time": "2023-01-02T10:18:24.487544Z"
    }
   },
   "outputs": [],
   "source": [
    "list3 = [\"Alex\",\"Ravi\",\"Mark\",\"John\"]"
   ]
  },
  {
   "cell_type": "code",
   "execution_count": 50,
   "id": "a57a3e0e",
   "metadata": {
    "ExecuteTime": {
     "end_time": "2023-01-02T10:18:27.269662Z",
     "start_time": "2023-01-02T10:18:27.243273Z"
    }
   },
   "outputs": [
    {
     "data": {
      "text/plain": [
       "0"
      ]
     },
     "execution_count": 50,
     "metadata": {},
     "output_type": "execute_result"
    }
   ],
   "source": [
    "list3.index(\"Alex\")"
   ]
  },
  {
   "cell_type": "code",
   "execution_count": 51,
   "id": "e100a9a4",
   "metadata": {
    "ExecuteTime": {
     "end_time": "2023-01-02T10:18:31.019642Z",
     "start_time": "2023-01-02T10:18:30.990860Z"
    }
   },
   "outputs": [
    {
     "data": {
      "text/plain": [
       "3"
      ]
     },
     "execution_count": 51,
     "metadata": {},
     "output_type": "execute_result"
    }
   ],
   "source": [
    "list3.index(\"John\")"
   ]
  },
  {
   "cell_type": "code",
   "execution_count": 52,
   "id": "165af7d0",
   "metadata": {
    "ExecuteTime": {
     "end_time": "2023-01-02T10:18:32.314667Z",
     "start_time": "2023-01-02T10:18:32.256672Z"
    }
   },
   "outputs": [
    {
     "data": {
      "text/plain": [
       "'Mark'"
      ]
     },
     "execution_count": 52,
     "metadata": {},
     "output_type": "execute_result"
    }
   ],
   "source": [
    "list3[2]"
   ]
  },
  {
   "cell_type": "code",
   "execution_count": 53,
   "id": "d225a17b",
   "metadata": {
    "ExecuteTime": {
     "end_time": "2023-01-02T10:18:40.144548Z",
     "start_time": "2023-01-02T10:18:40.131804Z"
    }
   },
   "outputs": [],
   "source": [
    "#            -4,   -3,    -2,    -1                 \n",
    "#             0,    1,     2,     3\n",
    "list3 = [\"Alex\",\"Ravi\",\"Mark\",\"John\"]"
   ]
  },
  {
   "cell_type": "code",
   "execution_count": 54,
   "id": "3da1c564",
   "metadata": {
    "ExecuteTime": {
     "end_time": "2023-01-02T10:18:41.091540Z",
     "start_time": "2023-01-02T10:18:41.061271Z"
    }
   },
   "outputs": [
    {
     "data": {
      "text/plain": [
       "'John'"
      ]
     },
     "execution_count": 54,
     "metadata": {},
     "output_type": "execute_result"
    }
   ],
   "source": [
    "list3[-1]"
   ]
  },
  {
   "cell_type": "code",
   "execution_count": 55,
   "id": "ac95ddd2",
   "metadata": {
    "ExecuteTime": {
     "end_time": "2023-01-02T10:18:43.549769Z",
     "start_time": "2023-01-02T10:18:43.533228Z"
    }
   },
   "outputs": [
    {
     "data": {
      "text/plain": [
       "'Ravi'"
      ]
     },
     "execution_count": 55,
     "metadata": {},
     "output_type": "execute_result"
    }
   ],
   "source": [
    "list3[-3]"
   ]
  },
  {
   "cell_type": "markdown",
   "id": "416b53a7",
   "metadata": {
    "ExecuteTime": {
     "end_time": "2023-01-02T10:18:54.809675Z",
     "start_time": "2023-01-02T10:18:54.774740Z"
    }
   },
   "source": [
    "#### Tuple"
   ]
  },
  {
   "cell_type": "code",
   "execution_count": 57,
   "id": "cb254c97",
   "metadata": {
    "ExecuteTime": {
     "end_time": "2023-01-02T10:19:03.667808Z",
     "start_time": "2023-01-02T10:19:03.635896Z"
    }
   },
   "outputs": [],
   "source": [
    "tup1 = (1,2,3,4,5,\"Intellipat\",1,2,3,4,1,5,1)"
   ]
  },
  {
   "cell_type": "code",
   "execution_count": 58,
   "id": "ac9476bc",
   "metadata": {
    "ExecuteTime": {
     "end_time": "2023-01-02T10:19:04.853874Z",
     "start_time": "2023-01-02T10:19:04.838349Z"
    }
   },
   "outputs": [
    {
     "data": {
      "text/plain": [
       "tuple"
      ]
     },
     "execution_count": 58,
     "metadata": {},
     "output_type": "execute_result"
    }
   ],
   "source": [
    "type(tup1)"
   ]
  },
  {
   "cell_type": "code",
   "execution_count": 59,
   "id": "f9a74f24",
   "metadata": {
    "ExecuteTime": {
     "end_time": "2023-01-02T10:19:06.359040Z",
     "start_time": "2023-01-02T10:19:06.331181Z"
    }
   },
   "outputs": [
    {
     "data": {
      "text/plain": [
       "3"
      ]
     },
     "execution_count": 59,
     "metadata": {},
     "output_type": "execute_result"
    }
   ],
   "source": [
    "tup1.index(4)"
   ]
  },
  {
   "cell_type": "code",
   "execution_count": 60,
   "id": "1284d680",
   "metadata": {
    "ExecuteTime": {
     "end_time": "2023-01-02T10:19:06.918626Z",
     "start_time": "2023-01-02T10:19:06.892021Z"
    }
   },
   "outputs": [
    {
     "data": {
      "text/plain": [
       "4"
      ]
     },
     "execution_count": 60,
     "metadata": {},
     "output_type": "execute_result"
    }
   ],
   "source": [
    "tup1.count(1) # gives count of specified elements"
   ]
  },
  {
   "cell_type": "code",
   "execution_count": 61,
   "id": "b44fb333",
   "metadata": {
    "ExecuteTime": {
     "end_time": "2023-01-02T10:20:02.710347Z",
     "start_time": "2023-01-02T10:20:02.694955Z"
    }
   },
   "outputs": [
    {
     "data": {
      "text/plain": [
       "1"
      ]
     },
     "execution_count": 61,
     "metadata": {},
     "output_type": "execute_result"
    }
   ],
   "source": [
    "tup1.count(\"Intellipat\")"
   ]
  },
  {
   "cell_type": "code",
   "execution_count": 62,
   "id": "5ac636ec",
   "metadata": {
    "ExecuteTime": {
     "end_time": "2023-01-02T10:20:06.790138Z",
     "start_time": "2023-01-02T10:20:06.776215Z"
    }
   },
   "outputs": [],
   "source": [
    "tup2 = 1,2,3"
   ]
  },
  {
   "cell_type": "code",
   "execution_count": 63,
   "id": "bee09df5",
   "metadata": {
    "ExecuteTime": {
     "end_time": "2023-01-02T10:20:10.179359Z",
     "start_time": "2023-01-02T10:20:10.154521Z"
    }
   },
   "outputs": [
    {
     "data": {
      "text/plain": [
       "tuple"
      ]
     },
     "execution_count": 63,
     "metadata": {},
     "output_type": "execute_result"
    }
   ],
   "source": [
    "type(tup2)"
   ]
  },
  {
   "cell_type": "markdown",
   "id": "71de9118",
   "metadata": {
    "ExecuteTime": {
     "end_time": "2023-01-02T10:20:23.181411Z",
     "start_time": "2023-01-02T10:20:23.170521Z"
    }
   },
   "source": [
    "#### Set"
   ]
  },
  {
   "cell_type": "code",
   "execution_count": 65,
   "id": "8a942e08",
   "metadata": {
    "ExecuteTime": {
     "end_time": "2023-01-02T10:20:31.646694Z",
     "start_time": "2023-01-02T10:20:31.619214Z"
    }
   },
   "outputs": [],
   "source": [
    "set1 = set([\"Intellipat\",1,2,3,4,5,6,7,9,1,2])"
   ]
  },
  {
   "cell_type": "code",
   "execution_count": 66,
   "id": "463ec880",
   "metadata": {
    "ExecuteTime": {
     "end_time": "2023-01-02T10:20:32.454014Z",
     "start_time": "2023-01-02T10:20:32.439664Z"
    }
   },
   "outputs": [
    {
     "data": {
      "text/plain": [
       "set"
      ]
     },
     "execution_count": 66,
     "metadata": {},
     "output_type": "execute_result"
    }
   ],
   "source": [
    "type(set1)"
   ]
  },
  {
   "cell_type": "code",
   "execution_count": 68,
   "id": "450e49d6",
   "metadata": {
    "ExecuteTime": {
     "end_time": "2023-01-02T10:20:41.539634Z",
     "start_time": "2023-01-02T10:20:41.524958Z"
    }
   },
   "outputs": [
    {
     "name": "stdout",
     "output_type": "stream",
     "text": [
      "{1, 2, 3, 4, 5, 6, 7, 9, 'Intellipat'}\n"
     ]
    }
   ],
   "source": [
    "print(set1)"
   ]
  },
  {
   "cell_type": "code",
   "execution_count": 69,
   "id": "708e5c2c",
   "metadata": {
    "ExecuteTime": {
     "end_time": "2023-01-02T10:20:47.864814Z",
     "start_time": "2023-01-02T10:20:47.842407Z"
    }
   },
   "outputs": [],
   "source": [
    "set2 = set([\"Intellipat\"])"
   ]
  },
  {
   "cell_type": "code",
   "execution_count": 70,
   "id": "c0588026",
   "metadata": {
    "ExecuteTime": {
     "end_time": "2023-01-02T10:20:55.517114Z",
     "start_time": "2023-01-02T10:20:55.478434Z"
    }
   },
   "outputs": [
    {
     "name": "stdout",
     "output_type": "stream",
     "text": [
      "{'Intellipat'}\n"
     ]
    }
   ],
   "source": [
    "print(set2)"
   ]
  },
  {
   "cell_type": "code",
   "execution_count": 71,
   "id": "d2379846",
   "metadata": {
    "ExecuteTime": {
     "end_time": "2023-01-02T10:21:07.178932Z",
     "start_time": "2023-01-02T10:21:07.153423Z"
    }
   },
   "outputs": [],
   "source": [
    "set1.add(1)\n",
    "set1.add(8)"
   ]
  },
  {
   "cell_type": "code",
   "execution_count": 72,
   "id": "fa01e027",
   "metadata": {
    "ExecuteTime": {
     "end_time": "2023-01-02T10:21:07.722745Z",
     "start_time": "2023-01-02T10:21:07.692088Z"
    }
   },
   "outputs": [
    {
     "name": "stdout",
     "output_type": "stream",
     "text": [
      "{1, 2, 3, 4, 5, 6, 7, 8, 9, 'Intellipat'}\n"
     ]
    }
   ],
   "source": [
    "print(set1)"
   ]
  },
  {
   "cell_type": "code",
   "execution_count": 73,
   "id": "5f71f0e4",
   "metadata": {
    "ExecuteTime": {
     "end_time": "2023-01-02T10:21:59.397060Z",
     "start_time": "2023-01-02T10:21:59.351534Z"
    }
   },
   "outputs": [],
   "source": [
    "set1.remove(\"Intellipat\")"
   ]
  },
  {
   "cell_type": "code",
   "execution_count": 74,
   "id": "eee6eb85",
   "metadata": {
    "ExecuteTime": {
     "end_time": "2023-01-02T10:22:06.005172Z",
     "start_time": "2023-01-02T10:22:05.974686Z"
    }
   },
   "outputs": [
    {
     "name": "stdout",
     "output_type": "stream",
     "text": [
      "{1, 2, 3, 4, 5, 6, 7, 8, 9}\n"
     ]
    }
   ],
   "source": [
    "print(set1)"
   ]
  },
  {
   "cell_type": "code",
   "execution_count": 75,
   "id": "2cd7cdf8",
   "metadata": {
    "ExecuteTime": {
     "end_time": "2023-01-02T10:22:20.021510Z",
     "start_time": "2023-01-02T10:22:20.004893Z"
    }
   },
   "outputs": [],
   "source": [
    "a = {'i','n','t','e','l'}\n",
    "b = {'p', 'y', 't', 'h', 'o', 'n'}"
   ]
  },
  {
   "cell_type": "code",
   "execution_count": 76,
   "id": "2ddb42b2",
   "metadata": {
    "ExecuteTime": {
     "end_time": "2023-01-02T10:22:31.712033Z",
     "start_time": "2023-01-02T10:22:31.687404Z"
    }
   },
   "outputs": [
    {
     "name": "stdout",
     "output_type": "stream",
     "text": [
      "{'l', 't', 'i', 'n', 'e'}\n",
      "{'t', 'o', 'y', 'h', 'p', 'n'}\n"
     ]
    },
    {
     "data": {
      "text/plain": [
       "(None, None)"
      ]
     },
     "execution_count": 76,
     "metadata": {},
     "output_type": "execute_result"
    }
   ],
   "source": [
    "print(a),print(b)"
   ]
  },
  {
   "cell_type": "code",
   "execution_count": 77,
   "id": "8c0f0f98",
   "metadata": {
    "ExecuteTime": {
     "end_time": "2023-01-02T10:22:39.442051Z",
     "start_time": "2023-01-02T10:22:39.429591Z"
    }
   },
   "outputs": [
    {
     "data": {
      "text/plain": [
       "{'n', 't'}"
      ]
     },
     "execution_count": 77,
     "metadata": {},
     "output_type": "execute_result"
    }
   ],
   "source": [
    "a.intersection(b)"
   ]
  },
  {
   "cell_type": "code",
   "execution_count": 78,
   "id": "84f20d7e",
   "metadata": {
    "ExecuteTime": {
     "end_time": "2023-01-02T10:22:40.561836Z",
     "start_time": "2023-01-02T10:22:40.530489Z"
    }
   },
   "outputs": [
    {
     "data": {
      "text/plain": [
       "{'e', 'i', 'l'}"
      ]
     },
     "execution_count": 78,
     "metadata": {},
     "output_type": "execute_result"
    }
   ],
   "source": [
    "a.difference(b) #a-b remove all ements of a which are present in b"
   ]
  },
  {
   "cell_type": "code",
   "execution_count": 79,
   "id": "a28c5881",
   "metadata": {
    "ExecuteTime": {
     "end_time": "2023-01-02T10:22:45.819727Z",
     "start_time": "2023-01-02T10:22:45.793455Z"
    }
   },
   "outputs": [
    {
     "data": {
      "text/plain": [
       "{'h', 'o', 'p', 'y'}"
      ]
     },
     "execution_count": 79,
     "metadata": {},
     "output_type": "execute_result"
    }
   ],
   "source": [
    "b.difference(a)"
   ]
  },
  {
   "cell_type": "code",
   "execution_count": 80,
   "id": "1c5ef3fb",
   "metadata": {
    "ExecuteTime": {
     "end_time": "2023-01-02T10:22:49.248867Z",
     "start_time": "2023-01-02T10:22:49.230642Z"
    }
   },
   "outputs": [],
   "source": [
    "s1 = {\"Intellipat\" , \"Python\", \"Training\"}\n",
    "s2 = set([1,2,3,\"Intellipat\",4.0])\n",
    "s3 = {'a', 'e', 'i', 'o'}"
   ]
  },
  {
   "cell_type": "code",
   "execution_count": 81,
   "id": "9b48a9aa",
   "metadata": {
    "ExecuteTime": {
     "end_time": "2023-01-02T10:22:53.650890Z",
     "start_time": "2023-01-02T10:22:53.624328Z"
    }
   },
   "outputs": [],
   "source": [
    "s2.update(s1)"
   ]
  },
  {
   "cell_type": "code",
   "execution_count": 82,
   "id": "3d07c4ac",
   "metadata": {
    "ExecuteTime": {
     "end_time": "2023-01-02T10:22:54.087047Z",
     "start_time": "2023-01-02T10:22:54.050045Z"
    }
   },
   "outputs": [
    {
     "data": {
      "text/plain": [
       "{1, 2, 3, 4.0, 'Intellipat', 'Python', 'Training'}"
      ]
     },
     "execution_count": 82,
     "metadata": {},
     "output_type": "execute_result"
    }
   ],
   "source": [
    "s2"
   ]
  },
  {
   "cell_type": "markdown",
   "id": "1231b96a",
   "metadata": {},
   "source": [
    "#### Dictionary"
   ]
  },
  {
   "cell_type": "code",
   "execution_count": 83,
   "id": "84f85ac7",
   "metadata": {
    "ExecuteTime": {
     "end_time": "2023-01-02T10:29:26.038620Z",
     "start_time": "2023-01-02T10:29:25.977712Z"
    }
   },
   "outputs": [],
   "source": [
    "dict1 = {1 : \"Intellipat\" , 2 : \"Python\" , 3 : \"Training\"}\n",
    "#dictionary = {key : value, key : value, ......}"
   ]
  },
  {
   "cell_type": "code",
   "execution_count": 84,
   "id": "ad54dce4",
   "metadata": {
    "ExecuteTime": {
     "end_time": "2023-01-02T10:29:26.892674Z",
     "start_time": "2023-01-02T10:29:26.860833Z"
    }
   },
   "outputs": [
    {
     "name": "stdout",
     "output_type": "stream",
     "text": [
      "{1: 'Intellipat', 2: 'Python', 3: 'Training'}\n"
     ]
    }
   ],
   "source": [
    "print(dict1)"
   ]
  },
  {
   "cell_type": "code",
   "execution_count": 85,
   "id": "f770d157",
   "metadata": {
    "ExecuteTime": {
     "end_time": "2023-01-02T10:29:34.730933Z",
     "start_time": "2023-01-02T10:29:34.708648Z"
    }
   },
   "outputs": [],
   "source": [
    "dict2 = {'Name' : \"Intellipat\" , 1: [1,2,3,4]}"
   ]
  },
  {
   "cell_type": "code",
   "execution_count": 86,
   "id": "6fe4bbbd",
   "metadata": {
    "ExecuteTime": {
     "end_time": "2023-01-02T10:29:41.552323Z",
     "start_time": "2023-01-02T10:29:41.537664Z"
    }
   },
   "outputs": [
    {
     "name": "stdout",
     "output_type": "stream",
     "text": [
      "{'Name': 'Intellipat', 1: [1, 2, 3, 4]}\n"
     ]
    }
   ],
   "source": [
    "print(dict2)"
   ]
  },
  {
   "cell_type": "code",
   "execution_count": 87,
   "id": "f055d1c8",
   "metadata": {
    "ExecuteTime": {
     "end_time": "2023-01-02T10:29:46.143455Z",
     "start_time": "2023-01-02T10:29:46.104858Z"
    }
   },
   "outputs": [
    {
     "data": {
      "text/plain": [
       "'Intellipat'"
      ]
     },
     "execution_count": 87,
     "metadata": {},
     "output_type": "execute_result"
    }
   ],
   "source": [
    "dict1.get(1)"
   ]
  },
  {
   "cell_type": "code",
   "execution_count": 88,
   "id": "36f49159",
   "metadata": {
    "ExecuteTime": {
     "end_time": "2023-01-02T10:29:50.190070Z",
     "start_time": "2023-01-02T10:29:50.156807Z"
    }
   },
   "outputs": [
    {
     "data": {
      "text/plain": [
       "'Training'"
      ]
     },
     "execution_count": 88,
     "metadata": {},
     "output_type": "execute_result"
    }
   ],
   "source": [
    "dict1.get(3)"
   ]
  },
  {
   "cell_type": "code",
   "execution_count": 89,
   "id": "90146df2",
   "metadata": {
    "ExecuteTime": {
     "end_time": "2023-01-02T10:29:51.523332Z",
     "start_time": "2023-01-02T10:29:51.484718Z"
    }
   },
   "outputs": [
    {
     "data": {
      "text/plain": [
       "[1, 2, 3, 4]"
      ]
     },
     "execution_count": 89,
     "metadata": {},
     "output_type": "execute_result"
    }
   ],
   "source": [
    "dict2.get(1)"
   ]
  },
  {
   "cell_type": "code",
   "execution_count": 90,
   "id": "36410fd9",
   "metadata": {
    "ExecuteTime": {
     "end_time": "2023-01-02T10:30:03.606154Z",
     "start_time": "2023-01-02T10:30:03.594454Z"
    }
   },
   "outputs": [
    {
     "data": {
      "text/plain": [
       "dict_keys([1, 2, 3])"
      ]
     },
     "execution_count": 90,
     "metadata": {},
     "output_type": "execute_result"
    }
   ],
   "source": [
    "dict1.keys()"
   ]
  },
  {
   "cell_type": "code",
   "execution_count": 91,
   "id": "84955d37",
   "metadata": {
    "ExecuteTime": {
     "end_time": "2023-01-02T10:30:11.072017Z",
     "start_time": "2023-01-02T10:30:11.038187Z"
    }
   },
   "outputs": [
    {
     "data": {
      "text/plain": [
       "dict_values(['Intellipat', 'Python', 'Training'])"
      ]
     },
     "execution_count": 91,
     "metadata": {},
     "output_type": "execute_result"
    }
   ],
   "source": [
    "dict1.values()"
   ]
  },
  {
   "cell_type": "code",
   "execution_count": 92,
   "id": "9468acd4",
   "metadata": {
    "ExecuteTime": {
     "end_time": "2023-01-02T10:30:14.090745Z",
     "start_time": "2023-01-02T10:30:14.061898Z"
    }
   },
   "outputs": [
    {
     "data": {
      "text/plain": [
       "dict_items([(1, 'Intellipat'), (2, 'Python'), (3, 'Training')])"
      ]
     },
     "execution_count": 92,
     "metadata": {},
     "output_type": "execute_result"
    }
   ],
   "source": [
    "dict1.items()"
   ]
  },
  {
   "cell_type": "code",
   "execution_count": 93,
   "id": "aeaa8fa9",
   "metadata": {
    "ExecuteTime": {
     "end_time": "2023-01-02T10:30:15.981051Z",
     "start_time": "2023-01-02T10:30:15.946363Z"
    }
   },
   "outputs": [
    {
     "data": {
      "text/plain": [
       "'Python'"
      ]
     },
     "execution_count": 93,
     "metadata": {},
     "output_type": "execute_result"
    }
   ],
   "source": [
    "dict1.pop(2)"
   ]
  },
  {
   "cell_type": "code",
   "execution_count": 94,
   "id": "b95397ec",
   "metadata": {
    "ExecuteTime": {
     "end_time": "2023-01-02T10:30:21.108605Z",
     "start_time": "2023-01-02T10:30:21.070867Z"
    }
   },
   "outputs": [
    {
     "name": "stdout",
     "output_type": "stream",
     "text": [
      "{1: 'Intellipat', 3: 'Training'}\n"
     ]
    }
   ],
   "source": [
    "print(dict1)"
   ]
  },
  {
   "cell_type": "markdown",
   "id": "994e8ba7",
   "metadata": {},
   "source": [
    "### Boolena Data Type"
   ]
  },
  {
   "cell_type": "code",
   "execution_count": 95,
   "id": "b7c85934",
   "metadata": {
    "ExecuteTime": {
     "end_time": "2023-01-02T10:31:24.233862Z",
     "start_time": "2023-01-02T10:31:24.189852Z"
    }
   },
   "outputs": [],
   "source": [
    "a = True\n",
    "b = False"
   ]
  },
  {
   "cell_type": "code",
   "execution_count": 96,
   "id": "bd565f02",
   "metadata": {
    "ExecuteTime": {
     "end_time": "2023-01-02T10:31:28.580189Z",
     "start_time": "2023-01-02T10:31:28.559916Z"
    }
   },
   "outputs": [
    {
     "data": {
      "text/plain": [
       "bool"
      ]
     },
     "execution_count": 96,
     "metadata": {},
     "output_type": "execute_result"
    }
   ],
   "source": [
    "type(a)"
   ]
  },
  {
   "cell_type": "code",
   "execution_count": 97,
   "id": "03d43966",
   "metadata": {
    "ExecuteTime": {
     "end_time": "2023-01-02T10:31:29.434589Z",
     "start_time": "2023-01-02T10:31:29.406592Z"
    }
   },
   "outputs": [
    {
     "data": {
      "text/plain": [
       "bool"
      ]
     },
     "execution_count": 97,
     "metadata": {},
     "output_type": "execute_result"
    }
   ],
   "source": [
    "type(b)"
   ]
  },
  {
   "cell_type": "code",
   "execution_count": 100,
   "id": "f692a808",
   "metadata": {
    "ExecuteTime": {
     "end_time": "2023-01-02T10:31:58.153602Z",
     "start_time": "2023-01-02T10:31:58.129634Z"
    }
   },
   "outputs": [],
   "source": [
    "a = 10\n",
    "b = 5"
   ]
  },
  {
   "cell_type": "code",
   "execution_count": 101,
   "id": "6dae459e",
   "metadata": {
    "ExecuteTime": {
     "end_time": "2023-01-02T10:31:58.837671Z",
     "start_time": "2023-01-02T10:31:58.824681Z"
    }
   },
   "outputs": [
    {
     "name": "stdout",
     "output_type": "stream",
     "text": [
      "True\n"
     ]
    }
   ],
   "source": [
    "c = a>b\n",
    "print(c)"
   ]
  },
  {
   "cell_type": "markdown",
   "id": "8888515a",
   "metadata": {},
   "source": [
    "## Mutable vs Immutable Data Types\n",
    "- Mutable Data Types - List, Dictionary and Set\n",
    "- Immutable Data Types - int, float, boolean, tuple and string"
   ]
  },
  {
   "cell_type": "code",
   "execution_count": 102,
   "id": "2844c51b",
   "metadata": {
    "ExecuteTime": {
     "end_time": "2023-01-02T10:34:31.588924Z",
     "start_time": "2023-01-02T10:34:31.515481Z"
    }
   },
   "outputs": [],
   "source": [
    "tup_imm = (1,2,3)"
   ]
  },
  {
   "cell_type": "code",
   "execution_count": 103,
   "id": "b52fd7d1",
   "metadata": {
    "ExecuteTime": {
     "end_time": "2023-01-02T10:34:32.490877Z",
     "start_time": "2023-01-02T10:34:32.459542Z"
    }
   },
   "outputs": [
    {
     "data": {
      "text/plain": [
       "2"
      ]
     },
     "execution_count": 103,
     "metadata": {},
     "output_type": "execute_result"
    }
   ],
   "source": [
    "tup_imm[1]"
   ]
  },
  {
   "cell_type": "code",
   "execution_count": 110,
   "id": "62801b1f",
   "metadata": {
    "ExecuteTime": {
     "end_time": "2023-01-02T10:35:14.503818Z",
     "start_time": "2023-01-02T10:35:14.496913Z"
    }
   },
   "outputs": [],
   "source": [
    "# tup_imm[2] = 5 # will not execute as tuple is immutable"
   ]
  },
  {
   "cell_type": "code",
   "execution_count": 111,
   "id": "cc2e8db4",
   "metadata": {
    "ExecuteTime": {
     "end_time": "2023-01-02T10:35:16.795378Z",
     "start_time": "2023-01-02T10:35:16.774300Z"
    }
   },
   "outputs": [],
   "source": [
    "list_mut = ['red', 'black', 'blue']"
   ]
  },
  {
   "cell_type": "code",
   "execution_count": 112,
   "id": "8c1a178d",
   "metadata": {
    "ExecuteTime": {
     "end_time": "2023-01-02T10:35:18.428338Z",
     "start_time": "2023-01-02T10:35:18.408481Z"
    }
   },
   "outputs": [
    {
     "data": {
      "text/plain": [
       "'black'"
      ]
     },
     "execution_count": 112,
     "metadata": {},
     "output_type": "execute_result"
    }
   ],
   "source": [
    "list_mut[1]"
   ]
  },
  {
   "cell_type": "code",
   "execution_count": 113,
   "id": "41d5f555",
   "metadata": {
    "ExecuteTime": {
     "end_time": "2023-01-02T10:35:19.829780Z",
     "start_time": "2023-01-02T10:35:19.812139Z"
    }
   },
   "outputs": [],
   "source": [
    "list_mut[1] = 'white'"
   ]
  },
  {
   "cell_type": "code",
   "execution_count": 114,
   "id": "6605c729",
   "metadata": {
    "ExecuteTime": {
     "end_time": "2023-01-02T10:35:27.294079Z",
     "start_time": "2023-01-02T10:35:27.271671Z"
    }
   },
   "outputs": [
    {
     "name": "stdout",
     "output_type": "stream",
     "text": [
      "['red', 'white', 'blue']\n"
     ]
    }
   ],
   "source": [
    "print(list_mut)"
   ]
  },
  {
   "cell_type": "code",
   "execution_count": 115,
   "id": "4371d6de",
   "metadata": {
    "ExecuteTime": {
     "end_time": "2023-01-02T10:35:28.648407Z",
     "start_time": "2023-01-02T10:35:28.633966Z"
    }
   },
   "outputs": [],
   "source": [
    "string = \"Intellipat trainig course\""
   ]
  },
  {
   "cell_type": "code",
   "execution_count": 116,
   "id": "d06a01b4",
   "metadata": {
    "ExecuteTime": {
     "end_time": "2023-01-02T10:35:31.293137Z",
     "start_time": "2023-01-02T10:35:31.281636Z"
    }
   },
   "outputs": [],
   "source": [
    "string  = string.replace(\"course\", \"Training\")"
   ]
  },
  {
   "cell_type": "code",
   "execution_count": 118,
   "id": "22d6fa39",
   "metadata": {
    "ExecuteTime": {
     "end_time": "2023-01-02T10:36:17.015579Z",
     "start_time": "2023-01-02T10:36:16.997927Z"
    }
   },
   "outputs": [
    {
     "name": "stdout",
     "output_type": "stream",
     "text": [
      "Intellipat trainig Training\n"
     ]
    }
   ],
   "source": [
    "print(string) # doesnot get changed on appying replace() method as string is immutable"
   ]
  },
  {
   "cell_type": "code",
   "execution_count": 119,
   "id": "2d6562fc",
   "metadata": {
    "ExecuteTime": {
     "end_time": "2023-01-02T10:36:18.170684Z",
     "start_time": "2023-01-02T10:36:18.150855Z"
    }
   },
   "outputs": [
    {
     "data": {
      "text/plain": [
       "'t'"
      ]
     },
     "execution_count": 119,
     "metadata": {},
     "output_type": "execute_result"
    }
   ],
   "source": [
    "string[2]"
   ]
  },
  {
   "cell_type": "code",
   "execution_count": 121,
   "id": "b6dea8ec",
   "metadata": {
    "ExecuteTime": {
     "end_time": "2023-01-02T10:36:40.067120Z",
     "start_time": "2023-01-02T10:36:40.059376Z"
    }
   },
   "outputs": [],
   "source": [
    "# string[2] = 's' # will not execute as string is immutable"
   ]
  },
  {
   "cell_type": "markdown",
   "id": "f51340fa",
   "metadata": {
    "ExecuteTime": {
     "end_time": "2023-01-02T10:37:24.208023Z",
     "start_time": "2023-01-02T10:37:24.166783Z"
    }
   },
   "source": [
    "## Slicing"
   ]
  },
  {
   "cell_type": "code",
   "execution_count": null,
   "id": "0e60674c",
   "metadata": {},
   "outputs": [],
   "source": [
    "#         0123456789.....\n",
    "string = \"Intellipat training course\""
   ]
  },
  {
   "cell_type": "code",
   "execution_count": null,
   "id": "c3605649",
   "metadata": {},
   "outputs": [],
   "source": [
    "string[1:4]"
   ]
  },
  {
   "cell_type": "code",
   "execution_count": null,
   "id": "83661f74",
   "metadata": {},
   "outputs": [],
   "source": [
    "string[1:9:2]"
   ]
  },
  {
   "cell_type": "code",
   "execution_count": null,
   "id": "80c634e8",
   "metadata": {},
   "outputs": [],
   "source": [
    "string[::-1]"
   ]
  },
  {
   "cell_type": "code",
   "execution_count": null,
   "id": "710ab2ea",
   "metadata": {},
   "outputs": [],
   "source": [
    "string[:10]"
   ]
  },
  {
   "cell_type": "code",
   "execution_count": null,
   "id": "a6ce0838",
   "metadata": {},
   "outputs": [],
   "source": [
    "string[11:]"
   ]
  },
  {
   "cell_type": "code",
   "execution_count": null,
   "id": "1848fa2d",
   "metadata": {},
   "outputs": [],
   "source": [
    "lst = [1,2,3,4,5,6,7]"
   ]
  },
  {
   "cell_type": "code",
   "execution_count": null,
   "id": "526bf12b",
   "metadata": {},
   "outputs": [],
   "source": [
    "lst[::]"
   ]
  },
  {
   "cell_type": "code",
   "execution_count": null,
   "id": "26a73636",
   "metadata": {},
   "outputs": [],
   "source": [
    "lst[::-1]"
   ]
  },
  {
   "cell_type": "code",
   "execution_count": null,
   "id": "354740d2",
   "metadata": {},
   "outputs": [],
   "source": [
    "lst[4:1:-1]"
   ]
  },
  {
   "cell_type": "code",
   "execution_count": null,
   "id": "3d9ffb6f",
   "metadata": {},
   "outputs": [],
   "source": [
    "lst[::-3]"
   ]
  },
  {
   "cell_type": "code",
   "execution_count": null,
   "id": "e4777d00",
   "metadata": {},
   "outputs": [],
   "source": []
  },
  {
   "cell_type": "markdown",
   "id": "cebb5cd2",
   "metadata": {},
   "source": [
    "## Doubt Resolution"
   ]
  },
  {
   "cell_type": "code",
   "execution_count": 123,
   "id": "056d2d6b",
   "metadata": {
    "ExecuteTime": {
     "end_time": "2023-01-02T10:39:48.279095Z",
     "start_time": "2023-01-02T10:39:48.270389Z"
    }
   },
   "outputs": [
    {
     "data": {
      "text/plain": [
       "10.0"
      ]
     },
     "execution_count": 123,
     "metadata": {},
     "output_type": "execute_result"
    }
   ],
   "source": [
    "# % is modulous operator in python\n",
    "a = 10\n",
    "b = 100\n",
    "(a/b)*100"
   ]
  },
  {
   "cell_type": "code",
   "execution_count": 124,
   "id": "7e5dd75c",
   "metadata": {
    "ExecuteTime": {
     "end_time": "2023-01-02T10:40:30.144298Z",
     "start_time": "2023-01-02T10:40:30.105155Z"
    }
   },
   "outputs": [
    {
     "data": {
      "text/plain": [
       "'JoinIntellipat training courseFunction'"
      ]
     },
     "execution_count": 124,
     "metadata": {},
     "output_type": "execute_result"
    }
   ],
   "source": [
    "# Joina and concatnation\n",
    "string = \"Intellipat training course\"\n",
    "\n",
    "a = \"Join\"\n",
    "b= \"Function\"\n",
    "\n",
    "string.join([a,b])"
   ]
  },
  {
   "cell_type": "code",
   "execution_count": 125,
   "id": "00018c71",
   "metadata": {
    "ExecuteTime": {
     "end_time": "2023-01-02T10:40:36.277751Z",
     "start_time": "2023-01-02T10:40:36.246483Z"
    }
   },
   "outputs": [
    {
     "data": {
      "text/plain": [
       "'Concat function'"
      ]
     },
     "execution_count": 125,
     "metadata": {},
     "output_type": "execute_result"
    }
   ],
   "source": [
    "a = \"Concat\"\n",
    "b = \"function\"\n",
    "a+\" \"+b"
   ]
  },
  {
   "cell_type": "code",
   "execution_count": 126,
   "id": "2075c43a",
   "metadata": {
    "ExecuteTime": {
     "end_time": "2023-01-02T10:40:43.226705Z",
     "start_time": "2023-01-02T10:40:43.176159Z"
    }
   },
   "outputs": [
    {
     "data": {
      "text/plain": [
       "15"
      ]
     },
     "execution_count": 126,
     "metadata": {},
     "output_type": "execute_result"
    }
   ],
   "source": [
    "10+5"
   ]
  },
  {
   "cell_type": "code",
   "execution_count": 128,
   "id": "74f70f51",
   "metadata": {
    "ExecuteTime": {
     "end_time": "2023-01-02T10:41:05.968037Z",
     "start_time": "2023-01-02T10:41:05.952442Z"
    }
   },
   "outputs": [
    {
     "data": {
      "text/plain": [
       "(3, 'Training')"
      ]
     },
     "execution_count": 128,
     "metadata": {},
     "output_type": "execute_result"
    }
   ],
   "source": [
    "# use of popitem() method\n",
    "\n",
    "dict1 = {1 : \"Intellipat\" , 2 : \"Python\" , 3 : \"Training\"}\n",
    "#dictionary = {key : value, key : value, ......}\n",
    "\n",
    "dict1.popitem()"
   ]
  },
  {
   "cell_type": "code",
   "execution_count": 129,
   "id": "59356659",
   "metadata": {
    "ExecuteTime": {
     "end_time": "2023-01-02T10:41:28.059988Z",
     "start_time": "2023-01-02T10:41:27.997626Z"
    }
   },
   "outputs": [
    {
     "name": "stdout",
     "output_type": "stream",
     "text": [
      "{1: 'Intellipat', 2: 'Python'}\n"
     ]
    }
   ],
   "source": [
    "print(dict1)"
   ]
  },
  {
   "cell_type": "code",
   "execution_count": 130,
   "id": "af56ecec",
   "metadata": {
    "ExecuteTime": {
     "end_time": "2023-01-02T10:41:47.343143Z",
     "start_time": "2023-01-02T10:41:47.305495Z"
    }
   },
   "outputs": [
    {
     "data": {
      "text/plain": [
       "[1, 2, 3, 4]"
      ]
     },
     "execution_count": 130,
     "metadata": {},
     "output_type": "execute_result"
    }
   ],
   "source": [
    "# insert at some specific location in a list\n",
    "lst = [1,2,4]\n",
    "\n",
    "lst.insert(2,3)\n",
    "\n",
    "lst"
   ]
  }
 ],
 "metadata": {
  "kernelspec": {
   "display_name": "Python 3",
   "language": "python",
   "name": "python3"
  },
  "language_info": {
   "codemirror_mode": {
    "name": "ipython",
    "version": 3
   },
   "file_extension": ".py",
   "mimetype": "text/x-python",
   "name": "python",
   "nbconvert_exporter": "python",
   "pygments_lexer": "ipython3",
   "version": "3.8.8"
  },
  "toc": {
   "base_numbering": 1,
   "nav_menu": {},
   "number_sections": true,
   "sideBar": true,
   "skip_h1_title": false,
   "title_cell": "Table of Contents",
   "title_sidebar": "Contents",
   "toc_cell": true,
   "toc_position": {},
   "toc_section_display": true,
   "toc_window_display": true
  }
 },
 "nbformat": 4,
 "nbformat_minor": 5
}
