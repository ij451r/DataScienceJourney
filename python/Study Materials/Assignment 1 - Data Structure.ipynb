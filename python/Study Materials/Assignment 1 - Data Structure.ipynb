{
 "cells": [
  {
   "cell_type": "markdown",
   "id": "a64760b9",
   "metadata": {},
   "source": [
    "# Module 4: Data Structure Assignment"
   ]
  },
  {
   "cell_type": "markdown",
   "id": "b2195215",
   "metadata": {},
   "source": [
    "## Create a list named ‘myList’ that has the following elements: 10, 20, 30, ‘apple’, True, 8.10:\n",
    "1. Now in the ‘myList’, append these values: 30, 40\n",
    "2. After that, reverse the elements of the ‘myList’ and store that in\n",
    "‘reversedList’\n"
   ]
  },
  {
   "cell_type": "code",
   "execution_count": 6,
   "id": "bac3aebc",
   "metadata": {
    "ExecuteTime": {
     "end_time": "2023-09-28T06:57:34.899943Z",
     "start_time": "2023-09-28T06:57:34.887211Z"
    }
   },
   "outputs": [
    {
     "data": {
      "text/plain": [
       "[40, 30, 8.1, True, 'apple', 30, 20, 10]"
      ]
     },
     "execution_count": 6,
     "metadata": {},
     "output_type": "execute_result"
    }
   ],
   "source": [
    "myList= [10,20,30,'apple', True, 8.10]\n",
    "myList.append(30)\n",
    "myList.append(40)\n",
    "myList[::-1]"
   ]
  },
  {
   "cell_type": "markdown",
   "id": "94c00d5c",
   "metadata": {},
   "source": [
    "## Create a dictionary with key values as 1, 2, 3 and the values as ‘data’, ‘information’ and ‘text’:\n",
    "1. After that, eliminate the ‘text’ value from the dictionary\n",
    "2. Add ‘features’ in the dictionary\n",
    "3. Fetch the ‘data’ element from the dictionary and display it in the output\n"
   ]
  },
  {
   "cell_type": "code",
   "execution_count": 18,
   "id": "8420c70a",
   "metadata": {
    "ExecuteTime": {
     "end_time": "2023-09-28T07:10:23.546038Z",
     "start_time": "2023-09-28T07:10:23.526557Z"
    }
   },
   "outputs": [
    {
     "name": "stdout",
     "output_type": "stream",
     "text": [
      "Modified Dictionary: {1: 'data', 3: 'text'}\n",
      "'Data' element: 1:data\n"
     ]
    }
   ],
   "source": [
    "Dict = {\n",
    "    1:'data',\n",
    "    2:'information',\n",
    "    3:'text',\n",
    "}\n",
    "if 'text' in Dict.values():\n",
    "    del Dict[list(Dict.keys())[list(Dict.values()).index('information')]]\n",
    "print(f\"Modified Dictionary: {Dict}\")\n",
    "Dict[4]='features'\n",
    "print(f\"'Data' element: {list(Dict.keys())[list(Dict.values()).index('data')]}:{Dict[list(Dict.keys())[list(Dict.values()).index('data')]]}\")"
   ]
  },
  {
   "cell_type": "markdown",
   "id": "71c3de1a",
   "metadata": {},
   "source": [
    "## Create a tuple and add these elements 1, 2, 3, apple, mango in my_tuple."
   ]
  },
  {
   "cell_type": "code",
   "execution_count": 20,
   "id": "1c857893",
   "metadata": {
    "ExecuteTime": {
     "end_time": "2023-09-28T07:11:30.827246Z",
     "start_time": "2023-09-28T07:11:30.809515Z"
    }
   },
   "outputs": [
    {
     "name": "stdout",
     "output_type": "stream",
     "text": [
      "(1, 2, 3, 'apple', 'mango')\n"
     ]
    }
   ],
   "source": [
    "my_tuple = (1,2,3,'apple','mango')\n",
    "print(my_tuple)"
   ]
  },
  {
   "cell_type": "markdown",
   "id": "173fb6f0",
   "metadata": {},
   "source": [
    "## Create another tuple named numeric_tuple consisting of only integer values 10, 20, 30, 40, 50:\n",
    "1. Find the minimum value from the numeric_tuple\n",
    "2. Concatenate my_tuple with numeric_tuple and store the result in r1\n",
    "3. Duplicate the tuple named my_tuple 2 times and store that in ‘newdupli’\n"
   ]
  },
  {
   "cell_type": "code",
   "execution_count": 23,
   "id": "dad617d3",
   "metadata": {
    "ExecuteTime": {
     "end_time": "2023-09-28T07:13:47.480137Z",
     "start_time": "2023-09-28T07:13:47.475501Z"
    }
   },
   "outputs": [
    {
     "name": "stdout",
     "output_type": "stream",
     "text": [
      "min = 10\n",
      "r1 = (1, 2, 3, 'apple', 'mango', 10, 20, 30, 40, 50)\n",
      "newdupli = (1, 2, 3, 'apple', 'mango', 1, 2, 3, 'apple', 'mango')\n"
     ]
    }
   ],
   "source": [
    "numeric_tuple = (10,20,30,40,50)\n",
    "print(f\"min = {min(numeric_tuple)}\")\n",
    "r1 = my_tuple+numeric_tuple\n",
    "print(f\"r1 = {r1}\")\n",
    "newdupli = 2*my_tuple\n",
    "print(f\"newdupli = {newdupli}\")"
   ]
  },
  {
   "cell_type": "markdown",
   "id": "40dff2b8",
   "metadata": {},
   "source": [
    "## Create 2 sets with the names set1 and set2, where set1 contains {1,2,3,4,5} and set2 contains {2,3,7,6,1} Perform the below operation:\n",
    "1. set1 union set2\n",
    "2. set1 intersection set2\n",
    "3. set1 difference set2\n"
   ]
  },
  {
   "cell_type": "code",
   "execution_count": 28,
   "id": "011e5fa5",
   "metadata": {
    "ExecuteTime": {
     "end_time": "2023-09-28T07:16:04.414154Z",
     "start_time": "2023-09-28T07:16:04.390781Z"
    }
   },
   "outputs": [
    {
     "name": "stdout",
     "output_type": "stream",
     "text": [
      "set1 union set2 = {1, 2, 3, 4, 5, 6, 7}\n",
      "set1 intersection set2 = {1, 2, 3}\n",
      "set1 difference set2 = {4, 5}\n",
      "set2 difference set1 = {6, 7}\n"
     ]
    }
   ],
   "source": [
    "set1 = {1,2,3,4,5}\n",
    "set2 = {2,3,7,6,1}\n",
    "\n",
    "print(f\"set1 union set2 = {set1.union(set2)}\")\n",
    "print(f\"set1 intersection set2 = {set1.intersection(set2)}\")\n",
    "print(f\"set1 difference set2 = {set1.difference(set2)}\")\n",
    "print(f\"set2 difference set1 = {set2.difference(set1)}\")"
   ]
  }
 ],
 "metadata": {
  "kernelspec": {
   "display_name": "Python 3 (ipykernel)",
   "language": "python",
   "name": "python3"
  },
  "language_info": {
   "codemirror_mode": {
    "name": "ipython",
    "version": 3
   },
   "file_extension": ".py",
   "mimetype": "text/x-python",
   "name": "python",
   "nbconvert_exporter": "python",
   "pygments_lexer": "ipython3",
   "version": "3.8.10"
  },
  "toc": {
   "base_numbering": 1,
   "nav_menu": {},
   "number_sections": true,
   "sideBar": true,
   "skip_h1_title": false,
   "title_cell": "Table of Contents",
   "title_sidebar": "Contents",
   "toc_cell": false,
   "toc_position": {},
   "toc_section_display": true,
   "toc_window_display": false
  },
  "varInspector": {
   "cols": {
    "lenName": 16,
    "lenType": 16,
    "lenVar": 40
   },
   "kernels_config": {
    "python": {
     "delete_cmd_postfix": "",
     "delete_cmd_prefix": "del ",
     "library": "var_list.py",
     "varRefreshCmd": "print(var_dic_list())"
    },
    "r": {
     "delete_cmd_postfix": ") ",
     "delete_cmd_prefix": "rm(",
     "library": "var_list.r",
     "varRefreshCmd": "cat(var_dic_list()) "
    }
   },
   "types_to_exclude": [
    "module",
    "function",
    "builtin_function_or_method",
    "instance",
    "_Feature"
   ],
   "window_display": false
  }
 },
 "nbformat": 4,
 "nbformat_minor": 5
}
