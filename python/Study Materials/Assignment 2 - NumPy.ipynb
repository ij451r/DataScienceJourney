{
 "cells": [
  {
   "cell_type": "markdown",
   "id": "14753078",
   "metadata": {},
   "source": [
    "# Assignment 2 - NumPy"
   ]
  },
  {
   "cell_type": "code",
   "execution_count": 1,
   "id": "14f38a39",
   "metadata": {
    "ExecuteTime": {
     "end_time": "2023-09-28T07:19:31.855539Z",
     "start_time": "2023-09-28T07:19:31.852415Z"
    }
   },
   "outputs": [],
   "source": [
    "import numpy as np"
   ]
  },
  {
   "cell_type": "markdown",
   "id": "246b536f",
   "metadata": {},
   "source": [
    "## Create a 3x3 matrix array with values ranging from 2 to 10.\n"
   ]
  },
  {
   "cell_type": "code",
   "execution_count": 12,
   "id": "dd525bb6",
   "metadata": {
    "ExecuteTime": {
     "end_time": "2023-09-28T07:22:48.671066Z",
     "start_time": "2023-09-28T07:22:48.665101Z"
    }
   },
   "outputs": [
    {
     "data": {
      "text/plain": [
       "array([[ 2,  3,  4],\n",
       "       [ 5,  6,  7],\n",
       "       [ 8,  9, 10]])"
      ]
     },
     "execution_count": 12,
     "metadata": {},
     "output_type": "execute_result"
    }
   ],
   "source": [
    "array = np.arange(2,11)\n",
    "array = array.reshape(3,3)\n",
    "array"
   ]
  },
  {
   "cell_type": "markdown",
   "id": "232581d0",
   "metadata": {},
   "source": [
    "## Create a NumPy array having user input values and convert the integer type to the float type of the elements of the array. For instance: Original array [1, 2, 3, 4] Array converted to a float type: [ 1. 2. 3. 4.]\n"
   ]
  },
  {
   "cell_type": "code",
   "execution_count": 25,
   "id": "5d8bbb0e",
   "metadata": {
    "ExecuteTime": {
     "end_time": "2023-09-28T08:12:05.965374Z",
     "start_time": "2023-09-28T08:11:56.493836Z"
    }
   },
   "outputs": [
    {
     "name": "stdout",
     "output_type": "stream",
     "text": [
      "Enter numbers with space ' ' separation\n",
      "1 2 3 4f 5 6 h\n",
      "numpy array = [1 2 3 5 6]\n",
      "numpy array = [1. 2. 3. 5. 6.]\n"
     ]
    }
   ],
   "source": [
    "nos = input('Enter numbers with space \\' \\' separation\\n')\n",
    "vals = list(map(int, filter(lambda x: x.isdigit(), nos.split(' '))))\n",
    "arr = np.array(vals)\n",
    "print(f\"numpy array = {arr}\")\n",
    "arr = arr.astype('float64')\n",
    "print(f\"numpy array = {arr}\")"
   ]
  },
  {
   "cell_type": "markdown",
   "id": "394a21c8",
   "metadata": {},
   "source": [
    "## Write a NumPy program to append values to the end of an array. For instance: Original array: [10, 20, 30] . After that, append values to the end of the array: [10 20 30 40 50 60 70 80 90]\n"
   ]
  },
  {
   "cell_type": "code",
   "execution_count": 26,
   "id": "bb043b06",
   "metadata": {
    "ExecuteTime": {
     "end_time": "2023-09-28T08:14:01.215731Z",
     "start_time": "2023-09-28T08:14:01.192264Z"
    }
   },
   "outputs": [
    {
     "name": "stdout",
     "output_type": "stream",
     "text": [
      "myarr = [10 20 30]\n",
      "myarr = [10 20 30 40 50 60 70 80 90]\n"
     ]
    }
   ],
   "source": [
    "myarr = np.array([10,20,30])\n",
    "print(f\"myarr = {myarr}\")\n",
    "myarr = np.append(myarr, [40,50,60,70,80,90])\n",
    "print(f\"myarr = {myarr}\")"
   ]
  },
  {
   "cell_type": "markdown",
   "id": "dee34164",
   "metadata": {},
   "source": [
    "## Create two NumPy arrays and add the elements of both the arrays and store the result in sumArray.\n"
   ]
  },
  {
   "cell_type": "code",
   "execution_count": 28,
   "id": "e2fa5493",
   "metadata": {
    "ExecuteTime": {
     "end_time": "2023-09-28T08:15:07.947302Z",
     "start_time": "2023-09-28T08:15:07.891476Z"
    }
   },
   "outputs": [
    {
     "name": "stdout",
     "output_type": "stream",
     "text": [
      "[17 19 21 23 25 27 29 31 33 35 37 39 41 43]\n"
     ]
    }
   ],
   "source": [
    "arr1 = np.arange(1,15)\n",
    "arr2 = np.arange(16,30)\n",
    "sumArray = arr1 + arr2\n",
    "print(sumArray)"
   ]
  },
  {
   "cell_type": "markdown",
   "id": "eac9394a",
   "metadata": {},
   "source": [
    "## Create a 3x3 array having values from 10-90 (interval of 10) and store that in array1\n",
    "Perform the following tasks:\n",
    "1. Extract the 1st row from the array\n",
    "2. Extract the last element from the array"
   ]
  },
  {
   "cell_type": "code",
   "execution_count": 32,
   "id": "779560f3",
   "metadata": {
    "ExecuteTime": {
     "end_time": "2023-09-28T08:17:29.630102Z",
     "start_time": "2023-09-28T08:17:29.611676Z"
    }
   },
   "outputs": [
    {
     "name": "stdout",
     "output_type": "stream",
     "text": [
      "1st row = [2 3 4]\n",
      "last element =  10\n"
     ]
    }
   ],
   "source": [
    "array1 = np.arange(10,91,10).reshape(3,3)\n",
    "print(f\"1st row = {array[0]}\\nlast element =  {array[len(array)-1][len(array)-1]}\")"
   ]
  }
 ],
 "metadata": {
  "kernelspec": {
   "display_name": "Python 3 (ipykernel)",
   "language": "python",
   "name": "python3"
  },
  "language_info": {
   "codemirror_mode": {
    "name": "ipython",
    "version": 3
   },
   "file_extension": ".py",
   "mimetype": "text/x-python",
   "name": "python",
   "nbconvert_exporter": "python",
   "pygments_lexer": "ipython3",
   "version": "3.8.10"
  },
  "toc": {
   "base_numbering": 1,
   "nav_menu": {},
   "number_sections": true,
   "sideBar": true,
   "skip_h1_title": false,
   "title_cell": "Table of Contents",
   "title_sidebar": "Contents",
   "toc_cell": false,
   "toc_position": {},
   "toc_section_display": true,
   "toc_window_display": false
  },
  "varInspector": {
   "cols": {
    "lenName": 16,
    "lenType": 16,
    "lenVar": 40
   },
   "kernels_config": {
    "python": {
     "delete_cmd_postfix": "",
     "delete_cmd_prefix": "del ",
     "library": "var_list.py",
     "varRefreshCmd": "print(var_dic_list())"
    },
    "r": {
     "delete_cmd_postfix": ") ",
     "delete_cmd_prefix": "rm(",
     "library": "var_list.r",
     "varRefreshCmd": "cat(var_dic_list()) "
    }
   },
   "types_to_exclude": [
    "module",
    "function",
    "builtin_function_or_method",
    "instance",
    "_Feature"
   ],
   "window_display": false
  }
 },
 "nbformat": 4,
 "nbformat_minor": 5
}
