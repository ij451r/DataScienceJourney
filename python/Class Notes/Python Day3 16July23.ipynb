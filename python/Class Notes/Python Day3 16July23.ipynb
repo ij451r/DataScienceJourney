{
 "cells": [
  {
   "cell_type": "markdown",
   "id": "f659f66a",
   "metadata": {},
   "source": [
    "# Doubts of Day2"
   ]
  },
  {
   "cell_type": "markdown",
   "id": "a47675c3",
   "metadata": {
    "ExecuteTime": {
     "end_time": "2023-07-16T12:29:30.420385Z",
     "start_time": "2023-07-16T12:29:30.398710Z"
    }
   },
   "source": [
    "## Dictionaries"
   ]
  },
  {
   "cell_type": "markdown",
   "id": "e1283484",
   "metadata": {},
   "source": [
    "In Python, there are different data structures to represent ordered and unordered data sets. Here are a few examples:\n",
    "\n",
    "Ordered Data Sets:\n",
    "\n",
    "List: A list is an ordered collection of elements. Elements can be accessed by their index, and the order of elements is maintained.\n",
    "\n",
    "Tuple: Similar to a list, a tuple is an ordered collection, but it is immutable, meaning its elements cannot be changed after creation.\n",
    "\n",
    "String: A string is an ordered sequence of characters. Each character has a specific position within the string.\n",
    "\n",
    "Unordered Data Sets:\n",
    "\n",
    "Set: A set is an unordered collection of unique elements. It does not maintain any specific order, and duplicate elements are automatically removed.\n",
    "\n",
    "Dictionary: A dictionary is an unordered collection of key-value pairs. It allows you to access values by their associated keys, but the order of insertion is not preserved.\n",
    "\n",
    "These data structures serve different purposes based on the requirements of your program."
   ]
  },
  {
   "cell_type": "code",
   "execution_count": 3,
   "id": "26be0940",
   "metadata": {
    "ExecuteTime": {
     "end_time": "2023-07-16T12:22:29.919004Z",
     "start_time": "2023-07-16T12:22:29.890436Z"
    }
   },
   "outputs": [
    {
     "name": "stdout",
     "output_type": "stream",
     "text": [
      "OrderedDict([('a', 1), ('b', 2), ('c', 3)])\n"
     ]
    }
   ],
   "source": [
    "from collections import OrderedDict\n",
    "\n",
    "# Create an ordered dictionary\n",
    "ordered_dict = OrderedDict()\n",
    "\n",
    "# Add key-value pairs\n",
    "ordered_dict['a'] = 1\n",
    "ordered_dict['b'] = 2\n",
    "ordered_dict['c'] = 3\n",
    "\n",
    "# Print the ordered dictionary\n",
    "print(ordered_dict)\n"
   ]
  },
  {
   "cell_type": "markdown",
   "id": "f36dd009",
   "metadata": {},
   "source": [
    "In Python, dictionaries are inherently unordered data structures. However, starting from Python 3.7, the regular dict type maintains the insertion order of elements by default. Therefore, you can use a standard dictionary to showcase an unordered data set. Here's an example:"
   ]
  },
  {
   "cell_type": "code",
   "execution_count": 4,
   "id": "62d8205b",
   "metadata": {
    "ExecuteTime": {
     "end_time": "2023-07-16T12:23:28.483031Z",
     "start_time": "2023-07-16T12:23:28.458425Z"
    }
   },
   "outputs": [
    {
     "name": "stdout",
     "output_type": "stream",
     "text": [
      "{'b': 2, 'c': 3, 'a': 1}\n"
     ]
    }
   ],
   "source": [
    "# Create an unordered dictionary\n",
    "unordered_dict = {'b': 2, 'c': 3, 'a': 1}\n",
    "\n",
    "# Print the unordered dictionary\n",
    "print(unordered_dict)"
   ]
  },
  {
   "cell_type": "markdown",
   "id": "59932d7e",
   "metadata": {},
   "source": [
    "Although the elements in the dictionary are printed in a specific order, it's important to note that this order is not guaranteed and may vary between different runs or Python versions. To emphasize unordered nature, you can demonstrate scenarios where the order of elements changes when iterating over the dictionary multiple times or after performing certain operations."
   ]
  },
  {
   "cell_type": "markdown",
   "id": "784f4d04",
   "metadata": {},
   "source": [
    "Why Python made dictionaries ordered in Python 3.7"
   ]
  },
  {
   "cell_type": "markdown",
   "id": "4656e263",
   "metadata": {
    "ExecuteTime": {
     "end_time": "2023-07-16T12:17:11.259280Z",
     "start_time": "2023-07-16T12:17:11.234486Z"
    }
   },
   "source": [
    "In Python 3.7, the dictionaries were made ordered by default as an implementation detail. This change was not specifically intended to make dictionaries ordered, but rather it was a side effect of a new implementation of dictionaries called \"compact dictionary\" or \"compact string array.\"\n",
    "\n",
    "The main motivation behind the change was to reduce the memory consumption of dictionaries and improve their overall performance. The compact dictionary implementation uses a more compact memory layout, which also happened to preserve the insertion order of elements. This means that the order in which items are inserted into the dictionary is retained when iterating over the dictionary or performing other operations.\n",
    "\n",
    "The decision to maintain the insertion order in dictionaries was primarily a consequence of the internal changes made to optimize dictionaries rather than a deliberate design choice. It's worth noting that the guarantee of insertion order was added to the language specification starting from Python 3.7, which means it is now an expected behavior for dictionaries in Python 3.7 and later versions."
   ]
  },
  {
   "cell_type": "markdown",
   "id": "8ddb9057",
   "metadata": {},
   "source": [
    "In Python, dictionaries are inherently unordered data structures. However, starting from Python 3.7, the regular dict type maintains the insertion order of elements by default. Therefore, you can use a standard dictionary to showcase an unordered data set. Here's an example:"
   ]
  },
  {
   "cell_type": "markdown",
   "id": "752d84f3",
   "metadata": {},
   "source": [
    "In Python dictionaries, duplicate keys are not allowed. When you attempt to add a key-value pair to a dictionary using a key that already exists, the new value will replace the existing value associated with that key.\n",
    "\n",
    "Here's an example to illustrate how Python dictionaries handle duplicate keys:"
   ]
  },
  {
   "cell_type": "code",
   "execution_count": 2,
   "id": "9b8ecfb5",
   "metadata": {
    "ExecuteTime": {
     "end_time": "2023-07-16T12:18:26.494676Z",
     "start_time": "2023-07-16T12:18:26.461208Z"
    }
   },
   "outputs": [
    {
     "name": "stdout",
     "output_type": "stream",
     "text": [
      "{'key1': 'new_value', 'key2': 'value2'}\n"
     ]
    }
   ],
   "source": [
    "my_dict = {'key1': 'value1', 'key2': 'value2'}\n",
    "\n",
    "# Adding a new key-value pair\n",
    "my_dict['key1'] = 'new_value'\n",
    "\n",
    "# Printing the dictionary\n",
    "print(my_dict)"
   ]
  },
  {
   "cell_type": "code",
   "execution_count": 2,
   "id": "4a7d32f8",
   "metadata": {
    "ExecuteTime": {
     "end_time": "2023-07-16T14:54:57.539890Z",
     "start_time": "2023-07-16T14:54:57.456382Z"
    }
   },
   "outputs": [
    {
     "name": "stdout",
     "output_type": "stream",
     "text": [
      "{'key1': 'new_value', 'key2': 'value2'}\n"
     ]
    }
   ],
   "source": [
    "my_dict = {'key1': 'value1', 'key2': 'value2','key1': 'new_value'}\n",
    "\n",
    "print(my_dict)\n"
   ]
  },
  {
   "cell_type": "markdown",
   "id": "7ec91ff2",
   "metadata": {},
   "source": [
    "## How to install Nb Extensions"
   ]
  },
  {
   "cell_type": "markdown",
   "id": "adeced88",
   "metadata": {},
   "source": [
    "- Go to  Anaconda navigator \n",
    "- Go to environments (below HOME) \n",
    "- Select base \n",
    "- open terminal then paste below code\n",
    "- conda install -c conda-forge jupyter_contrib_nbextensionsthenjupyter \n",
    "- contrib nbextension install –user\n",
    "- Launch application\n",
    "- Then paste below code if above didn’t worked\n",
    "- conda install -c conda-forge/label/cf202003 jupyter_contrib_nbextensions\n",
    "- Refresh application    \n",
    "- Launch Notebook and check Nb Extension"
   ]
  },
  {
   "attachments": {
    "image.png": {
     "image/png": "[encoded data removed]"
    }
   },
   "cell_type": "markdown",
   "id": "23524889",
   "metadata": {},
   "source": [
    "![image.png](attachment:image.png)"
   ]
  },
  {
   "cell_type": "markdown",
   "id": "48d26e9c",
   "metadata": {},
   "source": [
    "## datetime.datetime(2023, 5, 17, 0, 0) is out put how can we get out put as 14th july 2023"
   ]
  },
  {
   "cell_type": "code",
   "execution_count": null,
   "id": "0cc6b798",
   "metadata": {},
   "outputs": [],
   "source": []
  },
  {
   "cell_type": "markdown",
   "id": "1e15c293",
   "metadata": {},
   "source": [
    "## Write your own split function for strings"
   ]
  },
  {
   "cell_type": "code",
   "execution_count": null,
   "id": "6c0c96c5",
   "metadata": {},
   "outputs": [],
   "source": []
  },
  {
   "cell_type": "markdown",
   "id": "981da6c6",
   "metadata": {},
   "source": [
    "# Conditional Statements"
   ]
  },
  {
   "cell_type": "code",
   "execution_count": 3,
   "id": "762b2ed2",
   "metadata": {
    "ExecuteTime": {
     "end_time": "2023-07-16T15:06:40.706061Z",
     "start_time": "2023-07-16T15:06:40.688102Z"
    }
   },
   "outputs": [
    {
     "name": "stdout",
     "output_type": "stream",
     "text": [
      "Hello\n"
     ]
    }
   ],
   "source": [
    "a = 10\n",
    "if a >= 10:\n",
    "    print(\"Hello\")\n",
    "    "
   ]
  },
  {
   "cell_type": "code",
   "execution_count": 4,
   "id": "ffe6ae65",
   "metadata": {
    "ExecuteTime": {
     "end_time": "2023-07-16T15:08:14.771574Z",
     "start_time": "2023-07-16T15:08:14.758548Z"
    }
   },
   "outputs": [],
   "source": [
    "a = 10\n",
    "if a > 10:\n",
    "    print(\"Hello\")\n",
    "    "
   ]
  },
  {
   "cell_type": "code",
   "execution_count": 5,
   "id": "2a432e9d",
   "metadata": {
    "ExecuteTime": {
     "end_time": "2023-07-16T15:09:04.388498Z",
     "start_time": "2023-07-16T15:09:04.357755Z"
    }
   },
   "outputs": [
    {
     "name": "stdout",
     "output_type": "stream",
     "text": [
      "Hello\n"
     ]
    }
   ],
   "source": [
    "a = 10\n",
    "if a >= 10:\n",
    "    print(\"Hello\")\n",
    "else:\n",
    "    print(\"Bye\")"
   ]
  },
  {
   "cell_type": "code",
   "execution_count": 6,
   "id": "5592e9d9",
   "metadata": {
    "ExecuteTime": {
     "end_time": "2023-07-16T15:11:35.956865Z",
     "start_time": "2023-07-16T15:11:35.928401Z"
    }
   },
   "outputs": [
    {
     "name": "stdout",
     "output_type": "stream",
     "text": [
      "Hello\n"
     ]
    }
   ],
   "source": [
    "a = 5\n",
    "\n",
    "if a == 10:\n",
    "    print(\"Hi\")\n",
    "elif a < 6:\n",
    "    print(\"Hello\")\n",
    "elif a == 5:\n",
    "    print(\"Welcome\")\n",
    "else:\n",
    "    print(\"Incorrect\")"
   ]
  },
  {
   "cell_type": "markdown",
   "id": "b8961d79",
   "metadata": {},
   "source": [
    "### Nested if else"
   ]
  },
  {
   "cell_type": "code",
   "execution_count": 11,
   "id": "8e1a7f48",
   "metadata": {
    "ExecuteTime": {
     "end_time": "2023-07-16T15:16:35.205721Z",
     "start_time": "2023-07-16T15:16:35.194363Z"
    }
   },
   "outputs": [
    {
     "name": "stdout",
     "output_type": "stream",
     "text": [
      "1\n",
      "3\n"
     ]
    }
   ],
   "source": [
    "a = 7\n",
    "\n",
    "if a > 4:\n",
    "    print(1)\n",
    "    if a == 5:\n",
    "        print(2)\n",
    "    else:\n",
    "        print(3)\n",
    "else:\n",
    "    print(4)"
   ]
  },
  {
   "cell_type": "markdown",
   "id": "f0c03ee5",
   "metadata": {},
   "source": [
    "### Short form"
   ]
  },
  {
   "cell_type": "code",
   "execution_count": 8,
   "id": "d376e38c",
   "metadata": {
    "ExecuteTime": {
     "end_time": "2023-07-16T15:15:49.022849Z",
     "start_time": "2023-07-16T15:15:48.992502Z"
    }
   },
   "outputs": [
    {
     "name": "stdout",
     "output_type": "stream",
     "text": [
      "login\n"
     ]
    }
   ],
   "source": [
    "status = 1\n",
    "msg = 'login' if status == 1 else 'logout'\n",
    "\n",
    "print(msg)"
   ]
  },
  {
   "cell_type": "markdown",
   "id": "fab731a3",
   "metadata": {},
   "source": [
    "### enter a character from user and check if it is a vowel or not"
   ]
  },
  {
   "cell_type": "code",
   "execution_count": 12,
   "id": "91128dd2",
   "metadata": {
    "ExecuteTime": {
     "end_time": "2023-07-16T15:19:04.777442Z",
     "start_time": "2023-07-16T15:18:59.722970Z"
    }
   },
   "outputs": [
    {
     "name": "stdout",
     "output_type": "stream",
     "text": [
      "1\n"
     ]
    }
   ],
   "source": [
    "n1 = input()"
   ]
  },
  {
   "cell_type": "code",
   "execution_count": 13,
   "id": "33ce588d",
   "metadata": {
    "ExecuteTime": {
     "end_time": "2023-07-16T15:19:14.205815Z",
     "start_time": "2023-07-16T15:19:14.168939Z"
    }
   },
   "outputs": [
    {
     "data": {
      "text/plain": [
       "str"
      ]
     },
     "execution_count": 13,
     "metadata": {},
     "output_type": "execute_result"
    }
   ],
   "source": [
    "type(n1)"
   ]
  },
  {
   "cell_type": "code",
   "execution_count": 16,
   "id": "e8d7655e",
   "metadata": {
    "ExecuteTime": {
     "end_time": "2023-07-16T15:20:32.638363Z",
     "start_time": "2023-07-16T15:20:31.193407Z"
    }
   },
   "outputs": [
    {
     "name": "stdout",
     "output_type": "stream",
     "text": [
      "23\n"
     ]
    }
   ],
   "source": [
    "n2 = int(input())\n"
   ]
  },
  {
   "cell_type": "code",
   "execution_count": 17,
   "id": "d0b63b17",
   "metadata": {
    "ExecuteTime": {
     "end_time": "2023-07-16T15:20:38.682235Z",
     "start_time": "2023-07-16T15:20:38.662692Z"
    }
   },
   "outputs": [
    {
     "data": {
      "text/plain": [
       "int"
      ]
     },
     "execution_count": 17,
     "metadata": {},
     "output_type": "execute_result"
    }
   ],
   "source": [
    "type(n2)"
   ]
  },
  {
   "cell_type": "code",
   "execution_count": 20,
   "id": "8df6dbf3",
   "metadata": {
    "ExecuteTime": {
     "end_time": "2023-07-16T15:27:42.260237Z",
     "start_time": "2023-07-16T15:27:38.137584Z"
    }
   },
   "outputs": [
    {
     "name": "stdout",
     "output_type": "stream",
     "text": [
      "ae\n",
      "consonant\n"
     ]
    }
   ],
   "source": [
    "n = input()\n",
    "\n",
    "if n == 'a' or n == 'e' or n == 'i' or n == 'o' or n == 'u':\n",
    "    print('vowel')\n",
    "else:\n",
    "    print('consonant')"
   ]
  },
  {
   "cell_type": "code",
   "execution_count": 21,
   "id": "4d3e60dc",
   "metadata": {
    "ExecuteTime": {
     "end_time": "2023-07-16T15:31:01.623423Z",
     "start_time": "2023-07-16T15:30:59.216349Z"
    }
   },
   "outputs": [
    {
     "name": "stdout",
     "output_type": "stream",
     "text": [
      "b\n",
      "consonant\n"
     ]
    }
   ],
   "source": [
    "n = input()\n",
    "if n==\"a\" :\n",
    "    print(\"vowel\")\n",
    "else :\n",
    "    print(\"consonant\")\n"
   ]
  },
  {
   "cell_type": "markdown",
   "id": "5f6a2320",
   "metadata": {},
   "source": [
    "## Loops"
   ]
  },
  {
   "cell_type": "markdown",
   "id": "11bd0ecc",
   "metadata": {},
   "source": [
    "### Range"
   ]
  },
  {
   "cell_type": "code",
   "execution_count": 26,
   "id": "4e1a6301",
   "metadata": {
    "ExecuteTime": {
     "end_time": "2023-07-16T15:40:35.087047Z",
     "start_time": "2023-07-16T15:40:35.041914Z"
    }
   },
   "outputs": [
    {
     "name": "stdout",
     "output_type": "stream",
     "text": [
      "range(0, 10)\n"
     ]
    }
   ],
   "source": [
    "a = range(0,10) #range(start,stop)\n",
    "print(a)"
   ]
  },
  {
   "cell_type": "code",
   "execution_count": 25,
   "id": "552798af",
   "metadata": {
    "ExecuteTime": {
     "end_time": "2023-07-16T15:39:19.247535Z",
     "start_time": "2023-07-16T15:39:19.242035Z"
    }
   },
   "outputs": [
    {
     "name": "stdout",
     "output_type": "stream",
     "text": [
      "1\n",
      "2\n",
      "3\n",
      "4\n",
      "5\n",
      "6\n",
      "7\n",
      "8\n",
      "9\n",
      "10\n"
     ]
    }
   ],
   "source": [
    "for i in range(1,11):\n",
    "    print(i)"
   ]
  },
  {
   "cell_type": "code",
   "execution_count": 27,
   "id": "a22c8878",
   "metadata": {
    "ExecuteTime": {
     "end_time": "2023-07-16T15:41:55.347279Z",
     "start_time": "2023-07-16T15:41:55.331816Z"
    }
   },
   "outputs": [
    {
     "name": "stdout",
     "output_type": "stream",
     "text": [
      "1 2 3 4 5 6 7 8 9 10 "
     ]
    }
   ],
   "source": [
    "for i in range(1,11):\n",
    "    print(i,end=\" \")"
   ]
  },
  {
   "cell_type": "code",
   "execution_count": 28,
   "id": "c8ea3ea3",
   "metadata": {
    "ExecuteTime": {
     "end_time": "2023-07-16T15:42:29.653643Z",
     "start_time": "2023-07-16T15:42:29.641040Z"
    }
   },
   "outputs": [
    {
     "name": "stdout",
     "output_type": "stream",
     "text": [
      "[1, 2, 3, 4, 5, 6, 7, 8, 9, 10]\n"
     ]
    }
   ],
   "source": [
    "new_list = [1,2,3,4,5,6,7,8,9,10]\n",
    "print(new_list)"
   ]
  },
  {
   "cell_type": "code",
   "execution_count": 29,
   "id": "8f9a13d5",
   "metadata": {
    "ExecuteTime": {
     "end_time": "2023-07-16T15:42:47.940177Z",
     "start_time": "2023-07-16T15:42:47.931087Z"
    }
   },
   "outputs": [
    {
     "data": {
      "text/plain": [
       "[1, 2, 3, 4, 5, 6, 7, 8, 9, 10]"
      ]
     },
     "execution_count": 29,
     "metadata": {},
     "output_type": "execute_result"
    }
   ],
   "source": [
    "new_list = list(range(1,11))\n",
    "new_list"
   ]
  },
  {
   "cell_type": "code",
   "execution_count": 33,
   "id": "1092770a",
   "metadata": {
    "ExecuteTime": {
     "end_time": "2023-07-16T15:45:14.302562Z",
     "start_time": "2023-07-16T15:45:14.280265Z"
    }
   },
   "outputs": [
    {
     "data": {
      "text/plain": [
       "range(0, 3)"
      ]
     },
     "execution_count": 33,
     "metadata": {},
     "output_type": "execute_result"
    }
   ],
   "source": [
    "range(3)"
   ]
  },
  {
   "cell_type": "markdown",
   "id": "88c136b2",
   "metadata": {},
   "source": [
    "### IN Operator"
   ]
  },
  {
   "cell_type": "code",
   "execution_count": 30,
   "id": "d3760c6f",
   "metadata": {
    "ExecuteTime": {
     "end_time": "2023-07-16T15:43:43.313145Z",
     "start_time": "2023-07-16T15:43:43.294136Z"
    }
   },
   "outputs": [
    {
     "data": {
      "text/plain": [
       "False"
      ]
     },
     "execution_count": 30,
     "metadata": {},
     "output_type": "execute_result"
    }
   ],
   "source": [
    "\"a\" in \"hello\""
   ]
  },
  {
   "cell_type": "code",
   "execution_count": 31,
   "id": "7926456f",
   "metadata": {
    "ExecuteTime": {
     "end_time": "2023-07-16T15:44:53.489175Z",
     "start_time": "2023-07-16T15:44:53.484674Z"
    }
   },
   "outputs": [
    {
     "data": {
      "text/plain": [
       "True"
      ]
     },
     "execution_count": 31,
     "metadata": {},
     "output_type": "execute_result"
    }
   ],
   "source": [
    "a = 3\n",
    "lst = [1,2,3,4]\n",
    "a in lst"
   ]
  },
  {
   "cell_type": "code",
   "execution_count": 32,
   "id": "d91cf515",
   "metadata": {
    "ExecuteTime": {
     "end_time": "2023-07-16T15:45:05.837683Z",
     "start_time": "2023-07-16T15:45:05.819096Z"
    }
   },
   "outputs": [
    {
     "data": {
      "text/plain": [
       "False"
      ]
     },
     "execution_count": 32,
     "metadata": {},
     "output_type": "execute_result"
    }
   ],
   "source": [
    "3 in range(3)"
   ]
  },
  {
   "cell_type": "markdown",
   "id": "9792ef77",
   "metadata": {},
   "source": [
    "### For Loop"
   ]
  },
  {
   "cell_type": "code",
   "execution_count": 36,
   "id": "7bf488a3",
   "metadata": {
    "ExecuteTime": {
     "end_time": "2023-07-16T15:46:32.487689Z",
     "start_time": "2023-07-16T15:46:32.481709Z"
    }
   },
   "outputs": [],
   "source": [
    "incomes = [1000 , 2000, 3000, 4000]"
   ]
  },
  {
   "cell_type": "code",
   "execution_count": 37,
   "id": "605115f9",
   "metadata": {
    "ExecuteTime": {
     "end_time": "2023-07-16T15:46:35.785356Z",
     "start_time": "2023-07-16T15:46:35.778502Z"
    }
   },
   "outputs": [
    {
     "data": {
      "text/plain": [
       "4"
      ]
     },
     "execution_count": 37,
     "metadata": {},
     "output_type": "execute_result"
    }
   ],
   "source": [
    "len(incomes)"
   ]
  },
  {
   "cell_type": "code",
   "execution_count": 38,
   "id": "84c68bc9",
   "metadata": {
    "ExecuteTime": {
     "end_time": "2023-07-16T15:46:52.770311Z",
     "start_time": "2023-07-16T15:46:52.751058Z"
    }
   },
   "outputs": [
    {
     "name": "stdout",
     "output_type": "stream",
     "text": [
      "1000\n",
      "2000\n",
      "3000\n",
      "4000\n"
     ]
    }
   ],
   "source": [
    "for income in incomes:\n",
    "    print(income)"
   ]
  },
  {
   "cell_type": "code",
   "execution_count": 47,
   "id": "ddf19194",
   "metadata": {
    "ExecuteTime": {
     "end_time": "2023-07-16T15:51:31.220892Z",
     "start_time": "2023-07-16T15:51:31.218312Z"
    }
   },
   "outputs": [],
   "source": [
    "names = ['Prashant' , 'Vishvas' , 'Amit']\n",
    "#           0              1          2"
   ]
  },
  {
   "cell_type": "code",
   "execution_count": 44,
   "id": "6e94799b",
   "metadata": {
    "ExecuteTime": {
     "end_time": "2023-07-16T15:49:45.372457Z",
     "start_time": "2023-07-16T15:49:45.358185Z"
    }
   },
   "outputs": [
    {
     "data": {
      "text/plain": [
       "3"
      ]
     },
     "execution_count": 44,
     "metadata": {},
     "output_type": "execute_result"
    }
   ],
   "source": [
    "len(names)"
   ]
  },
  {
   "cell_type": "code",
   "execution_count": 45,
   "id": "86d68dfd",
   "metadata": {
    "ExecuteTime": {
     "end_time": "2023-07-16T15:49:45.713514Z",
     "start_time": "2023-07-16T15:49:45.703007Z"
    }
   },
   "outputs": [
    {
     "data": {
      "text/plain": [
       "'Prashant'"
      ]
     },
     "execution_count": 45,
     "metadata": {},
     "output_type": "execute_result"
    }
   ],
   "source": [
    "names[0]"
   ]
  },
  {
   "cell_type": "code",
   "execution_count": 48,
   "id": "c6c83cb9",
   "metadata": {
    "ExecuteTime": {
     "end_time": "2023-07-16T15:51:51.177865Z",
     "start_time": "2023-07-16T15:51:51.166709Z"
    }
   },
   "outputs": [
    {
     "data": {
      "text/plain": [
       "'Vishvas'"
      ]
     },
     "execution_count": 48,
     "metadata": {},
     "output_type": "execute_result"
    }
   ],
   "source": [
    "names[1]"
   ]
  },
  {
   "cell_type": "code",
   "execution_count": 49,
   "id": "c6756bff",
   "metadata": {
    "ExecuteTime": {
     "end_time": "2023-07-16T15:52:00.764896Z",
     "start_time": "2023-07-16T15:52:00.753987Z"
    }
   },
   "outputs": [
    {
     "data": {
      "text/plain": [
       "'Amit'"
      ]
     },
     "execution_count": 49,
     "metadata": {},
     "output_type": "execute_result"
    }
   ],
   "source": [
    "names[2]"
   ]
  },
  {
   "cell_type": "code",
   "execution_count": 51,
   "id": "0b756a0e",
   "metadata": {
    "ExecuteTime": {
     "end_time": "2023-07-16T15:52:15.505796Z",
     "start_time": "2023-07-16T15:52:15.492435Z"
    }
   },
   "outputs": [],
   "source": [
    "# names[3]"
   ]
  },
  {
   "cell_type": "code",
   "execution_count": 52,
   "id": "86f25ade",
   "metadata": {
    "ExecuteTime": {
     "end_time": "2023-07-16T15:53:03.962874Z",
     "start_time": "2023-07-16T15:53:03.952336Z"
    }
   },
   "outputs": [
    {
     "name": "stdout",
     "output_type": "stream",
     "text": [
      "0\n",
      "Prashant\n",
      "1\n",
      "Vishvas\n",
      "2\n",
      "Amit\n"
     ]
    }
   ],
   "source": [
    "# rangege(0,3) - 0,1,2\n",
    "\n",
    "for i in range(len(names)):\n",
    "    print(i)\n",
    "    print(names[i])"
   ]
  },
  {
   "cell_type": "code",
   "execution_count": 54,
   "id": "e6cf4841",
   "metadata": {
    "ExecuteTime": {
     "end_time": "2023-07-16T15:54:53.301884Z",
     "start_time": "2023-07-16T15:54:53.295401Z"
    }
   },
   "outputs": [
    {
     "name": "stdout",
     "output_type": "stream",
     "text": [
      "[0, 1, 2, 3, 4, 5, 6, 7, 8, 9, 10, 11, 12, 13, 14, 15, 16, 17]\n"
     ]
    }
   ],
   "source": [
    "lst = list(range(18))\n",
    "print(lst )"
   ]
  },
  {
   "cell_type": "code",
   "execution_count": 55,
   "id": "99fcd323",
   "metadata": {
    "ExecuteTime": {
     "end_time": "2023-07-16T15:57:17.075226Z",
     "start_time": "2023-07-16T15:57:17.061659Z"
    }
   },
   "outputs": [
    {
     "name": "stdout",
     "output_type": "stream",
     "text": [
      "0\n",
      "2\n",
      "4\n",
      "6\n",
      "8\n",
      "10\n",
      "12\n",
      "14\n",
      "16\n"
     ]
    }
   ],
   "source": [
    "# - iterate through the list \n",
    "# - check if that number is even or not\n",
    "# - if even then print that number else dont\n",
    "for i in lst:\n",
    "    if i % 2 == 0:\n",
    "        print(i)"
   ]
  },
  {
   "cell_type": "code",
   "execution_count": null,
   "id": "b236a57a",
   "metadata": {},
   "outputs": [],
   "source": [
    "print below pattern\n",
    "*\n",
    "* *\n",
    "* * *\n",
    "* * * *\n",
    "* * * * *\n",
    "* * * * * *"
   ]
  },
  {
   "cell_type": "code",
   "execution_count": 56,
   "id": "851f3b24",
   "metadata": {
    "ExecuteTime": {
     "end_time": "2023-07-16T16:00:47.590424Z",
     "start_time": "2023-07-16T16:00:47.566763Z"
    }
   },
   "outputs": [
    {
     "name": "stdout",
     "output_type": "stream",
     "text": [
      "*\n",
      "* *\n",
      "* * *\n",
      "* * * *\n",
      "* * * * *\n",
      "* * * * * *\n"
     ]
    }
   ],
   "source": [
    "for i in range(1,7):\n",
    "    ls = ['*']*i\n",
    "    print(*ls)"
   ]
  },
  {
   "cell_type": "markdown",
   "id": "668565d3",
   "metadata": {},
   "source": [
    "### Iterations in Strings"
   ]
  },
  {
   "cell_type": "code",
   "execution_count": 59,
   "id": "a86a42f9",
   "metadata": {
    "ExecuteTime": {
     "end_time": "2023-07-16T16:16:27.504250Z",
     "start_time": "2023-07-16T16:16:27.486128Z"
    }
   },
   "outputs": [
    {
     "name": "stdout",
     "output_type": "stream",
     "text": [
      "p y t h o n "
     ]
    }
   ],
   "source": [
    "s1 = 'python'\n",
    "\n",
    "for i in s1:\n",
    "    print(i, end=\" \")"
   ]
  },
  {
   "cell_type": "code",
   "execution_count": 60,
   "id": "3a3b82c3",
   "metadata": {
    "ExecuteTime": {
     "end_time": "2023-07-16T16:17:04.338891Z",
     "start_time": "2023-07-16T16:17:04.324248Z"
    }
   },
   "outputs": [
    {
     "name": "stdout",
     "output_type": "stream",
     "text": [
      "pppp\n",
      "yyyy\n",
      "tttt\n",
      "hhhh\n",
      "oooo\n",
      "nnnn\n"
     ]
    }
   ],
   "source": [
    "for j in s1:\n",
    "    print(j * 4)"
   ]
  },
  {
   "cell_type": "markdown",
   "id": "d244cad7",
   "metadata": {},
   "source": [
    "### iterate in 2 -d List"
   ]
  },
  {
   "cell_type": "code",
   "execution_count": 61,
   "id": "05297d8c",
   "metadata": {
    "ExecuteTime": {
     "end_time": "2023-07-16T16:17:51.049786Z",
     "start_time": "2023-07-16T16:17:51.026934Z"
    }
   },
   "outputs": [],
   "source": [
    "new_list = [[1,2],[3,4],[5,6],[7,8]]"
   ]
  },
  {
   "cell_type": "code",
   "execution_count": 63,
   "id": "99fe6a22",
   "metadata": {
    "ExecuteTime": {
     "end_time": "2023-07-16T16:18:35.952747Z",
     "start_time": "2023-07-16T16:18:35.932724Z"
    }
   },
   "outputs": [
    {
     "data": {
      "text/plain": [
       "4"
      ]
     },
     "execution_count": 63,
     "metadata": {},
     "output_type": "execute_result"
    }
   ],
   "source": [
    "len(new_list)"
   ]
  },
  {
   "cell_type": "code",
   "execution_count": 62,
   "id": "2532dc69",
   "metadata": {
    "ExecuteTime": {
     "end_time": "2023-07-16T16:17:56.436566Z",
     "start_time": "2023-07-16T16:17:56.422009Z"
    }
   },
   "outputs": [
    {
     "name": "stdout",
     "output_type": "stream",
     "text": [
      "[[1, 2], [3, 4], [5, 6], [7, 8]]\n"
     ]
    }
   ],
   "source": [
    "print(new_list)"
   ]
  },
  {
   "cell_type": "code",
   "execution_count": 64,
   "id": "1e04b46e",
   "metadata": {
    "ExecuteTime": {
     "end_time": "2023-07-16T16:19:23.344450Z",
     "start_time": "2023-07-16T16:19:23.326189Z"
    }
   },
   "outputs": [
    {
     "name": "stdout",
     "output_type": "stream",
     "text": [
      "[1, 2]\n",
      "1\n",
      "2\n",
      "[3, 4]\n",
      "3\n",
      "4\n",
      "[5, 6]\n",
      "5\n",
      "6\n",
      "[7, 8]\n",
      "7\n",
      "8\n"
     ]
    }
   ],
   "source": [
    "for i in new_list:\n",
    "    print(i)\n",
    "    for j in i:\n",
    "        print(j)"
   ]
  },
  {
   "cell_type": "code",
   "execution_count": 65,
   "id": "cb2c398e",
   "metadata": {
    "ExecuteTime": {
     "end_time": "2023-07-16T16:20:02.839024Z",
     "start_time": "2023-07-16T16:20:02.833012Z"
    }
   },
   "outputs": [
    {
     "name": "stdout",
     "output_type": "stream",
     "text": [
      "1\n",
      "2\n",
      "3\n",
      "4\n",
      "5\n",
      "6\n",
      "7\n",
      "8\n"
     ]
    }
   ],
   "source": [
    "for i in new_list:\n",
    "#     print(i)\n",
    "    for j in i:\n",
    "        print(j)"
   ]
  },
  {
   "cell_type": "markdown",
   "id": "63fac9d8",
   "metadata": {},
   "source": [
    "### List Comprehension"
   ]
  },
  {
   "cell_type": "code",
   "execution_count": 66,
   "id": "bd088748",
   "metadata": {
    "ExecuteTime": {
     "end_time": "2023-07-16T16:23:09.395574Z",
     "start_time": "2023-07-16T16:23:09.379927Z"
    }
   },
   "outputs": [
    {
     "name": "stdout",
     "output_type": "stream",
     "text": [
      "[1, 4, 9, 16, 25]\n"
     ]
    }
   ],
   "source": [
    "numbers = [1,2,3,4,5]\n",
    "squared_numbers = []\n",
    "\n",
    "for i in numbers:\n",
    "    squared_numbers.append(i ** 2)\n",
    "    \n",
    "print(squared_numbers)"
   ]
  },
  {
   "cell_type": "code",
   "execution_count": 67,
   "id": "ccafaec4",
   "metadata": {
    "ExecuteTime": {
     "end_time": "2023-07-16T16:25:24.820741Z",
     "start_time": "2023-07-16T16:25:24.797625Z"
    }
   },
   "outputs": [
    {
     "name": "stdout",
     "output_type": "stream",
     "text": [
      "[1, 4, 9, 16, 25]\n"
     ]
    }
   ],
   "source": [
    "numbers = [1,2,3,4,5]\n",
    "squared_numbers = [i ** 2 for i in numbers]\n",
    "print(squared_numbers)"
   ]
  },
  {
   "cell_type": "markdown",
   "id": "817c1e01",
   "metadata": {},
   "source": [
    "### Dictionary Comprehension"
   ]
  },
  {
   "cell_type": "code",
   "execution_count": 71,
   "id": "ce2687fb",
   "metadata": {
    "ExecuteTime": {
     "end_time": "2023-07-16T16:29:31.671601Z",
     "start_time": "2023-07-16T16:29:31.652316Z"
    }
   },
   "outputs": [
    {
     "name": "stdout",
     "output_type": "stream",
     "text": [
      "{'a': 1, 'b': 2, 'c': 3}\n"
     ]
    }
   ],
   "source": [
    "# creating a dictionary from 2 lists using for loop\n",
    "\n",
    "keys = ['a','b','c']\n",
    "values = [1,2,3]\n",
    "\n",
    "result = {}\n",
    "\n",
    "for i in range(len(keys)):\n",
    "    result[keys[i]] = values[i]\n",
    "\n",
    "print(result)"
   ]
  },
  {
   "cell_type": "code",
   "execution_count": 76,
   "id": "83137b86",
   "metadata": {
    "ExecuteTime": {
     "end_time": "2023-07-16T16:32:29.572281Z",
     "start_time": "2023-07-16T16:32:29.558405Z"
    }
   },
   "outputs": [
    {
     "name": "stdout",
     "output_type": "stream",
     "text": [
      "{'a': 1, 'b': 2, 'c': 3}\n"
     ]
    }
   ],
   "source": [
    "keys = ['a','b','c']\n",
    "values = [1,2,3]\n",
    "\n",
    "result = {keys[i]:values[i] for i in range(len(keys))}\n",
    "\n",
    "print(result)"
   ]
  },
  {
   "cell_type": "markdown",
   "id": "f80033a3",
   "metadata": {},
   "source": [
    "### Continue"
   ]
  },
  {
   "cell_type": "code",
   "execution_count": 78,
   "id": "61a1631f",
   "metadata": {
    "ExecuteTime": {
     "end_time": "2023-07-16T16:34:50.475067Z",
     "start_time": "2023-07-16T16:34:50.451126Z"
    }
   },
   "outputs": [
    {
     "name": "stdout",
     "output_type": "stream",
     "text": [
      "[1, 2, 3, 4, 5, 6, 7, 8, 9]\n",
      "1\n",
      "2\n",
      "3\n",
      "6\n",
      "7\n",
      "8\n",
      "9\n"
     ]
    }
   ],
   "source": [
    "lst = list(range(1,10))\n",
    "print(lst)\n",
    "\n",
    "for i in lst:\n",
    "    if( i == 4 or i == 5):\n",
    "        continue\n",
    "    print(i)"
   ]
  },
  {
   "cell_type": "markdown",
   "id": "c28ef86b",
   "metadata": {},
   "source": [
    "### Break"
   ]
  },
  {
   "cell_type": "code",
   "execution_count": 83,
   "id": "b48900f6",
   "metadata": {
    "ExecuteTime": {
     "end_time": "2023-07-16T16:44:07.823050Z",
     "start_time": "2023-07-16T16:44:07.809505Z"
    }
   },
   "outputs": [
    {
     "name": "stdout",
     "output_type": "stream",
     "text": [
      "[1, 2, 3, 4, 5, 6, 7, 8, 9]\n",
      "1\n",
      "2\n",
      "3\n",
      "4\n",
      "5\n",
      "exiting\n",
      "6\n",
      "7\n",
      "8\n",
      "9\n"
     ]
    }
   ],
   "source": [
    "# without using break\n",
    "\n",
    "lst = list(range(1,10))\n",
    "print(lst)\n",
    "\n",
    "for i in lst:\n",
    "    print(i)\n",
    "    if i == 5:\n",
    "        print(\"exiting\")\n",
    "    "
   ]
  },
  {
   "cell_type": "code",
   "execution_count": 84,
   "id": "4b3760cd",
   "metadata": {
    "ExecuteTime": {
     "end_time": "2023-07-16T16:44:13.829860Z",
     "start_time": "2023-07-16T16:44:13.823708Z"
    }
   },
   "outputs": [
    {
     "name": "stdout",
     "output_type": "stream",
     "text": [
      "[1, 2, 3, 4, 5, 6, 7, 8, 9]\n",
      "1\n",
      "2\n",
      "3\n",
      "4\n",
      "5\n",
      "exiting\n"
     ]
    }
   ],
   "source": [
    "# using break\n",
    "\n",
    "lst = list(range(1,10))\n",
    "print(lst)\n",
    "\n",
    "for i in lst:\n",
    "    print(i)\n",
    "    if i == 5:\n",
    "        print(\"exiting\")\n",
    "        break\n",
    "    "
   ]
  },
  {
   "cell_type": "markdown",
   "id": "25a5df4a",
   "metadata": {},
   "source": [
    "### ZIP()"
   ]
  },
  {
   "cell_type": "code",
   "execution_count": 88,
   "id": "4cf5ec4f",
   "metadata": {
    "ExecuteTime": {
     "end_time": "2023-07-16T16:49:20.900604Z",
     "start_time": "2023-07-16T16:49:20.871595Z"
    }
   },
   "outputs": [],
   "source": [
    "jobs = ['ML Engineer' , 'Data Scientist' , 'Data Engineer' , ' Researcher']\n",
    "income = [7000 , 8000 , 11000 , 14000]"
   ]
  },
  {
   "cell_type": "code",
   "execution_count": 89,
   "id": "af34b6ef",
   "metadata": {
    "ExecuteTime": {
     "end_time": "2023-07-16T16:49:40.729756Z",
     "start_time": "2023-07-16T16:49:40.716465Z"
    }
   },
   "outputs": [],
   "source": [
    "zipped  = zip(jobs,income)"
   ]
  },
  {
   "cell_type": "code",
   "execution_count": 90,
   "id": "f8635642",
   "metadata": {
    "ExecuteTime": {
     "end_time": "2023-07-16T16:49:48.712340Z",
     "start_time": "2023-07-16T16:49:48.691959Z"
    }
   },
   "outputs": [
    {
     "data": {
      "text/plain": [
       "[('ML Engineer', 7000),\n",
       " ('Data Scientist', 8000),\n",
       " ('Data Engineer', 11000),\n",
       " (' Researcher', 14000)]"
      ]
     },
     "execution_count": 90,
     "metadata": {},
     "output_type": "execute_result"
    }
   ],
   "source": [
    "list(zipped)"
   ]
  },
  {
   "cell_type": "code",
   "execution_count": 91,
   "id": "2289c324",
   "metadata": {
    "ExecuteTime": {
     "end_time": "2023-07-16T16:50:39.209349Z",
     "start_time": "2023-07-16T16:50:39.194851Z"
    }
   },
   "outputs": [
    {
     "name": "stdout",
     "output_type": "stream",
     "text": [
      "ML Engineer 7000\n",
      "Data Scientist 8000\n",
      "Data Engineer 11000\n",
      " Researcher 14000\n"
     ]
    }
   ],
   "source": [
    "for i,j in zip(jobs,income):\n",
    "    print(i,j)"
   ]
  },
  {
   "cell_type": "markdown",
   "id": "362c6805",
   "metadata": {},
   "source": [
    "### iteration in Dictionary"
   ]
  },
  {
   "cell_type": "code",
   "execution_count": 86,
   "id": "bbf5d33f",
   "metadata": {
    "ExecuteTime": {
     "end_time": "2023-07-16T16:45:55.044696Z",
     "start_time": "2023-07-16T16:45:55.027622Z"
    }
   },
   "outputs": [
    {
     "name": "stdout",
     "output_type": "stream",
     "text": [
      "a\n",
      "1\n",
      "b\n",
      "2\n",
      "c\n",
      "3\n"
     ]
    }
   ],
   "source": [
    "dic = {'a':1,'b':2,'c':3}\n",
    "\n",
    "for i in dic:\n",
    "    print(i)\n",
    "    print(dic[i])"
   ]
  },
  {
   "cell_type": "code",
   "execution_count": 87,
   "id": "c692145e",
   "metadata": {
    "ExecuteTime": {
     "end_time": "2023-07-16T16:46:48.059672Z",
     "start_time": "2023-07-16T16:46:48.052985Z"
    }
   },
   "outputs": [
    {
     "name": "stdout",
     "output_type": "stream",
     "text": [
      "a 1\n",
      "b 2\n",
      "c 3\n"
     ]
    }
   ],
   "source": [
    "for key,value in dic.items():\n",
    "    print(key,value)"
   ]
  },
  {
   "cell_type": "markdown",
   "id": "dc676012",
   "metadata": {},
   "source": [
    "### While Loops"
   ]
  },
  {
   "cell_type": "code",
   "execution_count": 92,
   "id": "43d2c644",
   "metadata": {
    "ExecuteTime": {
     "end_time": "2023-07-16T16:52:08.873795Z",
     "start_time": "2023-07-16T16:52:08.863599Z"
    }
   },
   "outputs": [
    {
     "name": "stdout",
     "output_type": "stream",
     "text": [
      "0\n",
      "1\n",
      "2\n",
      "3\n",
      "4\n",
      "5\n",
      "6\n",
      "7\n",
      "8\n",
      "9\n"
     ]
    }
   ],
   "source": [
    "i = 0\n",
    "\n",
    "while(i<10):\n",
    "    print(i)\n",
    "    i += 1"
   ]
  },
  {
   "cell_type": "code",
   "execution_count": 93,
   "id": "a71c6dce",
   "metadata": {
    "ExecuteTime": {
     "end_time": "2023-07-16T16:54:23.422790Z",
     "start_time": "2023-07-16T16:54:23.401226Z"
    }
   },
   "outputs": [
    {
     "name": "stdout",
     "output_type": "stream",
     "text": [
      "odd number : 1\n",
      "odd number : 3\n",
      "odd number : 5\n",
      "odd number : 7\n",
      "odd number : 9\n",
      "odd number : 11\n",
      "odd number : 13\n",
      "odd number : 15\n",
      "odd number : 17\n",
      "odd number : 19\n"
     ]
    }
   ],
   "source": [
    "# print the odd number \n",
    "\n",
    "num = 0 \n",
    "\n",
    "while (num < 20):\n",
    "    num += 1\n",
    "    if num % 2 == 0:\n",
    "        \n",
    "        continue\n",
    "        \n",
    "    print(\"odd number :\", num)"
   ]
  },
  {
   "cell_type": "markdown",
   "id": "1c80ea54",
   "metadata": {},
   "source": [
    "### Doubts"
   ]
  },
  {
   "cell_type": "code",
   "execution_count": 94,
   "id": "3ef90d09",
   "metadata": {
    "ExecuteTime": {
     "end_time": "2023-07-16T16:58:12.306839Z",
     "start_time": "2023-07-16T16:58:12.279995Z"
    }
   },
   "outputs": [
    {
     "name": "stdout",
     "output_type": "stream",
     "text": [
      "a1\n",
      "b2\n",
      "c3\n"
     ]
    }
   ],
   "source": [
    "dic={'a':1,'b':2,'c':3}\n",
    "for i in dic:\n",
    "    print(i, end=\"\")\n",
    "    print(dic[i])\n"
   ]
  },
  {
   "cell_type": "code",
   "execution_count": 111,
   "id": "b217dcdc",
   "metadata": {
    "ExecuteTime": {
     "end_time": "2023-07-16T17:02:30.502585Z",
     "start_time": "2023-07-16T17:02:30.490617Z"
    }
   },
   "outputs": [
    {
     "name": "stdout",
     "output_type": "stream",
     "text": [
      "[8, 6, 4, 2, 0]\n"
     ]
    }
   ],
   "source": [
    "# Vishwas\n",
    "\n",
    "a = list(range(0,10,2))\n",
    "a = a[::-1]\n",
    "print(a)"
   ]
  },
  {
   "cell_type": "code",
   "execution_count": 112,
   "id": "5d0f76a5",
   "metadata": {
    "ExecuteTime": {
     "end_time": "2023-07-16T17:02:53.130357Z",
     "start_time": "2023-07-16T17:02:53.125371Z"
    }
   },
   "outputs": [],
   "source": [
    "# Sudhanshu\n",
    "\n",
    "lst = list(range(18)) #there is error displaying TypeError: 'list' object is not callable"
   ]
  },
  {
   "cell_type": "code",
   "execution_count": 114,
   "id": "964cf64a",
   "metadata": {
    "ExecuteTime": {
     "end_time": "2023-07-16T17:04:02.504925Z",
     "start_time": "2023-07-16T17:04:02.498394Z"
    }
   },
   "outputs": [
    {
     "name": "stdout",
     "output_type": "stream",
     "text": [
      "*\n",
      "* *\n",
      "* * *\n",
      "* * * *\n",
      "* * * * *\n",
      "* * * * * *\n"
     ]
    }
   ],
   "source": [
    "for i in range(1,7):\n",
    "    ls=['*']*i\n",
    "    print(*ls)\n",
    "# What does * in Print do?"
   ]
  },
  {
   "cell_type": "markdown",
   "id": "71f7669f",
   "metadata": {},
   "source": [
    "## Functions\n",
    "- A function is a block of code which only runs when it is called\n",
    "- You can also pass the date , also known as parameters\n",
    "- A function can return data as a result\n",
    "- less code for same execution"
   ]
  },
  {
   "cell_type": "code",
   "execution_count": 115,
   "id": "ad0784a5",
   "metadata": {
    "ExecuteTime": {
     "end_time": "2023-07-16T17:13:28.640423Z",
     "start_time": "2023-07-16T17:13:28.591538Z"
    }
   },
   "outputs": [],
   "source": [
    "def write_name(name):\n",
    "    print(name)"
   ]
  },
  {
   "cell_type": "code",
   "execution_count": 116,
   "id": "80db380e",
   "metadata": {
    "ExecuteTime": {
     "end_time": "2023-07-16T17:14:09.138006Z",
     "start_time": "2023-07-16T17:14:09.104945Z"
    }
   },
   "outputs": [
    {
     "name": "stdout",
     "output_type": "stream",
     "text": [
      "Prashant\n"
     ]
    }
   ],
   "source": [
    "write_name(\"Prashant\")"
   ]
  },
  {
   "cell_type": "code",
   "execution_count": 119,
   "id": "6c954a33",
   "metadata": {
    "ExecuteTime": {
     "end_time": "2023-07-16T17:15:12.617850Z",
     "start_time": "2023-07-16T17:15:12.607599Z"
    }
   },
   "outputs": [],
   "source": [
    "def write_name(name):\n",
    "    return name"
   ]
  },
  {
   "cell_type": "code",
   "execution_count": 122,
   "id": "9725eead",
   "metadata": {
    "ExecuteTime": {
     "end_time": "2023-07-16T17:15:37.595866Z",
     "start_time": "2023-07-16T17:15:37.573880Z"
    }
   },
   "outputs": [
    {
     "name": "stdout",
     "output_type": "stream",
     "text": [
      "Prashant\n"
     ]
    }
   ],
   "source": [
    "a = write_name(\"Prashant\")\n",
    "print(a)"
   ]
  },
  {
   "cell_type": "markdown",
   "id": "c9c7e563",
   "metadata": {},
   "source": [
    "### Number of Arguments"
   ]
  },
  {
   "cell_type": "code",
   "execution_count": 123,
   "id": "a4fcd610",
   "metadata": {
    "ExecuteTime": {
     "end_time": "2023-07-16T17:16:31.318953Z",
     "start_time": "2023-07-16T17:16:31.288640Z"
    }
   },
   "outputs": [],
   "source": [
    "def new_fun(name , course_name):\n",
    "    print(\"Goodluck\")"
   ]
  },
  {
   "cell_type": "code",
   "execution_count": 124,
   "id": "c0ed800d",
   "metadata": {
    "ExecuteTime": {
     "end_time": "2023-07-16T17:16:52.478082Z",
     "start_time": "2023-07-16T17:16:52.470328Z"
    }
   },
   "outputs": [
    {
     "name": "stdout",
     "output_type": "stream",
     "text": [
      "Goodluck\n"
     ]
    }
   ],
   "source": [
    "new_fun('Prashant','Python')"
   ]
  },
  {
   "cell_type": "markdown",
   "id": "8fbb4d08",
   "metadata": {},
   "source": [
    "### Predefined Parameters in function"
   ]
  },
  {
   "cell_type": "code",
   "execution_count": 125,
   "id": "15eb9cc2",
   "metadata": {
    "ExecuteTime": {
     "end_time": "2023-07-16T17:18:48.374951Z",
     "start_time": "2023-07-16T17:18:48.353161Z"
    }
   },
   "outputs": [],
   "source": [
    "def grade(student , marks):\n",
    "    print(\"marks of : \",student,\" is: \",marks)"
   ]
  },
  {
   "cell_type": "code",
   "execution_count": 126,
   "id": "688e562c",
   "metadata": {
    "ExecuteTime": {
     "end_time": "2023-07-16T17:19:12.373100Z",
     "start_time": "2023-07-16T17:19:12.360084Z"
    }
   },
   "outputs": [
    {
     "name": "stdout",
     "output_type": "stream",
     "text": [
      "marks of :  Prashant  is:  89\n"
     ]
    }
   ],
   "source": [
    "grade('Prashant',89)"
   ]
  },
  {
   "cell_type": "code",
   "execution_count": 127,
   "id": "f97b9869",
   "metadata": {
    "ExecuteTime": {
     "end_time": "2023-07-16T17:19:33.313012Z",
     "start_time": "2023-07-16T17:19:33.306496Z"
    }
   },
   "outputs": [],
   "source": [
    "def grade(student , marks = 45):\n",
    "    print(\"marks of : \",student,\" is: \",marks)"
   ]
  },
  {
   "cell_type": "code",
   "execution_count": 128,
   "id": "dedf099f",
   "metadata": {
    "ExecuteTime": {
     "end_time": "2023-07-16T17:19:43.181320Z",
     "start_time": "2023-07-16T17:19:43.170330Z"
    }
   },
   "outputs": [
    {
     "name": "stdout",
     "output_type": "stream",
     "text": [
      "marks of :  Prashant  is:  89\n"
     ]
    }
   ],
   "source": [
    "grade('Prashant',89)"
   ]
  },
  {
   "cell_type": "code",
   "execution_count": 129,
   "id": "a734400e",
   "metadata": {
    "ExecuteTime": {
     "end_time": "2023-07-16T17:19:50.929678Z",
     "start_time": "2023-07-16T17:19:50.916024Z"
    }
   },
   "outputs": [
    {
     "name": "stdout",
     "output_type": "stream",
     "text": [
      "marks of :  Prashant  is:  45\n"
     ]
    }
   ],
   "source": [
    "grade('Prashant')"
   ]
  },
  {
   "cell_type": "markdown",
   "id": "bdd7fe91",
   "metadata": {},
   "source": [
    "### Some more examples"
   ]
  },
  {
   "cell_type": "code",
   "execution_count": 130,
   "id": "a0828427",
   "metadata": {
    "ExecuteTime": {
     "end_time": "2023-07-16T17:21:14.185384Z",
     "start_time": "2023-07-16T17:21:14.163228Z"
    }
   },
   "outputs": [],
   "source": [
    "lst = []\n",
    "\n",
    "def add_to_lst(y):\n",
    "    lst.append(y)"
   ]
  },
  {
   "cell_type": "code",
   "execution_count": 131,
   "id": "b646f172",
   "metadata": {
    "ExecuteTime": {
     "end_time": "2023-07-16T17:21:29.098497Z",
     "start_time": "2023-07-16T17:21:29.071432Z"
    }
   },
   "outputs": [
    {
     "name": "stdout",
     "output_type": "stream",
     "text": [
      "[1, 1, 1]\n"
     ]
    }
   ],
   "source": [
    "add_to_lst(1)\n",
    "add_to_lst(1)\n",
    "add_to_lst(1)\n",
    "print(lst)"
   ]
  },
  {
   "cell_type": "code",
   "execution_count": 132,
   "id": "1f2b6995",
   "metadata": {
    "ExecuteTime": {
     "end_time": "2023-07-16T17:23:14.291069Z",
     "start_time": "2023-07-16T17:23:14.279804Z"
    }
   },
   "outputs": [],
   "source": [
    "def multiply(a , b):\n",
    "    res = a+(b*2)\n",
    "    return res"
   ]
  },
  {
   "cell_type": "code",
   "execution_count": 138,
   "id": "7f74a98c",
   "metadata": {
    "ExecuteTime": {
     "end_time": "2023-07-16T17:26:31.404632Z",
     "start_time": "2023-07-16T17:26:31.392338Z"
    },
    "scrolled": true
   },
   "outputs": [
    {
     "name": "stdout",
     "output_type": "stream",
     "text": [
      "ParijatParijatParijatParijatParijat\n"
     ]
    }
   ],
   "source": [
    "result = multiply(5 , \"Parijat\")\n",
    "print(result)"
   ]
  },
  {
   "cell_type": "markdown",
   "id": "2b4efcc2",
   "metadata": {
    "ExecuteTime": {
     "end_time": "2023-07-16T17:25:19.770125Z",
     "start_time": "2023-07-16T17:25:19.756146Z"
    }
   },
   "source": [
    "## lambda Function"
   ]
  },
  {
   "cell_type": "code",
   "execution_count": 140,
   "id": "52225557",
   "metadata": {
    "ExecuteTime": {
     "end_time": "2023-07-16T17:29:42.865290Z",
     "start_time": "2023-07-16T17:29:42.850295Z"
    }
   },
   "outputs": [],
   "source": [
    "def cube(num):\n",
    "    return num*num*num"
   ]
  },
  {
   "cell_type": "code",
   "execution_count": 141,
   "id": "4d141130",
   "metadata": {
    "ExecuteTime": {
     "end_time": "2023-07-16T17:29:52.992277Z",
     "start_time": "2023-07-16T17:29:52.972477Z"
    }
   },
   "outputs": [
    {
     "name": "stdout",
     "output_type": "stream",
     "text": [
      "27\n"
     ]
    }
   ],
   "source": [
    "print(cube(3))"
   ]
  },
  {
   "cell_type": "code",
   "execution_count": 142,
   "id": "fcaf17c5",
   "metadata": {
    "ExecuteTime": {
     "end_time": "2023-07-16T17:30:32.877474Z",
     "start_time": "2023-07-16T17:30:32.858364Z"
    }
   },
   "outputs": [],
   "source": [
    "c = lambda num : num*num*num"
   ]
  },
  {
   "cell_type": "code",
   "execution_count": 143,
   "id": "ca2f2e37",
   "metadata": {
    "ExecuteTime": {
     "end_time": "2023-07-16T17:30:44.801506Z",
     "start_time": "2023-07-16T17:30:44.783166Z"
    }
   },
   "outputs": [
    {
     "name": "stdout",
     "output_type": "stream",
     "text": [
      "27\n"
     ]
    }
   ],
   "source": [
    "print(c(3))"
   ]
  },
  {
   "cell_type": "code",
   "execution_count": null,
   "id": "1c48f9cb",
   "metadata": {},
   "outputs": [],
   "source": []
  }
 ],
 "metadata": {
  "kernelspec": {
   "display_name": "Python 3",
   "language": "python",
   "name": "python3"
  },
  "language_info": {
   "codemirror_mode": {
    "name": "ipython",
    "version": 3
   },
   "file_extension": ".py",
   "mimetype": "text/x-python",
   "name": "python",
   "nbconvert_exporter": "python",
   "pygments_lexer": "ipython3",
   "version": "3.8.8"
  },
  "toc": {
   "base_numbering": 1,
   "nav_menu": {},
   "number_sections": true,
   "sideBar": true,
   "skip_h1_title": false,
   "title_cell": "Table of Contents",
   "title_sidebar": "Contents",
   "toc_cell": false,
   "toc_position": {},
   "toc_section_display": true,
   "toc_window_display": true
  }
 },
 "nbformat": 4,
 "nbformat_minor": 5
}
