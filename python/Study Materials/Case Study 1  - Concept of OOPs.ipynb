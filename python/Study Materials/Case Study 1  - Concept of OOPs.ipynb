{
 "cells": [
  {
   "cell_type": "markdown",
   "id": "488ed03d",
   "metadata": {},
   "source": [
    "# Module 2 - Case Study 1"
   ]
  },
  {
   "cell_type": "markdown",
   "id": "c4d8e37e",
   "metadata": {},
   "source": [
    "## Create a class named Employee, with a constructor ‘__init__’ method that accepts name and salary as parameters and set properties named name and salary.\n"
   ]
  },
  {
   "cell_type": "code",
   "execution_count": 2,
   "id": "7eeadce8",
   "metadata": {
    "ExecuteTime": {
     "end_time": "2023-09-28T04:39:18.250267Z",
     "start_time": "2023-09-28T04:39:18.235578Z"
    }
   },
   "outputs": [],
   "source": [
    "class Employee:\n",
    "    def __init__(self, name, salary):\n",
    "        self.name = name\n",
    "        self.salary = salary"
   ]
  },
  {
   "cell_type": "markdown",
   "id": "31160b07",
   "metadata": {},
   "source": [
    "## Define __str__ method in Employee class so that when someone tries to print the object the string Name: employee_name, Salary: employee_salary is printed with the actual employee name and salary.\n"
   ]
  },
  {
   "cell_type": "code",
   "execution_count": 3,
   "id": "46f80706",
   "metadata": {
    "ExecuteTime": {
     "end_time": "2023-09-28T04:39:18.971679Z",
     "start_time": "2023-09-28T04:39:18.952720Z"
    }
   },
   "outputs": [],
   "source": [
    "class Employee:\n",
    "    def __init__(self, name, salary):\n",
    "        self.name = name\n",
    "        self.salary = salary\n",
    "    def __str__(self):\n",
    "        return f\"Name: {self.name}, Salary: {self.salary}\""
   ]
  },
  {
   "cell_type": "markdown",
   "id": "5330340b",
   "metadata": {},
   "source": [
    "## Create another class named Calculator, with methods to add, subtract, multiply and divide two numbers.\n"
   ]
  },
  {
   "cell_type": "code",
   "execution_count": 5,
   "id": "3ebc56e8",
   "metadata": {
    "ExecuteTime": {
     "end_time": "2023-09-28T04:46:55.226056Z",
     "start_time": "2023-09-28T04:46:55.221071Z"
    }
   },
   "outputs": [],
   "source": [
    "class Calculator:\n",
    "    def add(self):\n",
    "        return self.num1+self.num2\n",
    "    def subtract(self):\n",
    "        return self.num1-self.num2\n",
    "    def multiply(self):\n",
    "        return self.num1*self.num2\n",
    "    def divide(self):\n",
    "        return self.num1/self.num2"
   ]
  },
  {
   "cell_type": "markdown",
   "id": "70d566cf",
   "metadata": {},
   "source": [
    "## These methods take two numbers as parameters.\n"
   ]
  },
  {
   "cell_type": "code",
   "execution_count": null,
   "id": "66ffb2b0",
   "metadata": {},
   "outputs": [],
   "source": [
    "class Calculator:\n",
    "    def add(self, num1, num2):\n",
    "        return num1+num2\n",
    "    def subtract(self, num1, num2):\n",
    "        return num1-num2\n",
    "    def multiply(self, num1, num2):\n",
    "        return num1*num2\n",
    "    def divide(self, num1, num2:\n",
    "        return num1/num2"
   ]
  },
  {
   "cell_type": "markdown",
   "id": "14a29630",
   "metadata": {},
   "source": [
    "## These methods will be called by a method named execute command.\n"
   ]
  },
  {
   "cell_type": "code",
   "execution_count": 10,
   "id": "174c83c6",
   "metadata": {
    "ExecuteTime": {
     "end_time": "2023-09-28T04:52:25.696436Z",
     "start_time": "2023-09-28T04:52:25.689363Z"
    }
   },
   "outputs": [
    {
     "name": "stdout",
     "output_type": "stream",
     "text": [
      "sum = 5, diff = 1, product = 6, quotient = 1.5, \n"
     ]
    }
   ],
   "source": [
    "class Calculator:\n",
    "    def add(self):\n",
    "        return self.num1+self.num2\n",
    "    def subtract(self):\n",
    "        return self.num1-self.num2\n",
    "    def multiply(self):\n",
    "        return self.num1*self.num2\n",
    "    def divide(self):\n",
    "        return self.num1/self.num2\n",
    "    def execute(self, num1, num2):\n",
    "        self.num1 = num1\n",
    "        self.num2 = num2\n",
    "        sum = self.add()\n",
    "        diff = self.subtract()\n",
    "        product = self.multiply()\n",
    "        quotient = self.divide()\n",
    "        print(f\"sum = {sum}, diff = {diff}, product = {product}, quotient = {quotient}, \")\n",
    "calc = Calculator()\n",
    "calc.execute(3,2)"
   ]
  },
  {
   "cell_type": "markdown",
   "id": "71f23f45",
   "metadata": {},
   "source": [
    "## Execute command takes in 3 parameters command which is string that can be either ‘add’, ‘sub’, ‘mul’, ‘div’, and two numbers and it will call the appropriate method based on command parameter.\n"
   ]
  },
  {
   "cell_type": "code",
   "execution_count": 11,
   "id": "3c89b85e",
   "metadata": {
    "ExecuteTime": {
     "end_time": "2023-09-28T04:55:46.109326Z",
     "start_time": "2023-09-28T04:55:46.093012Z"
    }
   },
   "outputs": [
    {
     "name": "stdout",
     "output_type": "stream",
     "text": [
      "sum = 5\n",
      "diff = 1\n",
      "product = 20\n",
      "quotient = 1.2, \n"
     ]
    }
   ],
   "source": [
    "class Calculator:\n",
    "    def add(self):\n",
    "        return self.num1+self.num2\n",
    "    def subtract(self):\n",
    "        return self.num1-self.num2\n",
    "    def multiply(self):\n",
    "        return self.num1*self.num2\n",
    "    def divide(self):\n",
    "        return self.num1/self.num2\n",
    "    def execute(self, num1, num2, cmd):\n",
    "        self.num1 = num1\n",
    "        self.num2 = num2\n",
    "        if cmd == 'add':\n",
    "            sum = self.add()\n",
    "            print(f\"sum = {sum}\")\n",
    "\n",
    "        elif cmd == 'sub':\n",
    "            diff = self.subtract()\n",
    "            print(f\"diff = {diff}\")\n",
    "\n",
    "        elif cmd == 'mul':\n",
    "            product = self.multiply()\n",
    "            print(f\"product = {product}\")\n",
    "\n",
    "        elif cmd == 'div':\n",
    "            quotient = self.divide()\n",
    "            print(f\"quotient = {quotient}, \")\n",
    "\n",
    "       \n",
    "calc = Calculator()\n",
    "calc.execute(3,2,\"add\")\n",
    "calc.execute(4,3,\"sub\")\n",
    "calc.execute(5,4,\"mul\")\n",
    "calc.execute(6,5,\"div\")"
   ]
  }
 ],
 "metadata": {
  "kernelspec": {
   "display_name": "Python 3 (ipykernel)",
   "language": "python",
   "name": "python3"
  },
  "language_info": {
   "codemirror_mode": {
    "name": "ipython",
    "version": 3
   },
   "file_extension": ".py",
   "mimetype": "text/x-python",
   "name": "python",
   "nbconvert_exporter": "python",
   "pygments_lexer": "ipython3",
   "version": "3.8.10"
  },
  "toc": {
   "base_numbering": 1,
   "nav_menu": {},
   "number_sections": true,
   "sideBar": true,
   "skip_h1_title": false,
   "title_cell": "Table of Contents",
   "title_sidebar": "Contents",
   "toc_cell": false,
   "toc_position": {},
   "toc_section_display": true,
   "toc_window_display": false
  },
  "varInspector": {
   "cols": {
    "lenName": 16,
    "lenType": 16,
    "lenVar": 40
   },
   "kernels_config": {
    "python": {
     "delete_cmd_postfix": "",
     "delete_cmd_prefix": "del ",
     "library": "var_list.py",
     "varRefreshCmd": "print(var_dic_list())"
    },
    "r": {
     "delete_cmd_postfix": ") ",
     "delete_cmd_prefix": "rm(",
     "library": "var_list.r",
     "varRefreshCmd": "cat(var_dic_list()) "
    }
   },
   "types_to_exclude": [
    "module",
    "function",
    "builtin_function_or_method",
    "instance",
    "_Feature"
   ],
   "window_display": false
  }
 },
 "nbformat": 4,
 "nbformat_minor": 5
}
