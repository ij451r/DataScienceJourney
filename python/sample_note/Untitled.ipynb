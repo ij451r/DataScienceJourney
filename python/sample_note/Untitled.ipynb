{
 "cells": [
  {
   "cell_type": "code",
   "execution_count": 5,
   "id": "6a165ab3",
   "metadata": {
    "ExecuteTime": {
     "end_time": "2023-07-30T14:59:45.817018Z",
     "start_time": "2023-07-30T14:59:45.344017Z"
    }
   },
   "outputs": [
    {
     "ename": "RecursionError",
     "evalue": "maximum recursion depth exceeded in comparison",
     "output_type": "error",
     "traceback": [
      "\u001b[0;31m---------------------------------------------------------------------------\u001b[0m",
      "\u001b[0;31mRecursionError\u001b[0m                            Traceback (most recent call last)",
      "Cell \u001b[0;32mIn[5], line 6\u001b[0m\n\u001b[1;32m      4\u001b[0m     \u001b[38;5;28;01melse\u001b[39;00m:\n\u001b[1;32m      5\u001b[0m         \u001b[38;5;28;01mreturn\u001b[39;00m number\u001b[38;5;241m*\u001b[39mfactor(number\u001b[38;5;241m-\u001b[39m\u001b[38;5;241m1\u001b[39m)\n\u001b[0;32m----> 6\u001b[0m \u001b[43mfactor\u001b[49m\u001b[43m(\u001b[49m\u001b[38;5;241;43m-\u001b[39;49m\u001b[38;5;241;43m7\u001b[39;49m\u001b[43m)\u001b[49m\n",
      "Cell \u001b[0;32mIn[5], line 5\u001b[0m, in \u001b[0;36mfactor\u001b[0;34m(number)\u001b[0m\n\u001b[1;32m      3\u001b[0m     \u001b[38;5;28;01mreturn\u001b[39;00m \u001b[38;5;241m1\u001b[39m\n\u001b[1;32m      4\u001b[0m \u001b[38;5;28;01melse\u001b[39;00m:\n\u001b[0;32m----> 5\u001b[0m     \u001b[38;5;28;01mreturn\u001b[39;00m number\u001b[38;5;241m*\u001b[39m\u001b[43mfactor\u001b[49m\u001b[43m(\u001b[49m\u001b[43mnumber\u001b[49m\u001b[38;5;241;43m-\u001b[39;49m\u001b[38;5;241;43m1\u001b[39;49m\u001b[43m)\u001b[49m\n",
      "Cell \u001b[0;32mIn[5], line 5\u001b[0m, in \u001b[0;36mfactor\u001b[0;34m(number)\u001b[0m\n\u001b[1;32m      3\u001b[0m     \u001b[38;5;28;01mreturn\u001b[39;00m \u001b[38;5;241m1\u001b[39m\n\u001b[1;32m      4\u001b[0m \u001b[38;5;28;01melse\u001b[39;00m:\n\u001b[0;32m----> 5\u001b[0m     \u001b[38;5;28;01mreturn\u001b[39;00m number\u001b[38;5;241m*\u001b[39m\u001b[43mfactor\u001b[49m\u001b[43m(\u001b[49m\u001b[43mnumber\u001b[49m\u001b[38;5;241;43m-\u001b[39;49m\u001b[38;5;241;43m1\u001b[39;49m\u001b[43m)\u001b[49m\n",
      "    \u001b[0;31m[... skipping similar frames: factor at line 5 (2969 times)]\u001b[0m\n",
      "Cell \u001b[0;32mIn[5], line 5\u001b[0m, in \u001b[0;36mfactor\u001b[0;34m(number)\u001b[0m\n\u001b[1;32m      3\u001b[0m     \u001b[38;5;28;01mreturn\u001b[39;00m \u001b[38;5;241m1\u001b[39m\n\u001b[1;32m      4\u001b[0m \u001b[38;5;28;01melse\u001b[39;00m:\n\u001b[0;32m----> 5\u001b[0m     \u001b[38;5;28;01mreturn\u001b[39;00m number\u001b[38;5;241m*\u001b[39m\u001b[43mfactor\u001b[49m\u001b[43m(\u001b[49m\u001b[43mnumber\u001b[49m\u001b[38;5;241;43m-\u001b[39;49m\u001b[38;5;241;43m1\u001b[39;49m\u001b[43m)\u001b[49m\n",
      "Cell \u001b[0;32mIn[5], line 2\u001b[0m, in \u001b[0;36mfactor\u001b[0;34m(number)\u001b[0m\n\u001b[1;32m      1\u001b[0m \u001b[38;5;28;01mdef\u001b[39;00m \u001b[38;5;21mfactor\u001b[39m (number):\n\u001b[0;32m----> 2\u001b[0m     \u001b[38;5;28;01mif\u001b[39;00m \u001b[43mnumber\u001b[49m\u001b[38;5;241;43m==\u001b[39;49m\u001b[38;5;241;43m1\u001b[39;49m:\n\u001b[1;32m      3\u001b[0m         \u001b[38;5;28;01mreturn\u001b[39;00m \u001b[38;5;241m1\u001b[39m\n\u001b[1;32m      4\u001b[0m     \u001b[38;5;28;01melse\u001b[39;00m:\n",
      "\u001b[0;31mRecursionError\u001b[0m: maximum recursion depth exceeded in comparison"
     ]
    }
   ],
   "source": [
    "def factor (number):\n",
    "    if number==1:\n",
    "        return 1\n",
    "    else:\n",
    "        return number*factor(number-1)\n",
    "factor(-7)"
   ]
  },
  {
   "cell_type": "code",
   "execution_count": 9,
   "id": "9e61ab1a",
   "metadata": {
    "ExecuteTime": {
     "end_time": "2023-07-30T15:09:58.089285Z",
     "start_time": "2023-07-30T15:09:58.077973Z"
    }
   },
   "outputs": [
    {
     "data": {
      "text/plain": [
       "24"
      ]
     },
     "execution_count": 9,
     "metadata": {},
     "output_type": "execute_result"
    }
   ],
   "source": [
    "def factor(n):\n",
    "    r=1\n",
    "    for i in range(1,n):\n",
    "        r=r+r*i\n",
    "    return r\n",
    "factor(4)"
   ]
  },
  {
   "cell_type": "code",
   "execution_count": 13,
   "id": "459b542a",
   "metadata": {
    "ExecuteTime": {
     "end_time": "2023-07-30T15:24:39.993494Z",
     "start_time": "2023-07-30T15:24:35.258656Z"
    }
   },
   "outputs": [
    {
     "name": "stdout",
     "output_type": "stream",
     "text": [
      "Enter String\n",
      "gkhg\n",
      "\n",
      "String doesn't contain S\n"
     ]
    }
   ],
   "source": [
    "def check_string(Str):\n",
    "    if 's' in Str:\n",
    "        print(\"\\nString Contains S\")\n",
    "    else:\n",
    "        print(\"\\nString doesn't contain S\")\n",
    "check_string(input(\"Enter String\\n\"))"
   ]
  },
  {
   "cell_type": "code",
   "execution_count": 19,
   "id": "4e518a7d",
   "metadata": {
    "ExecuteTime": {
     "end_time": "2023-07-30T15:57:34.700349Z",
     "start_time": "2023-07-30T15:57:32.867919Z"
    }
   },
   "outputs": [
    {
     "name": "stdout",
     "output_type": "stream",
     "text": [
      "Enter Message123\n",
      "123\n"
     ]
    }
   ],
   "source": [
    "class student:\n",
    "    def fun1(self):\n",
    "        self.msg = input(\"Enter Message\")\n",
    "    def message(self):\n",
    "        return self.msg\n",
    "\n",
    "stud1 = student()\n",
    "stud1.fun1()\n",
    "print(stud1.message())"
   ]
  },
  {
   "cell_type": "code",
   "execution_count": 20,
   "id": "040504b2",
   "metadata": {
    "ExecuteTime": {
     "end_time": "2023-07-30T16:18:59.627425Z",
     "start_time": "2023-07-30T16:18:59.612594Z"
    }
   },
   "outputs": [],
   "source": [
    "\n",
    "double_num = lambda x: x*2"
   ]
  },
  {
   "cell_type": "code",
   "execution_count": 22,
   "id": "c46c5e48",
   "metadata": {
    "ExecuteTime": {
     "end_time": "2023-07-30T16:19:20.997809Z",
     "start_time": "2023-07-30T16:19:20.967241Z"
    }
   },
   "outputs": [
    {
     "data": {
      "text/plain": [
       "6"
      ]
     },
     "execution_count": 22,
     "metadata": {},
     "output_type": "execute_result"
    }
   ],
   "source": [
    "double_num(3)"
   ]
  },
  {
   "cell_type": "code",
   "execution_count": 23,
   "id": "57f0183c",
   "metadata": {
    "ExecuteTime": {
     "end_time": "2023-07-30T16:24:36.473264Z",
     "start_time": "2023-07-30T16:24:33.753155Z"
    }
   },
   "outputs": [
    {
     "name": "stdout",
     "output_type": "stream",
     "text": [
      "Enter Stringmadam\n"
     ]
    },
    {
     "data": {
      "text/plain": [
       "True"
      ]
     },
     "execution_count": 23,
     "metadata": {},
     "output_type": "execute_result"
    }
   ],
   "source": [
    "def check_palindrome(Str):\n",
    "    return Str==Str[::-1]\n",
    "\n",
    "Str = input(\"Enter String\")\n",
    "check_palindrome(Str)"
   ]
  },
  {
   "cell_type": "code",
   "execution_count": 28,
   "id": "1c60e243",
   "metadata": {
    "ExecuteTime": {
     "end_time": "2023-07-30T16:41:40.519572Z",
     "start_time": "2023-07-30T16:41:40.482296Z"
    }
   },
   "outputs": [
    {
     "name": "stdout",
     "output_type": "stream",
     "text": [
      "This is Function 1 in Modified Super Class\n",
      "This is Function 2 in Modified Super Class\n"
     ]
    }
   ],
   "source": [
    "class Super:\n",
    "    def fun1(self):\n",
    "        print(\"This is Function 1 in Super Class\")\n",
    "class Modified_Super(Super):\n",
    "    def fun1(self):\n",
    "        print(\"This is Function 1 in Modified Super Class\")\n",
    "    def fun2(self):\n",
    "        print(\"This is Function 2 in Modified Super Class\")    \n",
    "\n",
    "Obj = Modified_Super()\n",
    "Obj.fun1()\n",
    "Obj.fun2()"
   ]
  },
  {
   "cell_type": "code",
   "execution_count": 37,
   "id": "a33fb790",
   "metadata": {
    "ExecuteTime": {
     "end_time": "2023-07-30T17:17:08.076574Z",
     "start_time": "2023-07-30T17:17:08.027260Z"
    }
   },
   "outputs": [
    {
     "data": {
      "text/plain": [
       "14"
      ]
     },
     "execution_count": 37,
     "metadata": {},
     "output_type": "execute_result"
    }
   ],
   "source": [
    "def Sum(*nums):\n",
    "    S=0\n",
    "    for i in nums:\n",
    "        S+=i\n",
    "    return S\n",
    "Sum(7,7)"
   ]
  },
  {
   "cell_type": "code",
   "execution_count": 38,
   "id": "2d9dbfb8",
   "metadata": {
    "ExecuteTime": {
     "end_time": "2023-07-30T17:20:53.138298Z",
     "start_time": "2023-07-30T17:20:53.111566Z"
    }
   },
   "outputs": [
    {
     "name": "stdout",
     "output_type": "stream",
     "text": [
      "1 2\n"
     ]
    }
   ],
   "source": [
    "nums=[1,2]\n",
    "def fun1(a,b):\n",
    "    print(a,b)\n",
    "fun1(*nums)"
   ]
  },
  {
   "cell_type": "code",
   "execution_count": null,
   "id": "9b3a0f34",
   "metadata": {},
   "outputs": [],
   "source": [
    "class Encapsulation:\n",
    "    def __init__(self):\n",
    "        self.originalValue = 10\n",
    "    def Value(self):\n",
    "        return self.originalValue\n",
    "    def setValue(self,newValue):\n",
    "        self.originalValue=self.newValue"
   ]
  }
 ],
 "metadata": {
  "kernelspec": {
   "display_name": "Python 3 (ipykernel)",
   "language": "python",
   "name": "python3"
  },
  "language_info": {
   "codemirror_mode": {
    "name": "ipython",
    "version": 3
   },
   "file_extension": ".py",
   "mimetype": "text/x-python",
   "name": "python",
   "nbconvert_exporter": "python",
   "pygments_lexer": "ipython3",
   "version": "3.8.10"
  },
  "toc": {
   "base_numbering": 1,
   "nav_menu": {},
   "number_sections": true,
   "sideBar": true,
   "skip_h1_title": false,
   "title_cell": "Table of Contents",
   "title_sidebar": "Contents",
   "toc_cell": false,
   "toc_position": {},
   "toc_section_display": true,
   "toc_window_display": false
  },
  "varInspector": {
   "cols": {
    "lenName": 16,
    "lenType": 16,
    "lenVar": 40
   },
   "kernels_config": {
    "python": {
     "delete_cmd_postfix": "",
     "delete_cmd_prefix": "del ",
     "library": "var_list.py",
     "varRefreshCmd": "print(var_dic_list())"
    },
    "r": {
     "delete_cmd_postfix": ") ",
     "delete_cmd_prefix": "rm(",
     "library": "var_list.r",
     "varRefreshCmd": "cat(var_dic_list()) "
    }
   },
   "types_to_exclude": [
    "module",
    "function",
    "builtin_function_or_method",
    "instance",
    "_Feature"
   ],
   "window_display": false
  }
 },
 "nbformat": 4,
 "nbformat_minor": 5
}
