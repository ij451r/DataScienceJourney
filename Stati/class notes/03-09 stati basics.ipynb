{
 "cells": [
  {
   "cell_type": "markdown",
   "id": "ca6ace0d",
   "metadata": {},
   "source": [
    "1. central tendency\n",
    "\n",
    "- mean\n",
    "- median \n",
    "- mode\n",
    "\n",
    "2. variation \n",
    "\n",
    "- Range\n",
    "- Quartiles and Percentiles\n",
    "- IQR\n",
    "- SD & SV\n",
    "\n",
    "3. Tables\n",
    " \n",
    "- Graphs and Charts\n",
    "\n",
    "4. Probability\n",
    "\n",
    "- Conditional Probability\n",
    "- Probability Distribution\n"
   ]
  },
  {
   "cell_type": "code",
   "execution_count": 1,
   "id": "a5678849",
   "metadata": {
    "ExecuteTime": {
     "end_time": "2023-09-03T14:57:27.064859Z",
     "start_time": "2023-09-03T14:57:17.319374Z"
    }
   },
   "outputs": [],
   "source": [
    "#importing all the required libraries\n",
    "import numpy as np\n",
    "import pandas as pd\n",
    "import matplotlib.pyplot as plt\n",
    "import seaborn as sns"
   ]
  },
  {
   "cell_type": "code",
   "execution_count": 9,
   "id": "9fd638de",
   "metadata": {
    "ExecuteTime": {
     "end_time": "2023-09-03T15:02:31.728912Z",
     "start_time": "2023-09-03T15:02:31.503670Z"
    }
   },
   "outputs": [],
   "source": [
    "df = pd.read_csv('class notes/train.csv')"
   ]
  },
  {
   "cell_type": "code",
   "execution_count": 11,
   "id": "e9dcaece",
   "metadata": {
    "ExecuteTime": {
     "end_time": "2023-09-03T15:03:50.588996Z",
     "start_time": "2023-09-03T15:03:50.555063Z"
    }
   },
   "outputs": [
    {
     "data": {
      "text/html": [
       "<div>\n",
       "<style scoped>\n",
       "    .dataframe tbody tr th:only-of-type {\n",
       "        vertical-align: middle;\n",
       "    }\n",
       "\n",
       "    .dataframe tbody tr th {\n",
       "        vertical-align: top;\n",
       "    }\n",
       "\n",
       "    .dataframe thead th {\n",
       "        text-align: right;\n",
       "    }\n",
       "</style>\n",
       "<table border=\"1\" class=\"dataframe\">\n",
       "  <thead>\n",
       "    <tr style=\"text-align: right;\">\n",
       "      <th></th>\n",
       "      <th>Id</th>\n",
       "      <th>MSSubClass</th>\n",
       "      <th>MSZoning</th>\n",
       "      <th>LotFrontage</th>\n",
       "      <th>LotArea</th>\n",
       "      <th>...</th>\n",
       "      <th>MoSold</th>\n",
       "      <th>YrSold</th>\n",
       "      <th>SaleType</th>\n",
       "      <th>SaleCondition</th>\n",
       "      <th>SalePrice</th>\n",
       "    </tr>\n",
       "  </thead>\n",
       "  <tbody>\n",
       "    <tr>\n",
       "      <th>0</th>\n",
       "      <td>1</td>\n",
       "      <td>60</td>\n",
       "      <td>RL</td>\n",
       "      <td>65.0</td>\n",
       "      <td>8450</td>\n",
       "      <td>...</td>\n",
       "      <td>2</td>\n",
       "      <td>2008</td>\n",
       "      <td>WD</td>\n",
       "      <td>Normal</td>\n",
       "      <td>208500</td>\n",
       "    </tr>\n",
       "    <tr>\n",
       "      <th>1</th>\n",
       "      <td>2</td>\n",
       "      <td>20</td>\n",
       "      <td>RL</td>\n",
       "      <td>80.0</td>\n",
       "      <td>9600</td>\n",
       "      <td>...</td>\n",
       "      <td>5</td>\n",
       "      <td>2007</td>\n",
       "      <td>WD</td>\n",
       "      <td>Normal</td>\n",
       "      <td>181500</td>\n",
       "    </tr>\n",
       "    <tr>\n",
       "      <th>2</th>\n",
       "      <td>3</td>\n",
       "      <td>60</td>\n",
       "      <td>RL</td>\n",
       "      <td>68.0</td>\n",
       "      <td>11250</td>\n",
       "      <td>...</td>\n",
       "      <td>9</td>\n",
       "      <td>2008</td>\n",
       "      <td>WD</td>\n",
       "      <td>Normal</td>\n",
       "      <td>223500</td>\n",
       "    </tr>\n",
       "    <tr>\n",
       "      <th>3</th>\n",
       "      <td>4</td>\n",
       "      <td>70</td>\n",
       "      <td>RL</td>\n",
       "      <td>60.0</td>\n",
       "      <td>9550</td>\n",
       "      <td>...</td>\n",
       "      <td>2</td>\n",
       "      <td>2006</td>\n",
       "      <td>WD</td>\n",
       "      <td>Abnorml</td>\n",
       "      <td>140000</td>\n",
       "    </tr>\n",
       "    <tr>\n",
       "      <th>4</th>\n",
       "      <td>5</td>\n",
       "      <td>60</td>\n",
       "      <td>RL</td>\n",
       "      <td>84.0</td>\n",
       "      <td>14260</td>\n",
       "      <td>...</td>\n",
       "      <td>12</td>\n",
       "      <td>2008</td>\n",
       "      <td>WD</td>\n",
       "      <td>Normal</td>\n",
       "      <td>250000</td>\n",
       "    </tr>\n",
       "  </tbody>\n",
       "</table>\n",
       "<p>5 rows × 81 columns</p>\n",
       "</div>"
      ],
      "text/plain": [
       "   Id  MSSubClass MSZoning  LotFrontage  LotArea  ... MoSold YrSold SaleType  \\\n",
       "0   1          60       RL         65.0     8450  ...      2   2008       WD   \n",
       "1   2          20       RL         80.0     9600  ...      5   2007       WD   \n",
       "2   3          60       RL         68.0    11250  ...      9   2008       WD   \n",
       "3   4          70       RL         60.0     9550  ...      2   2006       WD   \n",
       "4   5          60       RL         84.0    14260  ...     12   2008       WD   \n",
       "\n",
       "  SaleCondition SalePrice  \n",
       "0        Normal    208500  \n",
       "1        Normal    181500  \n",
       "2        Normal    223500  \n",
       "3       Abnorml    140000  \n",
       "4        Normal    250000  \n",
       "\n",
       "[5 rows x 81 columns]"
      ]
     },
     "execution_count": 11,
     "metadata": {},
     "output_type": "execute_result"
    }
   ],
   "source": [
    "pd.set_option(\"display.max_columns\",10)\n",
    "df.head()"
   ]
  },
  {
   "cell_type": "code",
   "execution_count": 12,
   "id": "793e8590",
   "metadata": {
    "ExecuteTime": {
     "end_time": "2023-09-03T15:04:07.590757Z",
     "start_time": "2023-09-03T15:04:07.358592Z"
    }
   },
   "outputs": [
    {
     "name": "stdout",
     "output_type": "stream",
     "text": [
      "<class 'pandas.core.frame.DataFrame'>\n",
      "RangeIndex: 1460 entries, 0 to 1459\n",
      "Data columns (total 81 columns):\n",
      " #   Column         Non-Null Count  Dtype  \n",
      "---  ------         --------------  -----  \n",
      " 0   Id             1460 non-null   int64  \n",
      " 1   MSSubClass     1460 non-null   int64  \n",
      " 2   MSZoning       1460 non-null   object \n",
      " 3   LotFrontage    1201 non-null   float64\n",
      " 4   LotArea        1460 non-null   int64  \n",
      " 5   Street         1460 non-null   object \n",
      " 6   Alley          91 non-null     object \n",
      " 7   LotShape       1460 non-null   object \n",
      " 8   LandContour    1460 non-null   object \n",
      " 9   Utilities      1460 non-null   object \n",
      " 10  LotConfig      1460 non-null   object \n",
      " 11  LandSlope      1460 non-null   object \n",
      " 12  Neighborhood   1460 non-null   object \n",
      " 13  Condition1     1460 non-null   object \n",
      " 14  Condition2     1460 non-null   object \n",
      " 15  BldgType       1460 non-null   object \n",
      " 16  HouseStyle     1460 non-null   object \n",
      " 17  OverallQual    1460 non-null   int64  \n",
      " 18  OverallCond    1460 non-null   int64  \n",
      " 19  YearBuilt      1460 non-null   int64  \n",
      " 20  YearRemodAdd   1460 non-null   int64  \n",
      " 21  RoofStyle      1460 non-null   object \n",
      " 22  RoofMatl       1460 non-null   object \n",
      " 23  Exterior1st    1460 non-null   object \n",
      " 24  Exterior2nd    1460 non-null   object \n",
      " 25  MasVnrType     1452 non-null   object \n",
      " 26  MasVnrArea     1452 non-null   float64\n",
      " 27  ExterQual      1460 non-null   object \n",
      " 28  ExterCond      1460 non-null   object \n",
      " 29  Foundation     1460 non-null   object \n",
      " 30  BsmtQual       1423 non-null   object \n",
      " 31  BsmtCond       1423 non-null   object \n",
      " 32  BsmtExposure   1422 non-null   object \n",
      " 33  BsmtFinType1   1423 non-null   object \n",
      " 34  BsmtFinSF1     1460 non-null   int64  \n",
      " 35  BsmtFinType2   1422 non-null   object \n",
      " 36  BsmtFinSF2     1460 non-null   int64  \n",
      " 37  BsmtUnfSF      1460 non-null   int64  \n",
      " 38  TotalBsmtSF    1460 non-null   int64  \n",
      " 39  Heating        1460 non-null   object \n",
      " 40  HeatingQC      1460 non-null   object \n",
      " 41  CentralAir     1460 non-null   object \n",
      " 42  Electrical     1459 non-null   object \n",
      " 43  1stFlrSF       1460 non-null   int64  \n",
      " 44  2ndFlrSF       1460 non-null   int64  \n",
      " 45  LowQualFinSF   1460 non-null   int64  \n",
      " 46  GrLivArea      1460 non-null   int64  \n",
      " 47  BsmtFullBath   1460 non-null   int64  \n",
      " 48  BsmtHalfBath   1460 non-null   int64  \n",
      " 49  FullBath       1460 non-null   int64  \n",
      " 50  HalfBath       1460 non-null   int64  \n",
      " 51  BedroomAbvGr   1460 non-null   int64  \n",
      " 52  KitchenAbvGr   1460 non-null   int64  \n",
      " 53  KitchenQual    1460 non-null   object \n",
      " 54  TotRmsAbvGrd   1460 non-null   int64  \n",
      " 55  Functional     1460 non-null   object \n",
      " 56  Fireplaces     1460 non-null   int64  \n",
      " 57  FireplaceQu    770 non-null    object \n",
      " 58  GarageType     1379 non-null   object \n",
      " 59  GarageYrBlt    1379 non-null   float64\n",
      " 60  GarageFinish   1379 non-null   object \n",
      " 61  GarageCars     1460 non-null   int64  \n",
      " 62  GarageArea     1460 non-null   int64  \n",
      " 63  GarageQual     1379 non-null   object \n",
      " 64  GarageCond     1379 non-null   object \n",
      " 65  PavedDrive     1460 non-null   object \n",
      " 66  WoodDeckSF     1460 non-null   int64  \n",
      " 67  OpenPorchSF    1460 non-null   int64  \n",
      " 68  EnclosedPorch  1460 non-null   int64  \n",
      " 69  3SsnPorch      1460 non-null   int64  \n",
      " 70  ScreenPorch    1460 non-null   int64  \n",
      " 71  PoolArea       1460 non-null   int64  \n",
      " 72  PoolQC         7 non-null      object \n",
      " 73  Fence          281 non-null    object \n",
      " 74  MiscFeature    54 non-null     object \n",
      " 75  MiscVal        1460 non-null   int64  \n",
      " 76  MoSold         1460 non-null   int64  \n",
      " 77  YrSold         1460 non-null   int64  \n",
      " 78  SaleType       1460 non-null   object \n",
      " 79  SaleCondition  1460 non-null   object \n",
      " 80  SalePrice      1460 non-null   int64  \n",
      "dtypes: float64(3), int64(35), object(43)\n",
      "memory usage: 924.0+ KB\n"
     ]
    }
   ],
   "source": [
    "df.info()"
   ]
  },
  {
   "cell_type": "code",
   "execution_count": 14,
   "id": "f372f0d7",
   "metadata": {
    "ExecuteTime": {
     "end_time": "2023-09-03T15:05:21.777427Z",
     "start_time": "2023-09-03T15:05:21.754231Z"
    }
   },
   "outputs": [
    {
     "data": {
      "text/plain": [
       "0     208500\n",
       "1     181500\n",
       "2     223500\n",
       "3     140000\n",
       "4     250000\n",
       "5     143000\n",
       "6     307000\n",
       "7     200000\n",
       "8     129900\n",
       "9     118000\n",
       "10    129500\n",
       "11    345000\n",
       "12    144000\n",
       "13    279500\n",
       "14    157000\n",
       "15    132000\n",
       "16    149000\n",
       "17     90000\n",
       "18    159000\n",
       "19    139000\n",
       "Name: SalePrice, dtype: int64"
      ]
     },
     "execution_count": 14,
     "metadata": {},
     "output_type": "execute_result"
    }
   ],
   "source": [
    "df.SalePrice.head(20)"
   ]
  },
  {
   "cell_type": "code",
   "execution_count": 16,
   "id": "a10d15b4",
   "metadata": {
    "ExecuteTime": {
     "end_time": "2023-09-03T15:05:54.501019Z",
     "start_time": "2023-09-03T15:05:54.468325Z"
    }
   },
   "outputs": [
    {
     "data": {
      "text/plain": [
       "(34900, 755000)"
      ]
     },
     "execution_count": 16,
     "metadata": {},
     "output_type": "execute_result"
    }
   ],
   "source": [
    "df.SalePrice.min(), df.SalePrice.max()"
   ]
  },
  {
   "cell_type": "markdown",
   "id": "df547402",
   "metadata": {},
   "source": [
    "# Descriptive Statistics\n",
    "\n",
    "Our target column in SalePrice\n",
    "\n",
    "## Measure of Central Tendency"
   ]
  },
  {
   "cell_type": "code",
   "execution_count": 27,
   "id": "75010b03",
   "metadata": {
    "ExecuteTime": {
     "end_time": "2023-09-03T15:12:30.171353Z",
     "start_time": "2023-09-03T15:12:30.150359Z"
    }
   },
   "outputs": [
    {
     "data": {
      "text/plain": [
       "180921.1959"
      ]
     },
     "execution_count": 27,
     "metadata": {},
     "output_type": "execute_result"
    }
   ],
   "source": [
    "mean = df.SalePrice.mean()\n",
    "round(mean,4)"
   ]
  },
  {
   "cell_type": "code",
   "execution_count": 21,
   "id": "fc357bc0",
   "metadata": {
    "ExecuteTime": {
     "end_time": "2023-09-03T15:09:37.810912Z",
     "start_time": "2023-09-03T15:09:37.799791Z"
    }
   },
   "outputs": [
    {
     "data": {
      "text/plain": [
       "pandas.core.series.Series"
      ]
     },
     "execution_count": 21,
     "metadata": {},
     "output_type": "execute_result"
    }
   ],
   "source": [
    "type(df['SalePrice'])"
   ]
  },
  {
   "cell_type": "code",
   "execution_count": 22,
   "id": "2298aa63",
   "metadata": {
    "ExecuteTime": {
     "end_time": "2023-09-03T15:09:49.989685Z",
     "start_time": "2023-09-03T15:09:49.962968Z"
    }
   },
   "outputs": [
    {
     "data": {
      "text/plain": [
       "pandas.core.frame.DataFrame"
      ]
     },
     "execution_count": 22,
     "metadata": {},
     "output_type": "execute_result"
    }
   ],
   "source": [
    "type(df[['SalePrice']])"
   ]
  },
  {
   "cell_type": "code",
   "execution_count": 23,
   "id": "93c8e445",
   "metadata": {
    "ExecuteTime": {
     "end_time": "2023-09-03T15:10:32.874767Z",
     "start_time": "2023-09-03T15:10:32.747203Z"
    }
   },
   "outputs": [
    {
     "data": {
      "text/plain": [
       "163000.0"
      ]
     },
     "execution_count": 23,
     "metadata": {},
     "output_type": "execute_result"
    }
   ],
   "source": [
    "median = df.SalePrice.median()\n",
    "median"
   ]
  },
  {
   "cell_type": "markdown",
   "id": "7341ef1c",
   "metadata": {},
   "source": [
    "central peak or central point of a normal distribution is where mean=median=mode"
   ]
  },
  {
   "cell_type": "code",
   "execution_count": 28,
   "id": "d486980a",
   "metadata": {
    "ExecuteTime": {
     "end_time": "2023-09-03T15:12:58.403276Z",
     "start_time": "2023-09-03T15:12:58.354827Z"
    }
   },
   "outputs": [
    {
     "data": {
      "text/plain": [
       "0    140000\n",
       "Name: SalePrice, dtype: int64"
      ]
     },
     "execution_count": 28,
     "metadata": {},
     "output_type": "execute_result"
    }
   ],
   "source": [
    "mode = df.SalePrice.mode()\n",
    "mode"
   ]
  },
  {
   "cell_type": "code",
   "execution_count": 37,
   "id": "4bd8a3bd",
   "metadata": {
    "ExecuteTime": {
     "end_time": "2023-09-03T15:19:27.222945Z",
     "start_time": "2023-09-03T15:19:26.979074Z"
    }
   },
   "outputs": [
    {
     "data": {
      "image/png": "[encoded data removed]",
      "text/plain": [
       "<Figure size 640x480 with 1 Axes>"
      ]
     },
     "metadata": {},
     "output_type": "display_data"
    }
   ],
   "source": [
    "sns.boxplot(data = df.SalePrice)\n",
    "plt.show()"
   ]
  },
  {
   "cell_type": "code",
   "execution_count": 36,
   "id": "664ff19f",
   "metadata": {
    "ExecuteTime": {
     "end_time": "2023-09-03T15:18:46.392736Z",
     "start_time": "2023-09-03T15:18:46.375542Z"
    }
   },
   "outputs": [
    {
     "name": "stdout",
     "output_type": "stream",
     "text": [
      "The value of Q1 is 129975.0 and Q3 is 214000.0 and the IQR is 84025.0\n"
     ]
    }
   ],
   "source": [
    "# lower quartile or q1 can be deduced as\n",
    "q1 = df.SalePrice.quantile(0.25)\n",
    "\n",
    "q3 = df.SalePrice.quantile(0.75)\n",
    "\n",
    "IQR = q3-q1\n",
    "print(f\"The value of Q1 is {q1} and Q3 is {q3} and the IQR is {IQR}\")"
   ]
  },
  {
   "cell_type": "markdown",
   "id": "2ad1b2d9",
   "metadata": {},
   "source": [
    "Upper Bound = Q3 + (1.5 * IQR) \\\n",
    "Lower Bound = Q1 - (1.5 * IQR)"
   ]
  },
  {
   "cell_type": "code",
   "execution_count": 38,
   "id": "8bff8cf1",
   "metadata": {
    "ExecuteTime": {
     "end_time": "2023-09-03T15:24:06.427343Z",
     "start_time": "2023-09-03T15:24:06.413602Z"
    }
   },
   "outputs": [],
   "source": [
    "UB = q3 + (1.5*IQR)\n",
    "LB = q1 - (1.5*IQR)"
   ]
  },
  {
   "cell_type": "code",
   "execution_count": 42,
   "id": "5c7b5e8b",
   "metadata": {
    "ExecuteTime": {
     "end_time": "2023-09-03T15:25:02.384542Z",
     "start_time": "2023-09-03T15:25:02.370427Z"
    }
   },
   "outputs": [
    {
     "data": {
      "text/plain": [
       "61"
      ]
     },
     "execution_count": 42,
     "metadata": {},
     "output_type": "execute_result"
    }
   ],
   "source": [
    "len(df[df['SalePrice']>UB])"
   ]
  },
  {
   "cell_type": "code",
   "execution_count": 44,
   "id": "3d9ecd6e",
   "metadata": {
    "ExecuteTime": {
     "end_time": "2023-09-03T15:29:51.376408Z",
     "start_time": "2023-09-03T15:29:51.342208Z"
    }
   },
   "outputs": [
    {
     "data": {
      "text/plain": [
       "0"
      ]
     },
     "execution_count": 44,
     "metadata": {},
     "output_type": "execute_result"
    }
   ],
   "source": [
    "len(df[df['SalePrice']<LB])"
   ]
  },
  {
   "cell_type": "code",
   "execution_count": 45,
   "id": "91a866ac",
   "metadata": {
    "ExecuteTime": {
     "end_time": "2023-09-03T15:30:04.278537Z",
     "start_time": "2023-09-03T15:30:04.272091Z"
    }
   },
   "outputs": [
    {
     "data": {
      "text/plain": [
       "(3937.5, 34900)"
      ]
     },
     "execution_count": 45,
     "metadata": {},
     "output_type": "execute_result"
    }
   ],
   "source": [
    "LB, df.SalePrice.min()"
   ]
  },
  {
   "cell_type": "markdown",
   "id": "2c94aa79",
   "metadata": {},
   "source": [
    "### Skewness"
   ]
  },
  {
   "cell_type": "code",
   "execution_count": 56,
   "id": "9ee6fb64",
   "metadata": {
    "ExecuteTime": {
     "end_time": "2023-09-03T15:40:54.437216Z",
     "start_time": "2023-09-03T15:40:54.074169Z"
    }
   },
   "outputs": [
    {
     "name": "stderr",
     "output_type": "stream",
     "text": [
      "/tmp/ipykernel_41739/4280175316.py:1: UserWarning: \n",
      "\n",
      "`distplot` is a deprecated function and will be removed in seaborn v0.14.0.\n",
      "\n",
      "Please adapt your code to use either `displot` (a figure-level function with\n",
      "similar flexibility) or `histplot` (an axes-level function for histograms).\n",
      "\n",
      "For a guide to updating your code to use the new functions, please see\n",
      "https://gist.github.com/mwaskom/de44147ed2974457ad6372750bbe5751\n",
      "\n",
      "  sns.distplot(df.SalePrice)\n"
     ]
    },
    {
     "data": {
      "image/png": "[encoded data removed]",
      "text/plain": [
       "<Figure size 640x480 with 1 Axes>"
      ]
     },
     "metadata": {},
     "output_type": "display_data"
    }
   ],
   "source": [
    "sns.distplot(df.SalePrice)\n",
    "plt.axvline(mean, color='red', linestyle='dashed', linewidth=2, label='Mean')\n",
    "plt.axvline(median, color='red', linestyle='solid', linewidth=2, label='Median')\n",
    "plt.axvline(mode[0], color='red', linestyle='dashdot', linewidth=2, label='Mode')\n",
    "plt.show()"
   ]
  },
  {
   "attachments": {
    "image.png": {
     "image/png": "[encoded data removed]"
    }
   },
   "cell_type": "markdown",
   "id": "325e1c1a",
   "metadata": {},
   "source": [
    "![image.png](attachment:image.png)\n",
    "Therefore, the data is positively skewed"
   ]
  },
  {
   "cell_type": "code",
   "execution_count": 57,
   "id": "3d124dba",
   "metadata": {
    "ExecuteTime": {
     "end_time": "2023-09-03T15:41:21.552988Z",
     "start_time": "2023-09-03T15:41:21.534096Z"
    }
   },
   "outputs": [
    {
     "data": {
      "text/plain": [
       "(140000, 163000.0, 180921.19589041095)"
      ]
     },
     "execution_count": 57,
     "metadata": {},
     "output_type": "execute_result"
    }
   ],
   "source": [
    "mode[0], median, mean"
   ]
  },
  {
   "cell_type": "code",
   "execution_count": 59,
   "id": "3b981837",
   "metadata": {
    "ExecuteTime": {
     "end_time": "2023-09-03T15:41:58.098157Z",
     "start_time": "2023-09-03T15:41:58.077293Z"
    }
   },
   "outputs": [
    {
     "data": {
      "text/plain": [
       "140000    20\n",
       "135000    17\n",
       "155000    14\n",
       "145000    14\n",
       "190000    13\n",
       "          ..\n",
       "202665     1\n",
       "164900     1\n",
       "208300     1\n",
       "181500     1\n",
       "147500     1\n",
       "Name: SalePrice, Length: 663, dtype: int64"
      ]
     },
     "execution_count": 59,
     "metadata": {},
     "output_type": "execute_result"
    }
   ],
   "source": [
    "df.SalePrice.value_counts()"
   ]
  },
  {
   "cell_type": "markdown",
   "id": "e12f9991",
   "metadata": {},
   "source": [
    "## Spread of The Data"
   ]
  },
  {
   "cell_type": "code",
   "execution_count": 61,
   "id": "4b83f5bc",
   "metadata": {
    "ExecuteTime": {
     "end_time": "2023-09-03T15:50:41.540102Z",
     "start_time": "2023-09-03T15:50:41.513627Z"
    }
   },
   "outputs": [
    {
     "data": {
      "text/plain": [
       "720100"
      ]
     },
     "execution_count": 61,
     "metadata": {},
     "output_type": "execute_result"
    }
   ],
   "source": [
    "Min = df.SalePrice.min()\n",
    "Max = df.SalePrice.max()\n",
    "Range = Max - Min\n",
    "Range"
   ]
  },
  {
   "cell_type": "markdown",
   "id": "20760a62",
   "metadata": {},
   "source": [
    "## standard variance and deviation"
   ]
  },
  {
   "cell_type": "code",
   "execution_count": 62,
   "id": "2d9478ff",
   "metadata": {
    "ExecuteTime": {
     "end_time": "2023-09-03T15:54:27.279095Z",
     "start_time": "2023-09-03T15:54:27.260145Z"
    }
   },
   "outputs": [
    {
     "data": {
      "text/plain": [
       "(79442.50288288662, 6311111264.297449, 6311111264.297448)"
      ]
     },
     "execution_count": 62,
     "metadata": {},
     "output_type": "execute_result"
    }
   ],
   "source": [
    "standard_deviation = df.SalePrice.std()\n",
    "standard_variance = df.SalePrice.var()\n",
    "standard_deviation, standard_deviation**2, standard_variance"
   ]
  },
  {
   "cell_type": "code",
   "execution_count": 66,
   "id": "0b77e91d",
   "metadata": {
    "ExecuteTime": {
     "end_time": "2023-09-03T16:00:29.266559Z",
     "start_time": "2023-09-03T16:00:29.168079Z"
    }
   },
   "outputs": [
    {
     "name": "stderr",
     "output_type": "stream",
     "text": [
      "/tmp/ipykernel_41739/1134722465.py:1: FutureWarning: The default value of numeric_only in DataFrame.corr is deprecated. In a future version, it will default to False. Select only valid columns or specify the value of numeric_only to silence this warning.\n",
      "  df.corr()\n"
     ]
    },
    {
     "data": {
      "text/html": [
       "<div>\n",
       "<style scoped>\n",
       "    .dataframe tbody tr th:only-of-type {\n",
       "        vertical-align: middle;\n",
       "    }\n",
       "\n",
       "    .dataframe tbody tr th {\n",
       "        vertical-align: top;\n",
       "    }\n",
       "\n",
       "    .dataframe thead th {\n",
       "        text-align: right;\n",
       "    }\n",
       "</style>\n",
       "<table border=\"1\" class=\"dataframe\">\n",
       "  <thead>\n",
       "    <tr style=\"text-align: right;\">\n",
       "      <th></th>\n",
       "      <th>Id</th>\n",
       "      <th>MSSubClass</th>\n",
       "      <th>LotFrontage</th>\n",
       "      <th>LotArea</th>\n",
       "      <th>OverallQual</th>\n",
       "      <th>...</th>\n",
       "      <th>PoolArea</th>\n",
       "      <th>MiscVal</th>\n",
       "      <th>MoSold</th>\n",
       "      <th>YrSold</th>\n",
       "      <th>SalePrice</th>\n",
       "    </tr>\n",
       "  </thead>\n",
       "  <tbody>\n",
       "    <tr>\n",
       "      <th>Id</th>\n",
       "      <td>1.000000</td>\n",
       "      <td>0.011156</td>\n",
       "      <td>-0.010601</td>\n",
       "      <td>-0.033226</td>\n",
       "      <td>-0.028365</td>\n",
       "      <td>...</td>\n",
       "      <td>0.057044</td>\n",
       "      <td>-0.006242</td>\n",
       "      <td>0.021172</td>\n",
       "      <td>0.000712</td>\n",
       "      <td>-0.021917</td>\n",
       "    </tr>\n",
       "    <tr>\n",
       "      <th>MSSubClass</th>\n",
       "      <td>0.011156</td>\n",
       "      <td>1.000000</td>\n",
       "      <td>-0.386347</td>\n",
       "      <td>-0.139781</td>\n",
       "      <td>0.032628</td>\n",
       "      <td>...</td>\n",
       "      <td>0.008283</td>\n",
       "      <td>-0.007683</td>\n",
       "      <td>-0.013585</td>\n",
       "      <td>-0.021407</td>\n",
       "      <td>-0.084284</td>\n",
       "    </tr>\n",
       "    <tr>\n",
       "      <th>LotFrontage</th>\n",
       "      <td>-0.010601</td>\n",
       "      <td>-0.386347</td>\n",
       "      <td>1.000000</td>\n",
       "      <td>0.426095</td>\n",
       "      <td>0.251646</td>\n",
       "      <td>...</td>\n",
       "      <td>0.206167</td>\n",
       "      <td>0.003368</td>\n",
       "      <td>0.011200</td>\n",
       "      <td>0.007450</td>\n",
       "      <td>0.351799</td>\n",
       "    </tr>\n",
       "    <tr>\n",
       "      <th>LotArea</th>\n",
       "      <td>-0.033226</td>\n",
       "      <td>-0.139781</td>\n",
       "      <td>0.426095</td>\n",
       "      <td>1.000000</td>\n",
       "      <td>0.105806</td>\n",
       "      <td>...</td>\n",
       "      <td>0.077672</td>\n",
       "      <td>0.038068</td>\n",
       "      <td>0.001205</td>\n",
       "      <td>-0.014261</td>\n",
       "      <td>0.263843</td>\n",
       "    </tr>\n",
       "    <tr>\n",
       "      <th>OverallQual</th>\n",
       "      <td>-0.028365</td>\n",
       "      <td>0.032628</td>\n",
       "      <td>0.251646</td>\n",
       "      <td>0.105806</td>\n",
       "      <td>1.000000</td>\n",
       "      <td>...</td>\n",
       "      <td>0.065166</td>\n",
       "      <td>-0.031406</td>\n",
       "      <td>0.070815</td>\n",
       "      <td>-0.027347</td>\n",
       "      <td>0.790982</td>\n",
       "    </tr>\n",
       "    <tr>\n",
       "      <th>OverallCond</th>\n",
       "      <td>0.012609</td>\n",
       "      <td>-0.059316</td>\n",
       "      <td>-0.059213</td>\n",
       "      <td>-0.005636</td>\n",
       "      <td>-0.091932</td>\n",
       "      <td>...</td>\n",
       "      <td>-0.001985</td>\n",
       "      <td>0.068777</td>\n",
       "      <td>-0.003511</td>\n",
       "      <td>0.043950</td>\n",
       "      <td>-0.077856</td>\n",
       "    </tr>\n",
       "    <tr>\n",
       "      <th>YearBuilt</th>\n",
       "      <td>-0.012713</td>\n",
       "      <td>0.027850</td>\n",
       "      <td>0.123349</td>\n",
       "      <td>0.014228</td>\n",
       "      <td>0.572323</td>\n",
       "      <td>...</td>\n",
       "      <td>0.004950</td>\n",
       "      <td>-0.034383</td>\n",
       "      <td>0.012398</td>\n",
       "      <td>-0.013618</td>\n",
       "      <td>0.522897</td>\n",
       "    </tr>\n",
       "    <tr>\n",
       "      <th>YearRemodAdd</th>\n",
       "      <td>-0.021998</td>\n",
       "      <td>0.040581</td>\n",
       "      <td>0.088866</td>\n",
       "      <td>0.013788</td>\n",
       "      <td>0.550684</td>\n",
       "      <td>...</td>\n",
       "      <td>0.005829</td>\n",
       "      <td>-0.010286</td>\n",
       "      <td>0.021490</td>\n",
       "      <td>0.035743</td>\n",
       "      <td>0.507101</td>\n",
       "    </tr>\n",
       "    <tr>\n",
       "      <th>MasVnrArea</th>\n",
       "      <td>-0.050298</td>\n",
       "      <td>0.022936</td>\n",
       "      <td>0.193458</td>\n",
       "      <td>0.104160</td>\n",
       "      <td>0.411876</td>\n",
       "      <td>...</td>\n",
       "      <td>0.011723</td>\n",
       "      <td>-0.029815</td>\n",
       "      <td>-0.005965</td>\n",
       "      <td>-0.008201</td>\n",
       "      <td>0.477493</td>\n",
       "    </tr>\n",
       "    <tr>\n",
       "      <th>BsmtFinSF1</th>\n",
       "      <td>-0.005024</td>\n",
       "      <td>-0.069836</td>\n",
       "      <td>0.233633</td>\n",
       "      <td>0.214103</td>\n",
       "      <td>0.239666</td>\n",
       "      <td>...</td>\n",
       "      <td>0.140491</td>\n",
       "      <td>0.003571</td>\n",
       "      <td>-0.015727</td>\n",
       "      <td>0.014359</td>\n",
       "      <td>0.386420</td>\n",
       "    </tr>\n",
       "    <tr>\n",
       "      <th>BsmtFinSF2</th>\n",
       "      <td>-0.005968</td>\n",
       "      <td>-0.065649</td>\n",
       "      <td>0.049900</td>\n",
       "      <td>0.111170</td>\n",
       "      <td>-0.059119</td>\n",
       "      <td>...</td>\n",
       "      <td>0.041709</td>\n",
       "      <td>0.004940</td>\n",
       "      <td>-0.015211</td>\n",
       "      <td>0.031706</td>\n",
       "      <td>-0.011378</td>\n",
       "    </tr>\n",
       "    <tr>\n",
       "      <th>BsmtUnfSF</th>\n",
       "      <td>-0.007940</td>\n",
       "      <td>-0.140759</td>\n",
       "      <td>0.132644</td>\n",
       "      <td>-0.002618</td>\n",
       "      <td>0.308159</td>\n",
       "      <td>...</td>\n",
       "      <td>-0.035092</td>\n",
       "      <td>-0.023837</td>\n",
       "      <td>0.034888</td>\n",
       "      <td>-0.041258</td>\n",
       "      <td>0.214479</td>\n",
       "    </tr>\n",
       "    <tr>\n",
       "      <th>TotalBsmtSF</th>\n",
       "      <td>-0.015415</td>\n",
       "      <td>-0.238518</td>\n",
       "      <td>0.392075</td>\n",
       "      <td>0.260833</td>\n",
       "      <td>0.537808</td>\n",
       "      <td>...</td>\n",
       "      <td>0.126053</td>\n",
       "      <td>-0.018479</td>\n",
       "      <td>0.013196</td>\n",
       "      <td>-0.014969</td>\n",
       "      <td>0.613581</td>\n",
       "    </tr>\n",
       "    <tr>\n",
       "      <th>1stFlrSF</th>\n",
       "      <td>0.010496</td>\n",
       "      <td>-0.251758</td>\n",
       "      <td>0.457181</td>\n",
       "      <td>0.299475</td>\n",
       "      <td>0.476224</td>\n",
       "      <td>...</td>\n",
       "      <td>0.131525</td>\n",
       "      <td>-0.021096</td>\n",
       "      <td>0.031372</td>\n",
       "      <td>-0.013604</td>\n",
       "      <td>0.605852</td>\n",
       "    </tr>\n",
       "    <tr>\n",
       "      <th>2ndFlrSF</th>\n",
       "      <td>0.005590</td>\n",
       "      <td>0.307886</td>\n",
       "      <td>0.080177</td>\n",
       "      <td>0.050986</td>\n",
       "      <td>0.295493</td>\n",
       "      <td>...</td>\n",
       "      <td>0.081487</td>\n",
       "      <td>0.016197</td>\n",
       "      <td>0.035164</td>\n",
       "      <td>-0.028700</td>\n",
       "      <td>0.319334</td>\n",
       "    </tr>\n",
       "    <tr>\n",
       "      <th>LowQualFinSF</th>\n",
       "      <td>-0.044230</td>\n",
       "      <td>0.046474</td>\n",
       "      <td>0.038469</td>\n",
       "      <td>0.004779</td>\n",
       "      <td>-0.030429</td>\n",
       "      <td>...</td>\n",
       "      <td>0.062157</td>\n",
       "      <td>-0.003793</td>\n",
       "      <td>-0.022174</td>\n",
       "      <td>-0.028921</td>\n",
       "      <td>-0.025606</td>\n",
       "    </tr>\n",
       "    <tr>\n",
       "      <th>GrLivArea</th>\n",
       "      <td>0.008273</td>\n",
       "      <td>0.074853</td>\n",
       "      <td>0.402797</td>\n",
       "      <td>0.263116</td>\n",
       "      <td>0.593007</td>\n",
       "      <td>...</td>\n",
       "      <td>0.170205</td>\n",
       "      <td>-0.002416</td>\n",
       "      <td>0.050240</td>\n",
       "      <td>-0.036526</td>\n",
       "      <td>0.708624</td>\n",
       "    </tr>\n",
       "    <tr>\n",
       "      <th>BsmtFullBath</th>\n",
       "      <td>0.002289</td>\n",
       "      <td>0.003491</td>\n",
       "      <td>0.100949</td>\n",
       "      <td>0.158155</td>\n",
       "      <td>0.111098</td>\n",
       "      <td>...</td>\n",
       "      <td>0.067616</td>\n",
       "      <td>-0.023047</td>\n",
       "      <td>-0.025361</td>\n",
       "      <td>0.067049</td>\n",
       "      <td>0.227122</td>\n",
       "    </tr>\n",
       "    <tr>\n",
       "      <th>BsmtHalfBath</th>\n",
       "      <td>-0.020155</td>\n",
       "      <td>-0.002333</td>\n",
       "      <td>-0.007234</td>\n",
       "      <td>0.048046</td>\n",
       "      <td>-0.040150</td>\n",
       "      <td>...</td>\n",
       "      <td>0.020025</td>\n",
       "      <td>-0.007367</td>\n",
       "      <td>0.032873</td>\n",
       "      <td>-0.046524</td>\n",
       "      <td>-0.016844</td>\n",
       "    </tr>\n",
       "    <tr>\n",
       "      <th>FullBath</th>\n",
       "      <td>0.005587</td>\n",
       "      <td>0.131608</td>\n",
       "      <td>0.198769</td>\n",
       "      <td>0.126031</td>\n",
       "      <td>0.550600</td>\n",
       "      <td>...</td>\n",
       "      <td>0.049604</td>\n",
       "      <td>-0.014290</td>\n",
       "      <td>0.055872</td>\n",
       "      <td>-0.019669</td>\n",
       "      <td>0.560664</td>\n",
       "    </tr>\n",
       "    <tr>\n",
       "      <th>HalfBath</th>\n",
       "      <td>0.006784</td>\n",
       "      <td>0.177354</td>\n",
       "      <td>0.053532</td>\n",
       "      <td>0.014259</td>\n",
       "      <td>0.273458</td>\n",
       "      <td>...</td>\n",
       "      <td>0.022381</td>\n",
       "      <td>0.001290</td>\n",
       "      <td>-0.009050</td>\n",
       "      <td>-0.010269</td>\n",
       "      <td>0.284108</td>\n",
       "    </tr>\n",
       "    <tr>\n",
       "      <th>BedroomAbvGr</th>\n",
       "      <td>0.037719</td>\n",
       "      <td>-0.023438</td>\n",
       "      <td>0.263170</td>\n",
       "      <td>0.119690</td>\n",
       "      <td>0.101676</td>\n",
       "      <td>...</td>\n",
       "      <td>0.070703</td>\n",
       "      <td>0.007767</td>\n",
       "      <td>0.046544</td>\n",
       "      <td>-0.036014</td>\n",
       "      <td>0.168213</td>\n",
       "    </tr>\n",
       "    <tr>\n",
       "      <th>KitchenAbvGr</th>\n",
       "      <td>0.002951</td>\n",
       "      <td>0.281721</td>\n",
       "      <td>-0.006069</td>\n",
       "      <td>-0.017784</td>\n",
       "      <td>-0.183882</td>\n",
       "      <td>...</td>\n",
       "      <td>-0.014525</td>\n",
       "      <td>0.062341</td>\n",
       "      <td>0.026589</td>\n",
       "      <td>0.031687</td>\n",
       "      <td>-0.135907</td>\n",
       "    </tr>\n",
       "    <tr>\n",
       "      <th>TotRmsAbvGrd</th>\n",
       "      <td>0.027239</td>\n",
       "      <td>0.040380</td>\n",
       "      <td>0.352096</td>\n",
       "      <td>0.190015</td>\n",
       "      <td>0.427452</td>\n",
       "      <td>...</td>\n",
       "      <td>0.083757</td>\n",
       "      <td>0.024763</td>\n",
       "      <td>0.036907</td>\n",
       "      <td>-0.034516</td>\n",
       "      <td>0.533723</td>\n",
       "    </tr>\n",
       "    <tr>\n",
       "      <th>Fireplaces</th>\n",
       "      <td>-0.019772</td>\n",
       "      <td>-0.045569</td>\n",
       "      <td>0.266639</td>\n",
       "      <td>0.271364</td>\n",
       "      <td>0.396765</td>\n",
       "      <td>...</td>\n",
       "      <td>0.095074</td>\n",
       "      <td>0.001409</td>\n",
       "      <td>0.046357</td>\n",
       "      <td>-0.024096</td>\n",
       "      <td>0.466929</td>\n",
       "    </tr>\n",
       "    <tr>\n",
       "      <th>GarageYrBlt</th>\n",
       "      <td>0.000072</td>\n",
       "      <td>0.085072</td>\n",
       "      <td>0.070250</td>\n",
       "      <td>-0.024947</td>\n",
       "      <td>0.547766</td>\n",
       "      <td>...</td>\n",
       "      <td>-0.014501</td>\n",
       "      <td>-0.032417</td>\n",
       "      <td>0.005337</td>\n",
       "      <td>-0.001014</td>\n",
       "      <td>0.486362</td>\n",
       "    </tr>\n",
       "    <tr>\n",
       "      <th>GarageCars</th>\n",
       "      <td>0.016570</td>\n",
       "      <td>-0.040110</td>\n",
       "      <td>0.285691</td>\n",
       "      <td>0.154871</td>\n",
       "      <td>0.600671</td>\n",
       "      <td>...</td>\n",
       "      <td>0.020934</td>\n",
       "      <td>-0.043080</td>\n",
       "      <td>0.040522</td>\n",
       "      <td>-0.039117</td>\n",
       "      <td>0.640409</td>\n",
       "    </tr>\n",
       "    <tr>\n",
       "      <th>GarageArea</th>\n",
       "      <td>0.017634</td>\n",
       "      <td>-0.098672</td>\n",
       "      <td>0.344997</td>\n",
       "      <td>0.180403</td>\n",
       "      <td>0.562022</td>\n",
       "      <td>...</td>\n",
       "      <td>0.061047</td>\n",
       "      <td>-0.027400</td>\n",
       "      <td>0.027974</td>\n",
       "      <td>-0.027378</td>\n",
       "      <td>0.623431</td>\n",
       "    </tr>\n",
       "    <tr>\n",
       "      <th>WoodDeckSF</th>\n",
       "      <td>-0.029643</td>\n",
       "      <td>-0.012579</td>\n",
       "      <td>0.088521</td>\n",
       "      <td>0.171698</td>\n",
       "      <td>0.238923</td>\n",
       "      <td>...</td>\n",
       "      <td>0.073378</td>\n",
       "      <td>-0.009551</td>\n",
       "      <td>0.021011</td>\n",
       "      <td>0.022270</td>\n",
       "      <td>0.324413</td>\n",
       "    </tr>\n",
       "    <tr>\n",
       "      <th>OpenPorchSF</th>\n",
       "      <td>-0.000477</td>\n",
       "      <td>-0.006100</td>\n",
       "      <td>0.151972</td>\n",
       "      <td>0.084774</td>\n",
       "      <td>0.308819</td>\n",
       "      <td>...</td>\n",
       "      <td>0.060762</td>\n",
       "      <td>-0.018584</td>\n",
       "      <td>0.071255</td>\n",
       "      <td>-0.057619</td>\n",
       "      <td>0.315856</td>\n",
       "    </tr>\n",
       "    <tr>\n",
       "      <th>EnclosedPorch</th>\n",
       "      <td>0.002889</td>\n",
       "      <td>-0.012037</td>\n",
       "      <td>0.010700</td>\n",
       "      <td>-0.018340</td>\n",
       "      <td>-0.113937</td>\n",
       "      <td>...</td>\n",
       "      <td>0.054203</td>\n",
       "      <td>0.018361</td>\n",
       "      <td>-0.028887</td>\n",
       "      <td>-0.009916</td>\n",
       "      <td>-0.128578</td>\n",
       "    </tr>\n",
       "    <tr>\n",
       "      <th>3SsnPorch</th>\n",
       "      <td>-0.046635</td>\n",
       "      <td>-0.043825</td>\n",
       "      <td>0.070029</td>\n",
       "      <td>0.020423</td>\n",
       "      <td>0.030371</td>\n",
       "      <td>...</td>\n",
       "      <td>-0.007992</td>\n",
       "      <td>0.000354</td>\n",
       "      <td>0.029474</td>\n",
       "      <td>0.018645</td>\n",
       "      <td>0.044584</td>\n",
       "    </tr>\n",
       "    <tr>\n",
       "      <th>ScreenPorch</th>\n",
       "      <td>0.001330</td>\n",
       "      <td>-0.026030</td>\n",
       "      <td>0.041383</td>\n",
       "      <td>0.043160</td>\n",
       "      <td>0.064886</td>\n",
       "      <td>...</td>\n",
       "      <td>0.051307</td>\n",
       "      <td>0.031946</td>\n",
       "      <td>0.023217</td>\n",
       "      <td>0.010694</td>\n",
       "      <td>0.111447</td>\n",
       "    </tr>\n",
       "    <tr>\n",
       "      <th>PoolArea</th>\n",
       "      <td>0.057044</td>\n",
       "      <td>0.008283</td>\n",
       "      <td>0.206167</td>\n",
       "      <td>0.077672</td>\n",
       "      <td>0.065166</td>\n",
       "      <td>...</td>\n",
       "      <td>1.000000</td>\n",
       "      <td>0.029669</td>\n",
       "      <td>-0.033737</td>\n",
       "      <td>-0.059689</td>\n",
       "      <td>0.092404</td>\n",
       "    </tr>\n",
       "    <tr>\n",
       "      <th>MiscVal</th>\n",
       "      <td>-0.006242</td>\n",
       "      <td>-0.007683</td>\n",
       "      <td>0.003368</td>\n",
       "      <td>0.038068</td>\n",
       "      <td>-0.031406</td>\n",
       "      <td>...</td>\n",
       "      <td>0.029669</td>\n",
       "      <td>1.000000</td>\n",
       "      <td>-0.006495</td>\n",
       "      <td>0.004906</td>\n",
       "      <td>-0.021190</td>\n",
       "    </tr>\n",
       "    <tr>\n",
       "      <th>MoSold</th>\n",
       "      <td>0.021172</td>\n",
       "      <td>-0.013585</td>\n",
       "      <td>0.011200</td>\n",
       "      <td>0.001205</td>\n",
       "      <td>0.070815</td>\n",
       "      <td>...</td>\n",
       "      <td>-0.033737</td>\n",
       "      <td>-0.006495</td>\n",
       "      <td>1.000000</td>\n",
       "      <td>-0.145721</td>\n",
       "      <td>0.046432</td>\n",
       "    </tr>\n",
       "    <tr>\n",
       "      <th>YrSold</th>\n",
       "      <td>0.000712</td>\n",
       "      <td>-0.021407</td>\n",
       "      <td>0.007450</td>\n",
       "      <td>-0.014261</td>\n",
       "      <td>-0.027347</td>\n",
       "      <td>...</td>\n",
       "      <td>-0.059689</td>\n",
       "      <td>0.004906</td>\n",
       "      <td>-0.145721</td>\n",
       "      <td>1.000000</td>\n",
       "      <td>-0.028923</td>\n",
       "    </tr>\n",
       "    <tr>\n",
       "      <th>SalePrice</th>\n",
       "      <td>-0.021917</td>\n",
       "      <td>-0.084284</td>\n",
       "      <td>0.351799</td>\n",
       "      <td>0.263843</td>\n",
       "      <td>0.790982</td>\n",
       "      <td>...</td>\n",
       "      <td>0.092404</td>\n",
       "      <td>-0.021190</td>\n",
       "      <td>0.046432</td>\n",
       "      <td>-0.028923</td>\n",
       "      <td>1.000000</td>\n",
       "    </tr>\n",
       "  </tbody>\n",
       "</table>\n",
       "<p>38 rows × 38 columns</p>\n",
       "</div>"
      ],
      "text/plain": [
       "                     Id  MSSubClass  LotFrontage   LotArea  OverallQual  ...  \\\n",
       "Id             1.000000    0.011156    -0.010601 -0.033226    -0.028365  ...   \n",
       "MSSubClass     0.011156    1.000000    -0.386347 -0.139781     0.032628  ...   \n",
       "LotFrontage   -0.010601   -0.386347     1.000000  0.426095     0.251646  ...   \n",
       "LotArea       -0.033226   -0.139781     0.426095  1.000000     0.105806  ...   \n",
       "OverallQual   -0.028365    0.032628     0.251646  0.105806     1.000000  ...   \n",
       "OverallCond    0.012609   -0.059316    -0.059213 -0.005636    -0.091932  ...   \n",
       "YearBuilt     -0.012713    0.027850     0.123349  0.014228     0.572323  ...   \n",
       "YearRemodAdd  -0.021998    0.040581     0.088866  0.013788     0.550684  ...   \n",
       "MasVnrArea    -0.050298    0.022936     0.193458  0.104160     0.411876  ...   \n",
       "BsmtFinSF1    -0.005024   -0.069836     0.233633  0.214103     0.239666  ...   \n",
       "BsmtFinSF2    -0.005968   -0.065649     0.049900  0.111170    -0.059119  ...   \n",
       "BsmtUnfSF     -0.007940   -0.140759     0.132644 -0.002618     0.308159  ...   \n",
       "TotalBsmtSF   -0.015415   -0.238518     0.392075  0.260833     0.537808  ...   \n",
       "1stFlrSF       0.010496   -0.251758     0.457181  0.299475     0.476224  ...   \n",
       "2ndFlrSF       0.005590    0.307886     0.080177  0.050986     0.295493  ...   \n",
       "LowQualFinSF  -0.044230    0.046474     0.038469  0.004779    -0.030429  ...   \n",
       "GrLivArea      0.008273    0.074853     0.402797  0.263116     0.593007  ...   \n",
       "BsmtFullBath   0.002289    0.003491     0.100949  0.158155     0.111098  ...   \n",
       "BsmtHalfBath  -0.020155   -0.002333    -0.007234  0.048046    -0.040150  ...   \n",
       "FullBath       0.005587    0.131608     0.198769  0.126031     0.550600  ...   \n",
       "HalfBath       0.006784    0.177354     0.053532  0.014259     0.273458  ...   \n",
       "BedroomAbvGr   0.037719   -0.023438     0.263170  0.119690     0.101676  ...   \n",
       "KitchenAbvGr   0.002951    0.281721    -0.006069 -0.017784    -0.183882  ...   \n",
       "TotRmsAbvGrd   0.027239    0.040380     0.352096  0.190015     0.427452  ...   \n",
       "Fireplaces    -0.019772   -0.045569     0.266639  0.271364     0.396765  ...   \n",
       "GarageYrBlt    0.000072    0.085072     0.070250 -0.024947     0.547766  ...   \n",
       "GarageCars     0.016570   -0.040110     0.285691  0.154871     0.600671  ...   \n",
       "GarageArea     0.017634   -0.098672     0.344997  0.180403     0.562022  ...   \n",
       "WoodDeckSF    -0.029643   -0.012579     0.088521  0.171698     0.238923  ...   \n",
       "OpenPorchSF   -0.000477   -0.006100     0.151972  0.084774     0.308819  ...   \n",
       "EnclosedPorch  0.002889   -0.012037     0.010700 -0.018340    -0.113937  ...   \n",
       "3SsnPorch     -0.046635   -0.043825     0.070029  0.020423     0.030371  ...   \n",
       "ScreenPorch    0.001330   -0.026030     0.041383  0.043160     0.064886  ...   \n",
       "PoolArea       0.057044    0.008283     0.206167  0.077672     0.065166  ...   \n",
       "MiscVal       -0.006242   -0.007683     0.003368  0.038068    -0.031406  ...   \n",
       "MoSold         0.021172   -0.013585     0.011200  0.001205     0.070815  ...   \n",
       "YrSold         0.000712   -0.021407     0.007450 -0.014261    -0.027347  ...   \n",
       "SalePrice     -0.021917   -0.084284     0.351799  0.263843     0.790982  ...   \n",
       "\n",
       "               PoolArea   MiscVal    MoSold    YrSold  SalePrice  \n",
       "Id             0.057044 -0.006242  0.021172  0.000712  -0.021917  \n",
       "MSSubClass     0.008283 -0.007683 -0.013585 -0.021407  -0.084284  \n",
       "LotFrontage    0.206167  0.003368  0.011200  0.007450   0.351799  \n",
       "LotArea        0.077672  0.038068  0.001205 -0.014261   0.263843  \n",
       "OverallQual    0.065166 -0.031406  0.070815 -0.027347   0.790982  \n",
       "OverallCond   -0.001985  0.068777 -0.003511  0.043950  -0.077856  \n",
       "YearBuilt      0.004950 -0.034383  0.012398 -0.013618   0.522897  \n",
       "YearRemodAdd   0.005829 -0.010286  0.021490  0.035743   0.507101  \n",
       "MasVnrArea     0.011723 -0.029815 -0.005965 -0.008201   0.477493  \n",
       "BsmtFinSF1     0.140491  0.003571 -0.015727  0.014359   0.386420  \n",
       "BsmtFinSF2     0.041709  0.004940 -0.015211  0.031706  -0.011378  \n",
       "BsmtUnfSF     -0.035092 -0.023837  0.034888 -0.041258   0.214479  \n",
       "TotalBsmtSF    0.126053 -0.018479  0.013196 -0.014969   0.613581  \n",
       "1stFlrSF       0.131525 -0.021096  0.031372 -0.013604   0.605852  \n",
       "2ndFlrSF       0.081487  0.016197  0.035164 -0.028700   0.319334  \n",
       "LowQualFinSF   0.062157 -0.003793 -0.022174 -0.028921  -0.025606  \n",
       "GrLivArea      0.170205 -0.002416  0.050240 -0.036526   0.708624  \n",
       "BsmtFullBath   0.067616 -0.023047 -0.025361  0.067049   0.227122  \n",
       "BsmtHalfBath   0.020025 -0.007367  0.032873 -0.046524  -0.016844  \n",
       "FullBath       0.049604 -0.014290  0.055872 -0.019669   0.560664  \n",
       "HalfBath       0.022381  0.001290 -0.009050 -0.010269   0.284108  \n",
       "BedroomAbvGr   0.070703  0.007767  0.046544 -0.036014   0.168213  \n",
       "KitchenAbvGr  -0.014525  0.062341  0.026589  0.031687  -0.135907  \n",
       "TotRmsAbvGrd   0.083757  0.024763  0.036907 -0.034516   0.533723  \n",
       "Fireplaces     0.095074  0.001409  0.046357 -0.024096   0.466929  \n",
       "GarageYrBlt   -0.014501 -0.032417  0.005337 -0.001014   0.486362  \n",
       "GarageCars     0.020934 -0.043080  0.040522 -0.039117   0.640409  \n",
       "GarageArea     0.061047 -0.027400  0.027974 -0.027378   0.623431  \n",
       "WoodDeckSF     0.073378 -0.009551  0.021011  0.022270   0.324413  \n",
       "OpenPorchSF    0.060762 -0.018584  0.071255 -0.057619   0.315856  \n",
       "EnclosedPorch  0.054203  0.018361 -0.028887 -0.009916  -0.128578  \n",
       "3SsnPorch     -0.007992  0.000354  0.029474  0.018645   0.044584  \n",
       "ScreenPorch    0.051307  0.031946  0.023217  0.010694   0.111447  \n",
       "PoolArea       1.000000  0.029669 -0.033737 -0.059689   0.092404  \n",
       "MiscVal        0.029669  1.000000 -0.006495  0.004906  -0.021190  \n",
       "MoSold        -0.033737 -0.006495  1.000000 -0.145721   0.046432  \n",
       "YrSold        -0.059689  0.004906 -0.145721  1.000000  -0.028923  \n",
       "SalePrice      0.092404 -0.021190  0.046432 -0.028923   1.000000  \n",
       "\n",
       "[38 rows x 38 columns]"
      ]
     },
     "execution_count": 66,
     "metadata": {},
     "output_type": "execute_result"
    }
   ],
   "source": [
    "df.corr()"
   ]
  },
  {
   "cell_type": "markdown",
   "id": "c5dac76f",
   "metadata": {},
   "source": [
    "The above is correlation matrix"
   ]
  },
  {
   "cell_type": "code",
   "execution_count": 67,
   "id": "e988eea0",
   "metadata": {
    "ExecuteTime": {
     "end_time": "2023-09-03T16:00:35.794559Z",
     "start_time": "2023-09-03T16:00:35.764296Z"
    }
   },
   "outputs": [
    {
     "data": {
      "text/html": [
       "<div>\n",
       "<style scoped>\n",
       "    .dataframe tbody tr th:only-of-type {\n",
       "        vertical-align: middle;\n",
       "    }\n",
       "\n",
       "    .dataframe tbody tr th {\n",
       "        vertical-align: top;\n",
       "    }\n",
       "\n",
       "    .dataframe thead th {\n",
       "        text-align: right;\n",
       "    }\n",
       "</style>\n",
       "<table border=\"1\" class=\"dataframe\">\n",
       "  <thead>\n",
       "    <tr style=\"text-align: right;\">\n",
       "      <th></th>\n",
       "      <th>SalePrice</th>\n",
       "      <th>GrLivArea</th>\n",
       "    </tr>\n",
       "  </thead>\n",
       "  <tbody>\n",
       "    <tr>\n",
       "      <th>SalePrice</th>\n",
       "      <td>1.000000</td>\n",
       "      <td>0.708624</td>\n",
       "    </tr>\n",
       "    <tr>\n",
       "      <th>GrLivArea</th>\n",
       "      <td>0.708624</td>\n",
       "      <td>1.000000</td>\n",
       "    </tr>\n",
       "  </tbody>\n",
       "</table>\n",
       "</div>"
      ],
      "text/plain": [
       "           SalePrice  GrLivArea\n",
       "SalePrice   1.000000   0.708624\n",
       "GrLivArea   0.708624   1.000000"
      ]
     },
     "execution_count": 67,
     "metadata": {},
     "output_type": "execute_result"
    }
   ],
   "source": [
    "df[['SalePrice','GrLivArea']].corr()"
   ]
  },
  {
   "cell_type": "code",
   "execution_count": 68,
   "id": "bb756751",
   "metadata": {
    "ExecuteTime": {
     "end_time": "2023-09-03T16:02:06.337497Z",
     "start_time": "2023-09-03T16:02:06.317693Z"
    }
   },
   "outputs": [
    {
     "data": {
      "text/plain": [
       "array([[1.        , 0.70862448],\n",
       "       [0.70862448, 1.        ]])"
      ]
     },
     "execution_count": 68,
     "metadata": {},
     "output_type": "execute_result"
    }
   ],
   "source": [
    "np.corrcoef(df.SalePrice, df.GrLivArea)"
   ]
  },
  {
   "cell_type": "markdown",
   "id": "8e466785",
   "metadata": {},
   "source": [
    "|\\>0.5| correlation coefficient then it is strongly correlated"
   ]
  },
  {
   "cell_type": "code",
   "execution_count": 69,
   "id": "e51ab0f1",
   "metadata": {
    "ExecuteTime": {
     "end_time": "2023-09-03T16:04:56.856554Z",
     "start_time": "2023-09-03T16:04:56.798028Z"
    }
   },
   "outputs": [
    {
     "data": {
      "text/html": [
       "<div>\n",
       "<style scoped>\n",
       "    .dataframe tbody tr th:only-of-type {\n",
       "        vertical-align: middle;\n",
       "    }\n",
       "\n",
       "    .dataframe tbody tr th {\n",
       "        vertical-align: top;\n",
       "    }\n",
       "\n",
       "    .dataframe thead th {\n",
       "        text-align: right;\n",
       "    }\n",
       "</style>\n",
       "<table border=\"1\" class=\"dataframe\">\n",
       "  <thead>\n",
       "    <tr style=\"text-align: right;\">\n",
       "      <th></th>\n",
       "      <th>SalePrice</th>\n",
       "      <th>GarageCars</th>\n",
       "      <th>GarageArea</th>\n",
       "      <th>TotalBsmtSF</th>\n",
       "      <th>LotArea</th>\n",
       "      <th>1stFlrSF</th>\n",
       "    </tr>\n",
       "  </thead>\n",
       "  <tbody>\n",
       "    <tr>\n",
       "      <th>SalePrice</th>\n",
       "      <td>1.000000</td>\n",
       "      <td>0.640409</td>\n",
       "      <td>0.623431</td>\n",
       "      <td>0.613581</td>\n",
       "      <td>0.263843</td>\n",
       "      <td>0.605852</td>\n",
       "    </tr>\n",
       "    <tr>\n",
       "      <th>GarageCars</th>\n",
       "      <td>0.640409</td>\n",
       "      <td>1.000000</td>\n",
       "      <td>0.882475</td>\n",
       "      <td>0.434585</td>\n",
       "      <td>0.154871</td>\n",
       "      <td>0.439317</td>\n",
       "    </tr>\n",
       "    <tr>\n",
       "      <th>GarageArea</th>\n",
       "      <td>0.623431</td>\n",
       "      <td>0.882475</td>\n",
       "      <td>1.000000</td>\n",
       "      <td>0.486665</td>\n",
       "      <td>0.180403</td>\n",
       "      <td>0.489782</td>\n",
       "    </tr>\n",
       "    <tr>\n",
       "      <th>TotalBsmtSF</th>\n",
       "      <td>0.613581</td>\n",
       "      <td>0.434585</td>\n",
       "      <td>0.486665</td>\n",
       "      <td>1.000000</td>\n",
       "      <td>0.260833</td>\n",
       "      <td>0.819530</td>\n",
       "    </tr>\n",
       "    <tr>\n",
       "      <th>LotArea</th>\n",
       "      <td>0.263843</td>\n",
       "      <td>0.154871</td>\n",
       "      <td>0.180403</td>\n",
       "      <td>0.260833</td>\n",
       "      <td>1.000000</td>\n",
       "      <td>0.299475</td>\n",
       "    </tr>\n",
       "    <tr>\n",
       "      <th>1stFlrSF</th>\n",
       "      <td>0.605852</td>\n",
       "      <td>0.439317</td>\n",
       "      <td>0.489782</td>\n",
       "      <td>0.819530</td>\n",
       "      <td>0.299475</td>\n",
       "      <td>1.000000</td>\n",
       "    </tr>\n",
       "  </tbody>\n",
       "</table>\n",
       "</div>"
      ],
      "text/plain": [
       "             SalePrice  GarageCars  GarageArea  TotalBsmtSF   LotArea  \\\n",
       "SalePrice     1.000000    0.640409    0.623431     0.613581  0.263843   \n",
       "GarageCars    0.640409    1.000000    0.882475     0.434585  0.154871   \n",
       "GarageArea    0.623431    0.882475    1.000000     0.486665  0.180403   \n",
       "TotalBsmtSF   0.613581    0.434585    0.486665     1.000000  0.260833   \n",
       "LotArea       0.263843    0.154871    0.180403     0.260833  1.000000   \n",
       "1stFlrSF      0.605852    0.439317    0.489782     0.819530  0.299475   \n",
       "\n",
       "             1stFlrSF  \n",
       "SalePrice    0.605852  \n",
       "GarageCars   0.439317  \n",
       "GarageArea   0.489782  \n",
       "TotalBsmtSF  0.819530  \n",
       "LotArea      0.299475  \n",
       "1stFlrSF     1.000000  "
      ]
     },
     "execution_count": 69,
     "metadata": {},
     "output_type": "execute_result"
    }
   ],
   "source": [
    "df[['SalePrice','GarageCars','GarageArea','TotalBsmtSF','LotArea','1stFlrSF']].corr()"
   ]
  },
  {
   "cell_type": "code",
   "execution_count": 71,
   "id": "4d83322f",
   "metadata": {
    "ExecuteTime": {
     "end_time": "2023-09-03T16:27:33.567699Z",
     "start_time": "2023-09-03T16:27:33.043942Z"
    }
   },
   "outputs": [
    {
     "data": {
      "image/png": "[encoded data removed]",
      "text/plain": [
       "<Figure size 800x600 with 2 Axes>"
      ]
     },
     "metadata": {},
     "output_type": "display_data"
    }
   ],
   "source": [
    "# Visualise the correlation matrix\n",
    "plt.figure(figsize=(8,6))\n",
    "sns.heatmap(df[['SalePrice','GarageCars','GarageArea','TotalBsmtSF','LotArea','1stFlrSF']].corr(), annot = True, cmap = 'coolwarm')\n",
    "plt.title(\"correlation of area with sales price\")\n",
    "plt.show()"
   ]
  },
  {
   "cell_type": "markdown",
   "id": "9ca46993",
   "metadata": {},
   "source": [
    "## Probability"
   ]
  },
  {
   "cell_type": "code",
   "execution_count": 72,
   "id": "0e73d9f9",
   "metadata": {
    "ExecuteTime": {
     "end_time": "2023-09-03T16:30:12.994568Z",
     "start_time": "2023-09-03T16:30:12.961557Z"
    }
   },
   "outputs": [],
   "source": [
    "df_kerala = pd.read_csv('class notes/kerala.csv')"
   ]
  },
  {
   "cell_type": "code",
   "execution_count": 73,
   "id": "3ec3a88a",
   "metadata": {
    "ExecuteTime": {
     "end_time": "2023-09-03T16:30:30.561225Z",
     "start_time": "2023-09-03T16:30:30.501004Z"
    }
   },
   "outputs": [
    {
     "data": {
      "text/html": [
       "<div>\n",
       "<style scoped>\n",
       "    .dataframe tbody tr th:only-of-type {\n",
       "        vertical-align: middle;\n",
       "    }\n",
       "\n",
       "    .dataframe tbody tr th {\n",
       "        vertical-align: top;\n",
       "    }\n",
       "\n",
       "    .dataframe thead th {\n",
       "        text-align: right;\n",
       "    }\n",
       "</style>\n",
       "<table border=\"1\" class=\"dataframe\">\n",
       "  <thead>\n",
       "    <tr style=\"text-align: right;\">\n",
       "      <th></th>\n",
       "      <th>SUBDIVISION</th>\n",
       "      <th>YEAR</th>\n",
       "      <th>JAN</th>\n",
       "      <th>FEB</th>\n",
       "      <th>MAR</th>\n",
       "      <th>...</th>\n",
       "      <th>OCT</th>\n",
       "      <th>NOV</th>\n",
       "      <th>DEC</th>\n",
       "      <th>ANNUAL RAINFALL</th>\n",
       "      <th>FLOODS</th>\n",
       "    </tr>\n",
       "  </thead>\n",
       "  <tbody>\n",
       "    <tr>\n",
       "      <th>0</th>\n",
       "      <td>KERALA</td>\n",
       "      <td>1901</td>\n",
       "      <td>28.7</td>\n",
       "      <td>44.7</td>\n",
       "      <td>51.6</td>\n",
       "      <td>...</td>\n",
       "      <td>266.9</td>\n",
       "      <td>350.8</td>\n",
       "      <td>48.4</td>\n",
       "      <td>3248.6</td>\n",
       "      <td>YES</td>\n",
       "    </tr>\n",
       "    <tr>\n",
       "      <th>1</th>\n",
       "      <td>KERALA</td>\n",
       "      <td>1902</td>\n",
       "      <td>6.7</td>\n",
       "      <td>2.6</td>\n",
       "      <td>57.3</td>\n",
       "      <td>...</td>\n",
       "      <td>358.4</td>\n",
       "      <td>158.3</td>\n",
       "      <td>121.5</td>\n",
       "      <td>3326.6</td>\n",
       "      <td>YES</td>\n",
       "    </tr>\n",
       "    <tr>\n",
       "      <th>2</th>\n",
       "      <td>KERALA</td>\n",
       "      <td>1903</td>\n",
       "      <td>3.2</td>\n",
       "      <td>18.6</td>\n",
       "      <td>3.1</td>\n",
       "      <td>...</td>\n",
       "      <td>354.1</td>\n",
       "      <td>157.0</td>\n",
       "      <td>59.0</td>\n",
       "      <td>3271.2</td>\n",
       "      <td>YES</td>\n",
       "    </tr>\n",
       "    <tr>\n",
       "      <th>3</th>\n",
       "      <td>KERALA</td>\n",
       "      <td>1904</td>\n",
       "      <td>23.7</td>\n",
       "      <td>3.0</td>\n",
       "      <td>32.2</td>\n",
       "      <td>...</td>\n",
       "      <td>328.1</td>\n",
       "      <td>33.9</td>\n",
       "      <td>3.3</td>\n",
       "      <td>3129.7</td>\n",
       "      <td>YES</td>\n",
       "    </tr>\n",
       "    <tr>\n",
       "      <th>4</th>\n",
       "      <td>KERALA</td>\n",
       "      <td>1905</td>\n",
       "      <td>1.2</td>\n",
       "      <td>22.3</td>\n",
       "      <td>9.4</td>\n",
       "      <td>...</td>\n",
       "      <td>383.5</td>\n",
       "      <td>74.4</td>\n",
       "      <td>0.2</td>\n",
       "      <td>2741.6</td>\n",
       "      <td>NO</td>\n",
       "    </tr>\n",
       "  </tbody>\n",
       "</table>\n",
       "<p>5 rows × 16 columns</p>\n",
       "</div>"
      ],
      "text/plain": [
       "  SUBDIVISION  YEAR   JAN   FEB   MAR  ...    OCT    NOV    DEC  \\\n",
       "0      KERALA  1901  28.7  44.7  51.6  ...  266.9  350.8   48.4   \n",
       "1      KERALA  1902   6.7   2.6  57.3  ...  358.4  158.3  121.5   \n",
       "2      KERALA  1903   3.2  18.6   3.1  ...  354.1  157.0   59.0   \n",
       "3      KERALA  1904  23.7   3.0  32.2  ...  328.1   33.9    3.3   \n",
       "4      KERALA  1905   1.2  22.3   9.4  ...  383.5   74.4    0.2   \n",
       "\n",
       "    ANNUAL RAINFALL  FLOODS  \n",
       "0            3248.6     YES  \n",
       "1            3326.6     YES  \n",
       "2            3271.2     YES  \n",
       "3            3129.7     YES  \n",
       "4            2741.6      NO  \n",
       "\n",
       "[5 rows x 16 columns]"
      ]
     },
     "execution_count": 73,
     "metadata": {},
     "output_type": "execute_result"
    }
   ],
   "source": [
    "df_kerala.head()"
   ]
  },
  {
   "cell_type": "code",
   "execution_count": 74,
   "id": "6d9983e1",
   "metadata": {
    "ExecuteTime": {
     "end_time": "2023-09-03T16:32:12.682090Z",
     "start_time": "2023-09-03T16:32:12.625972Z"
    }
   },
   "outputs": [
    {
     "name": "stdout",
     "output_type": "stream",
     "text": [
      "<class 'pandas.core.frame.DataFrame'>\n",
      "RangeIndex: 118 entries, 0 to 117\n",
      "Data columns (total 16 columns):\n",
      " #   Column            Non-Null Count  Dtype  \n",
      "---  ------            --------------  -----  \n",
      " 0   SUBDIVISION       118 non-null    object \n",
      " 1   YEAR              118 non-null    int64  \n",
      " 2   JAN               118 non-null    float64\n",
      " 3   FEB               118 non-null    float64\n",
      " 4   MAR               118 non-null    float64\n",
      " 5   APR               118 non-null    float64\n",
      " 6   MAY               118 non-null    float64\n",
      " 7   JUN               118 non-null    float64\n",
      " 8   JUL               118 non-null    float64\n",
      " 9   AUG               118 non-null    float64\n",
      " 10  SEP               118 non-null    float64\n",
      " 11  OCT               118 non-null    float64\n",
      " 12  NOV               118 non-null    float64\n",
      " 13  DEC               118 non-null    float64\n",
      " 14   ANNUAL RAINFALL  118 non-null    float64\n",
      " 15  FLOODS            118 non-null    object \n",
      "dtypes: float64(13), int64(1), object(2)\n",
      "memory usage: 14.9+ KB\n"
     ]
    }
   ],
   "source": [
    "df_kerala.info()"
   ]
  },
  {
   "cell_type": "code",
   "execution_count": 76,
   "id": "a0ea6ed2",
   "metadata": {
    "ExecuteTime": {
     "end_time": "2023-09-03T16:35:51.592298Z",
     "start_time": "2023-09-03T16:35:51.570393Z"
    }
   },
   "outputs": [],
   "source": [
    "df_kerala['FLOODS'] = df_kerala['FLOODS'].map({'YES':1,'NO':0})"
   ]
  },
  {
   "cell_type": "code",
   "execution_count": 78,
   "id": "7ca34160",
   "metadata": {
    "ExecuteTime": {
     "end_time": "2023-09-03T16:36:04.241592Z",
     "start_time": "2023-09-03T16:36:04.191775Z"
    }
   },
   "outputs": [
    {
     "data": {
      "text/plain": [
       "0    1\n",
       "1    1\n",
       "2    1\n",
       "3    1\n",
       "4    0\n",
       "Name: FLOODS, dtype: int64"
      ]
     },
     "execution_count": 78,
     "metadata": {},
     "output_type": "execute_result"
    }
   ],
   "source": [
    "df_kerala['FLOODS'].head()"
   ]
  },
  {
   "cell_type": "code",
   "execution_count": 81,
   "id": "edcac3c9",
   "metadata": {
    "ExecuteTime": {
     "end_time": "2023-09-03T16:39:06.116396Z",
     "start_time": "2023-09-03T16:39:06.079115Z"
    }
   },
   "outputs": [
    {
     "data": {
      "text/html": [
       "<div>\n",
       "<style scoped>\n",
       "    .dataframe tbody tr th:only-of-type {\n",
       "        vertical-align: middle;\n",
       "    }\n",
       "\n",
       "    .dataframe tbody tr th {\n",
       "        vertical-align: top;\n",
       "    }\n",
       "\n",
       "    .dataframe thead th {\n",
       "        text-align: right;\n",
       "    }\n",
       "</style>\n",
       "<table border=\"1\" class=\"dataframe\">\n",
       "  <thead>\n",
       "    <tr style=\"text-align: right;\">\n",
       "      <th></th>\n",
       "      <th>SUBDIVISION</th>\n",
       "      <th>YEAR</th>\n",
       "      <th>JAN</th>\n",
       "      <th>FEB</th>\n",
       "      <th>MAR</th>\n",
       "      <th>...</th>\n",
       "      <th>DEC</th>\n",
       "      <th>ANNUAL RAINFALL</th>\n",
       "      <th>FLOODS</th>\n",
       "      <th>june_gt_500</th>\n",
       "      <th>july_gt_500</th>\n",
       "    </tr>\n",
       "  </thead>\n",
       "  <tbody>\n",
       "    <tr>\n",
       "      <th>0</th>\n",
       "      <td>KERALA</td>\n",
       "      <td>1901</td>\n",
       "      <td>28.7</td>\n",
       "      <td>44.7</td>\n",
       "      <td>51.6</td>\n",
       "      <td>...</td>\n",
       "      <td>48.4</td>\n",
       "      <td>3248.6</td>\n",
       "      <td>1</td>\n",
       "      <td>1</td>\n",
       "      <td>1</td>\n",
       "    </tr>\n",
       "    <tr>\n",
       "      <th>1</th>\n",
       "      <td>KERALA</td>\n",
       "      <td>1902</td>\n",
       "      <td>6.7</td>\n",
       "      <td>2.6</td>\n",
       "      <td>57.3</td>\n",
       "      <td>...</td>\n",
       "      <td>121.5</td>\n",
       "      <td>3326.6</td>\n",
       "      <td>1</td>\n",
       "      <td>0</td>\n",
       "      <td>1</td>\n",
       "    </tr>\n",
       "    <tr>\n",
       "      <th>2</th>\n",
       "      <td>KERALA</td>\n",
       "      <td>1903</td>\n",
       "      <td>3.2</td>\n",
       "      <td>18.6</td>\n",
       "      <td>3.1</td>\n",
       "      <td>...</td>\n",
       "      <td>59.0</td>\n",
       "      <td>3271.2</td>\n",
       "      <td>1</td>\n",
       "      <td>1</td>\n",
       "      <td>1</td>\n",
       "    </tr>\n",
       "    <tr>\n",
       "      <th>3</th>\n",
       "      <td>KERALA</td>\n",
       "      <td>1904</td>\n",
       "      <td>23.7</td>\n",
       "      <td>3.0</td>\n",
       "      <td>32.2</td>\n",
       "      <td>...</td>\n",
       "      <td>3.3</td>\n",
       "      <td>3129.7</td>\n",
       "      <td>1</td>\n",
       "      <td>1</td>\n",
       "      <td>1</td>\n",
       "    </tr>\n",
       "    <tr>\n",
       "      <th>4</th>\n",
       "      <td>KERALA</td>\n",
       "      <td>1905</td>\n",
       "      <td>1.2</td>\n",
       "      <td>22.3</td>\n",
       "      <td>9.4</td>\n",
       "      <td>...</td>\n",
       "      <td>0.2</td>\n",
       "      <td>2741.6</td>\n",
       "      <td>0</td>\n",
       "      <td>1</td>\n",
       "      <td>1</td>\n",
       "    </tr>\n",
       "    <tr>\n",
       "      <th>...</th>\n",
       "      <td>...</td>\n",
       "      <td>...</td>\n",
       "      <td>...</td>\n",
       "      <td>...</td>\n",
       "      <td>...</td>\n",
       "      <td>...</td>\n",
       "      <td>...</td>\n",
       "      <td>...</td>\n",
       "      <td>...</td>\n",
       "      <td>...</td>\n",
       "      <td>...</td>\n",
       "    </tr>\n",
       "    <tr>\n",
       "      <th>103</th>\n",
       "      <td>KERALA</td>\n",
       "      <td>2004</td>\n",
       "      <td>2.4</td>\n",
       "      <td>8.1</td>\n",
       "      <td>37.9</td>\n",
       "      <td>...</td>\n",
       "      <td>2.7</td>\n",
       "      <td>2886.1</td>\n",
       "      <td>0</td>\n",
       "      <td>1</td>\n",
       "      <td>0</td>\n",
       "    </tr>\n",
       "    <tr>\n",
       "      <th>104</th>\n",
       "      <td>KERALA</td>\n",
       "      <td>2005</td>\n",
       "      <td>19.8</td>\n",
       "      <td>7.0</td>\n",
       "      <td>25.3</td>\n",
       "      <td>...</td>\n",
       "      <td>56.4</td>\n",
       "      <td>3031.1</td>\n",
       "      <td>1</td>\n",
       "      <td>1</td>\n",
       "      <td>1</td>\n",
       "    </tr>\n",
       "    <tr>\n",
       "      <th>105</th>\n",
       "      <td>KERALA</td>\n",
       "      <td>2006</td>\n",
       "      <td>8.1</td>\n",
       "      <td>0.5</td>\n",
       "      <td>90.7</td>\n",
       "      <td>...</td>\n",
       "      <td>1.8</td>\n",
       "      <td>3420.6</td>\n",
       "      <td>1</td>\n",
       "      <td>0</td>\n",
       "      <td>1</td>\n",
       "    </tr>\n",
       "    <tr>\n",
       "      <th>106</th>\n",
       "      <td>KERALA</td>\n",
       "      <td>2007</td>\n",
       "      <td>0.5</td>\n",
       "      <td>5.6</td>\n",
       "      <td>7.3</td>\n",
       "      <td>...</td>\n",
       "      <td>11.9</td>\n",
       "      <td>3489.6</td>\n",
       "      <td>1</td>\n",
       "      <td>1</td>\n",
       "      <td>1</td>\n",
       "    </tr>\n",
       "    <tr>\n",
       "      <th>107</th>\n",
       "      <td>KERALA</td>\n",
       "      <td>2008</td>\n",
       "      <td>0.8</td>\n",
       "      <td>30.3</td>\n",
       "      <td>217.2</td>\n",
       "      <td>...</td>\n",
       "      <td>17.0</td>\n",
       "      <td>2524.5</td>\n",
       "      <td>0</td>\n",
       "      <td>0</td>\n",
       "      <td>1</td>\n",
       "    </tr>\n",
       "  </tbody>\n",
       "</table>\n",
       "<p>108 rows × 18 columns</p>\n",
       "</div>"
      ],
      "text/plain": [
       "    SUBDIVISION  YEAR   JAN   FEB    MAR  ...    DEC   ANNUAL RAINFALL  \\\n",
       "0        KERALA  1901  28.7  44.7   51.6  ...   48.4            3248.6   \n",
       "1        KERALA  1902   6.7   2.6   57.3  ...  121.5            3326.6   \n",
       "2        KERALA  1903   3.2  18.6    3.1  ...   59.0            3271.2   \n",
       "3        KERALA  1904  23.7   3.0   32.2  ...    3.3            3129.7   \n",
       "4        KERALA  1905   1.2  22.3    9.4  ...    0.2            2741.6   \n",
       "..          ...   ...   ...   ...    ...  ...    ...               ...   \n",
       "103      KERALA  2004   2.4   8.1   37.9  ...    2.7            2886.1   \n",
       "104      KERALA  2005  19.8   7.0   25.3  ...   56.4            3031.1   \n",
       "105      KERALA  2006   8.1   0.5   90.7  ...    1.8            3420.6   \n",
       "106      KERALA  2007   0.5   5.6    7.3  ...   11.9            3489.6   \n",
       "107      KERALA  2008   0.8  30.3  217.2  ...   17.0            2524.5   \n",
       "\n",
       "     FLOODS  june_gt_500  july_gt_500  \n",
       "0         1            1            1  \n",
       "1         1            0            1  \n",
       "2         1            1            1  \n",
       "3         1            1            1  \n",
       "4         0            1            1  \n",
       "..      ...          ...          ...  \n",
       "103       0            1            0  \n",
       "104       1            1            1  \n",
       "105       1            0            1  \n",
       "106       1            1            1  \n",
       "107       0            0            1  \n",
       "\n",
       "[108 rows x 18 columns]"
      ]
     },
     "execution_count": 81,
     "metadata": {},
     "output_type": "execute_result"
    }
   ],
   "source": [
    "df_kerala['june_gt_500'] = (df_kerala['JUN']>500).astype('int64')\n",
    "df_kerala['july_gt_500'] = (df_kerala['JUL']>500).astype('int64')\n",
    "df_kerala.head(10)"
   ]
  },
  {
   "cell_type": "code",
   "execution_count": 82,
   "id": "f7c62d9a",
   "metadata": {
    "ExecuteTime": {
     "end_time": "2023-09-03T16:41:42.765955Z",
     "start_time": "2023-09-03T16:41:42.713163Z"
    }
   },
   "outputs": [
    {
     "data": {
      "text/html": [
       "<div>\n",
       "<style scoped>\n",
       "    .dataframe tbody tr th:only-of-type {\n",
       "        vertical-align: middle;\n",
       "    }\n",
       "\n",
       "    .dataframe tbody tr th {\n",
       "        vertical-align: top;\n",
       "    }\n",
       "\n",
       "    .dataframe thead th {\n",
       "        text-align: right;\n",
       "    }\n",
       "</style>\n",
       "<table border=\"1\" class=\"dataframe\">\n",
       "  <thead>\n",
       "    <tr style=\"text-align: right;\">\n",
       "      <th></th>\n",
       "      <th>YEAR</th>\n",
       "      <th>JUN</th>\n",
       "      <th>june_gt_500</th>\n",
       "      <th>JUL</th>\n",
       "      <th>july_gt_500</th>\n",
       "      <th>FLOODS</th>\n",
       "    </tr>\n",
       "  </thead>\n",
       "  <tbody>\n",
       "    <tr>\n",
       "      <th>0</th>\n",
       "      <td>1901</td>\n",
       "      <td>824.6</td>\n",
       "      <td>1</td>\n",
       "      <td>743.0</td>\n",
       "      <td>1</td>\n",
       "      <td>1</td>\n",
       "    </tr>\n",
       "    <tr>\n",
       "      <th>1</th>\n",
       "      <td>1902</td>\n",
       "      <td>390.9</td>\n",
       "      <td>0</td>\n",
       "      <td>1205.0</td>\n",
       "      <td>1</td>\n",
       "      <td>1</td>\n",
       "    </tr>\n",
       "    <tr>\n",
       "      <th>2</th>\n",
       "      <td>1903</td>\n",
       "      <td>558.6</td>\n",
       "      <td>1</td>\n",
       "      <td>1022.5</td>\n",
       "      <td>1</td>\n",
       "      <td>1</td>\n",
       "    </tr>\n",
       "    <tr>\n",
       "      <th>3</th>\n",
       "      <td>1904</td>\n",
       "      <td>1098.2</td>\n",
       "      <td>1</td>\n",
       "      <td>725.5</td>\n",
       "      <td>1</td>\n",
       "      <td>1</td>\n",
       "    </tr>\n",
       "    <tr>\n",
       "      <th>4</th>\n",
       "      <td>1905</td>\n",
       "      <td>850.2</td>\n",
       "      <td>1</td>\n",
       "      <td>520.5</td>\n",
       "      <td>1</td>\n",
       "      <td>0</td>\n",
       "    </tr>\n",
       "  </tbody>\n",
       "</table>\n",
       "</div>"
      ],
      "text/plain": [
       "   YEAR     JUN  june_gt_500     JUL  july_gt_500  FLOODS\n",
       "0  1901   824.6            1   743.0            1       1\n",
       "1  1902   390.9            0  1205.0            1       1\n",
       "2  1903   558.6            1  1022.5            1       1\n",
       "3  1904  1098.2            1   725.5            1       1\n",
       "4  1905   850.2            1   520.5            1       0"
      ]
     },
     "execution_count": 82,
     "metadata": {},
     "output_type": "execute_result"
    }
   ],
   "source": [
    "dfk = df_kerala.loc[:,['YEAR','JUN','june_gt_500','JUL','july_gt_500','FLOODS']]\n",
    "dfk.head()"
   ]
  },
  {
   "cell_type": "code",
   "execution_count": 83,
   "id": "369e0b99",
   "metadata": {
    "ExecuteTime": {
     "end_time": "2023-09-03T16:42:06.846366Z",
     "start_time": "2023-09-03T16:42:06.833804Z"
    }
   },
   "outputs": [
    {
     "data": {
      "text/plain": [
       "(118, 6)"
      ]
     },
     "execution_count": 83,
     "metadata": {},
     "output_type": "execute_result"
    }
   ],
   "source": [
    "dfk.shape"
   ]
  },
  {
   "cell_type": "code",
   "execution_count": 84,
   "id": "c8aa7ebf",
   "metadata": {
    "ExecuteTime": {
     "end_time": "2023-09-03T16:43:59.562301Z",
     "start_time": "2023-09-03T16:43:59.226128Z"
    }
   },
   "outputs": [
    {
     "data": {
      "text/html": [
       "<div>\n",
       "<style scoped>\n",
       "    .dataframe tbody tr th:only-of-type {\n",
       "        vertical-align: middle;\n",
       "    }\n",
       "\n",
       "    .dataframe tbody tr th {\n",
       "        vertical-align: top;\n",
       "    }\n",
       "\n",
       "    .dataframe thead th {\n",
       "        text-align: right;\n",
       "    }\n",
       "</style>\n",
       "<table border=\"1\" class=\"dataframe\">\n",
       "  <thead>\n",
       "    <tr style=\"text-align: right;\">\n",
       "      <th>june_gt_500</th>\n",
       "      <th>0</th>\n",
       "      <th>1</th>\n",
       "    </tr>\n",
       "    <tr>\n",
       "      <th>FLOODS</th>\n",
       "      <th></th>\n",
       "      <th></th>\n",
       "    </tr>\n",
       "  </thead>\n",
       "  <tbody>\n",
       "    <tr>\n",
       "      <th>0</th>\n",
       "      <td>19</td>\n",
       "      <td>39</td>\n",
       "    </tr>\n",
       "    <tr>\n",
       "      <th>1</th>\n",
       "      <td>6</td>\n",
       "      <td>54</td>\n",
       "    </tr>\n",
       "  </tbody>\n",
       "</table>\n",
       "</div>"
      ],
      "text/plain": [
       "june_gt_500   0   1\n",
       "FLOODS             \n",
       "0            19  39\n",
       "1             6  54"
      ]
     },
     "execution_count": 84,
     "metadata": {},
     "output_type": "execute_result"
    }
   ],
   "source": [
    "pd.crosstab(dfk['FLOODS'], dfk['june_gt_500'])"
   ]
  },
  {
   "cell_type": "markdown",
   "id": "83c86dd9",
   "metadata": {
    "ExecuteTime": {
     "end_time": "2023-09-03T16:48:45.398987Z",
     "start_time": "2023-09-03T16:48:45.391914Z"
    }
   },
   "source": [
    "Defining some variables:\n",
    "\n",
    "P(F): Probability of flooding \\\n",
    "P(J): Probability of having more than 500 mm rain in June \\\n",
    "P(F ∩ J): Probability of flooding and having more than 500 mm rain in June \\\n",
    "P(F|J): Probability of flooding given it rained more than 500 mm in June \\\n",
    "Based on the above table we can easily find these probabilities."
   ]
  },
  {
   "cell_type": "code",
   "execution_count": 89,
   "id": "2db49053",
   "metadata": {
    "ExecuteTime": {
     "end_time": "2023-09-03T16:55:05.336279Z",
     "start_time": "2023-09-03T16:55:05.313600Z"
    }
   },
   "outputs": [
    {
     "data": {
      "text/plain": [
       "(0.5084745762711864, 0.788135593220339, 0.4576271186440678, 0.5806451612903226)"
      ]
     },
     "execution_count": 89,
     "metadata": {},
     "output_type": "execute_result"
    }
   ],
   "source": [
    "p_f = (54+6)/118\n",
    "p_j = (39+54)/118\n",
    "p_f_intersection_j = 54/118\n",
    "p_f_given_j = p_f_intersection_j/p_j\n",
    "p_f, p_j, p_f_intersection_j, p_f_given_j"
   ]
  },
  {
   "cell_type": "code",
   "execution_count": null,
   "id": "54a67bd8",
   "metadata": {},
   "outputs": [],
   "source": []
  }
 ],
 "metadata": {
  "kernelspec": {
   "display_name": "Python 3 (ipykernel)",
   "language": "python",
   "name": "python3"
  },
  "language_info": {
   "codemirror_mode": {
    "name": "ipython",
    "version": 3
   },
   "file_extension": ".py",
   "mimetype": "text/x-python",
   "name": "python",
   "nbconvert_exporter": "python",
   "pygments_lexer": "ipython3",
   "version": "3.8.10"
  },
  "toc": {
   "base_numbering": 1,
   "nav_menu": {},
   "number_sections": true,
   "sideBar": true,
   "skip_h1_title": false,
   "title_cell": "Table of Contents",
   "title_sidebar": "Contents",
   "toc_cell": false,
   "toc_position": {},
   "toc_section_display": true,
   "toc_window_display": false
  },
  "varInspector": {
   "cols": {
    "lenName": 16,
    "lenType": 16,
    "lenVar": 40
   },
   "kernels_config": {
    "python": {
     "delete_cmd_postfix": "",
     "delete_cmd_prefix": "del ",
     "library": "var_list.py",
     "varRefreshCmd": "print(var_dic_list())"
    },
    "r": {
     "delete_cmd_postfix": ") ",
     "delete_cmd_prefix": "rm(",
     "library": "var_list.r",
     "varRefreshCmd": "cat(var_dic_list()) "
    }
   },
   "types_to_exclude": [
    "module",
    "function",
    "builtin_function_or_method",
    "instance",
    "_Feature"
   ],
   "window_display": false
  }
 },
 "nbformat": 4,
 "nbformat_minor": 5
}
