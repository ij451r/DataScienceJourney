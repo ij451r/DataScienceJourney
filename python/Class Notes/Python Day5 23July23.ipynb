{
 "cells": [
  {
   "cell_type": "markdown",
   "id": "b35dc86f",
   "metadata": {},
   "source": [
    "# Introduction to OOPS"
   ]
  },
  {
   "cell_type": "markdown",
   "id": "eabcbbe2",
   "metadata": {},
   "source": [
    "## What is OOPS\n",
    "Object-Oriented Programming, or OOPs, is a way of organizing and writing code that mimics real-world objects and their interactions. It makes programming easier by allowing us to think about problems in a more natural and intuitive way."
   ]
  },
  {
   "cell_type": "markdown",
   "id": "786f17c1",
   "metadata": {},
   "source": [
    "## Why Industry uses OOPS?\n",
    "Object-Oriented Programming (OOPs) is widely used in the industry because of its many advantages and benefits in managing complex software systems. Here are some of the key reasons why OOPs is extensively used in real-world applications:\n",
    "\n",
    "Modularity and Reusability: OOPs allows code to be organized into self-contained modules (classes) that can be reused in different parts of the program or in other projects. This makes development faster, easier, and more efficient, as developers can leverage existing classes without reinventing the wheel.\n",
    "\n",
    "Encapsulation: OOPs promotes data hiding and encapsulation, which means that the internal implementation details of an object are hidden from the outside world. This enhances security, maintains data integrity, and reduces code complexity.\n",
    "\n",
    "Abstraction: OOPs provides the ability to abstract complex systems into simpler and more manageable representations. This allows developers to focus on high-level concepts and ignore unnecessary implementation details.\n",
    "\n",
    "Inheritance: OOPs supports inheritance, where a new class can inherit properties and behaviors from an existing class. This promotes code reuse and allows developers to create specialized classes based on existing ones.\n",
    "\n",
    "Polymorphism: OOPs allows objects to take on multiple forms and behave differently based on the context. This flexibility enables the use of a single interface to represent different classes, making the code more versatile.\n",
    "\n",
    "Collaboration and Teamwork: OOPs enables large development teams to work on different parts of a project simultaneously. The clear separation of concerns and well-defined interfaces facilitate collaboration and reduce conflicts.\n",
    "\n",
    "Maintainability and Scalability: OOPs principles lead to cleaner, well-structured code that is easier to maintain and update. As projects grow in complexity, OOPs helps manage the codebase and makes it easier to scale the application.\n",
    "\n",
    "Modeling Real-World Entities: OOPs aligns with the real-world problem-solving approach. It allows developers to model entities, their interactions, and behaviors more naturally, which makes it easier to understand and design complex systems.\n",
    "\n",
    "Frameworks and Libraries: Many popular frameworks and libraries in various programming languages are built using OOPs concepts. By understanding OOPs, developers can better utilize these tools and build upon them to create more robust applications.\n",
    "\n",
    "Code Readability and Maintainability: OOPs leads to code that is more readable and understandable. Well-designed classes with meaningful names and clear responsibilities make it easier for developers to comprehend and maintain the code.\n",
    "\n",
    "Overall, OOPs is a powerful programming paradigm that enhances code organization, maintainability, and flexibility. It is particularly well-suited for building large-scale applications and projects, making it a standard and preferred choice in the software industry."
   ]
  },
  {
   "cell_type": "markdown",
   "id": "2973cb8a",
   "metadata": {},
   "source": [
    "## Real-World Analogy:\n",
    "Imagine you have a pet dog named Max. Max has certain characteristics like breed, color, and age, and he can perform actions like barking and fetching a ball.\n",
    "Or\n",
    "Imagine you have a recipe for making a delicious chocolate cake. Now, let's break down the key elements of this recipe into OOPs concepts.\n",
    "\n",
    "**Class** : In OOPs, a class is like a blueprint or template for creating objects. In our example, the class would be \"Chocolate Cake Recipe.\" It defines the common characteristics and behaviors of all chocolate cakes.\n",
    "\n",
    "**Object** : An object is a specific instance or realization of a class. If you follow the \"Chocolate Cake Recipe\" and actually bake a cake, that cake itself is an object. You can create multiple cakes using the same recipe, and each of them would be a separate object.\n",
    "\n",
    "**Attributes/Properties** : Attributes are the characteristics or features of an object. For a chocolate cake, the attributes could be things like \"flour,\" \"sugar,\" \"eggs,\" and \"chocolate.\" These attributes define the cake's ingredients.\n",
    "\n",
    "**Methods/Functions** : Methods are actions or behaviors associated with an object. In our case, the methods would be the steps you follow in the recipe, like \"mixIngredients,\" \"bakeCake,\" and \"decorateCake.\" These methods define how the cake is made and what it can do."
   ]
  },
  {
   "cell_type": "markdown",
   "id": "be1627c6",
   "metadata": {},
   "source": [
    "## Simplified Python-like representation of the above example:"
   ]
  },
  {
   "cell_type": "code",
   "execution_count": 8,
   "id": "4df56835",
   "metadata": {
    "ExecuteTime": {
     "end_time": "2023-07-23T15:07:56.175255Z",
     "start_time": "2023-07-23T15:07:56.147534Z"
    }
   },
   "outputs": [],
   "source": [
    "class ChocolateCakeRecipe:\n",
    "    def __init__(self):\n",
    "        self.sugar = \"2 cups\"\n",
    "        self.flour = \"1.5 Cups\"\n",
    "        self.eggs = 3\n",
    "        self.chocolate = \"1 Cup\"\n",
    "        \n",
    "    def mixinggredients(self):\n",
    "        pass\n",
    "    \n",
    "    def bakeCake(self):\n",
    "        pass\n",
    "    \n",
    "    def decorateCake(self):\n",
    "        pass\n",
    "    \n",
    "cake1 = ChocolateCakeRecipe()\n",
    "cake2 = ChocolateCakeRecipe()\n",
    "\n",
    "cake1.mixinggredients()\n",
    "cake1.bakeCake()\n",
    "cake1.decorateCake()\n",
    "\n",
    "cake2.mixinggredients()\n",
    "cake2.bakeCake()"
   ]
  },
  {
   "cell_type": "markdown",
   "id": "9deca4b0",
   "metadata": {
    "ExecuteTime": {
     "end_time": "2023-07-23T12:41:53.398906Z",
     "start_time": "2023-07-23T12:41:53.371864Z"
    }
   },
   "source": [
    "## Procedural vs Object Oriented Programming"
   ]
  },
  {
   "cell_type": "markdown",
   "id": "7ae5c0f4",
   "metadata": {},
   "source": [
    "1. Approach:\n",
    "\n",
    "OOPs: In Object-Oriented Programming, the focus is on modeling real-world entities as objects, each having its own attributes (data) and methods (behavior). The emphasis is on creating classes and objects to represent entities and their interactions.\n",
    "\n",
    "Procedural: In Procedural Oriented Programming, the emphasis is on writing procedures or functions that perform specific tasks. The focus is on breaking down a problem into a sequence of procedures and controlling the flow of execution using functions.\n",
    "\n",
    "2. Data and Functions:\n",
    "\n",
    "OOPs: In OOPs, data and functions (methods) are bundled together within classes. Objects encapsulate data and the operations that can be performed on that data.\n",
    "\n",
    "Procedural: In this, data and functions are kept separate. Data is stored in variables, and functions operate on that data. Functions take input, process it, and produce output.\n",
    "\n",
    "3. Reusability:\n",
    "\n",
    "OOPs: OOPs promotes reusability through the concept of inheritance. You can create new classes based on existing ones, inheriting their attributes and methods. This makes it easier to extend and modify code.\n",
    "\n",
    "Procedural: In thisOP, code reusability is achieved through functions. You can define a function once and call it multiple times from different parts of the program.\n",
    "\n",
    "4. Encapsulation:\n",
    "\n",
    "OOPs: Encapsulation is a key principle in OOPs, which means hiding the internal implementation details of an object from the outside world. You can interact with the object only through its defined methods.\n",
    "\n",
    "Procedural: In this, there is less emphasis on encapsulation, and data is often accessible from different parts of the program directly."
   ]
  },
  {
   "cell_type": "markdown",
   "id": "a4125318",
   "metadata": {
    "ExecuteTime": {
     "end_time": "2023-07-23T13:25:52.337204Z",
     "start_time": "2023-07-23T13:25:52.316609Z"
    }
   },
   "source": [
    "# Classes and Objects"
   ]
  },
  {
   "cell_type": "markdown",
   "id": "fdfb8f54",
   "metadata": {},
   "source": [
    "## Classes"
   ]
  },
  {
   "cell_type": "code",
   "execution_count": 25,
   "id": "b43a70bb",
   "metadata": {
    "ExecuteTime": {
     "end_time": "2023-07-23T15:40:58.571030Z",
     "start_time": "2023-07-23T15:40:58.554901Z"
    }
   },
   "outputs": [],
   "source": [
    "class Car:\n",
    "    \n",
    "    def __init__(self,make,model,year):\n",
    "\n",
    "        self.make = make\n",
    "        self.model = model\n",
    "        self.year = year \n",
    "        \n",
    "    def display_info(self):\n",
    "        print(self)\n",
    "        print(f\"{self.year} {self.make} {self.model}\")\n",
    "    \n",
    "        \n",
    "# we have defined class name Car. It has 3 attributes make,model and year. init method is the constricultor which is called when we create an object. It inititalizes the object attributes . The display_info methos is used to simply siplays the information about the car"
   ]
  },
  {
   "cell_type": "markdown",
   "id": "de0fff9d",
   "metadata": {
    "ExecuteTime": {
     "end_time": "2023-07-23T12:49:58.965458Z",
     "start_time": "2023-07-23T12:49:58.945021Z"
    }
   },
   "source": [
    "## Objects"
   ]
  },
  {
   "cell_type": "code",
   "execution_count": 29,
   "id": "b166c2da",
   "metadata": {
    "ExecuteTime": {
     "end_time": "2023-07-23T15:42:40.079590Z",
     "start_time": "2023-07-23T15:42:40.070110Z"
    }
   },
   "outputs": [
    {
     "name": "stdout",
     "output_type": "stream",
     "text": [
      "<__main__.Car object at 0x00000260A0AA5B50>\n",
      "<__main__.Car object at 0x00000260A0AA5B50>\n",
      "2022 Toyota Corolla\n"
     ]
    }
   ],
   "source": [
    "# Craete object of the class Car\n",
    "Car1 = Car(make = \"Toyota\" , model = \"Corolla\" , year = 2022)\n",
    "# Car2 = Car(make = \"Honda\" , model = \"Civic\" , year = 2023)\n",
    "\n",
    "print(Car1)\n",
    "\n",
    "# use mthods of the objects\n",
    "Car1.display_info()\n",
    "# Car2.display_info()\n"
   ]
  },
  {
   "cell_type": "markdown",
   "id": "97a1b934",
   "metadata": {
    "ExecuteTime": {
     "end_time": "2023-07-23T13:01:42.762604Z",
     "start_time": "2023-07-23T13:01:42.746151Z"
    }
   },
   "source": [
    "## init Method\n",
    "__init__ is a special method in Python that gets called when you create a new object (instance) of a class.\n",
    "It is used to initialize the attributes (data) of the object with values provided during object creation."
   ]
  },
  {
   "cell_type": "code",
   "execution_count": 36,
   "id": "72c97235",
   "metadata": {
    "ExecuteTime": {
     "end_time": "2023-07-23T15:53:57.850621Z",
     "start_time": "2023-07-23T15:53:57.828569Z"
    }
   },
   "outputs": [
    {
     "name": "stdout",
     "output_type": "stream",
     "text": [
      "<__main__.Person object at 0x00000260A0AE70A0>\n",
      "John\n",
      "26\n",
      "<__main__.Person object at 0x00000260A0AE70A0>\n",
      "My name is :  John\n"
     ]
    }
   ],
   "source": [
    "class Person:\n",
    "    \n",
    "    def __init__(self,name,age):\n",
    "        self.name = name\n",
    "        self.age = age\n",
    "        \n",
    "    def my_func(self):\n",
    "        print(self)\n",
    "        print(\"My name is : \",self.name)\n",
    "        \n",
    "p1 = Person(\"John\",26)\n",
    "\n",
    "print(p1)\n",
    "\n",
    "print(p1.name)\n",
    "print(p1.age)\n",
    "\n",
    "p1.my_func()"
   ]
  },
  {
   "cell_type": "markdown",
   "id": "943515cc",
   "metadata": {},
   "source": [
    "# Method Implementation"
   ]
  },
  {
   "cell_type": "markdown",
   "id": "db1f9b11",
   "metadata": {},
   "source": [
    "## Methods vs Function\n",
    "\n",
    "Functions : are the blocks of code that perform specific task\n",
    "\n",
    "Methods : in context of python , are functions that are associated with objects of the class.Methods have an additional paramter called self."
   ]
  },
  {
   "cell_type": "code",
   "execution_count": 38,
   "id": "82b9dc23",
   "metadata": {
    "ExecuteTime": {
     "end_time": "2023-07-23T16:23:53.898439Z",
     "start_time": "2023-07-23T16:23:53.873832Z"
    }
   },
   "outputs": [
    {
     "name": "stdout",
     "output_type": "stream",
     "text": [
      "8\n"
     ]
    }
   ],
   "source": [
    "# Example\n",
    "\n",
    "def add_number(a,b):\n",
    "    return a+b\n",
    "\n",
    "result = add_number(3,5)\n",
    "print(result)"
   ]
  },
  {
   "cell_type": "code",
   "execution_count": 49,
   "id": "270d3a57",
   "metadata": {
    "ExecuteTime": {
     "end_time": "2023-07-23T16:38:05.397662Z",
     "start_time": "2023-07-23T16:38:05.388257Z"
    }
   },
   "outputs": [
    {
     "name": "stdout",
     "output_type": "stream",
     "text": [
      "Seltos 2023 Kia\n",
      "Seltos 2023 Kia\n"
     ]
    }
   ],
   "source": [
    "# Example\n",
    "class Car:\n",
    "    \n",
    "    def __init__(self,model,year, make = \"Honda\"):\n",
    "\n",
    "        self.make = make\n",
    "        self.model = model\n",
    "        self.year = year \n",
    "        \n",
    "    def display_info(self):\n",
    "        print(f\"{self.year} {self.make} {self.model}\")\n",
    "    \n",
    "        \n",
    "my_car = Car(make = \"Kia\" , model=\"Seltos\" , year = 2023)\n",
    "my_car = Car(\"Kia\", \"Seltos\" , 2023) # sequence of the paramter need to be kept in mind\n",
    "Car.display_info(my_car)  # another way of calling the method\n",
    "my_car.display_info()"
   ]
  },
  {
   "cell_type": "markdown",
   "id": "fde94788",
   "metadata": {},
   "source": [
    "## Self Keyword in Methods\n",
    "self is a special variable in Python that represents the instance of a class (i.e., an object) itself. It is automatically passed as the first parameter to the methods of a class.\n",
    "\n",
    "When you define a method in a class, you need to include self as the first parameter. This allows the method to access and modify the attributes (data) of the object it belongs to."
   ]
  },
  {
   "cell_type": "markdown",
   "id": "a238379d",
   "metadata": {},
   "source": [
    "## Paramterized and non parameterized method inside the class\n",
    "\n",
    "Parametrized : it is method that takes one or more paramters in its defination\n",
    "\n",
    "Non parametrized : its doesnot take any paramters in its defination"
   ]
  },
  {
   "cell_type": "code",
   "execution_count": 50,
   "id": "1a830be3",
   "metadata": {
    "ExecuteTime": {
     "end_time": "2023-07-23T16:43:27.521370Z",
     "start_time": "2023-07-23T16:43:27.495385Z"
    }
   },
   "outputs": [
    {
     "name": "stdout",
     "output_type": "stream",
     "text": [
      "Says: woof woof!!\n"
     ]
    }
   ],
   "source": [
    "class Dog:\n",
    "    def __init__(self,name):\n",
    "        self.name = name\n",
    "        \n",
    "    def bark(self):   # non parametrized method of the class\n",
    "        print(\"Says: woof woof!!\")\n",
    "        \n",
    "dog1  = Dog(name = \"Max\")\n",
    "\n",
    "dog1.bark()"
   ]
  },
  {
   "cell_type": "markdown",
   "id": "1ca3882f",
   "metadata": {
    "ExecuteTime": {
     "end_time": "2023-07-23T16:45:14.389862Z",
     "start_time": "2023-07-23T16:45:14.382430Z"
    }
   },
   "source": [
    "## In OOPS, how the accessing of the methods is different from normal function"
   ]
  },
  {
   "cell_type": "code",
   "execution_count": 52,
   "id": "8febdc35",
   "metadata": {
    "ExecuteTime": {
     "end_time": "2023-07-23T16:45:36.669902Z",
     "start_time": "2023-07-23T16:45:36.651272Z"
    }
   },
   "outputs": [
    {
     "name": "stdout",
     "output_type": "stream",
     "text": [
      "Says: woof woof!!\n"
     ]
    }
   ],
   "source": [
    "class Dog:\n",
    "    def __init__(self,name):\n",
    "        self.name = name\n",
    "        \n",
    "    def bark(self):   # non parametrized method of the class\n",
    "        print(\"Says: woof woof!!\")\n",
    "        \n",
    "dog1  = Dog(name = \"Max\")\n",
    "\n",
    "dog1.bark()\n",
    "\n",
    "# Classes and Object\n",
    "# Self parameter\n",
    "# Data Access"
   ]
  },
  {
   "cell_type": "code",
   "execution_count": 53,
   "id": "1393d3d4",
   "metadata": {
    "ExecuteTime": {
     "end_time": "2023-07-23T16:48:03.935830Z",
     "start_time": "2023-07-23T16:48:03.921581Z"
    }
   },
   "outputs": [
    {
     "name": "stdout",
     "output_type": "stream",
     "text": [
      "8\n"
     ]
    }
   ],
   "source": [
    "# Example\n",
    "\n",
    "def add_number(a,b):\n",
    "    return a+b\n",
    "\n",
    "result = add_number(3,5)\n",
    "print(result)"
   ]
  },
  {
   "cell_type": "markdown",
   "id": "1b393a4d",
   "metadata": {
    "ExecuteTime": {
     "end_time": "2023-07-23T16:49:08.187144Z",
     "start_time": "2023-07-23T16:49:08.179229Z"
    }
   },
   "source": [
    "## Implementation of loops and conditional statements in methods of the class"
   ]
  },
  {
   "cell_type": "code",
   "execution_count": 56,
   "id": "932e9ee6",
   "metadata": {
    "ExecuteTime": {
     "end_time": "2023-07-23T16:52:03.896307Z",
     "start_time": "2023-07-23T16:52:03.862097Z"
    }
   },
   "outputs": [
    {
     "name": "stdout",
     "output_type": "stream",
     "text": [
      "Odd Number:  1\n",
      "Even Number:  2\n",
      "Odd Number:  3\n",
      "Even Number:  4\n",
      "Odd Number:  5\n",
      "Even Number:  6\n",
      "Odd Number:  7\n"
     ]
    }
   ],
   "source": [
    "class NumberOpoerations:\n",
    "    \n",
    "    def print_numbers(self,n):\n",
    "        for num in range(1, n+1):\n",
    "            if num % 2 == 0:\n",
    "                print(\"Even Number: \", num)\n",
    "            else:\n",
    "                print(\"Odd Number: \", num)\n",
    "\n",
    "num_ops = NumberOpoerations()\n",
    "num_ops.print_numbers(7)"
   ]
  },
  {
   "cell_type": "code",
   "execution_count": 64,
   "id": "2bbad18c",
   "metadata": {
    "ExecuteTime": {
     "end_time": "2023-07-23T17:16:20.525518Z",
     "start_time": "2023-07-23T17:16:20.512529Z"
    }
   },
   "outputs": [
    {
     "name": "stdout",
     "output_type": "stream",
     "text": [
      "Account Holder : Vishwas\n",
      "Account Number : 1234567890\n",
      "Balance : 0\n",
      "Deposit of 1000 Successful , updated balance : 1000\n",
      "Withdrawal of 500 successful. New balance : 500\n",
      "Account Holder : Vishwas\n",
      "Account Number : 1234567890\n",
      "Balance : 500\n",
      "=======================================================================\n",
      "Account Holder : Sainath\n",
      "Account Number : 0987654321\n",
      "Balance : 2000\n",
      "Insufficient Funds , withdrawal failed\n",
      "Deposit of 500 Successful , updated balance : 2500\n",
      "Withdrawal of 2500 successful. New balance : 0\n",
      "Account Holder : Sainath\n",
      "Account Number : 0987654321\n",
      "Balance : 0\n"
     ]
    }
   ],
   "source": [
    "class BankAccount:\n",
    "    \n",
    "    def __init__(self,account_number , account_holder , balance = 0):\n",
    "        self.account_number = account_number\n",
    "        self.account_holder = account_holder\n",
    "        self.balance = balance\n",
    "        \n",
    "    def deposit(self, amount):\n",
    "        self.balance += amount\n",
    "        print(f\"Deposit of {amount} Successful , updated balance : {self.balance}\")\n",
    "        \n",
    "    def withdraw(self, amount):\n",
    "        if amount <= self.balance:\n",
    "            self.balance -= amount\n",
    "            print(f\"Withdrawal of {amount} successful. New balance : {self.balance}\")\n",
    "        else:\n",
    "            print(\"Insufficient Funds , withdrawal failed\")\n",
    "            \n",
    "    def display_info(self):\n",
    "        print(f\"Account Holder : {self.account_holder}\")\n",
    "        print(f\"Account Number : {self.account_number}\")\n",
    "        print(f\"Balance : {self.balance}\")\n",
    "        \n",
    "    def format(self):\n",
    "        print(\"=======================================================================\")\n",
    "\n",
    "        \n",
    "account1 = BankAccount(account_number=\"1234567890\" , account_holder=\"Vishwas\")\n",
    "account1.display_info()\n",
    "account1.deposit(1000)\n",
    "account1.withdraw(500)\n",
    "account1.display_info()\n",
    "\n",
    "account1.format()\n",
    "\n",
    "\n",
    "account2 = BankAccount(account_number=\"0987654321\" , account_holder=\"Sainath\" , balance=2000)\n",
    "account2.display_info()\n",
    "account2.withdraw(2500)\n",
    "account2.deposit(500)\n",
    "account2.withdraw(2500)\n",
    "account2.display_info()"
   ]
  }
 ],
 "metadata": {
  "kernelspec": {
   "display_name": "Python 3",
   "language": "python",
   "name": "python3"
  },
  "language_info": {
   "codemirror_mode": {
    "name": "ipython",
    "version": 3
   },
   "file_extension": ".py",
   "mimetype": "text/x-python",
   "name": "python",
   "nbconvert_exporter": "python",
   "pygments_lexer": "ipython3",
   "version": "3.8.8"
  },
  "toc": {
   "base_numbering": 1,
   "nav_menu": {},
   "number_sections": true,
   "sideBar": true,
   "skip_h1_title": false,
   "title_cell": "Table of Contents",
   "title_sidebar": "Contents",
   "toc_cell": false,
   "toc_position": {},
   "toc_section_display": true,
   "toc_window_display": false
  }
 },
 "nbformat": 4,
 "nbformat_minor": 5
}
