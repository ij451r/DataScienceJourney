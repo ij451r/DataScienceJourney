{
 "cells": [
  {
   "cell_type": "markdown",
   "id": "fc80f5db",
   "metadata": {
    "toc": true
   },
   "source": [
    "<h1>Table of Contents<span class=\"tocSkip\"></span></h1>\n",
    "<div class=\"toc\"><ul class=\"toc-item\"><li><span><a href=\"#Variables-in-Python\" data-toc-modified-id=\"Variables-in-Python-1\"><span class=\"toc-item-num\">1&nbsp;&nbsp;</span>Variables in Python</a></span><ul class=\"toc-item\"><li><span><a href=\"#Declare-variable\" data-toc-modified-id=\"Declare-variable-1.1\"><span class=\"toc-item-num\">1.1&nbsp;&nbsp;</span>Declare variable</a></span></li><li><span><a href=\"#Declare-multiple-variables-in-single--statement\" data-toc-modified-id=\"Declare-multiple-variables-in-single--statement-1.2\"><span class=\"toc-item-num\">1.2&nbsp;&nbsp;</span>Declare multiple variables in single  statement</a></span></li><li><span><a href=\"#Naming-Conventions-while-declaring-a-variable\" data-toc-modified-id=\"Naming-Conventions-while-declaring-a-variable-1.3\"><span class=\"toc-item-num\">1.3&nbsp;&nbsp;</span>Naming Conventions while declaring a variable</a></span></li><li><span><a href=\"#checking-type-of-a-variable-in-python\" data-toc-modified-id=\"checking-type-of-a-variable-in-python-1.4\"><span class=\"toc-item-num\">1.4&nbsp;&nbsp;</span>checking type of a variable in python</a></span></li><li><span><a href=\"#Declaring-dates-in-Python\" data-toc-modified-id=\"Declaring-dates-in-Python-1.5\"><span class=\"toc-item-num\">1.5&nbsp;&nbsp;</span>Declaring dates in Python</a></span></li></ul></li><li><span><a href=\"#Python-operators\" data-toc-modified-id=\"Python-operators-2\"><span class=\"toc-item-num\">2&nbsp;&nbsp;</span>Python operators</a></span><ul class=\"toc-item\"><li><span><a href=\"#Assignment-operator-with-Arithmetics-operators\" data-toc-modified-id=\"Assignment-operator-with-Arithmetics-operators-2.1\"><span class=\"toc-item-num\">2.1&nbsp;&nbsp;</span>Assignment operator with Arithmetics operators</a></span></li><li><span><a href=\"#Comparison-Operators\" data-toc-modified-id=\"Comparison-Operators-2.2\"><span class=\"toc-item-num\">2.2&nbsp;&nbsp;</span>Comparison Operators</a></span></li><li><span><a href=\"#Logical-Operators\" data-toc-modified-id=\"Logical-Operators-2.3\"><span class=\"toc-item-num\">2.3&nbsp;&nbsp;</span>Logical Operators</a></span></li><li><span><a href=\"#Bitwise-operators\" data-toc-modified-id=\"Bitwise-operators-2.4\"><span class=\"toc-item-num\">2.4&nbsp;&nbsp;</span>Bitwise operators</a></span></li><li><span><a href=\"#Identity-operator\" data-toc-modified-id=\"Identity-operator-2.5\"><span class=\"toc-item-num\">2.5&nbsp;&nbsp;</span>Identity operator</a></span></li><li><span><a href=\"#Membership-Opererator\" data-toc-modified-id=\"Membership-Opererator-2.6\"><span class=\"toc-item-num\">2.6&nbsp;&nbsp;</span>Membership Opererator</a></span></li></ul></li></ul></div>"
   ]
  },
  {
   "cell_type": "markdown",
   "id": "7d943781",
   "metadata": {},
   "source": [
    "# Variables in Python"
   ]
  },
  {
   "cell_type": "markdown",
   "id": "e44ef586",
   "metadata": {},
   "source": [
    "## Declare variable"
   ]
  },
  {
   "cell_type": "code",
   "execution_count": 36,
   "id": "34a3df37",
   "metadata": {
    "ExecuteTime": {
     "end_time": "2023-07-09T16:20:59.529597Z",
     "start_time": "2023-07-09T16:20:59.514767Z"
    }
   },
   "outputs": [],
   "source": [
    "a = 10  # declaring a variable "
   ]
  },
  {
   "cell_type": "code",
   "execution_count": 37,
   "id": "7130963c",
   "metadata": {
    "ExecuteTime": {
     "end_time": "2023-07-09T16:20:59.981291Z",
     "start_time": "2023-07-09T16:20:59.965663Z"
    }
   },
   "outputs": [
    {
     "name": "stdout",
     "output_type": "stream",
     "text": [
      "10\n"
     ]
    }
   ],
   "source": [
    "print(a)"
   ]
  },
  {
   "cell_type": "code",
   "execution_count": 38,
   "id": "80ac4d76",
   "metadata": {
    "ExecuteTime": {
     "end_time": "2023-07-09T16:21:00.306724Z",
     "start_time": "2023-07-09T16:21:00.288905Z"
    }
   },
   "outputs": [],
   "source": [
    "b = \"hello world\" # declaring a string"
   ]
  },
  {
   "cell_type": "code",
   "execution_count": 39,
   "id": "ff6fc4bc",
   "metadata": {
    "ExecuteTime": {
     "end_time": "2023-07-09T16:21:00.523050Z",
     "start_time": "2023-07-09T16:21:00.513040Z"
    }
   },
   "outputs": [
    {
     "name": "stdout",
     "output_type": "stream",
     "text": [
      "hello world\n"
     ]
    }
   ],
   "source": [
    "print(b)"
   ]
  },
  {
   "cell_type": "code",
   "execution_count": 40,
   "id": "aa8a2e6a",
   "metadata": {
    "ExecuteTime": {
     "end_time": "2023-07-09T16:21:00.709223Z",
     "start_time": "2023-07-09T16:21:00.704012Z"
    }
   },
   "outputs": [],
   "source": [
    "c = 10.5"
   ]
  },
  {
   "cell_type": "code",
   "execution_count": 41,
   "id": "4ad73452",
   "metadata": {
    "ExecuteTime": {
     "end_time": "2023-07-09T16:21:00.865585Z",
     "start_time": "2023-07-09T16:21:00.855548Z"
    }
   },
   "outputs": [
    {
     "name": "stdout",
     "output_type": "stream",
     "text": [
      "10.5\n"
     ]
    }
   ],
   "source": [
    "print(c)"
   ]
  },
  {
   "cell_type": "markdown",
   "id": "8e5b5a69",
   "metadata": {},
   "source": [
    "## Declare multiple variables in single  statement"
   ]
  },
  {
   "cell_type": "code",
   "execution_count": 42,
   "id": "048a4bb6",
   "metadata": {
    "ExecuteTime": {
     "end_time": "2023-07-09T16:21:01.145726Z",
     "start_time": "2023-07-09T16:21:01.125270Z"
    }
   },
   "outputs": [],
   "source": [
    "a,b,c = 10,\"Hello World\",10.5"
   ]
  },
  {
   "cell_type": "code",
   "execution_count": 43,
   "id": "a4f2e919",
   "metadata": {
    "ExecuteTime": {
     "end_time": "2023-07-09T16:21:01.254377Z",
     "start_time": "2023-07-09T16:21:01.233413Z"
    }
   },
   "outputs": [
    {
     "name": "stdout",
     "output_type": "stream",
     "text": [
      "10 Hello World 10.5\n"
     ]
    }
   ],
   "source": [
    "print(a,b,c)"
   ]
  },
  {
   "cell_type": "markdown",
   "id": "19b8d12a",
   "metadata": {},
   "source": [
    "## Naming Conventions while declaring a variable\n",
    "- Variable in python are case sensitive\n",
    "- Variable name cannot start with a number\n",
    "- variable name can start with a character or an underscore\n",
    "- Variable name can consist of alphanumberic characters"
   ]
  },
  {
   "cell_type": "code",
   "execution_count": 44,
   "id": "ce2cd6b9",
   "metadata": {
    "ExecuteTime": {
     "end_time": "2023-07-09T16:21:01.504595Z",
     "start_time": "2023-07-09T16:21:01.499130Z"
    }
   },
   "outputs": [
    {
     "name": "stdout",
     "output_type": "stream",
     "text": [
      "10 20\n"
     ]
    }
   ],
   "source": [
    "a = 10 \n",
    "A = 20\n",
    "print(a,A)"
   ]
  },
  {
   "cell_type": "code",
   "execution_count": 45,
   "id": "76fc525f",
   "metadata": {
    "ExecuteTime": {
     "end_time": "2023-07-09T16:21:01.645926Z",
     "start_time": "2023-07-09T16:21:01.641579Z"
    }
   },
   "outputs": [],
   "source": [
    "# 123abc = 31\n",
    "# print(123abc)    # cannot start with a number "
   ]
  },
  {
   "cell_type": "code",
   "execution_count": 46,
   "id": "e07d54af",
   "metadata": {
    "ExecuteTime": {
     "end_time": "2023-07-09T16:21:01.819769Z",
     "start_time": "2023-07-09T16:21:01.807067Z"
    }
   },
   "outputs": [
    {
     "name": "stdout",
     "output_type": "stream",
     "text": [
      "34\n"
     ]
    }
   ],
   "source": [
    "abc123 = 34\n",
    "print(abc123)"
   ]
  },
  {
   "cell_type": "code",
   "execution_count": 47,
   "id": "edd58dbd",
   "metadata": {
    "ExecuteTime": {
     "end_time": "2023-07-09T16:21:01.944939Z",
     "start_time": "2023-07-09T16:21:01.928379Z"
    }
   },
   "outputs": [],
   "source": [
    "# abc@123 = 36 \n",
    "# print(abc@123)"
   ]
  },
  {
   "cell_type": "code",
   "execution_count": 48,
   "id": "94971465",
   "metadata": {
    "ExecuteTime": {
     "end_time": "2023-07-09T16:21:02.068119Z",
     "start_time": "2023-07-09T16:21:02.057443Z"
    }
   },
   "outputs": [
    {
     "name": "stdout",
     "output_type": "stream",
     "text": [
      "11\n"
     ]
    }
   ],
   "source": [
    "_abc = 11\n",
    "print(_abc)"
   ]
  },
  {
   "cell_type": "markdown",
   "id": "710f47d9",
   "metadata": {},
   "source": [
    "## checking type of a variable in python"
   ]
  },
  {
   "cell_type": "code",
   "execution_count": 49,
   "id": "ecf6e369",
   "metadata": {
    "ExecuteTime": {
     "end_time": "2023-07-09T16:21:02.347456Z",
     "start_time": "2023-07-09T16:21:02.341734Z"
    }
   },
   "outputs": [],
   "source": [
    "a = 11\n",
    "b = \"hello world\"\n",
    "c = 10.5\n",
    "d = True"
   ]
  },
  {
   "cell_type": "code",
   "execution_count": 50,
   "id": "3713735d",
   "metadata": {
    "ExecuteTime": {
     "end_time": "2023-07-09T16:21:02.519178Z",
     "start_time": "2023-07-09T16:21:02.505475Z"
    }
   },
   "outputs": [
    {
     "data": {
      "text/plain": [
       "int"
      ]
     },
     "execution_count": 50,
     "metadata": {},
     "output_type": "execute_result"
    }
   ],
   "source": [
    "type(a)"
   ]
  },
  {
   "cell_type": "code",
   "execution_count": 51,
   "id": "c2449ace",
   "metadata": {
    "ExecuteTime": {
     "end_time": "2023-07-09T16:21:02.658305Z",
     "start_time": "2023-07-09T16:21:02.632354Z"
    }
   },
   "outputs": [
    {
     "data": {
      "text/plain": [
       "str"
      ]
     },
     "execution_count": 51,
     "metadata": {},
     "output_type": "execute_result"
    }
   ],
   "source": [
    "type(b)"
   ]
  },
  {
   "cell_type": "code",
   "execution_count": 52,
   "id": "d052a52e",
   "metadata": {
    "ExecuteTime": {
     "end_time": "2023-07-09T16:21:02.783271Z",
     "start_time": "2023-07-09T16:21:02.772895Z"
    }
   },
   "outputs": [
    {
     "data": {
      "text/plain": [
       "float"
      ]
     },
     "execution_count": 52,
     "metadata": {},
     "output_type": "execute_result"
    }
   ],
   "source": [
    "type(c)"
   ]
  },
  {
   "cell_type": "code",
   "execution_count": 53,
   "id": "891c6815",
   "metadata": {
    "ExecuteTime": {
     "end_time": "2023-07-09T16:21:02.939875Z",
     "start_time": "2023-07-09T16:21:02.924948Z"
    }
   },
   "outputs": [
    {
     "data": {
      "text/plain": [
       "bool"
      ]
     },
     "execution_count": 53,
     "metadata": {},
     "output_type": "execute_result"
    }
   ],
   "source": [
    "type(d)"
   ]
  },
  {
   "cell_type": "markdown",
   "id": "eb9180b0",
   "metadata": {},
   "source": [
    "## Declaring dates in Python"
   ]
  },
  {
   "cell_type": "code",
   "execution_count": 54,
   "id": "9f781e5f",
   "metadata": {
    "ExecuteTime": {
     "end_time": "2023-07-09T16:21:03.189488Z",
     "start_time": "2023-07-09T16:21:03.177021Z"
    }
   },
   "outputs": [],
   "source": [
    "import datetime"
   ]
  },
  {
   "cell_type": "code",
   "execution_count": 55,
   "id": "264ef5bd",
   "metadata": {
    "ExecuteTime": {
     "end_time": "2023-07-09T16:21:03.268305Z",
     "start_time": "2023-07-09T16:21:03.256098Z"
    }
   },
   "outputs": [],
   "source": [
    "x = datetime.datetime(2023,5,17)"
   ]
  },
  {
   "cell_type": "code",
   "execution_count": 56,
   "id": "27ab96f8",
   "metadata": {
    "ExecuteTime": {
     "end_time": "2023-07-09T16:21:03.423783Z",
     "start_time": "2023-07-09T16:21:03.412350Z"
    }
   },
   "outputs": [
    {
     "data": {
      "text/plain": [
       "datetime.datetime(2023, 5, 17, 0, 0)"
      ]
     },
     "execution_count": 56,
     "metadata": {},
     "output_type": "execute_result"
    }
   ],
   "source": [
    "x"
   ]
  },
  {
   "cell_type": "code",
   "execution_count": 57,
   "id": "39a35969",
   "metadata": {
    "ExecuteTime": {
     "end_time": "2023-07-09T16:21:03.580041Z",
     "start_time": "2023-07-09T16:21:03.565608Z"
    }
   },
   "outputs": [
    {
     "data": {
      "text/plain": [
       "datetime.datetime"
      ]
     },
     "execution_count": 57,
     "metadata": {},
     "output_type": "execute_result"
    }
   ],
   "source": [
    "type(x)"
   ]
  },
  {
   "cell_type": "code",
   "execution_count": 58,
   "id": "c7351f0c",
   "metadata": {
    "ExecuteTime": {
     "end_time": "2023-07-09T16:21:04.000760Z",
     "start_time": "2023-07-09T16:21:03.992181Z"
    }
   },
   "outputs": [],
   "source": [
    "current_date = datetime.datetime.now()"
   ]
  },
  {
   "cell_type": "code",
   "execution_count": 59,
   "id": "24c3e12c",
   "metadata": {
    "ExecuteTime": {
     "end_time": "2023-07-09T16:21:04.157012Z",
     "start_time": "2023-07-09T16:21:04.149079Z"
    }
   },
   "outputs": [
    {
     "data": {
      "text/plain": [
       "datetime.datetime(2023, 7, 9, 21, 51, 3, 995170)"
      ]
     },
     "execution_count": 59,
     "metadata": {},
     "output_type": "execute_result"
    }
   ],
   "source": [
    "current_date"
   ]
  },
  {
   "cell_type": "markdown",
   "id": "299fb1d5",
   "metadata": {
    "ExecuteTime": {
     "end_time": "2023-07-09T16:21:10.572292Z",
     "start_time": "2023-07-09T16:21:10.559179Z"
    }
   },
   "source": [
    "# Python operators"
   ]
  },
  {
   "cell_type": "markdown",
   "id": "18173af2",
   "metadata": {},
   "source": [
    "## Assignment operator with Arithmetics operators"
   ]
  },
  {
   "cell_type": "code",
   "execution_count": 62,
   "id": "f1e44065",
   "metadata": {
    "ExecuteTime": {
     "end_time": "2023-07-09T16:25:50.267518Z",
     "start_time": "2023-07-09T16:25:50.251457Z"
    }
   },
   "outputs": [],
   "source": [
    "a = 10"
   ]
  },
  {
   "cell_type": "code",
   "execution_count": 63,
   "id": "4bbe9abc",
   "metadata": {
    "ExecuteTime": {
     "end_time": "2023-07-09T16:26:52.634867Z",
     "start_time": "2023-07-09T16:26:52.614326Z"
    }
   },
   "outputs": [
    {
     "name": "stdout",
     "output_type": "stream",
     "text": [
      "15\n"
     ]
    }
   ],
   "source": [
    "a += 5    # can also be written as a = a + 5 \n",
    "print(a)"
   ]
  },
  {
   "cell_type": "code",
   "execution_count": 64,
   "id": "80614787",
   "metadata": {
    "ExecuteTime": {
     "end_time": "2023-07-09T16:27:28.515598Z",
     "start_time": "2023-07-09T16:27:28.506066Z"
    }
   },
   "outputs": [
    {
     "name": "stdout",
     "output_type": "stream",
     "text": [
      "10\n"
     ]
    }
   ],
   "source": [
    "b = 12\n",
    "b -= 2\n",
    "print(b)"
   ]
  },
  {
   "cell_type": "code",
   "execution_count": 65,
   "id": "8db4c1f5",
   "metadata": {
    "ExecuteTime": {
     "end_time": "2023-07-09T16:27:44.710035Z",
     "start_time": "2023-07-09T16:27:44.695449Z"
    }
   },
   "outputs": [
    {
     "name": "stdout",
     "output_type": "stream",
     "text": [
      "12\n"
     ]
    }
   ],
   "source": [
    "c = 6\n",
    "c *= 2\n",
    "print(c)"
   ]
  },
  {
   "cell_type": "code",
   "execution_count": 68,
   "id": "b1c9cbdd",
   "metadata": {
    "ExecuteTime": {
     "end_time": "2023-07-09T16:29:12.223368Z",
     "start_time": "2023-07-09T16:29:12.209749Z"
    }
   },
   "outputs": [
    {
     "name": "stdout",
     "output_type": "stream",
     "text": [
      "216\n"
     ]
    }
   ],
   "source": [
    "d = 6\n",
    "d **= 3  # it menas 6 to the poer 3\n",
    "print(d)"
   ]
  },
  {
   "cell_type": "code",
   "execution_count": 69,
   "id": "7d8d9032",
   "metadata": {
    "ExecuteTime": {
     "end_time": "2023-07-09T16:31:01.418982Z",
     "start_time": "2023-07-09T16:31:01.408286Z"
    }
   },
   "outputs": [
    {
     "name": "stdout",
     "output_type": "stream",
     "text": [
      "1\n"
     ]
    }
   ],
   "source": [
    "s = 10\n",
    "s %= 3 # this gives the remainder as output\n",
    "print(s)"
   ]
  },
  {
   "cell_type": "code",
   "execution_count": 71,
   "id": "77e3bcad",
   "metadata": {
    "ExecuteTime": {
     "end_time": "2023-07-09T16:31:57.378708Z",
     "start_time": "2023-07-09T16:31:57.359302Z"
    }
   },
   "outputs": [
    {
     "name": "stdout",
     "output_type": "stream",
     "text": [
      "4\n"
     ]
    }
   ],
   "source": [
    "q = 13\n",
    "q //= 3   # floor division\n",
    "print(q)"
   ]
  },
  {
   "cell_type": "code",
   "execution_count": 73,
   "id": "59a4a044",
   "metadata": {
    "ExecuteTime": {
     "end_time": "2023-07-09T16:32:38.089241Z",
     "start_time": "2023-07-09T16:32:38.071652Z"
    }
   },
   "outputs": [
    {
     "data": {
      "text/plain": [
       "4.333333333333333"
      ]
     },
     "execution_count": 73,
     "metadata": {},
     "output_type": "execute_result"
    }
   ],
   "source": [
    "13/3  # floor value would be 4 here "
   ]
  },
  {
   "cell_type": "code",
   "execution_count": 74,
   "id": "dc00f5d2",
   "metadata": {
    "ExecuteTime": {
     "end_time": "2023-07-09T16:33:50.627798Z",
     "start_time": "2023-07-09T16:33:50.615284Z"
    }
   },
   "outputs": [],
   "source": [
    "import math"
   ]
  },
  {
   "cell_type": "code",
   "execution_count": 75,
   "id": "282389f5",
   "metadata": {
    "ExecuteTime": {
     "end_time": "2023-07-09T16:34:08.381258Z",
     "start_time": "2023-07-09T16:34:08.358207Z"
    }
   },
   "outputs": [
    {
     "data": {
      "text/plain": [
       "4"
      ]
     },
     "execution_count": 75,
     "metadata": {},
     "output_type": "execute_result"
    }
   ],
   "source": [
    "math.ceil(q)"
   ]
  },
  {
   "cell_type": "code",
   "execution_count": 76,
   "id": "c262b7d9",
   "metadata": {
    "ExecuteTime": {
     "end_time": "2023-07-09T16:34:20.976894Z",
     "start_time": "2023-07-09T16:34:20.955868Z"
    }
   },
   "outputs": [
    {
     "data": {
      "text/plain": [
       "4"
      ]
     },
     "execution_count": 76,
     "metadata": {},
     "output_type": "execute_result"
    }
   ],
   "source": [
    "math.floor(q)"
   ]
  },
  {
   "cell_type": "code",
   "execution_count": 77,
   "id": "d6850c0a",
   "metadata": {
    "ExecuteTime": {
     "end_time": "2023-07-09T16:34:30.562701Z",
     "start_time": "2023-07-09T16:34:30.554995Z"
    }
   },
   "outputs": [
    {
     "data": {
      "text/plain": [
       "5"
      ]
     },
     "execution_count": 77,
     "metadata": {},
     "output_type": "execute_result"
    }
   ],
   "source": [
    "math.ceil(4.6)"
   ]
  },
  {
   "cell_type": "code",
   "execution_count": 78,
   "id": "31802c3a",
   "metadata": {
    "ExecuteTime": {
     "end_time": "2023-07-09T16:34:47.752240Z",
     "start_time": "2023-07-09T16:34:47.735811Z"
    }
   },
   "outputs": [
    {
     "data": {
      "text/plain": [
       "5"
      ]
     },
     "execution_count": 78,
     "metadata": {},
     "output_type": "execute_result"
    }
   ],
   "source": [
    "math.ceil(4.5)"
   ]
  },
  {
   "cell_type": "markdown",
   "id": "7f229959",
   "metadata": {},
   "source": [
    "## Comparison Operators"
   ]
  },
  {
   "cell_type": "code",
   "execution_count": 79,
   "id": "c979bbaa",
   "metadata": {
    "ExecuteTime": {
     "end_time": "2023-07-09T16:37:24.092743Z",
     "start_time": "2023-07-09T16:37:24.078962Z"
    }
   },
   "outputs": [],
   "source": [
    "a - 23\n",
    "b = 10"
   ]
  },
  {
   "cell_type": "code",
   "execution_count": 80,
   "id": "bb1cb8f6",
   "metadata": {
    "ExecuteTime": {
     "end_time": "2023-07-09T16:37:56.776782Z",
     "start_time": "2023-07-09T16:37:56.752590Z"
    }
   },
   "outputs": [
    {
     "data": {
      "text/plain": [
       "False"
      ]
     },
     "execution_count": 80,
     "metadata": {},
     "output_type": "execute_result"
    }
   ],
   "source": [
    "a == b "
   ]
  },
  {
   "cell_type": "code",
   "execution_count": 82,
   "id": "0ab2eb3e",
   "metadata": {
    "ExecuteTime": {
     "end_time": "2023-07-09T16:38:26.917933Z",
     "start_time": "2023-07-09T16:38:26.907773Z"
    }
   },
   "outputs": [
    {
     "data": {
      "text/plain": [
       "True"
      ]
     },
     "execution_count": 82,
     "metadata": {},
     "output_type": "execute_result"
    }
   ],
   "source": [
    "a != b "
   ]
  },
  {
   "cell_type": "code",
   "execution_count": 83,
   "id": "06772384",
   "metadata": {
    "ExecuteTime": {
     "end_time": "2023-07-09T16:38:35.180198Z",
     "start_time": "2023-07-09T16:38:35.161985Z"
    }
   },
   "outputs": [
    {
     "data": {
      "text/plain": [
       "True"
      ]
     },
     "execution_count": 83,
     "metadata": {},
     "output_type": "execute_result"
    }
   ],
   "source": [
    "a > b"
   ]
  },
  {
   "cell_type": "code",
   "execution_count": 84,
   "id": "51f1d07d",
   "metadata": {
    "ExecuteTime": {
     "end_time": "2023-07-09T16:38:39.554717Z",
     "start_time": "2023-07-09T16:38:39.547723Z"
    }
   },
   "outputs": [
    {
     "data": {
      "text/plain": [
       "False"
      ]
     },
     "execution_count": 84,
     "metadata": {},
     "output_type": "execute_result"
    }
   ],
   "source": [
    "a < b"
   ]
  },
  {
   "cell_type": "code",
   "execution_count": 85,
   "id": "26b23917",
   "metadata": {
    "ExecuteTime": {
     "end_time": "2023-07-09T16:38:45.835832Z",
     "start_time": "2023-07-09T16:38:45.828827Z"
    }
   },
   "outputs": [
    {
     "data": {
      "text/plain": [
       "False"
      ]
     },
     "execution_count": 85,
     "metadata": {},
     "output_type": "execute_result"
    }
   ],
   "source": [
    "a <= b"
   ]
  },
  {
   "cell_type": "code",
   "execution_count": 86,
   "id": "07828993",
   "metadata": {
    "ExecuteTime": {
     "end_time": "2023-07-09T16:38:54.744961Z",
     "start_time": "2023-07-09T16:38:54.736200Z"
    }
   },
   "outputs": [
    {
     "data": {
      "text/plain": [
       "True"
      ]
     },
     "execution_count": 86,
     "metadata": {},
     "output_type": "execute_result"
    }
   ],
   "source": [
    "a >= b"
   ]
  },
  {
   "cell_type": "markdown",
   "id": "60ee9849",
   "metadata": {},
   "source": [
    "## Logical Operators"
   ]
  },
  {
   "cell_type": "code",
   "execution_count": 87,
   "id": "39edb230",
   "metadata": {
    "ExecuteTime": {
     "end_time": "2023-07-09T16:40:25.011194Z",
     "start_time": "2023-07-09T16:40:24.999875Z"
    }
   },
   "outputs": [],
   "source": [
    "a = 10\n",
    "b = 23\n",
    "c = 32"
   ]
  },
  {
   "cell_type": "code",
   "execution_count": 88,
   "id": "9232ba1f",
   "metadata": {
    "ExecuteTime": {
     "end_time": "2023-07-09T16:41:28.598817Z",
     "start_time": "2023-07-09T16:41:28.543611Z"
    }
   },
   "outputs": [
    {
     "data": {
      "text/plain": [
       "False"
      ]
     },
     "execution_count": 88,
     "metadata": {},
     "output_type": "execute_result"
    }
   ],
   "source": [
    "a > 10 and b > 0"
   ]
  },
  {
   "cell_type": "code",
   "execution_count": 89,
   "id": "2c1ec6ac",
   "metadata": {
    "ExecuteTime": {
     "end_time": "2023-07-09T16:42:01.996258Z",
     "start_time": "2023-07-09T16:42:01.985989Z"
    }
   },
   "outputs": [
    {
     "data": {
      "text/plain": [
       "True"
      ]
     },
     "execution_count": 89,
     "metadata": {},
     "output_type": "execute_result"
    }
   ],
   "source": [
    "a > 0 and b > 0 "
   ]
  },
  {
   "cell_type": "code",
   "execution_count": 90,
   "id": "6a899630",
   "metadata": {
    "ExecuteTime": {
     "end_time": "2023-07-09T16:42:21.431355Z",
     "start_time": "2023-07-09T16:42:21.421176Z"
    }
   },
   "outputs": [
    {
     "data": {
      "text/plain": [
       "True"
      ]
     },
     "execution_count": 90,
     "metadata": {},
     "output_type": "execute_result"
    }
   ],
   "source": [
    "a > 0 and b> 0 and c> 0"
   ]
  },
  {
   "cell_type": "code",
   "execution_count": 91,
   "id": "bf893dda",
   "metadata": {
    "ExecuteTime": {
     "end_time": "2023-07-09T16:43:15.270009Z",
     "start_time": "2023-07-09T16:43:15.262897Z"
    }
   },
   "outputs": [
    {
     "data": {
      "text/plain": [
       "True"
      ]
     },
     "execution_count": 91,
     "metadata": {},
     "output_type": "execute_result"
    }
   ],
   "source": [
    "a > 10 or b > 0"
   ]
  },
  {
   "cell_type": "code",
   "execution_count": 92,
   "id": "8d133b6e",
   "metadata": {
    "ExecuteTime": {
     "end_time": "2023-07-09T16:44:00.492076Z",
     "start_time": "2023-07-09T16:44:00.474821Z"
    }
   },
   "outputs": [
    {
     "data": {
      "text/plain": [
       "True"
      ]
     },
     "execution_count": 92,
     "metadata": {},
     "output_type": "execute_result"
    }
   ],
   "source": [
    "not a > b"
   ]
  },
  {
   "cell_type": "markdown",
   "id": "d2a6deda",
   "metadata": {},
   "source": [
    "## Bitwise operators- &,|,^,~,>>,<<"
   ]
  },
  {
   "cell_type": "code",
   "execution_count": 93,
   "id": "828e7b25",
   "metadata": {
    "ExecuteTime": {
     "end_time": "2023-07-09T16:49:00.121423Z",
     "start_time": "2023-07-09T16:49:00.107395Z"
    }
   },
   "outputs": [],
   "source": [
    "a = 5 # Binary representation of 5 is 101\n",
    "b = 7 # Binary representation of 7 is 111\n",
    "\n"
   ]
  },
  {
   "cell_type": "code",
   "execution_count": 94,
   "id": "389d2561",
   "metadata": {
    "ExecuteTime": {
     "end_time": "2023-07-09T16:50:42.618821Z",
     "start_time": "2023-07-09T16:50:42.595603Z"
    }
   },
   "outputs": [
    {
     "data": {
      "text/plain": [
       "5"
      ]
     },
     "execution_count": 94,
     "metadata": {},
     "output_type": "execute_result"
    }
   ],
   "source": [
    "a & b # 101 & 111\n",
    "              \n",
    "# 5      -> 1 0 1\n",
    "# 7      -> 1 1 1\n",
    "# 5 & 7  -> 1 0 1"
   ]
  },
  {
   "cell_type": "code",
   "execution_count": 97,
   "id": "54a289d1",
   "metadata": {
    "ExecuteTime": {
     "end_time": "2023-07-09T17:00:27.455612Z",
     "start_time": "2023-07-09T17:00:27.444885Z"
    }
   },
   "outputs": [
    {
     "name": "stdout",
     "output_type": "stream",
     "text": [
      "2\n"
     ]
    }
   ],
   "source": [
    "a = 10 # 1010\n",
    "b = 7  # 111\n",
    "print(a & b)\n",
    "# 10    ->        1    0    1    0\n",
    "#                 2^3  2^2  2^1  2^0  = 8 + 0 + 2 + 0 = 10\n",
    "#                 8    4    2    1\n",
    "# 7     ->        0    1    1    0\n",
    "#                 2^3  2^2  2^1  2^0  = 0 + 4 + 2 + 1 = 7\n",
    "#                 8    4    2    1\n",
    "# 10&7  ->        0 0 1 0"
   ]
  },
  {
   "cell_type": "code",
   "execution_count": 98,
   "id": "c41b0025",
   "metadata": {
    "ExecuteTime": {
     "end_time": "2023-07-09T17:02:52.624367Z",
     "start_time": "2023-07-09T17:02:52.598332Z"
    }
   },
   "outputs": [
    {
     "name": "stdout",
     "output_type": "stream",
     "text": [
      "4\n"
     ]
    }
   ],
   "source": [
    "a = 6\n",
    "b = 13\n",
    "print(a & b)"
   ]
  },
  {
   "cell_type": "code",
   "execution_count": 99,
   "id": "ef3cfa79",
   "metadata": {
    "ExecuteTime": {
     "end_time": "2023-07-09T17:02:52.781298Z",
     "start_time": "2023-07-09T17:02:52.768135Z"
    }
   },
   "outputs": [
    {
     "name": "stdout",
     "output_type": "stream",
     "text": [
      "15\n"
     ]
    }
   ],
   "source": [
    "print(a | b)"
   ]
  },
  {
   "cell_type": "code",
   "execution_count": 103,
   "id": "f1192c34",
   "metadata": {
    "ExecuteTime": {
     "end_time": "2023-07-09T17:06:26.923679Z",
     "start_time": "2023-07-09T17:06:26.910072Z"
    }
   },
   "outputs": [],
   "source": [
    "a = 6  # 0110 shift this by 1  => after shift by 1 0011 => next shift 0001"
   ]
  },
  {
   "cell_type": "code",
   "execution_count": 111,
   "id": "a1d48e43",
   "metadata": {
    "ExecuteTime": {
     "end_time": "2023-07-09T17:09:44.394271Z",
     "start_time": "2023-07-09T17:09:44.381110Z"
    }
   },
   "outputs": [
    {
     "name": "stdout",
     "output_type": "stream",
     "text": [
      "3\n",
      "1\n"
     ]
    }
   ],
   "source": [
    "b = 7  # 0111 shift this by 1  => after shift by 1 0011 => next shift 0001\n",
    "b >>= 1\n",
    "print(b)\n",
    "b >>= 1\n",
    "print(b)"
   ]
  },
  {
   "cell_type": "code",
   "execution_count": 112,
   "id": "22af8bb4",
   "metadata": {
    "ExecuteTime": {
     "end_time": "2023-07-09T17:10:50.096217Z",
     "start_time": "2023-07-09T17:10:50.080455Z"
    }
   },
   "outputs": [
    {
     "name": "stdout",
     "output_type": "stream",
     "text": [
      "14\n",
      "28\n"
     ]
    }
   ],
   "source": [
    "b = 7  # 111 shift this by 1  => after shift by 1 - 1110 => next shift 11100    32,16,8,4,2,1\n",
    "b <<= 1\n",
    "print(b)\n",
    "b <<= 1\n",
    "print(b)"
   ]
  },
  {
   "cell_type": "code",
   "execution_count": 104,
   "id": "9ae52110",
   "metadata": {
    "ExecuteTime": {
     "end_time": "2023-07-09T17:06:27.266137Z",
     "start_time": "2023-07-09T17:06:27.257407Z"
    }
   },
   "outputs": [
    {
     "name": "stdout",
     "output_type": "stream",
     "text": [
      "1\n"
     ]
    }
   ],
   "source": [
    "# Biwose right shift and left shift operators\n",
    "a = 6  # 0110\n",
    "b = 2 \n",
    "a >>= b # a = a >> b\n",
    "print(a)"
   ]
  },
  {
   "cell_type": "code",
   "execution_count": 108,
   "id": "579e5ee7",
   "metadata": {
    "ExecuteTime": {
     "end_time": "2023-07-09T17:06:52.799931Z",
     "start_time": "2023-07-09T17:06:52.774204Z"
    }
   },
   "outputs": [
    {
     "name": "stdout",
     "output_type": "stream",
     "text": [
      "3\n"
     ]
    }
   ],
   "source": [
    "# Biwose right shift and left shift operators\n",
    "a = 6  # 0110\n",
    "b = 1 \n",
    "a >>= b # a = a >> b\n",
    "print(a)"
   ]
  },
  {
   "cell_type": "markdown",
   "id": "0d9c2d73",
   "metadata": {},
   "source": [
    "## Identity operator"
   ]
  },
  {
   "cell_type": "code",
   "execution_count": 119,
   "id": "8aa123cd",
   "metadata": {
    "ExecuteTime": {
     "end_time": "2023-07-09T17:20:41.044646Z",
     "start_time": "2023-07-09T17:20:41.025255Z"
    }
   },
   "outputs": [
    {
     "data": {
      "text/plain": [
       "True"
      ]
     },
     "execution_count": 119,
     "metadata": {},
     "output_type": "execute_result"
    }
   ],
   "source": [
    "a = 10\n",
    "b = 10\n",
    "a is b"
   ]
  },
  {
   "cell_type": "code",
   "execution_count": 120,
   "id": "7325c50f",
   "metadata": {
    "ExecuteTime": {
     "end_time": "2023-07-09T17:20:41.248505Z",
     "start_time": "2023-07-09T17:20:41.240387Z"
    }
   },
   "outputs": [
    {
     "data": {
      "text/plain": [
       "140724639705168"
      ]
     },
     "execution_count": 120,
     "metadata": {},
     "output_type": "execute_result"
    }
   ],
   "source": [
    "id(a)"
   ]
  },
  {
   "cell_type": "code",
   "execution_count": 121,
   "id": "db2f3ad9",
   "metadata": {
    "ExecuteTime": {
     "end_time": "2023-07-09T17:20:41.497616Z",
     "start_time": "2023-07-09T17:20:41.488806Z"
    },
    "scrolled": true
   },
   "outputs": [
    {
     "data": {
      "text/plain": [
       "140724639705168"
      ]
     },
     "execution_count": 121,
     "metadata": {},
     "output_type": "execute_result"
    }
   ],
   "source": [
    "id(b)"
   ]
  },
  {
   "cell_type": "code",
   "execution_count": 115,
   "id": "c155d077",
   "metadata": {
    "ExecuteTime": {
     "end_time": "2023-07-09T17:19:51.913988Z",
     "start_time": "2023-07-09T17:19:51.896920Z"
    }
   },
   "outputs": [
    {
     "data": {
      "text/plain": [
       "False"
      ]
     },
     "execution_count": 115,
     "metadata": {},
     "output_type": "execute_result"
    }
   ],
   "source": [
    "a = 12\n",
    "b = 14\n",
    "a is b "
   ]
  },
  {
   "cell_type": "code",
   "execution_count": 116,
   "id": "70d49a1f",
   "metadata": {
    "ExecuteTime": {
     "end_time": "2023-07-09T17:20:06.693464Z",
     "start_time": "2023-07-09T17:20:06.687360Z"
    }
   },
   "outputs": [
    {
     "data": {
      "text/plain": [
       "True"
      ]
     },
     "execution_count": 116,
     "metadata": {},
     "output_type": "execute_result"
    }
   ],
   "source": [
    "a = 12\n",
    "b = 14\n",
    "a is not b "
   ]
  },
  {
   "cell_type": "code",
   "execution_count": 117,
   "id": "d89de0b9",
   "metadata": {
    "ExecuteTime": {
     "end_time": "2023-07-09T17:20:10.909814Z",
     "start_time": "2023-07-09T17:20:10.886581Z"
    }
   },
   "outputs": [
    {
     "data": {
      "text/plain": [
       "140724639705232"
      ]
     },
     "execution_count": 117,
     "metadata": {},
     "output_type": "execute_result"
    }
   ],
   "source": [
    "id(a)"
   ]
  },
  {
   "cell_type": "code",
   "execution_count": 118,
   "id": "95432a08",
   "metadata": {
    "ExecuteTime": {
     "end_time": "2023-07-09T17:20:18.986333Z",
     "start_time": "2023-07-09T17:20:18.974161Z"
    }
   },
   "outputs": [
    {
     "data": {
      "text/plain": [
       "140724639705296"
      ]
     },
     "execution_count": 118,
     "metadata": {},
     "output_type": "execute_result"
    }
   ],
   "source": [
    "id(b)"
   ]
  },
  {
   "cell_type": "markdown",
   "id": "04e1d364",
   "metadata": {},
   "source": [
    "## Membership Opererator"
   ]
  },
  {
   "cell_type": "code",
   "execution_count": 123,
   "id": "a02152f9",
   "metadata": {
    "ExecuteTime": {
     "end_time": "2023-07-09T17:22:13.942261Z",
     "start_time": "2023-07-09T17:22:13.934163Z"
    }
   },
   "outputs": [],
   "source": [
    "a = \"Intellipat Python Tutorial Day1\""
   ]
  },
  {
   "cell_type": "code",
   "execution_count": 126,
   "id": "31e26917",
   "metadata": {
    "ExecuteTime": {
     "end_time": "2023-07-09T17:22:24.677425Z",
     "start_time": "2023-07-09T17:22:24.671860Z"
    }
   },
   "outputs": [
    {
     "data": {
      "text/plain": [
       "True"
      ]
     },
     "execution_count": 126,
     "metadata": {},
     "output_type": "execute_result"
    }
   ],
   "source": [
    "\"Python\" in a"
   ]
  },
  {
   "cell_type": "code",
   "execution_count": 128,
   "id": "6c9ae5d1",
   "metadata": {
    "ExecuteTime": {
     "end_time": "2023-07-09T17:22:54.069329Z",
     "start_time": "2023-07-09T17:22:54.041917Z"
    }
   },
   "outputs": [
    {
     "data": {
      "text/plain": [
       "True"
      ]
     },
     "execution_count": 128,
     "metadata": {},
     "output_type": "execute_result"
    }
   ],
   "source": [
    "\"Java\" not in a"
   ]
  },
  {
   "cell_type": "code",
   "execution_count": null,
   "id": "637ec861",
   "metadata": {},
   "outputs": [],
   "source": []
  }
 ],
 "metadata": {
  "kernelspec": {
   "display_name": "Python 3",
   "language": "python",
   "name": "python3"
  },
  "language_info": {
   "codemirror_mode": {
    "name": "ipython",
    "version": 3
   },
   "file_extension": ".py",
   "mimetype": "text/x-python",
   "name": "python",
   "nbconvert_exporter": "python",
   "pygments_lexer": "ipython3",
   "version": "3.8.8"
  },
  "toc": {
   "base_numbering": 1,
   "nav_menu": {},
   "number_sections": true,
   "sideBar": true,
   "skip_h1_title": false,
   "title_cell": "Table of Contents",
   "title_sidebar": "Contents",
   "toc_cell": true,
   "toc_position": {},
   "toc_section_display": true,
   "toc_window_display": true
  }
 },
 "nbformat": 4,
 "nbformat_minor": 5
}
