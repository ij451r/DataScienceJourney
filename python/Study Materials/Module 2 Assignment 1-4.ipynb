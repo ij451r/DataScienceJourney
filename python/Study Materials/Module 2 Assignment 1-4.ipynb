{
 "cells": [
  {
   "cell_type": "markdown",
   "id": "c834b6fd",
   "metadata": {},
   "source": [
    "# Function And Class Assignment"
   ]
  },
  {
   "cell_type": "markdown",
   "id": "7b870189",
   "metadata": {},
   "source": [
    "## Create a function named ‘factor’ that can only accept 1 argument. The function should return the factorial of that number."
   ]
  },
  {
   "cell_type": "code",
   "execution_count": 1,
   "id": "e130216e",
   "metadata": {
    "ExecuteTime": {
     "end_time": "2023-09-17T08:02:01.807289Z",
     "start_time": "2023-09-17T08:02:01.802395Z"
    }
   },
   "outputs": [
    {
     "name": "stdout",
     "output_type": "stream",
     "text": [
      "120\n"
     ]
    }
   ],
   "source": [
    "def factor(num):\n",
    "    if num == 1:\n",
    "        return 1\n",
    "    return num*factor(num-1)\n",
    "print(factor(5))"
   ]
  },
  {
   "cell_type": "markdown",
   "id": "6a13019a",
   "metadata": {},
   "source": [
    "## Create a function named ‘check_string’, the function should accept a string data from the user and the function should check if the user input contains the letter ‘s’ in it. If it contains the letter ‘s’ then print- ‘The string is containing the letter ‘s’’, if not then print- ‘The string doesn’t contain the letter ‘s’’."
   ]
  },
  {
   "cell_type": "code",
   "execution_count": 3,
   "id": "713f215c",
   "metadata": {
    "ExecuteTime": {
     "end_time": "2023-09-17T08:04:39.131057Z",
     "start_time": "2023-09-17T08:04:39.116131Z"
    }
   },
   "outputs": [
    {
     "name": "stdout",
     "output_type": "stream",
     "text": [
      "Thr string doesn't contain the letter 's'\n",
      "The string is containing the letter 's'\n"
     ]
    }
   ],
   "source": [
    "def check_string(String):\n",
    "    if 's' in String.lower():\n",
    "        print(\"The string is containing the letter 's'\")\n",
    "    else:\n",
    "        print(\"Thr string doesn't contain the letter 's'\")\n",
    "check_string(\"intellipaat\")\n",
    "check_string(\"Jasir\")"
   ]
  },
  {
   "cell_type": "markdown",
   "id": "d46b3b3c",
   "metadata": {},
   "source": [
    "## Create a class named ‘student’ and inside the class, create a function named ‘fun1’- this method should accept the user defined input and return that value:\n",
    "1. Create another method named- message() and that method should print the user defined input that we have defined in ‘fun1’.\n"
   ]
  },
  {
   "cell_type": "code",
   "execution_count": 6,
   "id": "aa5e1b80",
   "metadata": {
    "ExecuteTime": {
     "end_time": "2023-09-17T08:07:08.532337Z",
     "start_time": "2023-09-17T08:07:06.785879Z"
    }
   },
   "outputs": [
    {
     "name": "stdout",
     "output_type": "stream",
     "text": [
      "Enter Input\t123\n",
      "123\n"
     ]
    }
   ],
   "source": [
    "class student:\n",
    "    def fun1(self):\n",
    "        self.msg = input(\"Enter Input\\t\")\n",
    "        return self.msg\n",
    "    def message(self):\n",
    "        print(self.msg)\n",
    "\n",
    "A = student()\n",
    "A.fun1()\n",
    "A.message()"
   ]
  },
  {
   "cell_type": "markdown",
   "id": "5e2a05e1",
   "metadata": {},
   "source": [
    "## 4. Create a lambda function that should double or multiply the number (that we will be passing in the lambda function) by 2. Store the lambda function in a variable named ‘double_num’.\n"
   ]
  },
  {
   "cell_type": "code",
   "execution_count": 9,
   "id": "77a886d8",
   "metadata": {
    "ExecuteTime": {
     "end_time": "2023-09-17T08:08:34.941401Z",
     "start_time": "2023-09-17T08:08:34.927826Z"
    }
   },
   "outputs": [
    {
     "data": {
      "text/plain": [
       "8"
      ]
     },
     "execution_count": 9,
     "metadata": {},
     "output_type": "execute_result"
    }
   ],
   "source": [
    "double_num = lambda x: 2*x\n",
    "double_num(4)"
   ]
  },
  {
   "cell_type": "markdown",
   "id": "28bbb033",
   "metadata": {},
   "source": [
    "## Take user input string and check whether that string is palindrome or not."
   ]
  },
  {
   "cell_type": "code",
   "execution_count": 11,
   "id": "f11fc050",
   "metadata": {
    "ExecuteTime": {
     "end_time": "2023-09-17T08:10:40.721715Z",
     "start_time": "2023-09-17T08:10:40.707178Z"
    }
   },
   "outputs": [
    {
     "name": "stdout",
     "output_type": "stream",
     "text": [
      "False\n",
      "True\n"
     ]
    }
   ],
   "source": [
    "def check_palindrome(String):\n",
    "    return String == String[::-1]\n",
    "print(check_palindrome(\"Banana\"))\n",
    "print(check_palindrome(\"malayalam\"))"
   ]
  },
  {
   "cell_type": "markdown",
   "id": "52dc9882",
   "metadata": {},
   "source": [
    "# Functions Assignment"
   ]
  },
  {
   "cell_type": "markdown",
   "id": "f50b6d2d",
   "metadata": {},
   "source": [
    "## Create a class named ‘Super’ and inside that class define a user-defined function named fun1\n",
    "1. Inside the ‘fun1’ function, pass the message “This is function 1 in the\n",
    "Super class.” in the print statement.\n"
   ]
  },
  {
   "cell_type": "code",
   "execution_count": 12,
   "id": "0e82752c",
   "metadata": {
    "ExecuteTime": {
     "end_time": "2023-09-17T08:14:51.218066Z",
     "start_time": "2023-09-17T08:14:51.214288Z"
    }
   },
   "outputs": [],
   "source": [
    "class Super:\n",
    "    def fun1(self):\n",
    "        print(\"This is function 1 in the Super class\")"
   ]
  },
  {
   "cell_type": "markdown",
   "id": "e8cc06d3",
   "metadata": {},
   "source": [
    "##  Create another class named ‘Modified_Super’ and inherit this class from the Super class\n",
    "1. Inside the Modified_Super class, create a function named ‘fun1’ and\n",
    "pass the following message inside the print statement: ‘This is function 1 in\n",
    "the Modified Super class.’\n",
    "2. Create another user-defined function named ‘fun2’ and pass the\n",
    "message: ‘This is the 2 nd function from the Modified Super class’ in the\n",
    "print statement.\n",
    "3. After that, now create an object for the Modified_Super class and call the\n",
    "fun1().\n"
   ]
  },
  {
   "cell_type": "code",
   "execution_count": 13,
   "id": "033e38cf",
   "metadata": {
    "ExecuteTime": {
     "end_time": "2023-09-17T08:16:37.989568Z",
     "start_time": "2023-09-17T08:16:37.972112Z"
    }
   },
   "outputs": [
    {
     "name": "stdout",
     "output_type": "stream",
     "text": [
      "This is function 1 in the Modified Super class\n"
     ]
    }
   ],
   "source": [
    "class Modified_Super(Super):\n",
    "    def fun1(self):\n",
    "        print(\"This is function 1 in the Modified Super class\")\n",
    "    def fun2(self):\n",
    "        print('This is the 2 nd function from the Modified Super class')\n",
    "MS = Modified_Super()\n",
    "MS.fun1()"
   ]
  },
  {
   "cell_type": "markdown",
   "id": "3e5550a0",
   "metadata": {},
   "source": [
    "## Create 2 methods named ‘Hello’. In the 1st Hello method, pass only one argument and pass this message: ‘This function is only having 1 argument’. And in the 2nd Hello method, pass two arguments and pass this message: ‘This function is having 2 arguments’.\n",
    "1. Try to call both the methods and analyze the output of both the methods.\n"
   ]
  },
  {
   "cell_type": "code",
   "execution_count": 15,
   "id": "4253e718",
   "metadata": {
    "ExecuteTime": {
     "end_time": "2023-09-17T08:18:25.513401Z",
     "start_time": "2023-09-17T08:18:25.497805Z"
    }
   },
   "outputs": [
    {
     "name": "stdout",
     "output_type": "stream",
     "text": [
      "This function is having two arguments\n",
      "Hello() missing 1 required positional argument: 'arg2'\n"
     ]
    }
   ],
   "source": [
    "def Hello(arg1):\n",
    "    print(\"This function has only one argument\")\n",
    "def Hello(arg1, arg2):\n",
    "    print(\"This function is having two arguments\")\n",
    "Hello(1,2)\n",
    "try:\n",
    "    Hello(1)\n",
    "except Exception as e:\n",
    "    print(e)"
   ]
  },
  {
   "cell_type": "markdown",
   "id": "46a69ec4",
   "metadata": {},
   "source": [
    "## Create a method named ‘Sum’ that can accept multiple user inputs. Now add those user defined input values using for loop and the function should return the addition of the numbers.\n"
   ]
  },
  {
   "cell_type": "code",
   "execution_count": 31,
   "id": "115e8531",
   "metadata": {
    "ExecuteTime": {
     "end_time": "2023-09-17T08:26:26.535025Z",
     "start_time": "2023-09-17T08:26:26.519050Z"
    }
   },
   "outputs": [
    {
     "data": {
      "text/plain": [
       "9"
      ]
     },
     "execution_count": 31,
     "metadata": {},
     "output_type": "execute_result"
    }
   ],
   "source": [
    "def Sum(*args):\n",
    "    result = 0\n",
    "    for ele in args:\n",
    "        result+=ele\n",
    "    return result\n",
    "def SUM()\n",
    "Sum(2,3,4)"
   ]
  },
  {
   "cell_type": "markdown",
   "id": "952da4bd",
   "metadata": {},
   "source": [
    "## Create a class named ‘Encapsulation’:\n",
    "1. Inside the class, first create a constructor. Inside the constructor,\n",
    "initialize originalValue variable as 10.\n",
    "2. After creating the constructor, define a function named ‘Value’ and this\n",
    "function should return the variable that we have initialized in the\n",
    "constructor.\n",
    "3. Now create a 2nd function named setValue, and pass an argument\n",
    "named ‘newValue’. The task of this function will be to replace the value of\n",
    "the originalValue variable by the value of newValue variable."
   ]
  },
  {
   "cell_type": "code",
   "execution_count": 35,
   "id": "101e75ee",
   "metadata": {
    "ExecuteTime": {
     "end_time": "2023-09-17T08:35:04.141241Z",
     "start_time": "2023-09-17T08:35:04.124897Z"
    }
   },
   "outputs": [
    {
     "name": "stdout",
     "output_type": "stream",
     "text": [
      "10\n",
      "15\n"
     ]
    }
   ],
   "source": [
    "class Encapsulation:\n",
    "    def __init__(self):\n",
    "        self.originalValue = 10\n",
    "    def Value(self):\n",
    "        return self.originalValue\n",
    "    def setValue(self, newValue):\n",
    "        self.originalValue = newValue\n",
    "A = Encapsulation()\n",
    "print(A.Value())\n",
    "A.setValue(15)\n",
    "print(A.Value())"
   ]
  },
  {
   "cell_type": "markdown",
   "id": "510bbb65",
   "metadata": {},
   "source": [
    "# Module 2: Import Assignment"
   ]
  },
  {
   "cell_type": "markdown",
   "id": "ebb249b1",
   "metadata": {},
   "source": [
    "##  Create a Python file named Module:\n",
    "1. Inside the file, define 4 methods named – addition, subtraction,\n",
    "multiplication, and division.\n",
    "2. Each method should only accept 2 arguments and should return the\n",
    "result of operation performed in each method. For e.g., addition() should\n",
    "return the sum of two arguments.\n",
    "3. Save the Module file in .py format.\n"
   ]
  },
  {
   "cell_type": "code",
   "execution_count": 37,
   "id": "a62c6838",
   "metadata": {
    "ExecuteTime": {
     "end_time": "2023-09-17T08:40:20.426166Z",
     "start_time": "2023-09-17T08:40:20.411099Z"
    }
   },
   "outputs": [],
   "source": [
    "file_content = \"\"\"\n",
    "def addition(num1, num2):\n",
    "    return num1+num2\n",
    "def subtraction(num1, num2):\n",
    "    return num1-num2\n",
    "def multiplication(num1, num2):\n",
    "    return num1*num2\n",
    "def division(num1, num2):\n",
    "    return num1/num2\n",
    "\"\"\"\n",
    "with open(\"Module.py\", \"w\") as python_file:\n",
    "    python_file.write(file_content)\n",
    "    python_file.close()"
   ]
  },
  {
   "cell_type": "markdown",
   "id": "e804cb86",
   "metadata": {},
   "source": [
    "## Open a new python file and import the Module.py file\n",
    "1. Now call the 4 methods from the Module.py file, i.e., addition(),\n",
    "subtraction(), multiplication(), and division()."
   ]
  },
  {
   "cell_type": "code",
   "execution_count": 41,
   "id": "38582291",
   "metadata": {
    "ExecuteTime": {
     "end_time": "2023-09-17T08:42:22.389344Z",
     "start_time": "2023-09-17T08:42:22.375440Z"
    }
   },
   "outputs": [
    {
     "name": "stdout",
     "output_type": "stream",
     "text": [
      "7\n",
      "-3\n",
      "10\n",
      "0.4\n"
     ]
    }
   ],
   "source": [
    "import Module \n",
    "print(Module.addition(2,5))\n",
    "print(Module.subtraction(2,5))\n",
    "print(Module.multiplication(2,5))\n",
    "print(Module.division(2,5))"
   ]
  },
  {
   "cell_type": "markdown",
   "id": "724c519a",
   "metadata": {},
   "source": [
    "## From the Module file, import only the addition() and pass the arguments so that it can display the result from the method."
   ]
  },
  {
   "cell_type": "code",
   "execution_count": 44,
   "id": "f8e4ca04",
   "metadata": {
    "ExecuteTime": {
     "end_time": "2023-09-17T08:43:04.336425Z",
     "start_time": "2023-09-17T08:43:04.325693Z"
    }
   },
   "outputs": [
    {
     "name": "stdout",
     "output_type": "stream",
     "text": [
      "5\n"
     ]
    }
   ],
   "source": [
    "from Module import addition\n",
    "print(addition(1,4))"
   ]
  },
  {
   "cell_type": "markdown",
   "id": "7489f800",
   "metadata": {},
   "source": [
    "## From the Module file, import only the subtraction() and pass the arguments so that it can display the result from the method.\n"
   ]
  },
  {
   "cell_type": "code",
   "execution_count": null,
   "id": "d97d48cc",
   "metadata": {},
   "outputs": [],
   "source": [
    "from Module import subtraction\n",
    "print(subtraction(1,4))"
   ]
  },
  {
   "cell_type": "markdown",
   "id": "c4870f5e",
   "metadata": {},
   "source": [
    "## From the Module file, import both the multiplication() and division() and pass the arguments so that it can display the result from the methods."
   ]
  },
  {
   "cell_type": "code",
   "execution_count": 46,
   "id": "2ffdc885",
   "metadata": {
    "ExecuteTime": {
     "end_time": "2023-09-17T08:44:16.338537Z",
     "start_time": "2023-09-17T08:44:16.328104Z"
    }
   },
   "outputs": [
    {
     "name": "stdout",
     "output_type": "stream",
     "text": [
      "28\n",
      "1.75\n"
     ]
    }
   ],
   "source": [
    "from Module import multiplication, division\n",
    "print(multiplication(7,4))\n",
    "print(division(7,4))"
   ]
  },
  {
   "cell_type": "markdown",
   "id": "d8f00d4d",
   "metadata": {},
   "source": [
    "# Module 2: Inheritance"
   ]
  },
  {
   "cell_type": "markdown",
   "id": "9c5fa1c2",
   "metadata": {},
   "source": [
    "## Create a class named parent_Class and inside the class, initialize a global variable num as 10\n",
    "1. Create another class named child_Class and this class should be\n",
    "inherited from the parent class.\n",
    "2. Now create an object for the child_Class and with the help of\n",
    "child_Class object, display the value of ‘num’.\n"
   ]
  },
  {
   "cell_type": "code",
   "execution_count": 4,
   "id": "e9efd7c4",
   "metadata": {
    "ExecuteTime": {
     "end_time": "2023-09-28T04:08:52.462962Z",
     "start_time": "2023-09-28T04:08:52.452916Z"
    }
   },
   "outputs": [
    {
     "data": {
      "text/plain": [
       "10"
      ]
     },
     "execution_count": 4,
     "metadata": {},
     "output_type": "execute_result"
    }
   ],
   "source": [
    "class parent_Class:\n",
    "    def __init__(self):\n",
    "        self.num = 10\n",
    "class child_Class(parent_Class):\n",
    "    def __init__(self):\n",
    "        super().__init__()\n",
    "child = child_Class()\n",
    "child.num"
   ]
  },
  {
   "cell_type": "markdown",
   "id": "2da91944",
   "metadata": {},
   "source": [
    "## Create three classes named A, B and C\n",
    "1. Inside the A class, create a constructor. Inside the constructor, initialize\n",
    "2 global variables name and age.\n",
    "2. After initializing the global variables inside the constructor, now create a\n",
    "function named ‘details’ and that function should return the ‘name’ variable.\n",
    "3. Inside the B class, create a constructor. Inside the constructor, initialize 2\n",
    "global variables name and id.\n",
    "4. After initializing the global variables inside the constructor, now create a\n",
    "function named ‘details’ and that function should return the ‘name’ variable.\n",
    "5. The C class should inherit from class A, and B. Inside the class C,\n",
    "create a constructor, and inside the constructor, call the constructor of\n",
    "class A.\n",
    "6. Now, create a method inside the class C, as get_details, and this function\n",
    "should return the value of name.\n",
    "7. Atlast, create an object of class C, and with the help of the object, call\n",
    "the get_details().\n"
   ]
  },
  {
   "cell_type": "code",
   "execution_count": 15,
   "id": "e7a65061",
   "metadata": {
    "ExecuteTime": {
     "end_time": "2023-09-28T04:15:27.525692Z",
     "start_time": "2023-09-28T04:15:27.518500Z"
    }
   },
   "outputs": [
    {
     "data": {
      "text/plain": [
       "'Jasir'"
      ]
     },
     "execution_count": 15,
     "metadata": {},
     "output_type": "execute_result"
    }
   ],
   "source": [
    "class A:\n",
    "    def __init__(self):\n",
    "        self.name = \"Jasir\"\n",
    "        self.age = 24\n",
    "    def details(self):\n",
    "        return self.name\n",
    "    \n",
    "class B:\n",
    "    def __init__(self):\n",
    "        self.name = \"Ajmal\"\n",
    "        self.id = 1\n",
    "    def details(self):\n",
    "        return self.name\n",
    "    \n",
    "class C (A,B):\n",
    "    def __init__(self):\n",
    "        A.__init__(self)\n",
    "    def details(self):\n",
    "        return self.name\n",
    "c = C()\n",
    "c.details()"
   ]
  },
  {
   "cell_type": "markdown",
   "id": "f62786a4",
   "metadata": {},
   "source": [
    "## Create a class named ‘Sub1’, inside the class, generate a user defined function named ‘first’ and inside the function, pass the following statement in the print()- ‘This is the first function from Sub 1 class’.\n",
    "1. Now create another class named ‘Sub2’, and inside the class, create a\n",
    "function named ‘second’, and pass the following message in the print()-\n",
    "‘This is the second function from the Sub 2 class’.\n",
    "2. After that, create another class named ‘Super’ and inside that class,\n",
    "create a method named ‘final’, and pass the below message in the print()-\n",
    "‘This is the final method from the super class’.\n",
    "3. Now, create an object for the Super class and call all the 3 user defined\n",
    "methods, i.e., first(), second(), and final().\n"
   ]
  },
  {
   "cell_type": "code",
   "execution_count": 19,
   "id": "eaebf786",
   "metadata": {
    "ExecuteTime": {
     "end_time": "2023-09-28T04:28:12.793310Z",
     "start_time": "2023-09-28T04:28:12.771694Z"
    }
   },
   "outputs": [
    {
     "name": "stdout",
     "output_type": "stream",
     "text": [
      "Error: 'Super' object has no attribute 'first'\n",
      "Error: 'Super' object has no attribute 'second'\n",
      "This is the final function from the super class\n"
     ]
    }
   ],
   "source": [
    "class Sub1:\n",
    "    def first(self):\n",
    "        print(\"This is the first function from Sub 1 classs\")\n",
    "class Sub2:\n",
    "    def second(self):\n",
    "        print(\"This is the second function from Sub 2 class\")\n",
    "class Super:\n",
    "    def final(self):\n",
    "        print(\"This is the final function from the super class\")\n",
    "obj = Super()\n",
    "try:\n",
    "    obj.first()\n",
    "except Exception as e:\n",
    "    print(f\"Error: {e}\")\n",
    "try:\n",
    "    obj.second()\n",
    "except Exception as e:\n",
    "    print(f\"Error: {e}\")\n",
    "obj.final()"
   ]
  },
  {
   "cell_type": "markdown",
   "id": "c1021fdb",
   "metadata": {},
   "source": [
    "## Create a class named ‘Parent’, and inside the class, create a function\n",
    "named ‘fun1’ and pass the following message in the print()- ‘This is the\n",
    "message from the fun1’.\n",
    "1. Now create a class named ‘Child1’ and inside the class, create a\n",
    "method named ‘fun2’ and pass the following message in the print()- ‘This is\n",
    "the message from the fun2’.\n",
    "2. After that, create another class named ‘Child2’ and inside the class,\n",
    "create a method named ‘fun3’ and pass the following message in the\n",
    "print()- ‘This is the message from the fun3’.\n",
    "3. Now, create an object of Child2 class and with the help of the object, call\n",
    "the ‘fun1’ method from the ‘Parent’ class.\n"
   ]
  },
  {
   "cell_type": "code",
   "execution_count": 21,
   "id": "85dad7ef",
   "metadata": {
    "ExecuteTime": {
     "end_time": "2023-09-28T04:31:59.380379Z",
     "start_time": "2023-09-28T04:31:59.357399Z"
    }
   },
   "outputs": [
    {
     "name": "stdout",
     "output_type": "stream",
     "text": [
      "This is the message from fun3\n",
      "This is the message from fun1\n"
     ]
    }
   ],
   "source": [
    "class Parent:\n",
    "    def fun1(self):\n",
    "        print(\"This is the message from fun1\")\n",
    "class Child1(Parent):\n",
    "    def fun2(self):\n",
    "        print(\"This is the message from fun2\")\n",
    "class Child2(Parent):\n",
    "    def fun3(self):\n",
    "        print(\"This is the message from fun3\")\n",
    "obj = Child2()\n",
    "obj.fun3()\n",
    "obj.fun1()"
   ]
  },
  {
   "cell_type": "markdown",
   "id": "5f19aae7",
   "metadata": {},
   "source": [
    "## Create a class named ‘Parent’, and inside the class, create a function\n",
    "named ‘fun1’ and pass the following message in the print()- ‘This is the\n",
    "message from the fun1’.\n",
    "1. Now create a class named ‘Child’ and inside the class, create a method\n",
    "named ‘fun2’ and pass the following message in the print()- ‘This is the\n",
    "message from the fun2’.\n",
    "2. After that, create another class named ‘Hybrid’ and inside the class,\n",
    "create a method named ‘fun3’ and pass the following message in the\n",
    "print()- ‘This is the message from the fun3’.\n",
    "3. Now create an object of Hybrid class and with the help of the object, call\n",
    "the ‘fun1’, ‘fun2’ and ‘fun3’ methods.\n"
   ]
  },
  {
   "cell_type": "code",
   "execution_count": 22,
   "id": "81c25192",
   "metadata": {
    "ExecuteTime": {
     "end_time": "2023-09-28T04:33:25.619775Z",
     "start_time": "2023-09-28T04:33:25.614157Z"
    }
   },
   "outputs": [
    {
     "name": "stdout",
     "output_type": "stream",
     "text": [
      "This is the message from fun3\n",
      "This is the message from fun2\n",
      "This is the message from fun1\n"
     ]
    }
   ],
   "source": [
    "class Parent:\n",
    "    def fun1(self):\n",
    "        print(\"This is the message from fun1\")\n",
    "class Child(Parent):\n",
    "    def fun2(self):\n",
    "        print(\"This is the message from fun2\")\n",
    "class Hybrid(Child, Parent):\n",
    "    def fun3(self):\n",
    "        print(\"This is the message from fun3\")\n",
    "obj = Hybrid()\n",
    "obj.fun3()\n",
    "obj.fun2()\n",
    "obj.fun1()"
   ]
  }
 ],
 "metadata": {
  "kernelspec": {
   "display_name": "Python 3 (ipykernel)",
   "language": "python",
   "name": "python3"
  },
  "language_info": {
   "codemirror_mode": {
    "name": "ipython",
    "version": 3
   },
   "file_extension": ".py",
   "mimetype": "text/x-python",
   "name": "python",
   "nbconvert_exporter": "python",
   "pygments_lexer": "ipython3",
   "version": "3.8.10"
  },
  "toc": {
   "base_numbering": 1,
   "nav_menu": {},
   "number_sections": true,
   "sideBar": true,
   "skip_h1_title": false,
   "title_cell": "Table of Contents",
   "title_sidebar": "Contents",
   "toc_cell": false,
   "toc_position": {},
   "toc_section_display": true,
   "toc_window_display": false
  },
  "varInspector": {
   "cols": {
    "lenName": 16,
    "lenType": 16,
    "lenVar": 40
   },
   "kernels_config": {
    "python": {
     "delete_cmd_postfix": "",
     "delete_cmd_prefix": "del ",
     "library": "var_list.py",
     "varRefreshCmd": "print(var_dic_list())"
    },
    "r": {
     "delete_cmd_postfix": ") ",
     "delete_cmd_prefix": "rm(",
     "library": "var_list.r",
     "varRefreshCmd": "cat(var_dic_list()) "
    }
   },
   "types_to_exclude": [
    "module",
    "function",
    "builtin_function_or_method",
    "instance",
    "_Feature"
   ],
   "window_display": false
  }
 },
 "nbformat": 4,
 "nbformat_minor": 5
}
