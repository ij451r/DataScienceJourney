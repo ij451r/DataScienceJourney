{
 "cells": [
  {
   "cell_type": "markdown",
   "id": "47805581",
   "metadata": {},
   "source": [
    "# Module 1: If-Else Assignment"
   ]
  },
  {
   "cell_type": "markdown",
   "id": "4dd0291f",
   "metadata": {},
   "source": [
    "Input the values of a and b as 10 and 20 respectively. Now check if a is\n",
    "greater or b is greater using if condition. Think about all the edge cases,\n",
    "and print the statements accordingly."
   ]
  },
  {
   "cell_type": "code",
   "execution_count": 1,
   "id": "e63b941e",
   "metadata": {
    "ExecuteTime": {
     "end_time": "2023-09-04T10:24:48.743300Z",
     "start_time": "2023-09-04T10:24:48.735936Z"
    }
   },
   "outputs": [
    {
     "name": "stdout",
     "output_type": "stream",
     "text": [
      "The value in b-20 is greater than the value in a-10\n"
     ]
    }
   ],
   "source": [
    "a = 10\n",
    "b = 20\n",
    "if a>b:\n",
    "    print(f\"The value in a-{a} is greater than the value in b-{b}\")\n",
    "else:\n",
    "    print(f\"The value in b-{b} is greater than the value in a-{a}\")"
   ]
  },
  {
   "cell_type": "markdown",
   "id": "3229791c",
   "metadata": {},
   "source": [
    "# Module 1: Conditional Statements Assignment"
   ]
  },
  {
   "cell_type": "markdown",
   "id": "76a99ab3",
   "metadata": {},
   "source": [
    "Take three user inputs and print the greatest number from those inputs\n",
    "using if-else condition. Edge cases, if any, should also be handled"
   ]
  },
  {
   "cell_type": "code",
   "execution_count": 5,
   "id": "f730d65a",
   "metadata": {
    "ExecuteTime": {
     "end_time": "2023-09-04T10:30:48.758649Z",
     "start_time": "2023-09-04T10:30:44.468576Z"
    }
   },
   "outputs": [
    {
     "name": "stdout",
     "output_type": "stream",
     "text": [
      "Enter 1st Number\n",
      "76\n",
      "Enter 2nd Number\n",
      "2\n",
      "Enter 3rd Number\n",
      "3\n",
      "a-76 is the greatest\n"
     ]
    }
   ],
   "source": [
    "a = int(input(\"Enter 1st Number\\n\"))\n",
    "b = int(input(\"Enter 2nd Number\\n\"))\n",
    "c = int(input(\"Enter 3rd Number\\n\"))\n",
    "\n",
    "if a>b:\n",
    "    if a>c:\n",
    "        print(f\"a-{a} is the greatest\")\n",
    "    else:\n",
    "        print(f\"c-{c} is the greatest\")\n",
    "else:\n",
    "    if b>c:\n",
    "        print(f\"b-{b} is the greatest\")\n",
    "    else:\n",
    "        print(f\"c-{c} is the greatest\")"
   ]
  },
  {
   "cell_type": "markdown",
   "id": "70401d3a",
   "metadata": {},
   "source": [
    "# Module 1: Loops Assignment - 1"
   ]
  },
  {
   "cell_type": "markdown",
   "id": "e52b24bd",
   "metadata": {},
   "source": [
    "Print the numbers from 1 to 10 using while loop."
   ]
  },
  {
   "cell_type": "code",
   "execution_count": 7,
   "id": "f6397f70",
   "metadata": {
    "ExecuteTime": {
     "end_time": "2023-09-04T10:37:30.193470Z",
     "start_time": "2023-09-04T10:37:30.166716Z"
    }
   },
   "outputs": [
    {
     "name": "stdout",
     "output_type": "stream",
     "text": [
      "1, 2, 3, 4, 5, 6, 7, 8, 9, 10, "
     ]
    }
   ],
   "source": [
    "for i in range(1,11):\n",
    "    print(i, end=\", \")"
   ]
  },
  {
   "cell_type": "markdown",
   "id": "81e06fad",
   "metadata": {},
   "source": [
    "# Module 1: Loops Assignment - 2"
   ]
  },
  {
   "cell_type": "markdown",
   "id": "38c822a4",
   "metadata": {},
   "source": [
    "Create a list that has 10, 23, 4, 26, 4, 75, 24, 54 values and with the help\n",
    "of while loop fetch the even numbers and print the numbers."
   ]
  },
  {
   "cell_type": "code",
   "execution_count": 9,
   "id": "7daa50bf",
   "metadata": {
    "ExecuteTime": {
     "end_time": "2023-09-04T10:40:53.013783Z",
     "start_time": "2023-09-04T10:40:52.984892Z"
    }
   },
   "outputs": [
    {
     "name": "stdout",
     "output_type": "stream",
     "text": [
      "10, 4, 26, 4, 24, 54, "
     ]
    }
   ],
   "source": [
    "List = [10, 23, 4, 26, 4, 75, 24, 54]\n",
    "i = 0\n",
    "while i < len(List):\n",
    "    if List[i] % 2 == 0:\n",
    "        print(List[i], end=', ')\n",
    "    i+=1"
   ]
  },
  {
   "cell_type": "markdown",
   "id": "25cd644c",
   "metadata": {},
   "source": [
    "# Module 1: Loops Assignment - 3"
   ]
  },
  {
   "cell_type": "markdown",
   "id": "1920e548",
   "metadata": {},
   "source": [
    "Create an array that has user defined inputs and with the help of for loop,\n",
    "fetch all the prime numbers and print the numbers."
   ]
  },
  {
   "cell_type": "code",
   "execution_count": 16,
   "id": "ebb46b90",
   "metadata": {
    "ExecuteTime": {
     "end_time": "2023-09-13T06:30:36.836654Z",
     "start_time": "2023-09-13T06:30:26.256057Z"
    }
   },
   "outputs": [
    {
     "name": "stdout",
     "output_type": "stream",
     "text": [
      "Enter Number \n",
      "3\n",
      "Enter Number \n",
      "5\n",
      "Enter Number \n",
      "35\n",
      "Enter Number \n",
      "3\n",
      "Enter Number \n",
      "45\n",
      "Enter Number \n",
      "234\n",
      "Enter Number \n",
      "5\n",
      "Enter Number \n",
      "2\n",
      "Enter Number \n",
      "6\n",
      "Enter Number \n",
      "8\n",
      "Enter Number \n",
      "79\n",
      "Enter Number \n",
      "5\n",
      "Enter Number \n",
      "4\n",
      "Enter Number \n",
      "23\n",
      "Enter Number \n",
      "\n",
      "Invalid Input - Exiting Input loop -  invalid literal for int() with base 10: ''\n",
      "Prime Numbers entered are: 3 5 3 5 2 79 5 23 "
     ]
    }
   ],
   "source": [
    "List = []\n",
    "while True:\n",
    "    a = input(\"Enter Number \\n\")\n",
    "    try:\n",
    "        List.append(int(a))\n",
    "    except Exception as e:\n",
    "        print(\"Invalid Input - Exiting Input loop - \", e)\n",
    "        break\n",
    "def check_isprime(number):\n",
    "    if number == 1:\n",
    "        return 0\n",
    "    if number == 2 or number ==3:\n",
    "        return 1\n",
    "    if number%2 == 0 or number%3 == 0:\n",
    "        return 0\n",
    "    for i in range(5,int(number**(1/2))+1,6):\n",
    "        if number%i==0 or number%(i+2)==0:\n",
    "            return 0\n",
    "    return 1\n",
    "print(\"Prime Numbers entered are:\", end=' ')\n",
    "for num in List:\n",
    "    if check_isprime(num):\n",
    "        print(num, end=' ')"
   ]
  }
 ],
 "metadata": {
  "kernelspec": {
   "display_name": "Python 3 (ipykernel)",
   "language": "python",
   "name": "python3"
  },
  "language_info": {
   "codemirror_mode": {
    "name": "ipython",
    "version": 3
   },
   "file_extension": ".py",
   "mimetype": "text/x-python",
   "name": "python",
   "nbconvert_exporter": "python",
   "pygments_lexer": "ipython3",
   "version": "3.8.10"
  },
  "toc": {
   "base_numbering": 1,
   "nav_menu": {},
   "number_sections": true,
   "sideBar": true,
   "skip_h1_title": false,
   "title_cell": "Table of Contents",
   "title_sidebar": "Contents",
   "toc_cell": false,
   "toc_position": {},
   "toc_section_display": true,
   "toc_window_display": false
  },
  "varInspector": {
   "cols": {
    "lenName": 16,
    "lenType": 16,
    "lenVar": 40
   },
   "kernels_config": {
    "python": {
     "delete_cmd_postfix": "",
     "delete_cmd_prefix": "del ",
     "library": "var_list.py",
     "varRefreshCmd": "print(var_dic_list())"
    },
    "r": {
     "delete_cmd_postfix": ") ",
     "delete_cmd_prefix": "rm(",
     "library": "var_list.r",
     "varRefreshCmd": "cat(var_dic_list()) "
    }
   },
   "types_to_exclude": [
    "module",
    "function",
    "builtin_function_or_method",
    "instance",
    "_Feature"
   ],
   "window_display": false
  }
 },
 "nbformat": 4,
 "nbformat_minor": 5
}
